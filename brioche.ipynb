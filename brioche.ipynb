{
  "nbformat": 4,
  "nbformat_minor": 0,
  "metadata": {
    "colab": {
      "name": "brioche.ipynb",
      "provenance": [],
      "authorship_tag": "ABX9TyPSlworF//ENQ0h2FSHjqR0",
      "include_colab_link": true
    },
    "kernelspec": {
      "name": "python3",
      "display_name": "Python 3"
    },
    "language_info": {
      "name": "python"
    }
  },
  "cells": [
    {
      "cell_type": "markdown",
      "metadata": {
        "id": "view-in-github",
        "colab_type": "text"
      },
      "source": [
        "<a href=\"https://colab.research.google.com/github/AngeMervaneJdev/ML_AI_1/blob/main/brioche.ipynb\" target=\"_parent\"><img src=\"https://colab.research.google.com/assets/colab-badge.svg\" alt=\"Open In Colab\"/></a>"
      ]
    },
    {
      "cell_type": "code",
      "execution_count": 18,
      "metadata": {
        "colab": {
          "base_uri": "https://localhost:8080/",
          "height": 296
        },
        "id": "R5KFFYeejLEN",
        "outputId": "4c97a506-8646-429b-ab65-3389d6ca9c72"
      },
      "outputs": [
        {
          "output_type": "stream",
          "name": "stdout",
          "text": [
            "135\n"
          ]
        },
        {
          "output_type": "display_data",
          "data": {
            "image/png": "[encoded data removed]",
            "text/plain": [
              "<Figure size 432x288 with 1 Axes>"
            ]
          },
          "metadata": {
            "needs_background": "light"
          }
        }
      ],
      "source": [
        "import math\n",
        "import matplotlib.pyplot as plt\n",
        "\n",
        "#supposons que la surface occupée par un kurimanju est de  35.10**(-5)\n",
        "# et que la surface du systeme solaire est de 46755\n",
        "\n",
        "def get_total_time_for_covered(area_kurimanju=35*10**(-5), total_area_to_cover=46755):\n",
        "    list_area_kurimanju=[area_kurimanju]\n",
        "    n_time = 0\n",
        "    while True:\n",
        "        n_time = n_time + 5\n",
        "        list_area_kurimanju.append(list_area_kurimanju[-1] * 2)\n",
        "        if list_area_kurimanju[-1] >= total_area_to_cover:\n",
        "            return n_time,list_area_kurimanju\n",
        "\n",
        "\n",
        "n_time,list_area_kurimanju = get_total_time_for_covered()\n",
        "\n",
        "print(\"{}\".format(n_time))\n",
        "\n",
        "plt.xlabel(\"Time\")\n",
        "plt.ylabel(\"Area covered\")\n",
        "plt.plot(np.arange(-5,n_time,5),list_area_kurimanju)\n",
        "plt.show()\n"
      ]
    },
    {
      "cell_type": "code",
      "source": [
        "import numpy as np\n",
        "\n",
        "print(\"{}\".format(np.arange(1,100,5)))"
      ],
      "metadata": {
        "colab": {
          "base_uri": "https://localhost:8080/"
        },
        "id": "5sHZDnzEhqpq",
        "outputId": "4670e0b2-e82d-424d-d06b-f4b190d41227"
      },
      "execution_count": 10,
      "outputs": [
        {
          "output_type": "stream",
          "name": "stdout",
          "text": [
            "[ 1  6 11 16 21 26 31 36 41 46 51 56 61 66 71 76 81 86 91 96]\n"
          ]
        }
      ]
    },
    {
      "cell_type": "code",
      "source": [
        ""
      ],
      "metadata": {
        "id": "E0PVU3ul2b17"
      },
      "execution_count": null,
      "outputs": []
    }
  ]
}