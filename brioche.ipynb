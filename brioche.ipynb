{
  "nbformat": 4,
  "nbformat_minor": 0,
  "metadata": {
    "colab": {
      "name": "brioche.ipynb",
      "provenance": [],
      "authorship_tag": "ABX9TyO+MJIg5u/TNRc/BohYq99m",
      "include_colab_link": true
    },
    "kernelspec": {
      "name": "python3",
      "display_name": "Python 3"
    },
    "language_info": {
      "name": "python"
    }
  },
  "cells": [
    {
      "cell_type": "markdown",
      "metadata": {
        "id": "view-in-github",
        "colab_type": "text"
      },
      "source": [
        "<a href=\"https://colab.research.google.com/github/AngeMervaneJdev/ML_AI_1/blob/main/brioche.ipynb\" target=\"_parent\"><img src=\"https://colab.research.google.com/assets/colab-badge.svg\" alt=\"Open In Colab\"/></a>"
      ]
    },
    {
      "cell_type": "code",
      "execution_count": null,
      "metadata": {
        "colab": {
          "base_uri": "https://localhost:8080/"
        },
        "id": "R5KFFYeejLEN",
        "outputId": "f1053d85-ec2a-439c-f155-6af67693025b"
      },
      "outputs": [
        {
          "output_type": "stream",
          "name": "stdout",
          "text": [
            "135\n"
          ]
        }
      ],
      "source": [
        "import math\n",
        "\n",
        "#supposons que la surface occupée par un kurimanju est de  35.10**(-5)\n",
        "# et que la surface du systeme solaire est de 467550\n",
        "\n",
        "def get_total_time_for_covered(area_kurimanju=35*10**(-5), total_area_to_cover=467550):\n",
        "    list_area_kurimanju=[area_kurimanju]\n",
        "    n_time = 0\n",
        "    while True:\n",
        "        n_time = n_time + 5\n",
        "        list_area_kurimanju.append(list_area_kurimanju[-1] * 2)\n",
        "        if list_area_kurimanju[-1] >= total_area_to_cover:\n",
        "            return n_time\n",
        "\n",
        "\n",
        "n_time = get_total_time_for_covered()\n",
        "\n",
        "print(\"{}\".format(n_time))"
      ]
    },
    {
      "cell_type": "code",
      "source": [
        ""
      ],
      "metadata": {
        "id": "5sHZDnzEhqpq"
      },
      "execution_count": null,
      "outputs": []
    }
  ]
}