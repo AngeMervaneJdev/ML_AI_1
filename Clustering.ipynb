{
  "nbformat": 4,
  "nbformat_minor": 0,
  "metadata": {
    "colab": {
      "name": "Clustering.ipynb",
      "provenance": [],
      "authorship_tag": "ABX9TyMW/lXj+X4dN7vMxETO3/B4",
      "include_colab_link": true
    },
    "kernelspec": {
      "name": "python3",
      "display_name": "Python 3"
    },
    "language_info": {
      "name": "python"
    }
  },
  "cells": [
    {
      "cell_type": "markdown",
      "metadata": {
        "id": "view-in-github",
        "colab_type": "text"
      },
      "source": [
        "<a href=\"https://colab.research.google.com/github/AngeMervaneJdev/ML_AI_1/blob/main/Clustering.ipynb\" target=\"_parent\"><img src=\"https://colab.research.google.com/assets/colab-badge.svg\" alt=\"Open In Colab\"/></a>"
      ]
    },
    {
      "cell_type": "code",
      "source": [
        "import numpy as np\n",
        "import pandas as pd\n"
      ],
      "metadata": {
        "id": "wboNrDzrE5pW"
      },
      "execution_count": 3,
      "outputs": []
    },
    {
      "cell_type": "code",
      "execution_count": 14,
      "metadata": {
        "id": "cdsQVMzWKTV-"
      },
      "outputs": [],
      "source": [
        "from sklearn.datasets import make_blobs\n",
        "X, _ = make_blobs(n_samples=100, n_features=2, centers=4, cluster_std=0.5, shuffle=True, random_state=0)"
      ]
    },
    {
      "cell_type": "markdown",
      "source": [
        "#[Problem 1] Determine the initial value of the center point"
      ],
      "metadata": {
        "id": "mFsDBFjyFZ8z"
      }
    },
    {
      "cell_type": "code",
      "source": [
        "n_clusters=8\n",
        "initial = np.random.permutation(X.shape[0])[:n_clusters]\n",
        "cluster_centers_ = X[initial]\n",
        "cluster_centers_"
      ],
      "metadata": {
        "colab": {
          "base_uri": "https://localhost:8080/"
        },
        "id": "kIlhCEUoFZSM",
        "outputId": "604287f5-5da0-4f92-c279-a07f01dacfad"
      },
      "execution_count": 10,
      "outputs": [
        {
          "output_type": "execute_result",
          "data": {
            "text/plain": [
              "array([[-1.2386086 ,  2.81373288],\n",
              "       [-0.59312453,  3.37090459],\n",
              "       [ 2.28809874,  0.12954182],\n",
              "       [ 1.46870582,  1.86947425],\n",
              "       [-2.27253281,  3.13757811],\n",
              "       [-1.98331513,  3.47639041],\n",
              "       [-1.33869125,  2.36818187],\n",
              "       [ 1.4726926 ,  1.3480769 ]])"
            ]
          },
          "metadata": {},
          "execution_count": 10
        }
      ]
    },
    {
      "cell_type": "markdown",
      "source": [
        "#[Problem 2] Creation of a function to obtain SSE"
      ],
      "metadata": {
        "id": "z6vy2fOiGm0-"
      }
    },
    {
      "cell_type": "code",
      "source": [
        "def _distance(a, b):\n",
        "    return np.sqrt(((a - b)**2).sum())"
      ],
      "metadata": {
        "id": "o_g_722yGiRV"
      },
      "execution_count": 11,
      "outputs": []
    },
    {
      "cell_type": "markdown",
      "source": [
        "#Repeat cluster allocation and center point movement"
      ],
      "metadata": {
        "id": "jyOuDjcOJ-CL"
      }
    },
    {
      "cell_type": "markdown",
      "source": [
        "#[Problem 3] Allocation to cluster"
      ],
      "metadata": {
        "id": "dGTLQdmNMDSC"
      }
    },
    {
      "cell_type": "code",
      "source": [
        "def _nearest(clusters, x):\n",
        "    return np.argmin([_distance(x, c) for c in clusters])\n",
        "max_iter=200\n",
        "for _ in range(max_iter):\n",
        "    labels_ = [_nearest(cluster_centers_, x) for x in X]\n",
        "    indices = [[i for i, l in enumerate(labels_) if l == j]\n",
        "                for j in range(n_clusters)]\n",
        "    X_by_cluster = [X[i] for i in indices]\n",
        "    # update the clusters\n",
        "    cluster_centers_ = [c.sum(axis=0) / len(c) for c in X_by_cluster]\n",
        "cluster_centers_"
      ],
      "metadata": {
        "colab": {
          "base_uri": "https://localhost:8080/"
        },
        "id": "nxVCXmF7L3dL",
        "outputId": "e25a2b35-c3d8-4a6f-fd24-9742ede50894"
      },
      "execution_count": 12,
      "outputs": [
        {
          "output_type": "execute_result",
          "data": {
            "text/plain": [
              "[array([-1.11459644,  3.48370066]),\n",
              " array([0.83686801, 4.55061402]),\n",
              " array([2.31910566, 0.46821372]),\n",
              " array([1.15442677, 3.74398509]),\n",
              " array([-1.9453357,  3.1218215]),\n",
              " array([-1.26811733,  7.76378266]),\n",
              " array([-1.24986581,  2.55961718]),\n",
              " array([1.80779843, 1.24539652])]"
            ]
          },
          "metadata": {},
          "execution_count": 12
        }
      ]
    },
    {
      "cell_type": "code",
      "source": [
        "def eucledian_distance(x1,x2):\n",
        "  distance = np.sqrt(np.sum((x1-x2)**2))\n",
        "  return np.sqrt(np.sum((x1-x2)**2))"
      ],
      "metadata": {
        "id": "aFkCT21HpLvH"
      },
      "execution_count": null,
      "outputs": []
    },
    {
      "cell_type": "markdown",
      "source": [
        "#[Problème 4] Mouvement du point central\n",
        "#Estimation\n",
        "#Prediction"
      ],
      "metadata": {
        "id": "jRNwr8e4kErh"
      }
    },
    {
      "cell_type": "code",
      "source": [
        "inertia_ = sum(((cluster_centers_[l] - x)**2).sum()\n",
        "                            for x, l in zip(X, labels_))"
      ],
      "metadata": {
        "id": "wolj9YvikDxY"
      },
      "execution_count": 13,
      "outputs": []
    },
    {
      "cell_type": "code",
      "source": [
        "class ScratchKMeans():\n",
        "    def __init__(self, n_clusters,max_iter,n_init=10,tol=0.2,random_state=None,verbose=False):\n",
        "        \"\"\"\n",
        "        K-means scratch implementation\n",
        "\n",
        "        Parameters\n",
        "        ----------\n",
        "        n_clusters : int\n",
        "          Number of clusters\n",
        "        n_init : int\n",
        "          How many times to change the initial value of the center point for calculation\n",
        "        max_iter : int\n",
        "          Maximum number of iterations in one calculation\n",
        "        tol : float\n",
        "          Margin of error between the center point and the center of gravity, which is the reference for ending the iteration\n",
        "        verbose : bool\n",
        "          True to output the learning process\n",
        "        \"\"\"\n",
        "\n",
        "\n",
        "        self.n_clusters = n_clusters\n",
        "        self.max_iter = max_iter\n",
        "        self.random_state = random_state\n",
        "        self.n_init = n_init\n",
        "        self.max_iter = max_iter\n",
        "        self.tol = tol\n",
        "        self.verbose = verbose\n",
        "      \n",
        "\n",
        "    def fit(self, X):\n",
        "        if self.random_state:\n",
        "            np.random.seed(self.random_state)\n",
        "        initial = np.random.permutation(X.shape[0])[:self.n_clusters]\n",
        "        self.cluster_centers_ = X[initial]\n",
        "\n",
        "        for _ in range(self.max_iter):\n",
        "            self.labels_ = [self._nearest(self.cluster_centers_, x) for x in X]\n",
        "            indices = [[i for i, l in enumerate(self.labels_) if l == j]\n",
        "                        for j in range(self.n_clusters)]\n",
        "            X_by_cluster = [X[i] for i in indices]\n",
        "            # update the clusters\n",
        "            self.cluster_centers_ = [c.sum(axis=0) / len(c) for c in X_by_cluster]\n",
        "\n",
        "        return self\n",
        "\n",
        "    def _nearest(self, clusters, x):\n",
        "        return np.argmin([self._distance(x, c) for c in clusters])\n",
        "\n",
        "    def _distance(self, a, b):\n",
        "        return np.sqrt(((a - b)**2).sum())\n",
        "\n",
        "    def predict(self, X):\n",
        "        return self.labels_\n",
        "\n",
        "    def transform(self, X):\n",
        "        return [[self._distance(x, c) for c in self.cluster_centers_] for x in X]\n",
        "\n",
        "    def fit_predict(self, X):\n",
        "        return self.fit(X).predict(X)\n",
        "\n",
        "    def fit_transform(self, X):\n",
        "        return self.fit(X).transform(X)\n"
      ],
      "metadata": {
        "id": "5_fDEFvQlZRO"
      },
      "execution_count": 28,
      "outputs": []
    },
    {
      "cell_type": "code",
      "source": [
        "mld = ScratchKMeans(n_clusters=5, max_iter=300)\n",
        "model = mld.fit(X)\n",
        "y_pred=model.predict(X)"
      ],
      "metadata": {
        "id": "BfnPRmX0mz5-"
      },
      "execution_count": 20,
      "outputs": []
    },
    {
      "cell_type": "code",
      "source": [
        "print(y_pred)"
      ],
      "metadata": {
        "colab": {
          "base_uri": "https://localhost:8080/"
        },
        "id": "kx6gZTjHn52E",
        "outputId": "871c4c87-834b-46c3-ff5f-57d429344fbb"
      },
      "execution_count": 22,
      "outputs": [
        {
          "output_type": "stream",
          "name": "stdout",
          "text": [
            "[1, 4, 1, 1, 1, 1, 3, 0, 1, 4, 4, 4, 4, 0, 4, 2, 2, 3, 3, 2, 1, 4, 3, 2, 1, 3, 3, 1, 2, 2, 2, 4, 2, 2, 3, 1, 0, 2, 0, 3, 1, 3, 4, 3, 3, 0, 2, 3, 1, 1, 1, 2, 3, 3, 3, 4, 0, 2, 2, 0, 4, 2, 2, 1, 2, 0, 3, 3, 2, 1, 0, 2, 1, 4, 1, 1, 3, 3, 2, 2, 2, 0, 3, 1, 2, 3, 2, 2, 1, 1, 1, 3, 1, 3, 3, 4, 4, 3, 0, 1]\n"
          ]
        }
      ]
    },
    {
      "cell_type": "markdown",
      "source": [
        "#[Problème 8] Mise en œuvre de la méthode du coude"
      ],
      "metadata": {
        "id": "jk8uRG7YpV6q"
      }
    },
    {
      "cell_type": "code",
      "source": [
        ""
      ],
      "metadata": {
        "id": "V1_T2UoJpXg0"
      },
      "execution_count": 23,
      "outputs": []
    },
    {
      "cell_type": "code",
      "source": [
        "class ScratchKMeansC():\n",
        "    def __init__(self, n_clusters,max_iter,n_init=10,tol=0.2,random_state=None,verbose=False):\n",
        "        \"\"\"\n",
        "        K-means scratch implementation\n",
        "\n",
        "        Parameters\n",
        "        ----------\n",
        "        n_clusters : int\n",
        "          Number of clusters\n",
        "        n_init : int\n",
        "          How many times to change the initial value of the center point for calculation\n",
        "        max_iter : int\n",
        "          Maximum number of iterations in one calculation\n",
        "        tol : float\n",
        "          Margin of error between the center point and the center of gravity, which is the reference for ending the iteration\n",
        "        verbose : bool\n",
        "          True to output the learning process\n",
        "        \"\"\"\n",
        "\n",
        "\n",
        "        self.n_clusters = n_clusters\n",
        "        self.max_iter = max_iter\n",
        "        self.random_state = random_state\n",
        "        self.n_init = n_init\n",
        "        self.max_iter = max_iter\n",
        "        self.tol = tol\n",
        "        self.verbose = verbose\n",
        "        self.SSE=[]\n",
        "\n",
        "    def fit(self, X):\n",
        "        if self.random_state:\n",
        "            np.random.seed(self.random_state)\n",
        "        initial = np.random.permutation(X.shape[0])[:self.n_clusters]\n",
        "        self.cluster_centers_ = X[initial]\n",
        "\n",
        "       \n",
        "        for _ in range(self.max_iter):\n",
        "            self.labels_ = [self._nearest(self.cluster_centers_, x) for x in X]\n",
        "            indices = [[i for i, l in enumerate(self.labels_) if l == j]\n",
        "                        for j in range(self.n_clusters)]\n",
        "            X_by_cluster = [X[i] for i in indices]\n",
        "            # update the clusters\n",
        "            self.cluster_centers_ = [c.sum(axis=0) / len(c) for c in X_by_cluster]\n",
        "            \n",
        "            # sum of square distances from the closest cluster\n",
        "            self.inertia_ = sum(((self.cluster_centers_[l] - x)**2).sum()\n",
        "                                for x, l in zip(X, self.labels_))\n",
        "            self.SSE.append(self.inertia_)\n",
        "        return self\n",
        "\n",
        "    def _nearest(self, clusters, x):\n",
        "        return np.argmin([self._distance(x, c) for c in clusters])\n",
        "\n",
        "    def _distance(self, a, b):\n",
        "        return np.sqrt(((a - b)**2).sum())\n",
        "\n",
        "    def predict(self, X):\n",
        "        return self.labels_\n",
        "\n",
        "    def transform(self, X):\n",
        "        return [[self._distance(x, c) for c in self.cluster_centers_] for x in X]\n",
        "\n",
        "    def fit_predict(self, X):\n",
        "        return self.fit(X).predict(X)\n",
        "\n",
        "    def fit_transform(self, X):\n",
        "        return self.fit(X).transform(X)\n",
        "\n",
        "    def score(self, X):\n",
        "        return -self.inertia_"
      ],
      "metadata": {
        "id": "OP34q4ZduSRo"
      },
      "execution_count": 2,
      "outputs": []
    },
    {
      "cell_type": "code",
      "source": [
        "mld = ScratchKMeans(n_clusters=5, max_iter=300)\n",
        "model = mld.fit(X)\n",
        "y_pred=model.predict(X)\n",
        "print(model.SSE)"
      ],
      "metadata": {
        "colab": {
          "base_uri": "https://localhost:8080/"
        },
        "id": "TdNvAnSOxLQ6",
        "outputId": "5a2a8ebe-c256-40b9-cd58-6e9e20de8b24"
      },
      "execution_count": 31,
      "outputs": [
        {
          "output_type": "stream",
          "name": "stdout",
          "text": [
            "[277.32211177677146, 46.24900388359506, 43.39904506050976, 43.39904506050976, 43.39904506050976, 43.39904506050976, 43.39904506050976, 43.39904506050976, 43.39904506050976, 43.39904506050976, 43.39904506050976, 43.39904506050976, 43.39904506050976, 43.39904506050976, 43.39904506050976, 43.39904506050976, 43.39904506050976, 43.39904506050976, 43.39904506050976, 43.39904506050976, 43.39904506050976, 43.39904506050976, 43.39904506050976, 43.39904506050976, 43.39904506050976, 43.39904506050976, 43.39904506050976, 43.39904506050976, 43.39904506050976, 43.39904506050976, 43.39904506050976, 43.39904506050976, 43.39904506050976, 43.39904506050976, 43.39904506050976, 43.39904506050976, 43.39904506050976, 43.39904506050976, 43.39904506050976, 43.39904506050976, 43.39904506050976, 43.39904506050976, 43.39904506050976, 43.39904506050976, 43.39904506050976, 43.39904506050976, 43.39904506050976, 43.39904506050976, 43.39904506050976, 43.39904506050976, 43.39904506050976, 43.39904506050976, 43.39904506050976, 43.39904506050976, 43.39904506050976, 43.39904506050976, 43.39904506050976, 43.39904506050976, 43.39904506050976, 43.39904506050976, 43.39904506050976, 43.39904506050976, 43.39904506050976, 43.39904506050976, 43.39904506050976, 43.39904506050976, 43.39904506050976, 43.39904506050976, 43.39904506050976, 43.39904506050976, 43.39904506050976, 43.39904506050976, 43.39904506050976, 43.39904506050976, 43.39904506050976, 43.39904506050976, 43.39904506050976, 43.39904506050976, 43.39904506050976, 43.39904506050976, 43.39904506050976, 43.39904506050976, 43.39904506050976, 43.39904506050976, 43.39904506050976, 43.39904506050976, 43.39904506050976, 43.39904506050976, 43.39904506050976, 43.39904506050976, 43.39904506050976, 43.39904506050976, 43.39904506050976, 43.39904506050976, 43.39904506050976, 43.39904506050976, 43.39904506050976, 43.39904506050976, 43.39904506050976, 43.39904506050976, 43.39904506050976, 43.39904506050976, 43.39904506050976, 43.39904506050976, 43.39904506050976, 43.39904506050976, 43.39904506050976, 43.39904506050976, 43.39904506050976, 43.39904506050976, 43.39904506050976, 43.39904506050976, 43.39904506050976, 43.39904506050976, 43.39904506050976, 43.39904506050976, 43.39904506050976, 43.39904506050976, 43.39904506050976, 43.39904506050976, 43.39904506050976, 43.39904506050976, 43.39904506050976, 43.39904506050976, 43.39904506050976, 43.39904506050976, 43.39904506050976, 43.39904506050976, 43.39904506050976, 43.39904506050976, 43.39904506050976, 43.39904506050976, 43.39904506050976, 43.39904506050976, 43.39904506050976, 43.39904506050976, 43.39904506050976, 43.39904506050976, 43.39904506050976, 43.39904506050976, 43.39904506050976, 43.39904506050976, 43.39904506050976, 43.39904506050976, 43.39904506050976, 43.39904506050976, 43.39904506050976, 43.39904506050976, 43.39904506050976, 43.39904506050976, 43.39904506050976, 43.39904506050976, 43.39904506050976, 43.39904506050976, 43.39904506050976, 43.39904506050976, 43.39904506050976, 43.39904506050976, 43.39904506050976, 43.39904506050976, 43.39904506050976, 43.39904506050976, 43.39904506050976, 43.39904506050976, 43.39904506050976, 43.39904506050976, 43.39904506050976, 43.39904506050976, 43.39904506050976, 43.39904506050976, 43.39904506050976, 43.39904506050976, 43.39904506050976, 43.39904506050976, 43.39904506050976, 43.39904506050976, 43.39904506050976, 43.39904506050976, 43.39904506050976, 43.39904506050976, 43.39904506050976, 43.39904506050976, 43.39904506050976, 43.39904506050976, 43.39904506050976, 43.39904506050976, 43.39904506050976, 43.39904506050976, 43.39904506050976, 43.39904506050976, 43.39904506050976, 43.39904506050976, 43.39904506050976, 43.39904506050976, 43.39904506050976, 43.39904506050976, 43.39904506050976, 43.39904506050976, 43.39904506050976, 43.39904506050976, 43.39904506050976, 43.39904506050976, 43.39904506050976, 43.39904506050976, 43.39904506050976, 43.39904506050976, 43.39904506050976, 43.39904506050976, 43.39904506050976, 43.39904506050976, 43.39904506050976, 43.39904506050976, 43.39904506050976, 43.39904506050976, 43.39904506050976, 43.39904506050976, 43.39904506050976, 43.39904506050976, 43.39904506050976, 43.39904506050976, 43.39904506050976, 43.39904506050976, 43.39904506050976, 43.39904506050976, 43.39904506050976, 43.39904506050976, 43.39904506050976, 43.39904506050976, 43.39904506050976, 43.39904506050976, 43.39904506050976, 43.39904506050976, 43.39904506050976, 43.39904506050976, 43.39904506050976, 43.39904506050976, 43.39904506050976, 43.39904506050976, 43.39904506050976, 43.39904506050976, 43.39904506050976, 43.39904506050976, 43.39904506050976, 43.39904506050976, 43.39904506050976, 43.39904506050976, 43.39904506050976, 43.39904506050976, 43.39904506050976, 43.39904506050976, 43.39904506050976, 43.39904506050976, 43.39904506050976, 43.39904506050976, 43.39904506050976, 43.39904506050976, 43.39904506050976, 43.39904506050976, 43.39904506050976, 43.39904506050976, 43.39904506050976, 43.39904506050976, 43.39904506050976, 43.39904506050976, 43.39904506050976, 43.39904506050976, 43.39904506050976, 43.39904506050976, 43.39904506050976, 43.39904506050976, 43.39904506050976, 43.39904506050976, 43.39904506050976, 43.39904506050976, 43.39904506050976, 43.39904506050976, 43.39904506050976, 43.39904506050976, 43.39904506050976, 43.39904506050976, 43.39904506050976, 43.39904506050976, 43.39904506050976, 43.39904506050976, 43.39904506050976, 43.39904506050976, 43.39904506050976, 43.39904506050976, 43.39904506050976, 43.39904506050976, 43.39904506050976, 43.39904506050976, 43.39904506050976, 43.39904506050976, 43.39904506050976, 43.39904506050976, 43.39904506050976, 43.39904506050976, 43.39904506050976, 43.39904506050976]\n"
          ]
        }
      ]
    },
    {
      "cell_type": "markdown",
      "source": [
        "#[Problem 9] (Advance assignment) Silhouette diagram"
      ],
      "metadata": {
        "id": "P5uapQMg1nzB"
      }
    },
    {
      "cell_type": "code",
      "source": [
        "from sklearn.decomposition import PCA\n",
        "data=pd.read_csv(\"Wholesale customers data.csv\")\n",
        "pca = PCA(n_components = 2)\n",
        "pca = pca.fit(data)\n",
        "data_pca = pca.transform(data)\n",
        "data"
      ],
      "metadata": {
        "colab": {
          "base_uri": "https://localhost:8080/",
          "height": 424
        },
        "id": "Y10pEv9F0IOF",
        "outputId": "1b1ad4be-4bdc-41c9-9738-b55bc8ef76df"
      },
      "execution_count": 4,
      "outputs": [
        {
          "output_type": "execute_result",
          "data": {
            "text/plain": [
              "     Channel  Region  Fresh   Milk  Grocery  Frozen  Detergents_Paper  \\\n",
              "0          2       3  12669   9656     7561     214              2674   \n",
              "1          2       3   7057   9810     9568    1762              3293   \n",
              "2          2       3   6353   8808     7684    2405              3516   \n",
              "3          1       3  13265   1196     4221    6404               507   \n",
              "4          2       3  22615   5410     7198    3915              1777   \n",
              "..       ...     ...    ...    ...      ...     ...               ...   \n",
              "435        1       3  29703  12051    16027   13135               182   \n",
              "436        1       3  39228   1431      764    4510                93   \n",
              "437        2       3  14531  15488    30243     437             14841   \n",
              "438        1       3  10290   1981     2232    1038               168   \n",
              "439        1       3   2787   1698     2510      65               477   \n",
              "\n",
              "     Delicassen  \n",
              "0          1338  \n",
              "1          1776  \n",
              "2          7844  \n",
              "3          1788  \n",
              "4          5185  \n",
              "..          ...  \n",
              "435        2204  \n",
              "436        2346  \n",
              "437        1867  \n",
              "438        2125  \n",
              "439          52  \n",
              "\n",
              "[440 rows x 8 columns]"
            ],
            "text/html": [
              "\n",
              "  <div id=\"df-ea28db71-3653-4953-a652-955e922bcb0b\">\n",
              "    <div class=\"colab-df-container\">\n",
              "      <div>\n",
              "<style scoped>\n",
              "    .dataframe tbody tr th:only-of-type {\n",
              "        vertical-align: middle;\n",
              "    }\n",
              "\n",
              "    .dataframe tbody tr th {\n",
              "        vertical-align: top;\n",
              "    }\n",
              "\n",
              "    .dataframe thead th {\n",
              "        text-align: right;\n",
              "    }\n",
              "</style>\n",
              "<table border=\"1\" class=\"dataframe\">\n",
              "  <thead>\n",
              "    <tr style=\"text-align: right;\">\n",
              "      <th></th>\n",
              "      <th>Channel</th>\n",
              "      <th>Region</th>\n",
              "      <th>Fresh</th>\n",
              "      <th>Milk</th>\n",
              "      <th>Grocery</th>\n",
              "      <th>Frozen</th>\n",
              "      <th>Detergents_Paper</th>\n",
              "      <th>Delicassen</th>\n",
              "    </tr>\n",
              "  </thead>\n",
              "  <tbody>\n",
              "    <tr>\n",
              "      <th>0</th>\n",
              "      <td>2</td>\n",
              "      <td>3</td>\n",
              "      <td>12669</td>\n",
              "      <td>9656</td>\n",
              "      <td>7561</td>\n",
              "      <td>214</td>\n",
              "      <td>2674</td>\n",
              "      <td>1338</td>\n",
              "    </tr>\n",
              "    <tr>\n",
              "      <th>1</th>\n",
              "      <td>2</td>\n",
              "      <td>3</td>\n",
              "      <td>7057</td>\n",
              "      <td>9810</td>\n",
              "      <td>9568</td>\n",
              "      <td>1762</td>\n",
              "      <td>3293</td>\n",
              "      <td>1776</td>\n",
              "    </tr>\n",
              "    <tr>\n",
              "      <th>2</th>\n",
              "      <td>2</td>\n",
              "      <td>3</td>\n",
              "      <td>6353</td>\n",
              "      <td>8808</td>\n",
              "      <td>7684</td>\n",
              "      <td>2405</td>\n",
              "      <td>3516</td>\n",
              "      <td>7844</td>\n",
              "    </tr>\n",
              "    <tr>\n",
              "      <th>3</th>\n",
              "      <td>1</td>\n",
              "      <td>3</td>\n",
              "      <td>13265</td>\n",
              "      <td>1196</td>\n",
              "      <td>4221</td>\n",
              "      <td>6404</td>\n",
              "      <td>507</td>\n",
              "      <td>1788</td>\n",
              "    </tr>\n",
              "    <tr>\n",
              "      <th>4</th>\n",
              "      <td>2</td>\n",
              "      <td>3</td>\n",
              "      <td>22615</td>\n",
              "      <td>5410</td>\n",
              "      <td>7198</td>\n",
              "      <td>3915</td>\n",
              "      <td>1777</td>\n",
              "      <td>5185</td>\n",
              "    </tr>\n",
              "    <tr>\n",
              "      <th>...</th>\n",
              "      <td>...</td>\n",
              "      <td>...</td>\n",
              "      <td>...</td>\n",
              "      <td>...</td>\n",
              "      <td>...</td>\n",
              "      <td>...</td>\n",
              "      <td>...</td>\n",
              "      <td>...</td>\n",
              "    </tr>\n",
              "    <tr>\n",
              "      <th>435</th>\n",
              "      <td>1</td>\n",
              "      <td>3</td>\n",
              "      <td>29703</td>\n",
              "      <td>12051</td>\n",
              "      <td>16027</td>\n",
              "      <td>13135</td>\n",
              "      <td>182</td>\n",
              "      <td>2204</td>\n",
              "    </tr>\n",
              "    <tr>\n",
              "      <th>436</th>\n",
              "      <td>1</td>\n",
              "      <td>3</td>\n",
              "      <td>39228</td>\n",
              "      <td>1431</td>\n",
              "      <td>764</td>\n",
              "      <td>4510</td>\n",
              "      <td>93</td>\n",
              "      <td>2346</td>\n",
              "    </tr>\n",
              "    <tr>\n",
              "      <th>437</th>\n",
              "      <td>2</td>\n",
              "      <td>3</td>\n",
              "      <td>14531</td>\n",
              "      <td>15488</td>\n",
              "      <td>30243</td>\n",
              "      <td>437</td>\n",
              "      <td>14841</td>\n",
              "      <td>1867</td>\n",
              "    </tr>\n",
              "    <tr>\n",
              "      <th>438</th>\n",
              "      <td>1</td>\n",
              "      <td>3</td>\n",
              "      <td>10290</td>\n",
              "      <td>1981</td>\n",
              "      <td>2232</td>\n",
              "      <td>1038</td>\n",
              "      <td>168</td>\n",
              "      <td>2125</td>\n",
              "    </tr>\n",
              "    <tr>\n",
              "      <th>439</th>\n",
              "      <td>1</td>\n",
              "      <td>3</td>\n",
              "      <td>2787</td>\n",
              "      <td>1698</td>\n",
              "      <td>2510</td>\n",
              "      <td>65</td>\n",
              "      <td>477</td>\n",
              "      <td>52</td>\n",
              "    </tr>\n",
              "  </tbody>\n",
              "</table>\n",
              "<p>440 rows × 8 columns</p>\n",
              "</div>\n",
              "      <button class=\"colab-df-convert\" onclick=\"convertToInteractive('df-ea28db71-3653-4953-a652-955e922bcb0b')\"\n",
              "              title=\"Convert this dataframe to an interactive table.\"\n",
              "              style=\"display:none;\">\n",
              "        \n",
              "  <svg xmlns=\"http://www.w3.org/2000/svg\" height=\"24px\"viewBox=\"0 0 24 24\"\n",
              "       width=\"24px\">\n",
              "    <path d=\"M0 0h24v24H0V0z\" fill=\"none\"/>\n",
              "    <path d=\"M18.56 5.44l.94 2.06.94-2.06 2.06-.94-2.06-.94-.94-2.06-.94 2.06-2.06.94zm-11 1L8.5 8.5l.94-2.06 2.06-.94-2.06-.94L8.5 2.5l-.94 2.06-2.06.94zm10 10l.94 2.06.94-2.06 2.06-.94-2.06-.94-.94-2.06-.94 2.06-2.06.94z\"/><path d=\"M17.41 7.96l-1.37-1.37c-.4-.4-.92-.59-1.43-.59-.52 0-1.04.2-1.43.59L10.3 9.45l-7.72 7.72c-.78.78-.78 2.05 0 2.83L4 21.41c.39.39.9.59 1.41.59.51 0 1.02-.2 1.41-.59l7.78-7.78 2.81-2.81c.8-.78.8-2.07 0-2.86zM5.41 20L4 18.59l7.72-7.72 1.47 1.35L5.41 20z\"/>\n",
              "  </svg>\n",
              "      </button>\n",
              "      \n",
              "  <style>\n",
              "    .colab-df-container {\n",
              "      display:flex;\n",
              "      flex-wrap:wrap;\n",
              "      gap: 12px;\n",
              "    }\n",
              "\n",
              "    .colab-df-convert {\n",
              "      background-color: #E8F0FE;\n",
              "      border: none;\n",
              "      border-radius: 50%;\n",
              "      cursor: pointer;\n",
              "      display: none;\n",
              "      fill: #1967D2;\n",
              "      height: 32px;\n",
              "      padding: 0 0 0 0;\n",
              "      width: 32px;\n",
              "    }\n",
              "\n",
              "    .colab-df-convert:hover {\n",
              "      background-color: #E2EBFA;\n",
              "      box-shadow: 0px 1px 2px rgba(60, 64, 67, 0.3), 0px 1px 3px 1px rgba(60, 64, 67, 0.15);\n",
              "      fill: #174EA6;\n",
              "    }\n",
              "\n",
              "    [theme=dark] .colab-df-convert {\n",
              "      background-color: #3B4455;\n",
              "      fill: #D2E3FC;\n",
              "    }\n",
              "\n",
              "    [theme=dark] .colab-df-convert:hover {\n",
              "      background-color: #434B5C;\n",
              "      box-shadow: 0px 1px 3px 1px rgba(0, 0, 0, 0.15);\n",
              "      filter: drop-shadow(0px 1px 2px rgba(0, 0, 0, 0.3));\n",
              "      fill: #FFFFFF;\n",
              "    }\n",
              "  </style>\n",
              "\n",
              "      <script>\n",
              "        const buttonEl =\n",
              "          document.querySelector('#df-ea28db71-3653-4953-a652-955e922bcb0b button.colab-df-convert');\n",
              "        buttonEl.style.display =\n",
              "          google.colab.kernel.accessAllowed ? 'block' : 'none';\n",
              "\n",
              "        async function convertToInteractive(key) {\n",
              "          const element = document.querySelector('#df-ea28db71-3653-4953-a652-955e922bcb0b');\n",
              "          const dataTable =\n",
              "            await google.colab.kernel.invokeFunction('convertToInteractive',\n",
              "                                                     [key], {});\n",
              "          if (!dataTable) return;\n",
              "\n",
              "          const docLinkHtml = 'Like what you see? Visit the ' +\n",
              "            '<a target=\"_blank\" href=https://colab.research.google.com/notebooks/data_table.ipynb>data table notebook</a>'\n",
              "            + ' to learn more about interactive tables.';\n",
              "          element.innerHTML = '';\n",
              "          dataTable['output_type'] = 'display_data';\n",
              "          await google.colab.output.renderOutput(dataTable, element);\n",
              "          const docLink = document.createElement('div');\n",
              "          docLink.innerHTML = docLinkHtml;\n",
              "          element.appendChild(docLink);\n",
              "        }\n",
              "      </script>\n",
              "    </div>\n",
              "  </div>\n",
              "  "
            ]
          },
          "metadata": {},
          "execution_count": 4
        }
      ]
    },
    {
      "cell_type": "code",
      "source": [
        "from sklearn.decomposition import PCA\n",
        "import matplotlib.pyplot as plt\n",
        "pca = PCA(n_components=None)\n",
        "pca = pca.fit(data)\n",
        "var_exp = pca.explained_variance_ratio_\n",
        "a=[]\n",
        "cum_var_exp = np.cumsum(var_exp)\n",
        "print(cum_var_exp)\n",
        "plt.bar(range(0,8),var_exp, alpha=0.5, align='center', label='individual explained variance')\n",
        "plt.step(range(0,8), cum_var_exp, where='mid', label='cumulative expalined variance')\n",
        "plt.ylabel('Explained variance ratio')\n",
        "plt.xlabel('Principal components')\n",
        "plt.hlines(0.7, 0, 6,  \"blue\", linestyles='dashed')\n",
        "plt.legend(loc='best')\n",
        "plt.grid()\n",
        "plt.show()"
      ],
      "metadata": {
        "colab": {
          "base_uri": "https://localhost:8080/",
          "height": 314
        },
        "id": "UCxorO5u4VKf",
        "outputId": "a4ef5c1d-2dfc-4de7-a108-48be8ef64d3f"
      },
      "execution_count": 9,
      "outputs": [
        {
          "output_type": "stream",
          "name": "stdout",
          "text": [
            "[0.45961362 0.86478588 0.93481596 0.97883941 0.99386152 1.\n",
            " 1.         1.        ]\n"
          ]
        },
        {
          "output_type": "display_data",
          "data": {
            "text/plain": [
              "<Figure size 432x288 with 1 Axes>"
            ],
            "image/png": "[encoded data removed]"
          },
          "metadata": {
            "needs_background": "light"
          }
        }
      ]
    },
    {
      "cell_type": "markdown",
      "source": [
        "#[Problem 10] Selection of the number of clusters k"
      ],
      "metadata": {
        "id": "JGV0I1dl_0iF"
      }
    },
    {
      "cell_type": "code",
      "source": [
        "SSE = []\n",
        "for k in range(1, 9):\n",
        "  model = ScratchKMeansC(n_clusters=k, max_iter=150, verbose=True)\n",
        "  y_pred3 = model.fit_predict(data_pca)\n",
        "  SSE.append(sum(model.SSE))\n",
        "plt.style.use(\"fivethirtyeight\")\n",
        "plt.plot(range(1, 9), SSE)\n",
        "plt.xticks(range(1, 11))\n",
        "plt.xlabel(\"Number of Clusters\")\n",
        "plt.ylabel(\"SSE\")\n",
        "plt.show()"
      ],
      "metadata": {
        "colab": {
          "base_uri": "https://localhost:8080/",
          "height": 318
        },
        "id": "x1X8VMZz9trk",
        "outputId": "33a87e4f-4b00-4c2a-a68a-7854e47a316a"
      },
      "execution_count": 73,
      "outputs": [
        {
          "output_type": "display_data",
          "data": {
            "text/plain": [
              "<Figure size 432x288 with 1 Axes>"
            ],
            "image/png": "[encoded data removed]"
          },
          "metadata": {}
        }
      ]
    },
    {
      "cell_type": "code",
      "source": [
        "SSE = []\n",
        "model = ScratchKMeansC(n_clusters=7, max_iter=150, verbose=True)\n",
        "y_pred3 = model.fit_predict(data_pca)\n",
        "SSE.append(sum(model.SSE))"
      ],
      "metadata": {
        "id": "-bmzW3_DLH9R"
      },
      "execution_count": 10,
      "outputs": []
    },
    {
      "cell_type": "markdown",
      "source": [
        "As the number of clusters k increases, inertia decreases. Eventually, when k = sample size, inertia is 0 because every cluster center is the sample itself. That does not mean we should just increase k though!"
      ],
      "metadata": {
        "id": "OIbx0fb4E6Ae"
      }
    },
    {
      "cell_type": "markdown",
      "source": [
        "#[Problem 11] Comparison with known groups"
      ],
      "metadata": {
        "id": "0QYPYvrtK3pv"
      }
    },
    {
      "cell_type": "code",
      "source": [
        "# add clusters to the dataset\n",
        "data['clusters'] = y_pred3[:]\n",
        "data.head()"
      ],
      "metadata": {
        "colab": {
          "base_uri": "https://localhost:8080/",
          "height": 206
        },
        "id": "n_ytOFBZAzcq",
        "outputId": "d8e2afcb-735e-40c7-ec89-9392f6f7d4c2"
      },
      "execution_count": 15,
      "outputs": [
        {
          "output_type": "execute_result",
          "data": {
            "text/plain": [
              "   Channel  Region  Fresh  Milk  Grocery  Frozen  Detergents_Paper  \\\n",
              "0        2       3  12669  9656     7561     214              2674   \n",
              "1        2       3   7057  9810     9568    1762              3293   \n",
              "2        2       3   6353  8808     7684    2405              3516   \n",
              "3        1       3  13265  1196     4221    6404               507   \n",
              "4        2       3  22615  5410     7198    3915              1777   \n",
              "\n",
              "   Delicassen  clusters  \n",
              "0        1338         4  \n",
              "1        1776         3  \n",
              "2        7844         3  \n",
              "3        1788         4  \n",
              "4        5185         4  "
            ],
            "text/html": [
              "\n",
              "  <div id=\"df-688c858c-7ba1-4ab6-8d5b-f225e051acba\">\n",
              "    <div class=\"colab-df-container\">\n",
              "      <div>\n",
              "<style scoped>\n",
              "    .dataframe tbody tr th:only-of-type {\n",
              "        vertical-align: middle;\n",
              "    }\n",
              "\n",
              "    .dataframe tbody tr th {\n",
              "        vertical-align: top;\n",
              "    }\n",
              "\n",
              "    .dataframe thead th {\n",
              "        text-align: right;\n",
              "    }\n",
              "</style>\n",
              "<table border=\"1\" class=\"dataframe\">\n",
              "  <thead>\n",
              "    <tr style=\"text-align: right;\">\n",
              "      <th></th>\n",
              "      <th>Channel</th>\n",
              "      <th>Region</th>\n",
              "      <th>Fresh</th>\n",
              "      <th>Milk</th>\n",
              "      <th>Grocery</th>\n",
              "      <th>Frozen</th>\n",
              "      <th>Detergents_Paper</th>\n",
              "      <th>Delicassen</th>\n",
              "      <th>clusters</th>\n",
              "    </tr>\n",
              "  </thead>\n",
              "  <tbody>\n",
              "    <tr>\n",
              "      <th>0</th>\n",
              "      <td>2</td>\n",
              "      <td>3</td>\n",
              "      <td>12669</td>\n",
              "      <td>9656</td>\n",
              "      <td>7561</td>\n",
              "      <td>214</td>\n",
              "      <td>2674</td>\n",
              "      <td>1338</td>\n",
              "      <td>4</td>\n",
              "    </tr>\n",
              "    <tr>\n",
              "      <th>1</th>\n",
              "      <td>2</td>\n",
              "      <td>3</td>\n",
              "      <td>7057</td>\n",
              "      <td>9810</td>\n",
              "      <td>9568</td>\n",
              "      <td>1762</td>\n",
              "      <td>3293</td>\n",
              "      <td>1776</td>\n",
              "      <td>3</td>\n",
              "    </tr>\n",
              "    <tr>\n",
              "      <th>2</th>\n",
              "      <td>2</td>\n",
              "      <td>3</td>\n",
              "      <td>6353</td>\n",
              "      <td>8808</td>\n",
              "      <td>7684</td>\n",
              "      <td>2405</td>\n",
              "      <td>3516</td>\n",
              "      <td>7844</td>\n",
              "      <td>3</td>\n",
              "    </tr>\n",
              "    <tr>\n",
              "      <th>3</th>\n",
              "      <td>1</td>\n",
              "      <td>3</td>\n",
              "      <td>13265</td>\n",
              "      <td>1196</td>\n",
              "      <td>4221</td>\n",
              "      <td>6404</td>\n",
              "      <td>507</td>\n",
              "      <td>1788</td>\n",
              "      <td>4</td>\n",
              "    </tr>\n",
              "    <tr>\n",
              "      <th>4</th>\n",
              "      <td>2</td>\n",
              "      <td>3</td>\n",
              "      <td>22615</td>\n",
              "      <td>5410</td>\n",
              "      <td>7198</td>\n",
              "      <td>3915</td>\n",
              "      <td>1777</td>\n",
              "      <td>5185</td>\n",
              "      <td>4</td>\n",
              "    </tr>\n",
              "  </tbody>\n",
              "</table>\n",
              "</div>\n",
              "      <button class=\"colab-df-convert\" onclick=\"convertToInteractive('df-688c858c-7ba1-4ab6-8d5b-f225e051acba')\"\n",
              "              title=\"Convert this dataframe to an interactive table.\"\n",
              "              style=\"display:none;\">\n",
              "        \n",
              "  <svg xmlns=\"http://www.w3.org/2000/svg\" height=\"24px\"viewBox=\"0 0 24 24\"\n",
              "       width=\"24px\">\n",
              "    <path d=\"M0 0h24v24H0V0z\" fill=\"none\"/>\n",
              "    <path d=\"M18.56 5.44l.94 2.06.94-2.06 2.06-.94-2.06-.94-.94-2.06-.94 2.06-2.06.94zm-11 1L8.5 8.5l.94-2.06 2.06-.94-2.06-.94L8.5 2.5l-.94 2.06-2.06.94zm10 10l.94 2.06.94-2.06 2.06-.94-2.06-.94-.94-2.06-.94 2.06-2.06.94z\"/><path d=\"M17.41 7.96l-1.37-1.37c-.4-.4-.92-.59-1.43-.59-.52 0-1.04.2-1.43.59L10.3 9.45l-7.72 7.72c-.78.78-.78 2.05 0 2.83L4 21.41c.39.39.9.59 1.41.59.51 0 1.02-.2 1.41-.59l7.78-7.78 2.81-2.81c.8-.78.8-2.07 0-2.86zM5.41 20L4 18.59l7.72-7.72 1.47 1.35L5.41 20z\"/>\n",
              "  </svg>\n",
              "      </button>\n",
              "      \n",
              "  <style>\n",
              "    .colab-df-container {\n",
              "      display:flex;\n",
              "      flex-wrap:wrap;\n",
              "      gap: 12px;\n",
              "    }\n",
              "\n",
              "    .colab-df-convert {\n",
              "      background-color: #E8F0FE;\n",
              "      border: none;\n",
              "      border-radius: 50%;\n",
              "      cursor: pointer;\n",
              "      display: none;\n",
              "      fill: #1967D2;\n",
              "      height: 32px;\n",
              "      padding: 0 0 0 0;\n",
              "      width: 32px;\n",
              "    }\n",
              "\n",
              "    .colab-df-convert:hover {\n",
              "      background-color: #E2EBFA;\n",
              "      box-shadow: 0px 1px 2px rgba(60, 64, 67, 0.3), 0px 1px 3px 1px rgba(60, 64, 67, 0.15);\n",
              "      fill: #174EA6;\n",
              "    }\n",
              "\n",
              "    [theme=dark] .colab-df-convert {\n",
              "      background-color: #3B4455;\n",
              "      fill: #D2E3FC;\n",
              "    }\n",
              "\n",
              "    [theme=dark] .colab-df-convert:hover {\n",
              "      background-color: #434B5C;\n",
              "      box-shadow: 0px 1px 3px 1px rgba(0, 0, 0, 0.15);\n",
              "      filter: drop-shadow(0px 1px 2px rgba(0, 0, 0, 0.3));\n",
              "      fill: #FFFFFF;\n",
              "    }\n",
              "  </style>\n",
              "\n",
              "      <script>\n",
              "        const buttonEl =\n",
              "          document.querySelector('#df-688c858c-7ba1-4ab6-8d5b-f225e051acba button.colab-df-convert');\n",
              "        buttonEl.style.display =\n",
              "          google.colab.kernel.accessAllowed ? 'block' : 'none';\n",
              "\n",
              "        async function convertToInteractive(key) {\n",
              "          const element = document.querySelector('#df-688c858c-7ba1-4ab6-8d5b-f225e051acba');\n",
              "          const dataTable =\n",
              "            await google.colab.kernel.invokeFunction('convertToInteractive',\n",
              "                                                     [key], {});\n",
              "          if (!dataTable) return;\n",
              "\n",
              "          const docLinkHtml = 'Like what you see? Visit the ' +\n",
              "            '<a target=\"_blank\" href=https://colab.research.google.com/notebooks/data_table.ipynb>data table notebook</a>'\n",
              "            + ' to learn more about interactive tables.';\n",
              "          element.innerHTML = '';\n",
              "          dataTable['output_type'] = 'display_data';\n",
              "          await google.colab.output.renderOutput(dataTable, element);\n",
              "          const docLink = document.createElement('div');\n",
              "          docLink.innerHTML = docLinkHtml;\n",
              "          element.appendChild(docLink);\n",
              "        }\n",
              "      </script>\n",
              "    </div>\n",
              "  </div>\n",
              "  "
            ]
          },
          "metadata": {},
          "execution_count": 15
        }
      ]
    },
    {
      "cell_type": "code",
      "source": [
        "data.groupby(['Channel','Region']).count()"
      ],
      "metadata": {
        "colab": {
          "base_uri": "https://localhost:8080/",
          "height": 269
        },
        "id": "ZWJp-nzsL0xR",
        "outputId": "53308ed9-38fc-4ac3-e6e8-dab9835b241f"
      },
      "execution_count": 16,
      "outputs": [
        {
          "output_type": "execute_result",
          "data": {
            "text/plain": [
              "                Fresh  Milk  Grocery  Frozen  Detergents_Paper  Delicassen  \\\n",
              "Channel Region                                                               \n",
              "1       1          59    59       59      59                59          59   \n",
              "        2          28    28       28      28                28          28   \n",
              "        3         211   211      211     211               211         211   \n",
              "2       1          18    18       18      18                18          18   \n",
              "        2          19    19       19      19                19          19   \n",
              "        3         105   105      105     105               105         105   \n",
              "\n",
              "                clusters  \n",
              "Channel Region            \n",
              "1       1             59  \n",
              "        2             28  \n",
              "        3            211  \n",
              "2       1             18  \n",
              "        2             19  \n",
              "        3            105  "
            ],
            "text/html": [
              "\n",
              "  <div id=\"df-f0152cc7-1ad8-4932-89c0-35cca99e2143\">\n",
              "    <div class=\"colab-df-container\">\n",
              "      <div>\n",
              "<style scoped>\n",
              "    .dataframe tbody tr th:only-of-type {\n",
              "        vertical-align: middle;\n",
              "    }\n",
              "\n",
              "    .dataframe tbody tr th {\n",
              "        vertical-align: top;\n",
              "    }\n",
              "\n",
              "    .dataframe thead th {\n",
              "        text-align: right;\n",
              "    }\n",
              "</style>\n",
              "<table border=\"1\" class=\"dataframe\">\n",
              "  <thead>\n",
              "    <tr style=\"text-align: right;\">\n",
              "      <th></th>\n",
              "      <th></th>\n",
              "      <th>Fresh</th>\n",
              "      <th>Milk</th>\n",
              "      <th>Grocery</th>\n",
              "      <th>Frozen</th>\n",
              "      <th>Detergents_Paper</th>\n",
              "      <th>Delicassen</th>\n",
              "      <th>clusters</th>\n",
              "    </tr>\n",
              "    <tr>\n",
              "      <th>Channel</th>\n",
              "      <th>Region</th>\n",
              "      <th></th>\n",
              "      <th></th>\n",
              "      <th></th>\n",
              "      <th></th>\n",
              "      <th></th>\n",
              "      <th></th>\n",
              "      <th></th>\n",
              "    </tr>\n",
              "  </thead>\n",
              "  <tbody>\n",
              "    <tr>\n",
              "      <th rowspan=\"3\" valign=\"top\">1</th>\n",
              "      <th>1</th>\n",
              "      <td>59</td>\n",
              "      <td>59</td>\n",
              "      <td>59</td>\n",
              "      <td>59</td>\n",
              "      <td>59</td>\n",
              "      <td>59</td>\n",
              "      <td>59</td>\n",
              "    </tr>\n",
              "    <tr>\n",
              "      <th>2</th>\n",
              "      <td>28</td>\n",
              "      <td>28</td>\n",
              "      <td>28</td>\n",
              "      <td>28</td>\n",
              "      <td>28</td>\n",
              "      <td>28</td>\n",
              "      <td>28</td>\n",
              "    </tr>\n",
              "    <tr>\n",
              "      <th>3</th>\n",
              "      <td>211</td>\n",
              "      <td>211</td>\n",
              "      <td>211</td>\n",
              "      <td>211</td>\n",
              "      <td>211</td>\n",
              "      <td>211</td>\n",
              "      <td>211</td>\n",
              "    </tr>\n",
              "    <tr>\n",
              "      <th rowspan=\"3\" valign=\"top\">2</th>\n",
              "      <th>1</th>\n",
              "      <td>18</td>\n",
              "      <td>18</td>\n",
              "      <td>18</td>\n",
              "      <td>18</td>\n",
              "      <td>18</td>\n",
              "      <td>18</td>\n",
              "      <td>18</td>\n",
              "    </tr>\n",
              "    <tr>\n",
              "      <th>2</th>\n",
              "      <td>19</td>\n",
              "      <td>19</td>\n",
              "      <td>19</td>\n",
              "      <td>19</td>\n",
              "      <td>19</td>\n",
              "      <td>19</td>\n",
              "      <td>19</td>\n",
              "    </tr>\n",
              "    <tr>\n",
              "      <th>3</th>\n",
              "      <td>105</td>\n",
              "      <td>105</td>\n",
              "      <td>105</td>\n",
              "      <td>105</td>\n",
              "      <td>105</td>\n",
              "      <td>105</td>\n",
              "      <td>105</td>\n",
              "    </tr>\n",
              "  </tbody>\n",
              "</table>\n",
              "</div>\n",
              "      <button class=\"colab-df-convert\" onclick=\"convertToInteractive('df-f0152cc7-1ad8-4932-89c0-35cca99e2143')\"\n",
              "              title=\"Convert this dataframe to an interactive table.\"\n",
              "              style=\"display:none;\">\n",
              "        \n",
              "  <svg xmlns=\"http://www.w3.org/2000/svg\" height=\"24px\"viewBox=\"0 0 24 24\"\n",
              "       width=\"24px\">\n",
              "    <path d=\"M0 0h24v24H0V0z\" fill=\"none\"/>\n",
              "    <path d=\"M18.56 5.44l.94 2.06.94-2.06 2.06-.94-2.06-.94-.94-2.06-.94 2.06-2.06.94zm-11 1L8.5 8.5l.94-2.06 2.06-.94-2.06-.94L8.5 2.5l-.94 2.06-2.06.94zm10 10l.94 2.06.94-2.06 2.06-.94-2.06-.94-.94-2.06-.94 2.06-2.06.94z\"/><path d=\"M17.41 7.96l-1.37-1.37c-.4-.4-.92-.59-1.43-.59-.52 0-1.04.2-1.43.59L10.3 9.45l-7.72 7.72c-.78.78-.78 2.05 0 2.83L4 21.41c.39.39.9.59 1.41.59.51 0 1.02-.2 1.41-.59l7.78-7.78 2.81-2.81c.8-.78.8-2.07 0-2.86zM5.41 20L4 18.59l7.72-7.72 1.47 1.35L5.41 20z\"/>\n",
              "  </svg>\n",
              "      </button>\n",
              "      \n",
              "  <style>\n",
              "    .colab-df-container {\n",
              "      display:flex;\n",
              "      flex-wrap:wrap;\n",
              "      gap: 12px;\n",
              "    }\n",
              "\n",
              "    .colab-df-convert {\n",
              "      background-color: #E8F0FE;\n",
              "      border: none;\n",
              "      border-radius: 50%;\n",
              "      cursor: pointer;\n",
              "      display: none;\n",
              "      fill: #1967D2;\n",
              "      height: 32px;\n",
              "      padding: 0 0 0 0;\n",
              "      width: 32px;\n",
              "    }\n",
              "\n",
              "    .colab-df-convert:hover {\n",
              "      background-color: #E2EBFA;\n",
              "      box-shadow: 0px 1px 2px rgba(60, 64, 67, 0.3), 0px 1px 3px 1px rgba(60, 64, 67, 0.15);\n",
              "      fill: #174EA6;\n",
              "    }\n",
              "\n",
              "    [theme=dark] .colab-df-convert {\n",
              "      background-color: #3B4455;\n",
              "      fill: #D2E3FC;\n",
              "    }\n",
              "\n",
              "    [theme=dark] .colab-df-convert:hover {\n",
              "      background-color: #434B5C;\n",
              "      box-shadow: 0px 1px 3px 1px rgba(0, 0, 0, 0.15);\n",
              "      filter: drop-shadow(0px 1px 2px rgba(0, 0, 0, 0.3));\n",
              "      fill: #FFFFFF;\n",
              "    }\n",
              "  </style>\n",
              "\n",
              "      <script>\n",
              "        const buttonEl =\n",
              "          document.querySelector('#df-f0152cc7-1ad8-4932-89c0-35cca99e2143 button.colab-df-convert');\n",
              "        buttonEl.style.display =\n",
              "          google.colab.kernel.accessAllowed ? 'block' : 'none';\n",
              "\n",
              "        async function convertToInteractive(key) {\n",
              "          const element = document.querySelector('#df-f0152cc7-1ad8-4932-89c0-35cca99e2143');\n",
              "          const dataTable =\n",
              "            await google.colab.kernel.invokeFunction('convertToInteractive',\n",
              "                                                     [key], {});\n",
              "          if (!dataTable) return;\n",
              "\n",
              "          const docLinkHtml = 'Like what you see? Visit the ' +\n",
              "            '<a target=\"_blank\" href=https://colab.research.google.com/notebooks/data_table.ipynb>data table notebook</a>'\n",
              "            + ' to learn more about interactive tables.';\n",
              "          element.innerHTML = '';\n",
              "          dataTable['output_type'] = 'display_data';\n",
              "          await google.colab.output.renderOutput(dataTable, element);\n",
              "          const docLink = document.createElement('div');\n",
              "          docLink.innerHTML = docLinkHtml;\n",
              "          element.appendChild(docLink);\n",
              "        }\n",
              "      </script>\n",
              "    </div>\n",
              "  </div>\n",
              "  "
            ]
          },
          "metadata": {},
          "execution_count": 16
        }
      ]
    },
    {
      "cell_type": "markdown",
      "source": [
        "Region and Channel were not used for K-means, but they are known groups"
      ],
      "metadata": {
        "id": "JB4bHx54McZN"
      }
    },
    {
      "cell_type": "markdown",
      "source": [
        "#[Problem 12] Useful information for wholesalers"
      ],
      "metadata": {
        "id": "lOOmbk8PMhlZ"
      }
    },
    {
      "cell_type": "code",
      "source": [
        "data.groupby(['clusters']).count()"
      ],
      "metadata": {
        "colab": {
          "base_uri": "https://localhost:8080/",
          "height": 300
        },
        "id": "sN0Isas1MN_q",
        "outputId": "96689f88-c547-4ba7-ba88-5d0945a9e7d7"
      },
      "execution_count": 20,
      "outputs": [
        {
          "output_type": "execute_result",
          "data": {
            "text/plain": [
              "          Channel  Region  Fresh  Milk  Grocery  Frozen  Detergents_Paper  \\\n",
              "clusters                                                                    \n",
              "0              48      48     48    48       48      48                48   \n",
              "1              30      30     30    30       30      30                30   \n",
              "2             153     153    153   153      153     153               153   \n",
              "3              86      86     86    86       86      86                86   \n",
              "4             110     110    110   110      110     110               110   \n",
              "5               8       8      8     8        8       8                 8   \n",
              "6               5       5      5     5        5       5                 5   \n",
              "\n",
              "          Delicassen  \n",
              "clusters              \n",
              "0                 48  \n",
              "1                 30  \n",
              "2                153  \n",
              "3                 86  \n",
              "4                110  \n",
              "5                  8  \n",
              "6                  5  "
            ],
            "text/html": [
              "\n",
              "  <div id=\"df-4c92a5bb-4c81-47b9-ba27-f35210883169\">\n",
              "    <div class=\"colab-df-container\">\n",
              "      <div>\n",
              "<style scoped>\n",
              "    .dataframe tbody tr th:only-of-type {\n",
              "        vertical-align: middle;\n",
              "    }\n",
              "\n",
              "    .dataframe tbody tr th {\n",
              "        vertical-align: top;\n",
              "    }\n",
              "\n",
              "    .dataframe thead th {\n",
              "        text-align: right;\n",
              "    }\n",
              "</style>\n",
              "<table border=\"1\" class=\"dataframe\">\n",
              "  <thead>\n",
              "    <tr style=\"text-align: right;\">\n",
              "      <th></th>\n",
              "      <th>Channel</th>\n",
              "      <th>Region</th>\n",
              "      <th>Fresh</th>\n",
              "      <th>Milk</th>\n",
              "      <th>Grocery</th>\n",
              "      <th>Frozen</th>\n",
              "      <th>Detergents_Paper</th>\n",
              "      <th>Delicassen</th>\n",
              "    </tr>\n",
              "    <tr>\n",
              "      <th>clusters</th>\n",
              "      <th></th>\n",
              "      <th></th>\n",
              "      <th></th>\n",
              "      <th></th>\n",
              "      <th></th>\n",
              "      <th></th>\n",
              "      <th></th>\n",
              "      <th></th>\n",
              "    </tr>\n",
              "  </thead>\n",
              "  <tbody>\n",
              "    <tr>\n",
              "      <th>0</th>\n",
              "      <td>48</td>\n",
              "      <td>48</td>\n",
              "      <td>48</td>\n",
              "      <td>48</td>\n",
              "      <td>48</td>\n",
              "      <td>48</td>\n",
              "      <td>48</td>\n",
              "      <td>48</td>\n",
              "    </tr>\n",
              "    <tr>\n",
              "      <th>1</th>\n",
              "      <td>30</td>\n",
              "      <td>30</td>\n",
              "      <td>30</td>\n",
              "      <td>30</td>\n",
              "      <td>30</td>\n",
              "      <td>30</td>\n",
              "      <td>30</td>\n",
              "      <td>30</td>\n",
              "    </tr>\n",
              "    <tr>\n",
              "      <th>2</th>\n",
              "      <td>153</td>\n",
              "      <td>153</td>\n",
              "      <td>153</td>\n",
              "      <td>153</td>\n",
              "      <td>153</td>\n",
              "      <td>153</td>\n",
              "      <td>153</td>\n",
              "      <td>153</td>\n",
              "    </tr>\n",
              "    <tr>\n",
              "      <th>3</th>\n",
              "      <td>86</td>\n",
              "      <td>86</td>\n",
              "      <td>86</td>\n",
              "      <td>86</td>\n",
              "      <td>86</td>\n",
              "      <td>86</td>\n",
              "      <td>86</td>\n",
              "      <td>86</td>\n",
              "    </tr>\n",
              "    <tr>\n",
              "      <th>4</th>\n",
              "      <td>110</td>\n",
              "      <td>110</td>\n",
              "      <td>110</td>\n",
              "      <td>110</td>\n",
              "      <td>110</td>\n",
              "      <td>110</td>\n",
              "      <td>110</td>\n",
              "      <td>110</td>\n",
              "    </tr>\n",
              "    <tr>\n",
              "      <th>5</th>\n",
              "      <td>8</td>\n",
              "      <td>8</td>\n",
              "      <td>8</td>\n",
              "      <td>8</td>\n",
              "      <td>8</td>\n",
              "      <td>8</td>\n",
              "      <td>8</td>\n",
              "      <td>8</td>\n",
              "    </tr>\n",
              "    <tr>\n",
              "      <th>6</th>\n",
              "      <td>5</td>\n",
              "      <td>5</td>\n",
              "      <td>5</td>\n",
              "      <td>5</td>\n",
              "      <td>5</td>\n",
              "      <td>5</td>\n",
              "      <td>5</td>\n",
              "      <td>5</td>\n",
              "    </tr>\n",
              "  </tbody>\n",
              "</table>\n",
              "</div>\n",
              "      <button class=\"colab-df-convert\" onclick=\"convertToInteractive('df-4c92a5bb-4c81-47b9-ba27-f35210883169')\"\n",
              "              title=\"Convert this dataframe to an interactive table.\"\n",
              "              style=\"display:none;\">\n",
              "        \n",
              "  <svg xmlns=\"http://www.w3.org/2000/svg\" height=\"24px\"viewBox=\"0 0 24 24\"\n",
              "       width=\"24px\">\n",
              "    <path d=\"M0 0h24v24H0V0z\" fill=\"none\"/>\n",
              "    <path d=\"M18.56 5.44l.94 2.06.94-2.06 2.06-.94-2.06-.94-.94-2.06-.94 2.06-2.06.94zm-11 1L8.5 8.5l.94-2.06 2.06-.94-2.06-.94L8.5 2.5l-.94 2.06-2.06.94zm10 10l.94 2.06.94-2.06 2.06-.94-2.06-.94-.94-2.06-.94 2.06-2.06.94z\"/><path d=\"M17.41 7.96l-1.37-1.37c-.4-.4-.92-.59-1.43-.59-.52 0-1.04.2-1.43.59L10.3 9.45l-7.72 7.72c-.78.78-.78 2.05 0 2.83L4 21.41c.39.39.9.59 1.41.59.51 0 1.02-.2 1.41-.59l7.78-7.78 2.81-2.81c.8-.78.8-2.07 0-2.86zM5.41 20L4 18.59l7.72-7.72 1.47 1.35L5.41 20z\"/>\n",
              "  </svg>\n",
              "      </button>\n",
              "      \n",
              "  <style>\n",
              "    .colab-df-container {\n",
              "      display:flex;\n",
              "      flex-wrap:wrap;\n",
              "      gap: 12px;\n",
              "    }\n",
              "\n",
              "    .colab-df-convert {\n",
              "      background-color: #E8F0FE;\n",
              "      border: none;\n",
              "      border-radius: 50%;\n",
              "      cursor: pointer;\n",
              "      display: none;\n",
              "      fill: #1967D2;\n",
              "      height: 32px;\n",
              "      padding: 0 0 0 0;\n",
              "      width: 32px;\n",
              "    }\n",
              "\n",
              "    .colab-df-convert:hover {\n",
              "      background-color: #E2EBFA;\n",
              "      box-shadow: 0px 1px 2px rgba(60, 64, 67, 0.3), 0px 1px 3px 1px rgba(60, 64, 67, 0.15);\n",
              "      fill: #174EA6;\n",
              "    }\n",
              "\n",
              "    [theme=dark] .colab-df-convert {\n",
              "      background-color: #3B4455;\n",
              "      fill: #D2E3FC;\n",
              "    }\n",
              "\n",
              "    [theme=dark] .colab-df-convert:hover {\n",
              "      background-color: #434B5C;\n",
              "      box-shadow: 0px 1px 3px 1px rgba(0, 0, 0, 0.15);\n",
              "      filter: drop-shadow(0px 1px 2px rgba(0, 0, 0, 0.3));\n",
              "      fill: #FFFFFF;\n",
              "    }\n",
              "  </style>\n",
              "\n",
              "      <script>\n",
              "        const buttonEl =\n",
              "          document.querySelector('#df-4c92a5bb-4c81-47b9-ba27-f35210883169 button.colab-df-convert');\n",
              "        buttonEl.style.display =\n",
              "          google.colab.kernel.accessAllowed ? 'block' : 'none';\n",
              "\n",
              "        async function convertToInteractive(key) {\n",
              "          const element = document.querySelector('#df-4c92a5bb-4c81-47b9-ba27-f35210883169');\n",
              "          const dataTable =\n",
              "            await google.colab.kernel.invokeFunction('convertToInteractive',\n",
              "                                                     [key], {});\n",
              "          if (!dataTable) return;\n",
              "\n",
              "          const docLinkHtml = 'Like what you see? Visit the ' +\n",
              "            '<a target=\"_blank\" href=https://colab.research.google.com/notebooks/data_table.ipynb>data table notebook</a>'\n",
              "            + ' to learn more about interactive tables.';\n",
              "          element.innerHTML = '';\n",
              "          dataTable['output_type'] = 'display_data';\n",
              "          await google.colab.output.renderOutput(dataTable, element);\n",
              "          const docLink = document.createElement('div');\n",
              "          docLink.innerHTML = docLinkHtml;\n",
              "          element.appendChild(docLink);\n",
              "        }\n",
              "      </script>\n",
              "    </div>\n",
              "  </div>\n",
              "  "
            ]
          },
          "metadata": {},
          "execution_count": 20
        }
      ]
    },
    {
      "cell_type": "markdown",
      "source": [
        "#Problem 13] (Advance assignment) Investigation of other methods"
      ],
      "metadata": {
        "id": "fy0LBjEQNcwK"
      }
    },
    {
      "cell_type": "markdown",
      "source": [
        "##Advantages and disadvantages of DBSCAN\n",
        "###Advantages\n",
        "DBSCAN does not require one to specify the number of clusters in the data a priori, as opposed to k-means. DBSCAN can find arbitrarily-shaped clusters. It can even find a cluster completely surrounded by (but not connected to) a different cluster.\n",
        "\n",
        "This is a clustering method that is used in machine learning to separate clusters of high density from clusters of low density.\n",
        "\n",
        "###Disadvantages\n",
        "DBSCAN cannot cluster data sets well with large differences in densities, since the minPts-ε combination cannot then be chosen appropriately for all clusters.\n",
        "\n",
        "The quality of DBSCAN depends on the distance measure used in the function regionQuery(P,ε). The most common distance metric used is Euclidean distance. Especially for high-dimensional data, this metric can be rendered almost useless due to the so-called \"Curse of dimensionality\", making it difficult to find an appropriate value for ε. This effect, however, is also present in any other algorithm based on Euclidean distance.\n",
        "\n",
        "\n",
        "\n",
        "##Advantages and disadvantages of t-SNE and LLE\n",
        "###Advantages (t-SNE)\n",
        " Preserves Local and Global Structure, Handles Non Linear Data Efficiently\n",
        "###Advantages LLE\n",
        "\n",
        "Effective at high concentration of substrate in the extractive fermentation, The acid can be reextracted and the solvent can be reused, Better control of pH in the bioreactor,Better recovery of acid with higher product purity\n",
        "\n",
        "\n",
        "###Disadvantages of t-SNE\n",
        " Computationally Complex, Non-deterministic, Requires Hyperparameter Tuning, Noisy Patterns:\n",
        "###Disadvantages of LLE\n",
        "Multiplication of extraction steps to obtain optimum output.\n",
        "Use of large volumes of organic solvents, which the costs of recycling are becoming increasingly more expensive.\n",
        "Emulsion's difficulties which hinders the full recovery of the extract\n",
        "\n"
      ],
      "metadata": {
        "id": "3y_7HxN-NoOG"
      }
    },
    {
      "cell_type": "markdown",
      "source": [
        "#[Problem 14] (Advance assignment) Use of t-SNE and DBSCAN"
      ],
      "metadata": {
        "id": "ILMqs9GNQp0V"
      }
    },
    {
      "cell_type": "code",
      "source": [
        "from sklearn.manifold import TSNE\n",
        "X_embedded = TSNE(n_components=2, learning_rate='auto',init='random').fit_transform(X)"
      ],
      "metadata": {
        "id": "XZbXrt2PNIaY"
      },
      "execution_count": 15,
      "outputs": []
    },
    {
      "cell_type": "code",
      "source": [
        "X_embedded"
      ],
      "metadata": {
        "colab": {
          "base_uri": "https://localhost:8080/"
        },
        "id": "OoBswIVhSir8",
        "outputId": "c442ef4b-5f7f-4fd4-c6a2-14f8171f0a43"
      },
      "execution_count": 16,
      "outputs": [
        {
          "output_type": "execute_result",
          "data": {
            "text/plain": [
              "array([[ 1.1120902e+00, -1.5363446e-01],\n",
              "       [-8.6871662e+00, -6.5161753e-01],\n",
              "       [ 7.2213322e-01,  6.3164818e-01],\n",
              "       [ 4.8962331e-01,  3.6981615e-01],\n",
              "       [ 3.3990499e-01,  8.3045888e-01],\n",
              "       [ 7.9494780e-01, -5.7779658e-03],\n",
              "       [ 8.7496299e-01, -3.8692977e+00],\n",
              "       [-8.3317137e+00, -1.3769183e+00],\n",
              "       [-1.9469383e-01, -2.3617810e-01],\n",
              "       [-8.4052639e+00, -8.4756070e-01],\n",
              "       [-7.8492250e+00, -1.0341289e+00],\n",
              "       [-8.0793104e+00, -5.4780740e-01],\n",
              "       [-8.0159903e+00, -8.8019764e-01],\n",
              "       [-8.2597895e+00, -1.2416425e+00],\n",
              "       [-8.0820618e+00, -1.2613225e+00],\n",
              "       [ 6.4530501e+00,  5.1914358e+00],\n",
              "       [ 5.7837090e+00,  3.8785276e+00],\n",
              "       [ 1.2515051e+00, -2.1490338e+00],\n",
              "       [ 1.5812701e+00, -3.9257543e+00],\n",
              "       [ 6.5052128e+00,  5.0352449e+00],\n",
              "       [ 1.2877350e+00,  1.0712248e+00],\n",
              "       [-8.4319448e+00, -5.7690185e-01],\n",
              "       [ 1.3506547e+00, -3.9306428e+00],\n",
              "       [ 6.6910276e+00,  4.8849955e+00],\n",
              "       [ 3.7839115e-01, -1.6672494e-01],\n",
              "       [ 1.8949685e+00, -3.7411265e+00],\n",
              "       [ 1.1752887e+00, -2.3414512e+00],\n",
              "       [ 5.4407746e-01,  5.8682580e-02],\n",
              "       [ 5.5413003e+00,  4.6767359e+00],\n",
              "       [ 6.1371074e+00,  4.9503460e+00],\n",
              "       [ 6.5387750e+00,  4.3204422e+00],\n",
              "       [-7.8535590e+00, -1.0311033e+00],\n",
              "       [ 6.3619442e+00,  4.6995063e+00],\n",
              "       [ 5.6798110e+00,  4.2432971e+00],\n",
              "       [ 1.2916502e+00, -3.1817744e+00],\n",
              "       [ 1.0848818e+00,  3.2501233e-01],\n",
              "       [-9.0062990e+00, -1.1231130e+00],\n",
              "       [ 5.8769407e+00,  4.1911478e+00],\n",
              "       [-8.6863489e+00, -1.6567688e+00],\n",
              "       [ 1.8797514e+00, -3.9974029e+00],\n",
              "       [ 8.1983648e-02,  4.3541527e-01],\n",
              "       [ 1.3698874e+00, -3.4317675e+00],\n",
              "       [-7.8592463e+00, -6.1646515e-01],\n",
              "       [ 1.1177055e+00, -3.9397826e+00],\n",
              "       [ 1.6570365e+00, -3.9437795e+00],\n",
              "       [-8.8529005e+00, -7.9155797e-01],\n",
              "       [ 6.6253185e+00,  4.3079491e+00],\n",
              "       [ 1.2999557e+00, -3.8540072e+00],\n",
              "       [ 8.3585268e-01, -8.1927337e-02],\n",
              "       [ 1.3064554e+00, -4.9926829e-01],\n",
              "       [ 2.0126636e-01, -2.5384742e-01],\n",
              "       [ 6.2954021e+00,  4.3979053e+00],\n",
              "       [ 1.7556835e+00, -3.3614383e+00],\n",
              "       [ 8.8957047e-01, -3.6836767e+00],\n",
              "       [ 2.0957294e+00, -3.3370349e+00],\n",
              "       [-8.1324148e+00, -9.5513427e-01],\n",
              "       [-8.6611824e+00, -1.3522699e+00],\n",
              "       [ 6.0712376e+00,  4.7944064e+00],\n",
              "       [ 5.9223680e+00,  4.5674338e+00],\n",
              "       [-8.4074860e+00, -1.4469842e+00],\n",
              "       [-8.0160770e+00, -7.3702633e-01],\n",
              "       [ 6.0342865e+00,  4.0011768e+00],\n",
              "       [ 6.0385518e+00,  4.5465794e+00],\n",
              "       [ 2.9709375e-01,  9.2008424e-01],\n",
              "       [ 6.0936408e+00,  3.9560483e+00],\n",
              "       [-8.5610361e+00, -1.4350067e+00],\n",
              "       [ 1.6932772e+00, -4.1661773e+00],\n",
              "       [ 2.0587733e+00, -3.6125023e+00],\n",
              "       [ 5.8614154e+00,  4.4590263e+00],\n",
              "       [ 5.7491595e-01,  5.1776683e-01],\n",
              "       [-8.7981701e+00, -8.1475002e-01],\n",
              "       [ 6.1096344e+00,  3.9884796e+00],\n",
              "       [ 4.2417684e-01,  2.2565775e-01],\n",
              "       [-8.5320721e+00, -8.6109322e-01],\n",
              "       [ 8.1719345e-01,  2.4721716e-01],\n",
              "       [ 1.0537657e+00,  5.9721673e-01],\n",
              "       [ 1.3088486e+00, -2.5382080e+00],\n",
              "       [ 1.2604308e+00, -3.6454809e+00],\n",
              "       [ 6.4387054e+00,  4.8014317e+00],\n",
              "       [ 6.3352275e+00,  3.9312649e+00],\n",
              "       [ 6.8751926e+00,  4.5825148e+00],\n",
              "       [-8.9601583e+00, -1.0282836e+00],\n",
              "       [ 1.1089879e+00, -3.3163600e+00],\n",
              "       [ 6.1163819e-01, -5.9935415e-01],\n",
              "       [ 6.5358052e+00,  4.3343129e+00],\n",
              "       [ 1.7410651e+00, -3.1874738e+00],\n",
              "       [ 6.4127002e+00,  4.1657248e+00],\n",
              "       [ 6.6267128e+00,  4.5013604e+00],\n",
              "       [ 8.8427687e-01,  8.5124815e-01],\n",
              "       [ 5.1922882e-01,  3.1204665e-01],\n",
              "       [ 4.2542568e-01,  2.6972261e-01],\n",
              "       [ 2.0601816e+00, -3.6214268e+00],\n",
              "       [ 1.1156703e+00, -5.1005507e-01],\n",
              "       [ 1.4975231e+00, -3.2163434e+00],\n",
              "       [ 1.3545007e+00, -4.1810060e+00],\n",
              "       [-8.6014013e+00, -6.5619153e-01],\n",
              "       [-8.3003225e+00, -6.3538289e-01],\n",
              "       [ 9.4277173e-01, -3.4998474e+00],\n",
              "       [-8.4374094e+00, -1.3848776e+00],\n",
              "       [ 2.4731831e-01, -8.7342530e-01]], dtype=float32)"
            ]
          },
          "metadata": {},
          "execution_count": 16
        }
      ]
    },
    {
      "cell_type": "code",
      "source": [
        "from sklearn.cluster import DBSCAN\n",
        "clustering = DBSCAN(eps=3, min_samples=2)\n",
        "clustering.fit_predict(X_embedded)\n"
      ],
      "metadata": {
        "colab": {
          "base_uri": "https://localhost:8080/"
        },
        "id": "EMVEFzrZRke2",
        "outputId": "bb0346bc-5b92-49b5-e374-88f319724fe4"
      },
      "execution_count": 17,
      "outputs": [
        {
          "output_type": "execute_result",
          "data": {
            "text/plain": [
              "array([0, 1, 0, 0, 0, 0, 0, 1, 0, 1, 1, 1, 1, 1, 1, 2, 2, 0, 0, 2, 0, 1,\n",
              "       0, 2, 0, 0, 0, 0, 2, 2, 2, 1, 2, 2, 0, 0, 1, 2, 1, 0, 0, 0, 1, 0,\n",
              "       0, 1, 2, 0, 0, 0, 0, 2, 0, 0, 0, 1, 1, 2, 2, 1, 1, 2, 2, 0, 2, 1,\n",
              "       0, 0, 2, 0, 1, 2, 0, 1, 0, 0, 0, 0, 2, 2, 2, 1, 0, 0, 2, 0, 2, 2,\n",
              "       0, 0, 0, 0, 0, 0, 0, 1, 1, 0, 1, 0])"
            ]
          },
          "metadata": {},
          "execution_count": 17
        }
      ]
    },
    {
      "cell_type": "code",
      "source": [
        ""
      ],
      "metadata": {
        "id": "oc2n5BbWSqwT"
      },
      "execution_count": null,
      "outputs": []
    }
  ]
}