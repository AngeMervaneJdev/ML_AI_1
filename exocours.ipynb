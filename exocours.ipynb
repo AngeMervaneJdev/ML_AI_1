{
  "nbformat": 4,
  "nbformat_minor": 0,
  "metadata": {
    "colab": {
      "name": "exocours.ipynb",
      "provenance": [],
      "authorship_tag": "ABX9TyNkTvBBFE9fQD321GlBWReb",
      "include_colab_link": true
    },
    "kernelspec": {
      "name": "python3",
      "display_name": "Python 3"
    },
    "language_info": {
      "name": "python"
    }
  },
  "cells": [
    {
      "cell_type": "markdown",
      "metadata": {
        "id": "view-in-github",
        "colab_type": "text"
      },
      "source": [
        "<a href=\"https://colab.research.google.com/github/AngeMervaneJdev/ML_AI_1/blob/main/exocours.ipynb\" target=\"_parent\"><img src=\"https://colab.research.google.com/assets/colab-badge.svg\" alt=\"Open In Colab\"/></a>"
      ]
    },
    {
      "cell_type": "code",
      "execution_count": 48,
      "metadata": {
        "colab": {
          "base_uri": "https://localhost:8080/"
        },
        "id": "IWzh-rJIHw-_",
        "outputId": "986ca60d-2f11-4a83-c7c2-e4ca24000e0d"
      },
      "outputs": [
        {
          "output_type": "stream",
          "name": "stdout",
          "text": [
            "[('lorem', [1, 1, 2, 2, 4, 4, 4, 4]), ('ipsum', [1, 1]), ('dolor', [2, 2, 1, 1, 2, 2, 2, 2]), ('sit', [2, 2, 1, 2, 2, 5, 5, 5, 5, 5, 1]), ('amet', [2, 2, 1, 2, 2, 5, 5, 5, 5, 5, 1]), ('consectetur', [1]), ('adipiscing', [1]), ('elit', [1, 2, 2]), ('integer', [1, 1]), ('maximus', [1, 2, 2, 2, 2]), ('diam', [2, 2]), ('non', [4, 4, 4, 4]), ('iaculis', [1, 1]), ('efficitur', [1]), ('mauris', [1, 3, 3, 3]), ('at', [4, 4, 4, 4, 1, 2, 2, 3, 3, 3]), ('dui', [1]), ('non', [4, 4, 4, 4]), ('magna', [2, 2]), ('elementum', [1, 1, 1]), ('suscipit', [1]), ('quisque', [1, 2, 2]), ('quis', [4, 4, 4, 4, 1, 1, 1]), ('pulvinar', [2, 2, 1]), ('eros', [1, 2, 2, 2, 2]), ('nec', [2, 2, 2, 2, 1, 1]), ('posuere', [1, 2, 2]), ('velit', [1, 1, 1, 1]), ('cras', [1, 1, 2, 2]), ('quis', [4, 4, 4, 4, 1, 1, 1]), ('orci', [2, 2, 1]), ('a', [2, 2, 4, 4, 4, 4, 3, 3, 3]), ('nibh', [2, 2]), ('luctus', [2, 2, 1]), ('pulvinar', [2, 2, 1]), ('vestibulum', [2, 2, 1, 1]), ('justo', [2, 2]), ('libero', [1, 1]), ('vulputate', [1, 1]), ('nec', [2, 2, 2, 2, 1, 1]), ('massa', [2, 2, 1, 1]), ('non', [4, 4, 4, 4]), ('ornare', [1, 1, 1]), ('fringilla', [1, 1]), ('ligula', [1, 3, 3, 3, 1]), ('aliquam', [1, 1, 1]), ('erat', [1, 3, 3, 3]), ('urna', [1, 1, 1]), ('tempor', [1, 1, 1]), ('a', [2, 2, 4, 4, 4, 4, 3, 3, 3]), ('vehicula', [3, 3, 3, 2, 2]), ('at', [4, 4, 4, 4, 1, 2, 2, 3, 3, 3]), ('ultrices', [1, 1]), ('sed', [1, 5, 5, 5, 5, 5, 2, 2, 1, 1]), ('lacus', [1, 1]), ('nam', [1, 1, 1]), ('vel', [2, 2, 2, 2, 1]), ('magna', [2, 2]), ('in', [2, 2, 2, 2, 1, 1, 1]), ('nibh', [2, 2]), ('luctus', [2, 2, 1]), ('vehicula', [3, 3, 3, 2, 2]), ('eu', [1, 1, 3, 3, 3]), ('quis', [4, 4, 4, 4, 1, 1, 1]), ('dolor', [2, 2, 1, 1, 2, 2, 2, 2]), ('morbi', [1, 1]), ('vel', [2, 2, 2, 2, 1]), ('arcu', [1, 1, 1]), ('imperdiet', [1, 1, 1]), ('cursus', [1]), ('diam', [2, 2]), ('id', [2, 2, 2, 2, 1, 1, 3, 3, 3]), ('tincidunt', [2, 2, 1]), ('ex', [1, 2, 2, 2, 2, 1]), ('proin', [1, 1, 1, 1]), ('vehicula', [3, 3, 3, 2, 2]), ('at', [4, 4, 4, 4, 1, 2, 2, 3, 3, 3]), ('mi', [2, 2, 2, 2]), ('in', [2, 2, 2, 2, 1, 1, 1]), ('fermentum', [1, 1, 2, 2]), ('phasellus', [1, 1, 3, 3, 3]), ('massa', [2, 2, 1, 1]), ('mi', [2, 2, 2, 2]), ('rhoncus', [1, 1, 1]), ('id', [2, 2, 2, 2, 1, 1, 3, 3, 3]), ('orci', [2, 2, 1]), ('sit', [2, 2, 1, 2, 2, 5, 5, 5, 5, 5, 1]), ('amet', [2, 2, 1, 2, 2, 5, 5, 5, 5, 5, 1]), ('lacinia', [1, 1]), ('tincidunt', [2, 2, 1]), ('quam', [1, 1, 1, 2, 2, 2, 2]), ('nunc', [1, 1]), ('venenatis', [1]), ('viverra', [1, 1]), ('augue', [1, 1, 1]), ('non', [4, 4, 4, 4]), ('commodo', [1, 2, 2, 2, 2]), ('nisi', [1, 1]), ('feugiat', [1, 1]), ('quis', [4, 4, 4, 4, 1, 1, 1]), ('aenean', [1]), ('at', [4, 4, 4, 4, 1, 2, 2, 3, 3, 3]), ('tempus', [1, 1]), ('neque', [1, 1]), ('vestibulum', [2, 2, 1, 1]), ('accumsan', [1, 1, 1]), ('faucibus', [1, 1, 1]), ('justo', [2, 2]), ('ut', [1, 1, 1, 1]), ('tristique', [1, 2, 2]), ('sed', [1, 5, 5, 5, 5, 5, 2, 2, 1, 1]), ('condimentum', [1, 2, 2, 1]), ('est', [1, 1, 1]), ('eros', [1, 2, 2, 2, 2]), ('in', [2, 2, 2, 2, 1, 1, 1]), ('varius', [2, 2]), ('elit', [1, 2, 2]), ('dictum', [2, 2, 1, 1]), ('eget', [2, 2, 1, 1, 3, 3, 3]), ('sed', [1, 5, 5, 5, 5, 5, 2, 2, 1, 1]), ('volutpat', [1]), ('ligula', [1, 3, 3, 3, 1]), ('purus', [1, 1, 1]), ('proin', [1, 1, 1, 1]), ('tincidunt', [2, 2, 1]), ('tortor', [2, 2]), ('bibendum', [2, 2, 1, 1]), ('eros', [1, 2, 2, 2, 2]), ('rhoncus', [1, 1, 1]), ('nec', [2, 2, 2, 2, 1, 1]), ('porttitor', [1, 1]), ('augue', [1, 1, 1]), ('dictum', [2, 2, 1, 1]), ('cras', [1, 1, 2, 2]), ('sit', [2, 2, 1, 2, 2, 5, 5, 5, 5, 5, 1]), ('amet', [2, 2, 1, 2, 2, 5, 5, 5, 5, 5, 1]), ('velit', [1, 1, 1, 1]), ('faucibus', [1, 1, 1]), ('laoreet', [1, 3, 3, 3, 1]), ('felis', [1, 3, 3, 3]), ('in', [2, 2, 2, 2, 1, 1, 1]), ('ullamcorper', [1, 1]), ('nulla', [2, 2, 1, 1, 1]), ('sed', [1, 5, 5, 5, 5, 5, 2, 2, 1, 1]), ('varius', [2, 2]), ('dapibus', [1]), ('lobortis', [1, 1, 1]), ('nam', [1, 1, 1]), ('id', [2, 2, 2, 2, 1, 1, 3, 3, 3]), ('nunc', [1, 1]), ('sed', [1, 5, 5, 5, 5, 5, 2, 2, 1, 1]), ('elit', [1, 2, 2]), ('pharetra', [2, 2, 2, 2]), ('pharetra', [2, 2, 2, 2]), ('eget', [2, 2, 1, 1, 3, 3, 3]), ('ac', [1, 1]), ('ligula', [1, 3, 3, 3, 1]), ('fusce', [1, 1]), ('semper', [1, 1, 1]), ('dolor', [2, 2, 1, 1, 2, 2, 2, 2]), ('eu', [1, 1, 3, 3, 3]), ('tortor', [2, 2]), ('tristique', [1, 2, 2]), ('id', [2, 2, 2, 2, 1, 1, 3, 3, 3]), ('bibendum', [2, 2, 1, 1]), ('nulla', [2, 2, 1, 1, 1]), ('ultricies', [1]), ('sed', [1, 5, 5, 5, 5, 5, 2, 2, 1, 1]), ('at', [4, 4, 4, 4, 1, 2, 2, 3, 3, 3]), ('ligula', [1, 3, 3, 3, 1]), ('tristique', [1, 2, 2]), ('finibus', [1]), ('quam', [1, 1, 1, 2, 2, 2, 2]), ('nec', [2, 2, 2, 2, 1, 1]), ('iaculis', [1, 1]), ('sem', [1, 1]), ('phasellus', [1, 1, 3, 3, 3]), ('commodo', [1, 2, 2, 2, 2]), ('at', [4, 4, 4, 4, 1, 2, 2, 3, 3, 3]), ('neque', [1, 1]), ('id', [2, 2, 2, 2, 1, 1, 3, 3, 3]), ('maximus', [1, 2, 2, 2, 2]), ('etiam', [1]), ('auctor', [1, 1]), ('velit', [1, 1, 1, 1]), ('sit', [2, 2, 1, 2, 2, 5, 5, 5, 5, 5, 1]), ('amet', [2, 2, 1, 2, 2, 5, 5, 5, 5, 5, 1]), ('est', [1, 1, 1]), ('laoreet', [1, 3, 3, 3, 1]), ('in', [2, 2, 2, 2, 1, 1, 1]), ('imperdiet', [1, 1, 1]), ('sapien', [1, 1, 2, 2]), ('porta', [2, 2, 2, 2]), ('duis', [1]), ('sit', [2, 2, 1, 2, 2, 5, 5, 5, 5, 5, 1]), ('amet', [2, 2, 1, 2, 2, 5, 5, 5, 5, 5, 1]), ('metus', [2, 2]), ('a', [2, 2, 4, 4, 4, 4, 3, 3, 3]), ('ante', [1]), ('lobortis', [1, 1, 1]), ('dictum', [2, 2, 1, 1]), ('maecenas', [1]), ('laoreet', [1, 3, 3, 3, 1]), ('sem', [1, 1]), ('a', [2, 2, 4, 4, 4, 4, 3, 3, 3]), ('quam', [1, 1, 1, 2, 2, 2, 2]), ('vulputate', [1, 1]), ('maximus', [1, 2, 2, 2, 2]), ('nam', [1, 1, 1]), ('ullamcorper', [1, 1]), ('lorem', [1, 1, 2, 2, 4, 4, 4, 4]), ('sed', [1, 5, 5, 5, 5, 5, 2, 2, 1, 1]), ('risus', [1, 1, 2, 2]), ('facilisis', [1]), ('egestas', [1, 1]), ('fusce', [1, 1]), ('dolor', [2, 2, 1, 1, 2, 2, 2, 2]), ('ligula', [1, 3, 3, 3, 1]), ('ornare', [1, 1, 1]), ('ut', [1, 1, 1, 1]), ('blandit', [1]), ('a', [2, 2, 4, 4, 4, 4, 3, 3, 3]), ('laoreet', [1, 3, 3, 3, 1]), ('eget', [2, 2, 1, 1, 3, 3, 3]), ('ex', [1, 2, 2, 2, 2, 1]), ('aliquam', [1, 1, 1]), ('et', [1, 1]), ('condimentum', [1, 2, 2, 1]), ('leo', [1, 1]), ('nulla', [2, 2, 1, 1, 1]), ('mi', [2, 2, 2, 2]), ('enim', [1, 1]), ('fermentum', [1, 1, 2, 2]), ('a', [2, 2, 4, 4, 4, 4, 3, 3, 3]), ('sodales', [2, 2, 2, 2]), ('sed', [1, 5, 5, 5, 5, 5, 2, 2, 1, 1]), ('sodales', [2, 2, 2, 2]), ('nec', [2, 2, 2, 2, 1, 1]), ('metus', [2, 2]), ('proin', [1, 1, 1, 1]), ('mi', [2, 2, 2, 2]), ('ex', [1, 2, 2, 2, 2, 1]), ('porta', [2, 2, 2, 2]), ('semper', [1, 1, 1]), ('condimentum', [1, 2, 2, 1]), ('quis', [4, 4, 4, 4, 1, 1, 1]), ('commodo', [1, 2, 2, 2, 2]), ('at', [4, 4, 4, 4, 1, 2, 2, 3, 3, 3]), ('tellus', [1, 1]), ('morbi', [1, 1]), ('quam', [1, 1, 1, 2, 2, 2, 2]), ('nulla', [2, 2, 1, 1, 1]), ('posuere', [1, 2, 2]), ('sit', [2, 2, 1, 2, 2, 5, 5, 5, 5, 5, 1]), ('amet', [2, 2, 1, 2, 2, 5, 5, 5, 5, 5, 1]), ('enim', [1, 1]), ('gravida', [1]), ('imperdiet', [1, 1, 1]), ('mattis', [1]), ('sapien', [1, 1, 2, 2]), ('vivamus', [3, 3, 3, 1]), ('vestibulum', [2, 2, 1, 1]), ('placerat', [1]), ('velit', [1, 1, 1, 1]), ('quis', [4, 4, 4, 4, 1, 1, 1]), ('semper', [1, 1, 1]), ('phasellus', [1, 1, 3, 3, 3]), ('vehicula', [3, 3, 3, 2, 2]), ('elementum', [1, 1, 1]), ('sodales', [2, 2, 2, 2]), ('vivamus', [3, 3, 3, 1]), ('massa', [2, 2, 1, 1]), ('purus', [1, 1, 1]), ('sodales', [2, 2, 2, 2]), ('id', [2, 2, 2, 2, 1, 1, 3, 3, 3]), ('ex', [1, 2, 2, 2, 2, 1]), ('sit', [2, 2, 1, 2, 2, 5, 5, 5, 5, 5, 1]), ('amet', [2, 2, 1, 2, 2, 5, 5, 5, 5, 5, 1]), ('pharetra', [2, 2, 2, 2]), ('posuere', [1, 2, 2]), ('augue', [1, 1, 1]), ('donec', [2, 2]), ('malesuada', [1, 1]), ('est', [1, 1, 1]), ('vel', [2, 2, 2, 2, 1]), ('dolor', [2, 2, 1, 1, 2, 2, 2, 2]), ('molestie', [1, 1]), ('sed', [1, 5, 5, 5, 5, 5, 2, 2, 1, 1]), ('sollicitudin', [1, 1]), ('lorem', [1, 1, 2, 2, 4, 4, 4, 4]), ('bibendum', [2, 2, 1, 1]), ('vivamus', [3, 3, 3, 1]), ('porta', [2, 2, 2, 2]), ('ex', [1, 2, 2, 2, 2, 1]), ('ut', [1, 1, 1, 1]), ('quam', [1, 1, 1, 2, 2, 2, 2]), ('consequat', [1, 1]), ('eget', [2, 2, 1, 1, 3, 3, 3]), ('commodo', [1, 2, 2, 2, 2]), ('tellus', [1, 1]), ('eleifend', [2, 2]), ('phasellus', [1, 1, 3, 3, 3]), ('vitae', [2, 2]), ('turpis', [2, 2]), ('vel', [2, 2, 2, 2, 1]), ('turpis', [2, 2]), ('eleifend', [2, 2]), ('pharetra', [2, 2, 2, 2]), ('in', [2, 2, 2, 2, 1, 1, 1]), ('pellentesque', [1, 1]), ('condimentum', [1, 2, 2, 1]), ('accumsan', [1, 1, 1]), ('suspendisse', [1, 1]), ('sit', [2, 2, 1, 2, 2, 5, 5, 5, 5, 5, 1]), ('amet', [2, 2, 1, 2, 2, 5, 5, 5, 5, 5, 1]), ('urna', [1, 1, 1]), ('hendrerit', [1]), ('rhoncus', [1, 1, 1]), ('lectus', [1]), ('convallis', [1, 1]), ('ultrices', [1, 1]), ('ipsum', [1, 1]), ('phasellus', [1, 1, 3, 3, 3]), ('tempor', [1, 1, 1]), ('libero', [1, 1]), ('sit', [2, 2, 1, 2, 2, 5, 5, 5, 5, 5, 1]), ('amet', [2, 2, 1, 2, 2, 5, 5, 5, 5, 5, 1]), ('risus', [1, 1, 2, 2]), ('porta', [2, 2, 2, 2]), ('porttitor', [1, 1]), ('donec', [2, 2]), ('mollis', [1, 2, 2]), ('dolor', [2, 2, 1, 1, 2, 2, 2, 2]), ('vitae', [2, 2]), ('vehicula', [3, 3, 3, 2, 2]), ('commodo', [1, 2, 2, 2, 2]), ('curabitur', [1, 1]), ('sit', [2, 2, 1, 2, 2, 5, 5, 5, 5, 5, 1]), ('amet', [2, 2, 1, 2, 2, 5, 5, 5, 5, 5, 1]), ('arcu', [1, 1, 1]), ('lorem', [1, 1, 2, 2, 4, 4, 4, 4]), ('nullam', [1]), ('mollis', [1, 2, 2]), ('quam', [1, 1, 1, 2, 2, 2, 2]), ('risus', [1, 1, 2, 2]), ('ac', [1, 1]), ('convallis', [1, 1]), ('quam', [1, 1, 1, 2, 2, 2, 2]), ('luctus', [2, 2, 1]), ('at', [4, 4, 4, 4, 1, 2, 2, 3, 3, 3]), ('cras', [1, 1, 2, 2]), ('a', [2, 2, 4, 4, 4, 4, 3, 3, 3]), ('eros', [1, 2, 2, 2, 2]), ('lacinia', [1, 1]), ('consequat', [1, 1]), ('odio', [2, 2]), ('sed', [1, 5, 5, 5, 5, 5, 2, 2, 1, 1]), ('accumsan', [1, 1, 1]), ('massa', [2, 2, 1, 1]), ('quisque', [1, 2, 2]), ('maximus', [1, 2, 2, 2, 2]), ('lacus', [1, 1]), ('id', [2, 2, 2, 2, 1, 1, 3, 3, 3]), ('auctor', [1, 1]), ('fermentum', [1, 1, 2, 2]), ('pellentesque', [1, 1]), ('malesuada', [1, 1]), ('elementum', [1, 1, 1]), ('aliquet', [1]), ('proin', [1, 1, 1, 1]), ('molestie', [1, 1]), ('felis', [1, 3, 3, 3]), ('et', [1, 1]), ('ornare', [1, 1, 1]), ('scelerisque', [1]), ('aliquam', [1, 1, 1]), ('erat', [1, 3, 3, 3]), ('nulla', [2, 2, 1, 1, 1]), ('fermentum', [1, 1, 2, 2]), ('at', [4, 4, 4, 4, 1, 2, 2, 3, 3, 3]), ('mauris', [1, 3, 3, 3]), ('quis', [4, 4, 4, 4, 1, 1, 1]), ('dignissim', [1]), ('sollicitudin', [1, 1]), ('dolor', [2, 2, 1, 1, 2, 2, 2, 2]), ('curabitur', [1, 1]), ('id', [2, 2, 2, 2, 1, 1, 3, 3, 3]), ('lorem', [1, 1, 2, 2, 4, 4, 4, 4]), ('tempor', [1, 1, 1]), ('bibendum', [2, 2, 1, 1]), ('nisi', [1, 1]), ('eget', [2, 2, 1, 1, 3, 3, 3]), ('fringilla', [1, 1]), ('purus', [1, 1, 1]), ('vivamus', [3, 3, 3, 1]), ('eget', [2, 2, 1, 1, 3, 3, 3]), ('pulvinar', [2, 2, 1]), ('sapien', [1, 1, 2, 2]), ('integer', [1, 1]), ('vel', [2, 2, 2, 2, 1]), ('nisl', [1]), ('felis', [1, 3, 3, 3]), ('suspendisse', [1, 1]), ('dictum', [2, 2, 1, 1]), ('erat', [1, 3, 3, 3]), ('a', [2, 2, 4, 4, 4, 4, 3, 3, 3]), ('faucibus', [1, 1, 1]), ('lobortis', [1, 1, 1]), ('cras', [1, 1, 2, 2]), ('ut', [1, 1, 1, 1]), ('eros', [1, 2, 2, 2, 2]), ('eu', [1, 1, 3, 3, 3]), ('lorem', [1, 1, 2, 2, 4, 4, 4, 4]), ('vestibulum', [2, 2, 1, 1]), ('viverra', [1, 1]), ('nec', [2, 2, 2, 2, 1, 1]), ('eu', [1, 1, 3, 3, 3]), ('dolor', [2, 2, 1, 1, 2, 2, 2, 2]), ('mauris', [1, 3, 3, 3]), ('a', [2, 2, 4, 4, 4, 4, 3, 3, 3]), ('leo', [1, 1]), ('felis', [1, 3, 3, 3]), ('in', [2, 2, 2, 2, 1, 1, 1]), ('egestas', [1, 1]), ('odio', [2, 2]), ('id', [2, 2, 2, 2, 1, 1, 3, 3, 3]), ('interdum', [1]), ('euismod', [1]), ('mauris', [1, 3, 3, 3]), ('urna', [1, 1, 1]), ('tempus', [1, 1]), ('arcu', [1, 1, 1]), ('sit', [2, 2, 1, 2, 2, 5, 5, 5, 5, 5, 1]), ('amet', [2, 2, 1, 2, 2, 5, 5, 5, 5, 5, 1]), ('laoreet', [1, 3, 3, 3, 1]), ('sapien', [1, 1, 2, 2]), ('lorem', [1, 1, 2, 2, 4, 4, 4, 4]), ('eu', [1, 1, 3, 3, 3]), ('ex', [1, 2, 2, 2, 2, 1]), ('quisque', [1, 2, 2]), ('lorem', [1, 1, 2, 2, 4, 4, 4, 4]), ('risus', [1, 1, 2, 2]), ('mollis', [1, 2, 2]), ('at', [4, 4, 4, 4, 1, 2, 2, 3, 3, 3]), ('orci', [2, 2, 1]), ('eget', [2, 2, 1, 1, 3, 3, 3]), ('feugiat', [1, 1]), ('maximus', [1, 2, 2, 2, 2]), ('erat', [1, 3, 3, 3])]\n",
            "[('lorem', 22), ('ipsum', 2), ('dolor', 14), ('sit', 35), ('amet', 35), ('consectetur', 1), ('adipiscing', 1), ('elit', 5), ('integer', 2), ('maximus', 9), ('diam', 4), ('non', 16), ('iaculis', 2), ('efficitur', 1), ('mauris', 10), ('at', 30), ('dui', 1), ('non', 16), ('magna', 4), ('elementum', 3), ('suscipit', 1), ('quisque', 5), ('quis', 19), ('pulvinar', 5), ('eros', 9), ('nec', 10), ('posuere', 5), ('velit', 4), ('cras', 6), ('quis', 19), ('orci', 5), ('a', 29), ('nibh', 4), ('luctus', 5), ('pulvinar', 5), ('vestibulum', 6), ('justo', 4), ('libero', 2), ('vulputate', 2), ('nec', 10), ('massa', 6), ('non', 16), ('ornare', 3), ('fringilla', 2), ('ligula', 11), ('aliquam', 3), ('erat', 10), ('urna', 3), ('tempor', 3), ('a', 29), ('vehicula', 13), ('at', 30), ('ultrices', 2), ('sed', 32), ('lacus', 2), ('nam', 3), ('vel', 9), ('magna', 4), ('in', 11), ('nibh', 4), ('luctus', 5), ('vehicula', 13), ('eu', 11), ('quis', 19), ('dolor', 14), ('morbi', 2), ('vel', 9), ('arcu', 3), ('imperdiet', 3), ('cursus', 1), ('diam', 4), ('id', 19), ('tincidunt', 5), ('ex', 10), ('proin', 4), ('vehicula', 13), ('at', 30), ('mi', 8), ('in', 11), ('fermentum', 6), ('phasellus', 11), ('massa', 6), ('mi', 8), ('rhoncus', 3), ('id', 19), ('orci', 5), ('sit', 35), ('amet', 35), ('lacinia', 2), ('tincidunt', 5), ('quam', 11), ('nunc', 2), ('venenatis', 1), ('viverra', 2), ('augue', 3), ('non', 16), ('commodo', 9), ('nisi', 2), ('feugiat', 2), ('quis', 19), ('aenean', 1), ('at', 30), ('tempus', 2), ('neque', 2), ('vestibulum', 6), ('accumsan', 3), ('faucibus', 3), ('justo', 4), ('ut', 4), ('tristique', 5), ('sed', 32), ('condimentum', 6), ('est', 3), ('eros', 9), ('in', 11), ('varius', 4), ('elit', 5), ('dictum', 6), ('eget', 15), ('sed', 32), ('volutpat', 1), ('ligula', 11), ('purus', 3), ('proin', 4), ('tincidunt', 5), ('tortor', 4), ('bibendum', 6), ('eros', 9), ('rhoncus', 3), ('nec', 10), ('porttitor', 2), ('augue', 3), ('dictum', 6), ('cras', 6), ('sit', 35), ('amet', 35), ('velit', 4), ('faucibus', 3), ('laoreet', 11), ('felis', 10), ('in', 11), ('ullamcorper', 2), ('nulla', 7), ('sed', 32), ('varius', 4), ('dapibus', 1), ('lobortis', 3), ('nam', 3), ('id', 19), ('nunc', 2), ('sed', 32), ('elit', 5), ('pharetra', 8), ('pharetra', 8), ('eget', 15), ('ac', 2), ('ligula', 11), ('fusce', 2), ('semper', 3), ('dolor', 14), ('eu', 11), ('tortor', 4), ('tristique', 5), ('id', 19), ('bibendum', 6), ('nulla', 7), ('ultricies', 1), ('sed', 32), ('at', 30), ('ligula', 11), ('tristique', 5), ('finibus', 1), ('quam', 11), ('nec', 10), ('iaculis', 2), ('sem', 2), ('phasellus', 11), ('commodo', 9), ('at', 30), ('neque', 2), ('id', 19), ('maximus', 9), ('etiam', 1), ('auctor', 2), ('velit', 4), ('sit', 35), ('amet', 35), ('est', 3), ('laoreet', 11), ('in', 11), ('imperdiet', 3), ('sapien', 6), ('porta', 8), ('duis', 1), ('sit', 35), ('amet', 35), ('metus', 4), ('a', 29), ('ante', 1), ('lobortis', 3), ('dictum', 6), ('maecenas', 1), ('laoreet', 11), ('sem', 2), ('a', 29), ('quam', 11), ('vulputate', 2), ('maximus', 9), ('nam', 3), ('ullamcorper', 2), ('lorem', 22), ('sed', 32), ('risus', 6), ('facilisis', 1), ('egestas', 2), ('fusce', 2), ('dolor', 14), ('ligula', 11), ('ornare', 3), ('ut', 4), ('blandit', 1), ('a', 29), ('laoreet', 11), ('eget', 15), ('ex', 10), ('aliquam', 3), ('et', 2), ('condimentum', 6), ('leo', 2), ('nulla', 7), ('mi', 8), ('enim', 2), ('fermentum', 6), ('a', 29), ('sodales', 8), ('sed', 32), ('sodales', 8), ('nec', 10), ('metus', 4), ('proin', 4), ('mi', 8), ('ex', 10), ('porta', 8), ('semper', 3), ('condimentum', 6), ('quis', 19), ('commodo', 9), ('at', 30), ('tellus', 2), ('morbi', 2), ('quam', 11), ('nulla', 7), ('posuere', 5), ('sit', 35), ('amet', 35), ('enim', 2), ('gravida', 1), ('imperdiet', 3), ('mattis', 1), ('sapien', 6), ('vivamus', 10), ('vestibulum', 6), ('placerat', 1), ('velit', 4), ('quis', 19), ('semper', 3), ('phasellus', 11), ('vehicula', 13), ('elementum', 3), ('sodales', 8), ('vivamus', 10), ('massa', 6), ('purus', 3), ('sodales', 8), ('id', 19), ('ex', 10), ('sit', 35), ('amet', 35), ('pharetra', 8), ('posuere', 5), ('augue', 3), ('donec', 4), ('malesuada', 2), ('est', 3), ('vel', 9), ('dolor', 14), ('molestie', 2), ('sed', 32), ('sollicitudin', 2), ('lorem', 22), ('bibendum', 6), ('vivamus', 10), ('porta', 8), ('ex', 10), ('ut', 4), ('quam', 11), ('consequat', 2), ('eget', 15), ('commodo', 9), ('tellus', 2), ('eleifend', 4), ('phasellus', 11), ('vitae', 4), ('turpis', 4), ('vel', 9), ('turpis', 4), ('eleifend', 4), ('pharetra', 8), ('in', 11), ('pellentesque', 2), ('condimentum', 6), ('accumsan', 3), ('suspendisse', 2), ('sit', 35), ('amet', 35), ('urna', 3), ('hendrerit', 1), ('rhoncus', 3), ('lectus', 1), ('convallis', 2), ('ultrices', 2), ('ipsum', 2), ('phasellus', 11), ('tempor', 3), ('libero', 2), ('sit', 35), ('amet', 35), ('risus', 6), ('porta', 8), ('porttitor', 2), ('donec', 4), ('mollis', 5), ('dolor', 14), ('vitae', 4), ('vehicula', 13), ('commodo', 9), ('curabitur', 2), ('sit', 35), ('amet', 35), ('arcu', 3), ('lorem', 22), ('nullam', 1), ('mollis', 5), ('quam', 11), ('risus', 6), ('ac', 2), ('convallis', 2), ('quam', 11), ('luctus', 5), ('at', 30), ('cras', 6), ('a', 29), ('eros', 9), ('lacinia', 2), ('consequat', 2), ('odio', 4), ('sed', 32), ('accumsan', 3), ('massa', 6), ('quisque', 5), ('maximus', 9), ('lacus', 2), ('id', 19), ('auctor', 2), ('fermentum', 6), ('pellentesque', 2), ('malesuada', 2), ('elementum', 3), ('aliquet', 1), ('proin', 4), ('molestie', 2), ('felis', 10), ('et', 2), ('ornare', 3), ('scelerisque', 1), ('aliquam', 3), ('erat', 10), ('nulla', 7), ('fermentum', 6), ('at', 30), ('mauris', 10), ('quis', 19), ('dignissim', 1), ('sollicitudin', 2), ('dolor', 14), ('curabitur', 2), ('id', 19), ('lorem', 22), ('tempor', 3), ('bibendum', 6), ('nisi', 2), ('eget', 15), ('fringilla', 2), ('purus', 3), ('vivamus', 10), ('eget', 15), ('pulvinar', 5), ('sapien', 6), ('integer', 2), ('vel', 9), ('nisl', 1), ('felis', 10), ('suspendisse', 2), ('dictum', 6), ('erat', 10), ('a', 29), ('faucibus', 3), ('lobortis', 3), ('cras', 6), ('ut', 4), ('eros', 9), ('eu', 11), ('lorem', 22), ('vestibulum', 6), ('viverra', 2), ('nec', 10), ('eu', 11), ('dolor', 14), ('mauris', 10), ('a', 29), ('leo', 2), ('felis', 10), ('in', 11), ('egestas', 2), ('odio', 4), ('id', 19), ('interdum', 1), ('euismod', 1), ('mauris', 10), ('urna', 3), ('tempus', 2), ('arcu', 3), ('sit', 35), ('amet', 35), ('laoreet', 11), ('sapien', 6), ('lorem', 22), ('eu', 11), ('ex', 10), ('quisque', 5), ('lorem', 22), ('risus', 6), ('mollis', 5), ('at', 30), ('orci', 5), ('eget', 15), ('feugiat', 2), ('maximus', 9), ('erat', 10)]\n"
          ]
        }
      ],
      "source": [
        "import re\n",
        "\n",
        "Text=[]\n",
        "texts= [\"text1.txt\",\"text2.txt\",\"text3.txt\",\"text4.txt\",\"text5.txt\"]\n",
        "# Résultats du split\n",
        "def getText(texts):\n",
        "  i=0\n",
        "  Text=[]\n",
        "  while i<5:\n",
        "    contenu1=open(texts[i],\"r\").read().lower()\n",
        "    Text.append(contenu1.translate({ord(c): \"\" for c in \"!@#$%^&*()[]{};:,./<>?\\|`~-=_+\"}).split(\" \"))\n",
        "    i+=1\n",
        "  return Text\n",
        " \n",
        "# Résultats du split\n",
        "Text=getText(texts)\n",
        "\n",
        "\n",
        "#  Mapping\n",
        "def myMap(text):\n",
        "  liste=[]\n",
        "  for word in text:\n",
        "    liste.append((word,text.count(word)))\n",
        "  return liste\n",
        "\n",
        "#  Resultats du Map\n",
        "def shuffle():\n",
        "  result=[]\n",
        "  ListeShuffle=[]\n",
        "  for text in Text:\n",
        "    for mtuple in myMap(text):\n",
        "      k,v=mtuple\n",
        "      ListeShuffle.append((k,v))\n",
        "\n",
        "\n",
        "  # Obtention du shuffle\n",
        "\n",
        "  for mtuple in ListeShuffle:\n",
        "    k,v=mtuple\n",
        "    listeValueForKeyK=[]\n",
        "    for mtuple2 in ListeShuffle:\n",
        "      k1,v1=mtuple2   \n",
        "      if type(v1)!=list: # verifier si on a déjà prit par cet tuple\n",
        "        if k1==k:\n",
        "           listeValueForKeyK.append(v1)\n",
        "      \n",
        "    result.append((k,listeValueForKeyK))\n",
        "  return result\n",
        "    \n",
        "myShuffle=shuffle()\n",
        "print(myShuffle)\n",
        "\n",
        "def reduceSuffle(myShuffle):\n",
        "  Final=[]\n",
        "  for mtuple in myShuffle:\n",
        "    k,v=mtuple\n",
        "    Final.append((k,sum(v)))\n",
        "  return Final\n",
        "\n",
        "print(reduceSuffle(myShuffle))\n",
        "\n",
        "\n",
        "\n",
        "\n",
        "\n",
        "\n",
        "\n",
        "\n"
      ]
    },
    {
      "cell_type": "code",
      "source": [
        ""
      ],
      "metadata": {
        "id": "YGU2nNzOImYo"
      },
      "execution_count": null,
      "outputs": []
    }
  ]
}