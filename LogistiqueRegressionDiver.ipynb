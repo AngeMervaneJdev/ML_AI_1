{
  "nbformat": 4,
  "nbformat_minor": 0,
  "metadata": {
    "colab": {
      "name": "LogistiqueRegressionDiver.ipynb",
      "provenance": [],
      "collapsed_sections": [
        "Hd2NaPndRRXd"
      ],
      "authorship_tag": "ABX9TyPopvqxKI2ieami8/NOAnnl",
      "include_colab_link": true
    },
    "kernelspec": {
      "name": "python3",
      "display_name": "Python 3"
    },
    "language_info": {
      "name": "python"
    }
  },
  "cells": [
    {
      "cell_type": "markdown",
      "metadata": {
        "id": "view-in-github",
        "colab_type": "text"
      },
      "source": [
        "<a href=\"https://colab.research.google.com/github/AngeMervaneJdev/ML_AI_1/blob/main/LogistiqueRegressionDiver.ipynb\" target=\"_parent\"><img src=\"https://colab.research.google.com/assets/colab-badge.svg\" alt=\"Open In Colab\"/></a>"
      ]
    },
    {
      "cell_type": "code",
      "execution_count": 2,
      "metadata": {
        "id": "vctQOZfYQpzW"
      },
      "outputs": [],
      "source": [
        "import numpy as np\n",
        "from numpy import log,dot,e,shape\n",
        "import pandas as pd\n",
        "import math\n",
        "import matplotlib.pyplot as plt\n",
        "from sklearn.datasets import make_classification\n",
        "from sklearn.model_selection import train_test_split  \n",
        "from sklearn.metrics import accuracy_score,precision_score\n",
        "from sklearn.linear_model import LogisticRegression\n",
        "from matplotlib.colors import ListedColormap\n",
        "import matplotlib.patches as mpatches\n",
        "import pickle"
      ]
    },
    {
      "cell_type": "markdown",
      "source": [
        "#【problem1】Hypothetical function"
      ],
      "metadata": {
        "id": "qjH_m4kL3Kd3"
      }
    },
    {
      "cell_type": "code",
      "source": [
        "def hypothetical_function(self,X):\n",
        "  sig = 1/(1+np.e(**(-X)))\n",
        "  return sig\n"
      ],
      "metadata": {
        "id": "ucWP3IqD3Osa"
      },
      "execution_count": 3,
      "outputs": []
    },
    {
      "cell_type": "code",
      "source": [
        "def initialize(self,X):\n",
        "        weights = np.zeros((X.shape[1]+1,1))\n",
        "        X = np.c_[np.ones((X.shape[X][0],1)),X]\n",
        "        return weights,X"
      ],
      "metadata": {
        "id": "bgMsRt0V4b6v"
      },
      "execution_count": 4,
      "outputs": []
    },
    {
      "cell_type": "markdown",
      "source": [
        "#【problem2】Steepest descent"
      ],
      "metadata": {
        "id": "4mZg5F0r32x2"
      }
    },
    {
      "cell_type": "code",
      "source": [
        "def _gradient_descent(self,X,y,alpha=0.001,iter=100):\n",
        "  params,X = self.initialize(X)\n",
        "  cost_list = np.zeros(iter,)\n",
        "  for i in range(iter):\n",
        "      params = params - alpha * dot(X.T, self.hypothetical_function(dot(X,params)) - np.reshape(y,(len(y),1)))\n",
        "      cost_list[i] = cost(params)\n",
        "  self.params = params\n",
        "  return cost_list"
      ],
      "metadata": {
        "id": "uQ-7gkJF34wM"
      },
      "execution_count": 5,
      "outputs": []
    },
    {
      "cell_type": "markdown",
      "source": [
        "#【problem 3】Estimated"
      ],
      "metadata": {
        "id": "B8nTjvtf453B"
      }
    },
    {
      "cell_type": "code",
      "source": [
        "def predict(self,X):\n",
        "    z = dot(self._gradient_descent(X)[1],self.weights)\n",
        "    lis = []\n",
        "    for i in self.hypothetical_function(z):\n",
        "        if i>0.5:\n",
        "            lis.append(1)\n",
        "        else:\n",
        "            lis.append(0)\n",
        "    return lis"
      ],
      "metadata": {
        "id": "xqkGDfyD47C7"
      },
      "execution_count": 6,
      "outputs": []
    },
    {
      "cell_type": "markdown",
      "source": [
        "#[Problem 4] Objective function"
      ],
      "metadata": {
        "id": "TWCYrGBp4wKu"
      }
    },
    {
      "cell_type": "code",
      "source": [
        "def cost(self, theta,X,y):\n",
        "  z = np.dot(X,theta)\n",
        "  cost0 = y.T.dot(log(self.hypothetical_function(z)))\n",
        "  cost1 = (1-y).T.dot(log(1-self.hypothetical_function(z)))\n",
        "  cost = -((cost1 + cost0))/len(y) \n",
        "  return cost"
      ],
      "metadata": {
        "id": "O21LAlJJ4n6l"
      },
      "execution_count": 7,
      "outputs": []
    },
    {
      "cell_type": "markdown",
      "source": [
        "#[Problem 5] Learning and estimation"
      ],
      "metadata": {
        "id": "J2GB1njN5Vyt"
      }
    },
    {
      "cell_type": "code",
      "source": [
        "class ScratchLogisticRegression():\n",
        "    \"\"\"\n",
        "    Scratch implementation of logistic regression\n",
        "\n",
        "    Parameters\n",
        "    ----------\n",
        "    num_iter : int\n",
        "      Number of iterations\n",
        "    lr : float\n",
        "      Learning rate\n",
        "    no_bias : bool\n",
        "      True if no bias term is included\n",
        "    verbose : bool\n",
        "      True to output the learning process\n",
        "\n",
        "    Attributes\n",
        "    ----------\n",
        "    self.coef_ : The following form of ndarray, shape (n_features,)\n",
        "      Parameters\n",
        "    self.loss : The following form of ndarray, shape (self.iter,)\n",
        "      Record losses on training data\n",
        "    self.val_loss : The following form of ndarray, shape (self.iter,)\n",
        "      Record loss on validation data\n",
        "\n",
        "    \"\"\"\n",
        "\n",
        "    def __init__(self, num_iter, lr, bias, verbose):\n",
        "        # Record hyperparameters as attributes\n",
        "        self.iter = num_iter\n",
        "        self.lr = lr\n",
        "        self.bias = bias\n",
        "        self.verbose = verbose\n",
        "        # Prepare an array to record the loss\n",
        "        self.loss = np.zeros(self.iter)\n",
        "        self.cost_list = np.zeros(self.iter)\n",
        "\n",
        "    def initialize(self,X):\n",
        "        self.theta = np.zeros((shape(X)[1]+1,1))\n",
        "        X = np.c_[np.ones((shape(X)[0],1)),X]\n",
        "        return self.theta,X\n",
        "\n",
        "    def hypothetical_function(self,X):\n",
        "        sig = 1/(1+np.exp(-X))\n",
        "        return sig\n",
        "\n",
        "\n",
        "    def fit(self, X, y):\n",
        "        \"\"\"\n",
        "        Learn logistic regression. If validation data is entered, the loss and accuracy for it are also calculated for each iteration.\n",
        "\n",
        "        Parameters\n",
        "        ----------\n",
        "        X : The following forms of ndarray, shape (n_samples, n_features)\n",
        "            Features of training data\n",
        "        y : The following form of ndarray, shape (n_samples,)\n",
        "            Correct answer value of training data\n",
        "        X_val : The following forms of ndarray, shape (n_samples, n_features)\n",
        "            Features of verification data\n",
        "        y_val : The following form of ndarray, shape (n_samples,)\n",
        "            Correct value of verification data\n",
        "        \"\"\"  \n",
        "        params,X = self.initialize(X)\n",
        "        y=y.reshape(y.size,1)\n",
        "        print(X.shape)\n",
        "        print(y.shape)\n",
        "        for i in range(self.iter):\n",
        "            params = params - self.lr * dot(X.T, self.hypothetical_function(dot(X,params)) - np.reshape(y,(len(y),1)))\n",
        "            self.cost_list[i] = self.cost(params,X,y)\n",
        "        self.params = params\n",
        "        np.save(\"thetas\",self.params)\n",
        "\n",
        "        if self.verbose:\n",
        "            #Output learning process when verbose is set to True\n",
        "            print()\n",
        "            # courbe d'apprentissage\n",
        "            plt.plot(np.arange(1,self.iter),self.cost_list[1:], color = 'red')\n",
        "            plt.title('Cost function Graph')\n",
        "            plt.xlabel('Number of iterations')\n",
        "            plt.ylabel('Cost')\n",
        "\n",
        "        pass\n",
        "\n",
        "        return self.params\n",
        "\n",
        "    def cost(self,theta,X,y):\n",
        "        z = dot(X,theta)\n",
        "        cost0 = y.T.dot(log(self.hypothetical_function(z)))\n",
        "        cost1 = (1-y).T.dot(log(1-self.hypothetical_function(z)))\n",
        "        cost = -((cost1 + cost0))/len(y)\n",
        "        return cost\n",
        "\n",
        "\n",
        "\n",
        "    def predict(self, X):\n",
        "        \"\"\"\n",
        "        Estimate the label using logistic regression.\n",
        "\n",
        "        Parameters\n",
        "        ----------\n",
        "        X : The following forms of ndarray, shape (n_samples, n_features)\n",
        "            sample\n",
        "\n",
        "        Returns\n",
        "        -------\n",
        "            The following form of ndarray, shape (n_samples, 1)\n",
        "            Estimated result by logistic regression\n",
        "        \"\"\"\n",
        "        z = dot(self.initialize(X)[1],self.theta)\n",
        "        lis = []\n",
        "        for i in self.hypothetical_function(z):\n",
        "            if i>0.5:\n",
        "                lis.append(2)\n",
        "            else:\n",
        "                lis.append(1)\n",
        "\n",
        "        pass\n",
        "        return lis\n",
        "\n",
        "    def predict_proba(self, X):\n",
        "        \"\"\"\n",
        "        Estimate the probability using logistic regression.\n",
        "\n",
        "        Parameters\n",
        "        ----------\n",
        "        X : The following forms of ndarray, shape (n_samples, n_features)\n",
        "            sample\n",
        "\n",
        "        Returns\n",
        "        -------\n",
        "            The following form of ndarray, shape (n_samples, 1)\n",
        "            Estimated result by logistic regression\n",
        "        \"\"\"\n",
        "        \n",
        "        \n",
        "        return self.hypothetical_function(X)"
      ],
      "metadata": {
        "id": "7z1ZyzPt5WRp"
      },
      "execution_count": 8,
      "outputs": []
    },
    {
      "cell_type": "code",
      "source": [
        "from sklearn.datasets import load_iris\n",
        "data = load_iris()\n",
        "Y=data.target\n",
        "X=data.data\n",
        "\n",
        "dfX=pd.DataFrame(data=X,columns=[\"sepal_length\",\"sepal_width\",\"petal_length\",\"petal_width\"])\n",
        "dfY=pd.DataFrame(data=Y,columns=[\"Species\"])\n",
        "\n",
        "basic_data_frame=pd.concat([dfX,dfY],axis=1)\n",
        "\n",
        "# Versicolor = 1\n",
        "# Setosa = 0\n",
        "# Virginica = 2\n",
        "\n",
        "\n",
        "# extraction des données 1\n",
        "sepal_petal=dfX[[\"sepal_length\",\"petal_length\"]] \n",
        "\n",
        "# extraction des données 2\n",
        "verginica_versicolor=dfY.loc[(dfY.Species==1)|(dfY.Species==2)]\n",
        "\n",
        "df=pd.concat([verginica_versicolor,sepal_petal],axis=1)\n",
        "X=df.loc[(df.Species==1)|(df.Species==2)]\n",
        "y=np.array(X.Species)\n",
        "X=X.drop([\"Species\"],axis=1)\n",
        "\n",
        "\n",
        "X"
      ],
      "metadata": {
        "id": "I_QrhCyejdLV",
        "colab": {
          "base_uri": "https://localhost:8080/",
          "height": 0
        },
        "outputId": "ae2280a0-4130-445a-ddaf-2b599c598974"
      },
      "execution_count": 9,
      "outputs": [
        {
          "output_type": "execute_result",
          "data": {
            "text/html": [
              "\n",
              "  <div id=\"df-cc403046-55d4-4cd1-ba3e-54ea6af766ea\">\n",
              "    <div class=\"colab-df-container\">\n",
              "      <div>\n",
              "<style scoped>\n",
              "    .dataframe tbody tr th:only-of-type {\n",
              "        vertical-align: middle;\n",
              "    }\n",
              "\n",
              "    .dataframe tbody tr th {\n",
              "        vertical-align: top;\n",
              "    }\n",
              "\n",
              "    .dataframe thead th {\n",
              "        text-align: right;\n",
              "    }\n",
              "</style>\n",
              "<table border=\"1\" class=\"dataframe\">\n",
              "  <thead>\n",
              "    <tr style=\"text-align: right;\">\n",
              "      <th></th>\n",
              "      <th>sepal_length</th>\n",
              "      <th>petal_length</th>\n",
              "    </tr>\n",
              "  </thead>\n",
              "  <tbody>\n",
              "    <tr>\n",
              "      <th>50</th>\n",
              "      <td>7.0</td>\n",
              "      <td>4.7</td>\n",
              "    </tr>\n",
              "    <tr>\n",
              "      <th>51</th>\n",
              "      <td>6.4</td>\n",
              "      <td>4.5</td>\n",
              "    </tr>\n",
              "    <tr>\n",
              "      <th>52</th>\n",
              "      <td>6.9</td>\n",
              "      <td>4.9</td>\n",
              "    </tr>\n",
              "    <tr>\n",
              "      <th>53</th>\n",
              "      <td>5.5</td>\n",
              "      <td>4.0</td>\n",
              "    </tr>\n",
              "    <tr>\n",
              "      <th>54</th>\n",
              "      <td>6.5</td>\n",
              "      <td>4.6</td>\n",
              "    </tr>\n",
              "    <tr>\n",
              "      <th>...</th>\n",
              "      <td>...</td>\n",
              "      <td>...</td>\n",
              "    </tr>\n",
              "    <tr>\n",
              "      <th>145</th>\n",
              "      <td>6.7</td>\n",
              "      <td>5.2</td>\n",
              "    </tr>\n",
              "    <tr>\n",
              "      <th>146</th>\n",
              "      <td>6.3</td>\n",
              "      <td>5.0</td>\n",
              "    </tr>\n",
              "    <tr>\n",
              "      <th>147</th>\n",
              "      <td>6.5</td>\n",
              "      <td>5.2</td>\n",
              "    </tr>\n",
              "    <tr>\n",
              "      <th>148</th>\n",
              "      <td>6.2</td>\n",
              "      <td>5.4</td>\n",
              "    </tr>\n",
              "    <tr>\n",
              "      <th>149</th>\n",
              "      <td>5.9</td>\n",
              "      <td>5.1</td>\n",
              "    </tr>\n",
              "  </tbody>\n",
              "</table>\n",
              "<p>100 rows × 2 columns</p>\n",
              "</div>\n",
              "      <button class=\"colab-df-convert\" onclick=\"convertToInteractive('df-cc403046-55d4-4cd1-ba3e-54ea6af766ea')\"\n",
              "              title=\"Convert this dataframe to an interactive table.\"\n",
              "              style=\"display:none;\">\n",
              "        \n",
              "  <svg xmlns=\"http://www.w3.org/2000/svg\" height=\"24px\"viewBox=\"0 0 24 24\"\n",
              "       width=\"24px\">\n",
              "    <path d=\"M0 0h24v24H0V0z\" fill=\"none\"/>\n",
              "    <path d=\"M18.56 5.44l.94 2.06.94-2.06 2.06-.94-2.06-.94-.94-2.06-.94 2.06-2.06.94zm-11 1L8.5 8.5l.94-2.06 2.06-.94-2.06-.94L8.5 2.5l-.94 2.06-2.06.94zm10 10l.94 2.06.94-2.06 2.06-.94-2.06-.94-.94-2.06-.94 2.06-2.06.94z\"/><path d=\"M17.41 7.96l-1.37-1.37c-.4-.4-.92-.59-1.43-.59-.52 0-1.04.2-1.43.59L10.3 9.45l-7.72 7.72c-.78.78-.78 2.05 0 2.83L4 21.41c.39.39.9.59 1.41.59.51 0 1.02-.2 1.41-.59l7.78-7.78 2.81-2.81c.8-.78.8-2.07 0-2.86zM5.41 20L4 18.59l7.72-7.72 1.47 1.35L5.41 20z\"/>\n",
              "  </svg>\n",
              "      </button>\n",
              "      \n",
              "  <style>\n",
              "    .colab-df-container {\n",
              "      display:flex;\n",
              "      flex-wrap:wrap;\n",
              "      gap: 12px;\n",
              "    }\n",
              "\n",
              "    .colab-df-convert {\n",
              "      background-color: #E8F0FE;\n",
              "      border: none;\n",
              "      border-radius: 50%;\n",
              "      cursor: pointer;\n",
              "      display: none;\n",
              "      fill: #1967D2;\n",
              "      height: 32px;\n",
              "      padding: 0 0 0 0;\n",
              "      width: 32px;\n",
              "    }\n",
              "\n",
              "    .colab-df-convert:hover {\n",
              "      background-color: #E2EBFA;\n",
              "      box-shadow: 0px 1px 2px rgba(60, 64, 67, 0.3), 0px 1px 3px 1px rgba(60, 64, 67, 0.15);\n",
              "      fill: #174EA6;\n",
              "    }\n",
              "\n",
              "    [theme=dark] .colab-df-convert {\n",
              "      background-color: #3B4455;\n",
              "      fill: #D2E3FC;\n",
              "    }\n",
              "\n",
              "    [theme=dark] .colab-df-convert:hover {\n",
              "      background-color: #434B5C;\n",
              "      box-shadow: 0px 1px 3px 1px rgba(0, 0, 0, 0.15);\n",
              "      filter: drop-shadow(0px 1px 2px rgba(0, 0, 0, 0.3));\n",
              "      fill: #FFFFFF;\n",
              "    }\n",
              "  </style>\n",
              "\n",
              "      <script>\n",
              "        const buttonEl =\n",
              "          document.querySelector('#df-cc403046-55d4-4cd1-ba3e-54ea6af766ea button.colab-df-convert');\n",
              "        buttonEl.style.display =\n",
              "          google.colab.kernel.accessAllowed ? 'block' : 'none';\n",
              "\n",
              "        async function convertToInteractive(key) {\n",
              "          const element = document.querySelector('#df-cc403046-55d4-4cd1-ba3e-54ea6af766ea');\n",
              "          const dataTable =\n",
              "            await google.colab.kernel.invokeFunction('convertToInteractive',\n",
              "                                                     [key], {});\n",
              "          if (!dataTable) return;\n",
              "\n",
              "          const docLinkHtml = 'Like what you see? Visit the ' +\n",
              "            '<a target=\"_blank\" href=https://colab.research.google.com/notebooks/data_table.ipynb>data table notebook</a>'\n",
              "            + ' to learn more about interactive tables.';\n",
              "          element.innerHTML = '';\n",
              "          dataTable['output_type'] = 'display_data';\n",
              "          await google.colab.output.renderOutput(dataTable, element);\n",
              "          const docLink = document.createElement('div');\n",
              "          docLink.innerHTML = docLinkHtml;\n",
              "          element.appendChild(docLink);\n",
              "        }\n",
              "      </script>\n",
              "    </div>\n",
              "  </div>\n",
              "  "
            ],
            "text/plain": [
              "     sepal_length  petal_length\n",
              "50            7.0           4.7\n",
              "51            6.4           4.5\n",
              "52            6.9           4.9\n",
              "53            5.5           4.0\n",
              "54            6.5           4.6\n",
              "..            ...           ...\n",
              "145           6.7           5.2\n",
              "146           6.3           5.0\n",
              "147           6.5           5.2\n",
              "148           6.2           5.4\n",
              "149           5.9           5.1\n",
              "\n",
              "[100 rows x 2 columns]"
            ]
          },
          "metadata": {},
          "execution_count": 9
        }
      ]
    },
    {
      "cell_type": "code",
      "source": [
        "# split train, test\n",
        "X_train, X_test, y_train, y_test = train_test_split(X, y, test_size = 0.4, random_state = 0)"
      ],
      "metadata": {
        "id": "1LE5yC32p3Pw"
      },
      "execution_count": 10,
      "outputs": []
    },
    {
      "cell_type": "code",
      "source": [
        "y_train=y_train.reshape(y_train.size,1)\n",
        "print(y_train.shape)\n",
        "print(X_train.shape)"
      ],
      "metadata": {
        "colab": {
          "base_uri": "https://localhost:8080/"
        },
        "id": "z2zWW2o5vP17",
        "outputId": "bd49b4e3-0d34-4f12-ff7f-30294483e73b"
      },
      "execution_count": 11,
      "outputs": [
        {
          "output_type": "stream",
          "name": "stdout",
          "text": [
            "(60, 1)\n",
            "(60, 2)\n"
          ]
        }
      ]
    },
    {
      "cell_type": "code",
      "source": [
        "model=ScratchLogisticRegression(num_iter=100,lr=0.0001,bias=False,verbose=True)\n",
        "theta=model.fit(X_train,y_train)"
      ],
      "metadata": {
        "colab": {
          "base_uri": "https://localhost:8080/",
          "height": 0
        },
        "id": "09C94jGPl_TC",
        "outputId": "0659b5d3-b790-4189-a14c-15a915321a1f"
      },
      "execution_count": 12,
      "outputs": [
        {
          "output_type": "stream",
          "name": "stdout",
          "text": [
            "(60, 3)\n",
            "(60, 1)\n",
            "\n"
          ]
        },
        {
          "output_type": "display_data",
          "data": {
            "image/png": "[encoded data removed]",
            "text/plain": [
              "<Figure size 432x288 with 1 Axes>"
            ]
          },
          "metadata": {
            "needs_background": "light"
          }
        }
      ]
    },
    {
      "cell_type": "code",
      "source": [
        "y_pred=model.predict(X_test)\n",
        "print(y_pred)\n",
        "print(accuracy_score(y_test, y_pred))\n"
      ],
      "metadata": {
        "colab": {
          "base_uri": "https://localhost:8080/"
        },
        "id": "Z8Tj_1jYt9fR",
        "outputId": "bb9c495a-a0af-4ec9-be28-5a0c8ee9d429"
      },
      "execution_count": 13,
      "outputs": [
        {
          "output_type": "stream",
          "name": "stdout",
          "text": [
            "[1, 1, 1, 1, 1, 1, 1, 1, 1, 1, 1, 1, 1, 1, 1, 1, 1, 1, 1, 1, 1, 1, 1, 1, 1, 1, 1, 1, 1, 1, 1, 1, 1, 1, 1, 1, 1, 1, 1, 1]\n",
            "0.425\n"
          ]
        }
      ]
    },
    {
      "cell_type": "markdown",
      "source": [
        "###Compare this with the scikit-learn implementation and see if it works correctly.\n",
        "\n"
      ],
      "metadata": {
        "id": "Ac1mQo31uK2e"
      }
    },
    {
      "cell_type": "code",
      "source": [
        "classifier = LogisticRegression(random_state = 2, penalty = 'none')\n",
        "classifier.fit(X_train, y_train)\n",
        "y_pred1 = classifier.predict(X_test)\n",
        "\n",
        "accuracy_score(y_test, y_pred1)"
      ],
      "metadata": {
        "colab": {
          "base_uri": "https://localhost:8080/"
        },
        "id": "RCzzz9n0mTJl",
        "outputId": "16379e64-6ac9-47e2-83a5-76acb28a05a9"
      },
      "execution_count": 14,
      "outputs": [
        {
          "output_type": "stream",
          "name": "stderr",
          "text": [
            "/usr/local/lib/python3.7/dist-packages/sklearn/utils/validation.py:993: DataConversionWarning: A column-vector y was passed when a 1d array was expected. Please change the shape of y to (n_samples, ), for example using ravel().\n",
            "  y = column_or_1d(y, warn=True)\n"
          ]
        },
        {
          "output_type": "execute_result",
          "data": {
            "text/plain": [
              "0.85"
            ]
          },
          "metadata": {},
          "execution_count": 14
        }
      ]
    },
    {
      "cell_type": "markdown",
      "source": [
        "sklearn LogisticRegression is better precise than the scrach class the we have done"
      ],
      "metadata": {
        "id": "QGc7g7VyzDG2"
      }
    },
    {
      "cell_type": "markdown",
      "source": [
        "#[Problem 6] Plot of learning curve\n",
        "\n",
        "Already done "
      ],
      "metadata": {
        "id": "u8L7Q9HEz1YI"
      }
    },
    {
      "cell_type": "markdown",
      "source": [
        "#[Problem 7] Visualization of decision area"
      ],
      "metadata": {
        "id": "3vvuxWhk2Qgm"
      }
    },
    {
      "cell_type": "code",
      "source": [
        "\n",
        "def decision_region(X,y,model,step=0.01,title='decision region',xlabel='xlabel',ylabel='ylabel',target_names=['versicolor','virginica']):\n",
        "    \"\"\"\n",
        "    2値分類を2次元の特徴量で学習したモデルの決定領域を描く。\n",
        "    背景の色が学習したモデルによる推定値から描画される。\n",
        "    散布図の点は訓練データまたは検証データである。\n",
        "    Parameters\n",
        "    ----------------\n",
        "    X : ndarray, shape(n_samples, 2)\n",
        "        特徴量\n",
        "    y : ndarray, shape(n_samples,)\n",
        "        ラベル\n",
        "    model : object\n",
        "        学習したモデルのインスンタスを入れる\n",
        "    step : float, (default : 0.1)\n",
        "        推定値を計算する間隔を設定する\n",
        "    title : str\n",
        "        グラフのタイトルの文章を与える\n",
        "    xlabel, ylabel : str\n",
        "        軸ラベルの文章を与える\n",
        "    target_names= : list of str\n",
        "        凡例の一覧を与える\n",
        "    \"\"\"\n",
        "    # setting\n",
        "    scatter_color = ['red', 'blue']\n",
        "    contourf_color = ['pink', 'skyblue']\n",
        "    n_class = 2\n",
        "    # pred\n",
        "    mesh_f0, mesh_f1 = np.meshgrid(np.arange(np.min(X.iloc[:,0])-0.5, np.max(X.iloc[:,0])+0.5, step), np.arange(np.min(X.iloc[:,1])-0.5, np.max(X.iloc[:,1])+0.5, step))\n",
        "    mesh = np.c_[np.ravel(mesh_f0), np.ravel(mesh_f1)]\n",
        "    y_pred = np.array(model.predict(mesh)).reshape(mesh_f0.shape)\n",
        "\n",
        "    # plot\n",
        "    plt.title(title)\n",
        "    plt.xlabel(xlabel)\n",
        "    plt.ylabel(ylabel)\n",
        "    plt.contourf(mesh_f0, mesh_f1, y_pred, n_class-1, cmap=ListedColormap(contourf_color))\n",
        "    plt.contour(mesh_f0, mesh_f1, y_pred, n_class-1, colors='y', linewidths=3, alpha=0.5)\n",
        "    for i, target in enumerate(np.unique(y)):\n",
        "        plt.scatter(X.loc[y==target].iloc[:, 0], X.loc[y==target].iloc[:, 1], s=80, color=scatter_color[i], label=target_names[i], marker='o')\n",
        "    patches = [mpatches.Patch(color=scatter_color[i], label=target_names[i]) for i in range(n_class)]\n",
        "    plt.legend(handles=patches)\n",
        "    plt.legend()\n",
        "    plt.show()\n"
      ],
      "metadata": {
        "id": "L54BPVazzyIs"
      },
      "execution_count": 15,
      "outputs": []
    },
    {
      "cell_type": "code",
      "source": [
        "decision_region(X_train,y_train,classifier)\n",
        "decision_region(X_test,y_pred1,classifier)\n"
      ],
      "metadata": {
        "colab": {
          "base_uri": "https://localhost:8080/",
          "height": 662
        },
        "id": "cAP1ra1rX-98",
        "outputId": "7911d69b-f3e8-4917-8d48-7132447db77a"
      },
      "execution_count": 17,
      "outputs": [
        {
          "output_type": "stream",
          "name": "stderr",
          "text": [
            "/usr/local/lib/python3.7/dist-packages/sklearn/base.py:451: UserWarning: X does not have valid feature names, but LogisticRegression was fitted with feature names\n",
            "  \"X does not have valid feature names, but\"\n"
          ]
        },
        {
          "output_type": "display_data",
          "data": {
            "image/png": "[encoded data removed]",
            "text/plain": [
              "<Figure size 432x288 with 1 Axes>"
            ]
          },
          "metadata": {
            "needs_background": "light"
          }
        },
        {
          "output_type": "stream",
          "name": "stderr",
          "text": [
            "/usr/local/lib/python3.7/dist-packages/sklearn/base.py:451: UserWarning: X does not have valid feature names, but LogisticRegression was fitted with feature names\n",
            "  \"X does not have valid feature names, but\"\n"
          ]
        },
        {
          "output_type": "display_data",
          "data": {
            "image/png": "[encoded data removed]",
            "text/plain": [
              "<Figure size 432x288 with 1 Axes>"
            ]
          },
          "metadata": {
            "needs_background": "light"
          }
        }
      ]
    },
    {
      "cell_type": "markdown",
      "source": [
        "#[Problem 8] (Advance assignment) Saving weights"
      ],
      "metadata": {
        "id": "50JLg4b3Wqb9"
      }
    },
    {
      "cell_type": "code",
      "source": [
        "np.load('thetas.npy')"
      ],
      "metadata": {
        "id": "gKWua7nX5EXf",
        "colab": {
          "base_uri": "https://localhost:8080/"
        },
        "outputId": "fa0cd749-00cc-44bc-e0bf-5a5f950417f1"
      },
      "execution_count": 220,
      "outputs": [
        {
          "output_type": "execute_result",
          "data": {
            "text/plain": [
              "array([[0.28593569],\n",
              "       [1.91072184],\n",
              "       [1.58964979]])"
            ]
          },
          "metadata": {},
          "execution_count": 220
        }
      ]
    },
    {
      "cell_type": "code",
      "source": [
        ""
      ],
      "metadata": {
        "id": "Z_dx_zs-awX8"
      },
      "execution_count": null,
      "outputs": []
    }
  ]
}