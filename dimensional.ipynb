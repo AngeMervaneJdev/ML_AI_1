{
  "nbformat": 4,
  "nbformat_minor": 0,
  "metadata": {
    "colab": {
      "name": "dimensional.ipynb",
      "provenance": [],
      "collapsed_sections": [],
      "authorship_tag": "ABX9TyNykXcsAeOBCUlDYFfwnzVZ",
      "include_colab_link": true
    },
    "kernelspec": {
      "name": "python3",
      "display_name": "Python 3"
    },
    "language_info": {
      "name": "python"
    }
  },
  "cells": [
    {
      "cell_type": "markdown",
      "metadata": {
        "id": "view-in-github",
        "colab_type": "text"
      },
      "source": [
        "<a href=\"https://colab.research.google.com/github/AngeMervaneJdev/ML_AI_1/blob/main/dimensional.ipynb\" target=\"_parent\"><img src=\"https://colab.research.google.com/assets/colab-badge.svg\" alt=\"Open In Colab\"/></a>"
      ]
    },
    {
      "cell_type": "code",
      "execution_count": 17,
      "metadata": {
        "colab": {
          "base_uri": "https://localhost:8080/"
        },
        "id": "5vG0uKvcE7hT",
        "outputId": "c94497a0-d65e-4eab-a721-1b1c032ff6f5"
      },
      "outputs": [
        {
          "output_type": "stream",
          "name": "stdout",
          "text": [
            "Probleme 1\n",
            "\n",
            "[-24.   -23.95 -23.9  ...  25.9   25.95  26.  ]\n"
          ]
        }
      ],
      "source": [
        "print(\"Probleme 1\\n\")\n",
        "import numpy as np\n",
        "\n",
        "X=np.arange(-50,50.1,0.1)\n",
        "Y=X*0.5+1\n",
        "print(Y)"
      ]
    },
    {
      "cell_type": "code",
      "source": [
        "print(\"Probleme 2\\n\")\n",
        "A=np.array(np.concatenate((X,Y)))\n",
        "A.reshape((1001,2))\n"
      ],
      "metadata": {
        "colab": {
          "base_uri": "https://localhost:8080/"
        },
        "id": "pIdsf1x7FuEG",
        "outputId": "a90bd29c-b794-48da-d5c0-4a34edd7b43a"
      },
      "execution_count": 4,
      "outputs": [
        {
          "output_type": "stream",
          "name": "stdout",
          "text": [
            "Probleme 2\n",
            "\n"
          ]
        },
        {
          "output_type": "execute_result",
          "data": {
            "text/plain": [
              "array([[-50.  , -49.9 ],\n",
              "       [-49.8 , -49.7 ],\n",
              "       [-49.6 , -49.5 ],\n",
              "       ...,\n",
              "       [ 25.75,  25.8 ],\n",
              "       [ 25.85,  25.9 ],\n",
              "       [ 25.95,  26.  ]])"
            ]
          },
          "metadata": {},
          "execution_count": 4
        }
      ]
    },
    {
      "cell_type": "code",
      "source": [
        "print(\"Probleme 3\\n\")\n",
        "# changement X et Y dans x3 et y3 respectivement\n",
        "G=(Y[1:]-Y[:-1])/(X[1:]-X[:-1])\n",
        "\n",
        "print(G.shape)"
      ],
      "metadata": {
        "id": "0lvbNeD9Ke2l",
        "colab": {
          "base_uri": "https://localhost:8080/"
        },
        "outputId": "bc79cd50-d563-45b2-d6bf-57b95c123fdf"
      },
      "execution_count": 5,
      "outputs": [
        {
          "output_type": "stream",
          "name": "stdout",
          "text": [
            "Probleme 3\n",
            "\n",
            "(1000,)\n"
          ]
        }
      ]
    },
    {
      "cell_type": "code",
      "source": [
        "print(\"Probleme 4\\n\")\n",
        "import matplotlib.pyplot as plt\n",
        "\n",
        "plt.plot(Y)\n",
        "plt.show()\n",
        "\n",
        "# la dérivé de 1/2x+1 est 0.5\n",
        "# d'ou quelque soit x, G=0.5\n",
        "G=np.full(1001,0.5)\n",
        "plt.plot(X,G)\n",
        "plt.show()"
      ],
      "metadata": {
        "colab": {
          "base_uri": "https://localhost:8080/",
          "height": 548
        },
        "id": "Iq8iambhC2ul",
        "outputId": "30bc1e50-90f9-4ab9-e1b7-35b3866cb269"
      },
      "execution_count": 6,
      "outputs": [
        {
          "output_type": "stream",
          "name": "stdout",
          "text": [
            "Probleme 4\n",
            "\n"
          ]
        },
        {
          "output_type": "display_data",
          "data": {
            "image/png": "[encoded data removed]",
            "text/plain": [
              "<Figure size 432x288 with 1 Axes>"
            ]
          },
          "metadata": {
            "needs_background": "light"
          }
        },
        {
          "output_type": "display_data",
          "data": {
            "image/png": "[encoded data removed]",
            "text/plain": [
              "<Figure size 432x288 with 1 Axes>"
            ]
          },
          "metadata": {
            "needs_background": "light"
          }
        }
      ]
    },
    {
      "cell_type": "code",
      "source": [
        "print(\"Probleme 5\\n\")\n",
        "def compute_gradient(function, x_range=(-50, 50.1, 0.1)):\n",
        " \n",
        "    # calcul de y_range\n",
        "    x_array=np.arange(x_range[0],x_range[1],x_range[2])\n",
        "    y_array=function\n",
        "    # combinaison de y et x_range\n",
        "    array_xy=np.concatenate((x_array,y_array)).reshape(x_array.shape[0],2)  \n",
        "    # calcul des gradiants\n",
        "    gradient=(y_array[1:]-y_array[:-1])/(x_array[1:]-x_array[:-1])\n",
        "\n",
        "    return array_xy, gradient\n",
        "\n",
        "\n",
        "def function1(range_x=(-50,50.1,0.1)):\n",
        "    array_x=np.arange(range_x[0],range_x[1],range_x[2])\n",
        "    return array_x**2\n",
        "\n",
        "\n",
        "\n",
        "def function2(array_x=(-50,50.1,0.1)):\n",
        "    array_x=np.arange(array_x[0],array_x[1],array_x[2])\n",
        "    array_y=np.array([])\n",
        "    return 2*array_x**2+2*array_x\n",
        "\n",
        "\n",
        "def function3(array_x=(0,50.1,0.1)):\n",
        "    array_x=np.arange(array_x[0],array_x[1],array_x[2])\n",
        "    return np.sin(array_x**(0.5))\n",
        "\n",
        "array_xy1, gradient1 = compute_gradient(function1())\n",
        "\n",
        "# le gradient designe la derniere valeur de la derivé (2x) de y au dernier point x=50\n",
        "#np.append(gradient1,[2*50])\n",
        "print(gradient1.shape)\n",
        "gradient1=np.append(gradient1,[100],axis=0)\n",
        "\n",
        "print(\"Fonction 1\")\n",
        "print(array_xy1.shape)\n",
        "plt.clf()\n",
        "plt.plot(function1())\n",
        "plt.clf()\n",
        "plt.plot(np.arange(-50,50.1,0.1),np.array(gradient1))\n",
        "plt.show()\n",
        "\n",
        "plt.clf()\n",
        "array_xy2, gradient2 = compute_gradient(function2())\n",
        "\n",
        "# le gradient designe la derniere valeur de la derivé (4x+ln(2)*2**x) de y au dernier point x=50\n",
        "gradient2=np.append(gradient2,4*50+np.log(2)*2**50)\n",
        "\n",
        "print(\"Fonction 2\")\n",
        "print(array_xy2.shape)\n",
        "plt.clf()\n",
        "plt.plot(function2())\n",
        "plt.clf()\n",
        "plt.plot(np.arange(-50,50.1,0.1),np.array(gradient2))\n",
        "plt.show()\n",
        "\n",
        "array_xy3, gradient3 = compute_gradient(function3(),x_range=(0,50.1,0.1))\n",
        "# le gradient designe la derniere valeur de la derivé [(1/2)x**(-0.5)*cos(x**0.5)] de y au dernier point x=50\n",
        "gradient3=np.append(gradient3,0.5*50**(-0.5)*np.cos(50**0.5))\n",
        "\n",
        "print(\"Fonction 3\")\n",
        "plt.clf()\n",
        "print(array_xy3.shape)\n",
        "plt.plot(function3())\n",
        "plt.clf()\n",
        "plt.plot(np.arange(0,50.1,0.1),gradient3)\n",
        "plt.show()\n"
      ],
      "metadata": {
        "colab": {
          "base_uri": "https://localhost:8080/",
          "height": 928
        },
        "id": "aT_WLRjxNYM9",
        "outputId": "73ced63a-bf25-4c8c-ba9e-b1e4b303f522"
      },
      "execution_count": 7,
      "outputs": [
        {
          "output_type": "stream",
          "name": "stdout",
          "text": [
            "Probleme 5\n",
            "\n",
            "(1000,)\n",
            "Fonction 1\n",
            "(1001, 2)\n"
          ]
        },
        {
          "output_type": "display_data",
          "data": {
            "image/png": "[encoded data removed]",
            "text/plain": [
              "<Figure size 432x288 with 1 Axes>"
            ]
          },
          "metadata": {
            "needs_background": "light"
          }
        },
        {
          "output_type": "stream",
          "name": "stdout",
          "text": [
            "Fonction 2\n",
            "(1001, 2)\n"
          ]
        },
        {
          "output_type": "display_data",
          "data": {
            "image/png": "[encoded data removed]",
            "text/plain": [
              "<Figure size 432x288 with 1 Axes>"
            ]
          },
          "metadata": {
            "needs_background": "light"
          }
        },
        {
          "output_type": "stream",
          "name": "stdout",
          "text": [
            "Fonction 3\n",
            "(501, 2)\n"
          ]
        },
        {
          "output_type": "display_data",
          "data": {
            "image/png": "[encoded data removed]",
            "text/plain": [
              "<Figure size 432x288 with 1 Axes>"
            ]
          },
          "metadata": {
            "needs_background": "light"
          }
        }
      ]
    },
    {
      "cell_type": "code",
      "source": [
        "print(\"Probleme 6\\n\")\n",
        "\n",
        "# valeur minimale de y pour f1\n",
        "print(\"Function 1\\n\")\n",
        "print(np.min(function1()))\n",
        "print(\"avant : {}, apres : {}\\n\\n\".format(gradient1[np.argmin(function1())-1],gradient1[np.argmin(function1())+1]))\n",
        "\n",
        "\n",
        "print(\"Function 2\\n\")\n",
        "# valeur minimale de y pour f2\n",
        "print(np.min(function2()))\n",
        "print(\"avant : {}, apres : {}\\n\\n\".format(gradient2[np.argmin(function2())-1],gradient2[np.argmin(function2())+1]))\n",
        "\n",
        "# valeur minimale de y pour f3\n",
        "print(\"Function 3\\n\")\n",
        "print(np.min(function3()))\n",
        "print(\"avant : {}, apres : {}\".format(gradient3[np.argmin(function3())-1],gradient3[np.argmin(function3())+1]))\n"
      ],
      "metadata": {
        "id": "OA5-MJC2P3DQ",
        "colab": {
          "base_uri": "https://localhost:8080/"
        },
        "outputId": "4c8f4195-1bf1-4875-e3bc-9e4d5059d583"
      },
      "execution_count": 15,
      "outputs": [
        {
          "output_type": "stream",
          "name": "stdout",
          "text": [
            "Probleme 6\n",
            "\n",
            "Function 1\n",
            "\n",
            "5.048709793414476e-25\n",
            "avant : -0.09999999999858034, apres : 0.30000000000142535\n",
            "\n",
            "\n",
            "Function 2\n",
            "\n",
            "-0.5\n",
            "avant : -0.1999999999971896, apres : 0.6000000000028225\n",
            "\n",
            "\n",
            "Function 3\n",
            "\n",
            "-0.9999997540298113\n",
            "avant : -0.0006388422559544435, apres : 0.0016061158921243152\n"
          ]
        }
      ]
    },
    {
      "cell_type": "code",
      "source": [
        ""
      ],
      "metadata": {
        "id": "OXnp1QLPFaVX"
      },
      "execution_count": null,
      "outputs": []
    }
  ]
}