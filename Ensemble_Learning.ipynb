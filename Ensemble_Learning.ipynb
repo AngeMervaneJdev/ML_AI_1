{
  "nbformat": 4,
  "nbformat_minor": 0,
  "metadata": {
    "colab": {
      "name": "Ensemble Learning.ipynb",
      "provenance": [],
      "collapsed_sections": [],
      "authorship_tag": "ABX9TyOjVsvMHZdLzpOKLIR9l+Qi",
      "include_colab_link": true
    },
    "kernelspec": {
      "name": "python3",
      "display_name": "Python 3"
    },
    "language_info": {
      "name": "python"
    }
  },
  "cells": [
    {
      "cell_type": "markdown",
      "metadata": {
        "id": "view-in-github",
        "colab_type": "text"
      },
      "source": [
        "<a href=\"https://colab.research.google.com/github/AngeMervaneJdev/ML_AI_1/blob/main/Ensemble_Learning.ipynb\" target=\"_parent\"><img src=\"https://colab.research.google.com/assets/colab-badge.svg\" alt=\"Open In Colab\"/></a>"
      ]
    },
    {
      "cell_type": "code",
      "source": [
        "import numpy as np\n",
        "import pandas as pd\n",
        "from sklearn.linear_model import LinearRegression\n",
        "from sklearn.tree import DecisionTreeRegressor\n",
        "from sklearn.svm import SVR\n",
        "from sklearn.model_selection import cross_val_score\n",
        "from sklearn.decomposition import PCA\n",
        "from sklearn.linear_model import LinearRegression,Ridge\n",
        "from sklearn.preprocessing import StandardScaler\n",
        "from sklearn.svm import SVR\n",
        "from sklearn.pipeline import make_pipeline\n",
        "from sklearn.model_selection import train_test_split\n",
        "from sklearn.metrics import mean_squared_error\n",
        "from sklearn.linear_model import LogisticRegression\n",
        "from sklearn.tree import DecisionTreeRegressor\n",
        "from sklearn.model_selection import train_test_split\n",
        "from sklearn.ensemble import RandomForestRegressor,VotingRegressor\n",
        "from sklearn.metrics import accuracy_score"
      ],
      "metadata": {
        "id": "129bTW_fZdFU"
      },
      "execution_count": 33,
      "outputs": []
    },
    {
      "cell_type": "code",
      "source": [
        ""
      ],
      "metadata": {
        "id": "b3qVhFmve6fx"
      },
      "execution_count": null,
      "outputs": []
    },
    {
      "cell_type": "code",
      "execution_count": 34,
      "metadata": {
        "colab": {
          "base_uri": "https://localhost:8080/"
        },
        "id": "Lo13vLr6TvCF",
        "outputId": "189ba40b-9c20-4d48-f00a-6368be658ad0"
      },
      "outputs": [
        {
          "output_type": "execute_result",
          "data": {
            "text/plain": [
              "array([208500, 181500, 223500, ..., 266500, 142125, 147500])"
            ]
          },
          "metadata": {},
          "execution_count": 34
        }
      ],
      "source": [
        "data=pd.read_csv(\"train.csv\")\n",
        "X=np.array(data[['GrLivArea',\"YearBuilt\"]])\n",
        "y=np.array(data.SalePrice)\n",
        "y"
      ]
    },
    {
      "cell_type": "code",
      "source": [
        "X"
      ],
      "metadata": {
        "colab": {
          "base_uri": "https://localhost:8080/"
        },
        "id": "eyarTFf1ZyZr",
        "outputId": "2250cd32-4e22-4241-b403-1f0fd59bf37e"
      },
      "execution_count": 35,
      "outputs": [
        {
          "output_type": "execute_result",
          "data": {
            "text/plain": [
              "array([[1710, 2003],\n",
              "       [1262, 1976],\n",
              "       [1786, 2001],\n",
              "       ...,\n",
              "       [2340, 1941],\n",
              "       [1078, 1950],\n",
              "       [1256, 1965]])"
            ]
          },
          "metadata": {},
          "execution_count": 35
        }
      ]
    },
    {
      "cell_type": "markdown",
      "source": [
        "#Probleme 1"
      ],
      "metadata": {
        "id": "VUuwO60TfXyT"
      }
    },
    {
      "cell_type": "code",
      "source": [
        "X_train, X_test, y_train, y_test=train_test_split(X,y,random_state=42)"
      ],
      "metadata": {
        "id": "JgUDXF1mgk7t"
      },
      "execution_count": 36,
      "outputs": []
    },
    {
      "cell_type": "code",
      "source": [
        "clf1 = LinearRegression()\n",
        "clf2 = DecisionTreeRegressor()\n",
        "clf3 = SVR()\n",
        "models=[clf1,clf2, clf3]"
      ],
      "metadata": {
        "id": "DMfqEF1fe5wp"
      },
      "execution_count": 37,
      "outputs": []
    },
    {
      "cell_type": "markdown",
      "source": [
        "##1"
      ],
      "metadata": {
        "id": "_SgSgW5SzbeS"
      }
    },
    {
      "cell_type": "code",
      "source": [
        "#first \n",
        "predictions=[]\n",
        "for ml in models:\n",
        "  predictions.append(ml.fit(X_train,y_train).predict(X_test))\n",
        "predictions= np.array(predictions)\n",
        "MSE = mean_squared_error(y_test,np.mean(predictions,axis=0))\n",
        "print('MSE : '+str(MSE))\n",
        "\n",
        "eclf1 = VotingRegressor(estimators=[ ('lr', clf1), ('dt', clf2), ('svr', clf3)])\n",
        "eclf1 = eclf1.fit(X_train, y_train)\n",
        "y_pred=eclf1.predict(X_test)"
      ],
      "metadata": {
        "id": "3dkMyhngn_j8",
        "colab": {
          "base_uri": "https://localhost:8080/"
        },
        "outputId": "cb0be55d-7af3-4ba0-c966-5b57593f802d"
      },
      "execution_count": 38,
      "outputs": [
        {
          "output_type": "stream",
          "name": "stdout",
          "text": [
            "MSE : 2446415255.557091\n"
          ]
        }
      ]
    },
    {
      "cell_type": "markdown",
      "source": [
        "Comparaison with unique model DecisionTreeRegressor"
      ],
      "metadata": {
        "id": "GY7rg-Rj8yVQ"
      }
    },
    {
      "cell_type": "code",
      "source": [
        "y_pred=SVR().fit(X_train,y_train).predict(X_test)\n",
        "print('MSE SVR(): '+str(mean_squared_error(y_test, y_pred)))"
      ],
      "metadata": {
        "colab": {
          "base_uri": "https://localhost:8080/"
        },
        "id": "r-konsTF8wo9",
        "outputId": "97ffd6c2-f717-47e8-ccc6-f52d9425b3a5"
      },
      "execution_count": 39,
      "outputs": [
        {
          "output_type": "stream",
          "name": "stdout",
          "text": [
            "MSE SVR(): 7171025750.700425\n"
          ]
        }
      ]
    },
    {
      "cell_type": "markdown",
      "source": [
        "##2"
      ],
      "metadata": {
        "id": "jLsgyyaXzXNF"
      }
    },
    {
      "cell_type": "code",
      "source": [
        "#second\n",
        "models[2]=RandomForestRegressor();\n",
        "predictions=[]\n",
        "for ml in models:\n",
        "  predictions.append(ml.fit(X_train,y_train).predict(X_test))\n",
        "predictions= np.array(predictions)\n",
        "MSE = mean_squared_error(y_test,np.mean(predictions,axis=0))\n",
        "print('MSE voting 2: '+str(MSE))\n",
        "\n",
        "eclf1 = VotingRegressor(estimators=[ ('lr', clf1), ('dt', clf2), ('rf', clf3)])\n",
        "eclf1 = eclf1.fit(X_train, y_train)\n",
        "y_pred=eclf1.predict(X_test)"
      ],
      "metadata": {
        "colab": {
          "base_uri": "https://localhost:8080/"
        },
        "id": "lztLV2OOzScP",
        "outputId": "671fd97f-2d82-4c8d-9454-349b1742b834"
      },
      "execution_count": 40,
      "outputs": [
        {
          "output_type": "stream",
          "name": "stdout",
          "text": [
            "MSE voting 2: 1729966073.3215532\n"
          ]
        }
      ]
    },
    {
      "cell_type": "code",
      "source": [
        ""
      ],
      "metadata": {
        "id": "Tz2Tq8Fj4yQ1"
      },
      "execution_count": 40,
      "outputs": []
    },
    {
      "cell_type": "code",
      "source": [
        ""
      ],
      "metadata": {
        "id": "_A9eWfK94yaG"
      },
      "execution_count": 40,
      "outputs": []
    },
    {
      "cell_type": "code",
      "source": [
        "y_pred=SVR().fit(X_train,y_train).predict(X_test)\n",
        "print('MSE SVR() 2: '+str(mean_squared_error(y_test, y_pred)))\n"
      ],
      "metadata": {
        "colab": {
          "base_uri": "https://localhost:8080/"
        },
        "id": "fOiFmEqgh0YY",
        "outputId": "01f90a84-acf5-4b43-82a4-0ebb0f59242a"
      },
      "execution_count": 41,
      "outputs": [
        {
          "output_type": "stream",
          "name": "stdout",
          "text": [
            "MSE SVR() 2: 7171025750.700425\n"
          ]
        }
      ]
    },
    {
      "cell_type": "markdown",
      "source": [
        "###comparaison with single SVR()\n",
        "\n",
        "The MSE of a single model svr() is gratter than the MSE of the combined models"
      ],
      "metadata": {
        "id": "VcV-vAYUh0us"
      }
    },
    {
      "cell_type": "markdown",
      "source": [
        "##3"
      ],
      "metadata": {
        "id": "5thxSahxzZox"
      }
    },
    {
      "cell_type": "code",
      "source": [
        "#third  changing random state\n",
        "\n",
        "models[1]=DecisionTreeRegressor(random_state=4)\n",
        "models[2]=Ridge(alpha=.5)\n",
        "predictions=[]\n",
        "for ml in models:\n",
        "  predictions.append(ml.fit(X_train,y_train).predict(X_test))\n",
        "predictions= np.array(predictions)\n",
        "MSE = mean_squared_error(y_test,np.mean(predictions,axis=0))\n",
        "print('MSE voting 3: '+str(MSE))\n",
        "\n",
        "\n",
        "eclf1 = VotingRegressor(estimators=[ ('lr', clf1), ('dt', clf2), ('svr', clf3)])\n",
        "eclf1 = eclf1.fit(X_train, y_train)\n",
        "y_pred=eclf1.predict(X_test)"
      ],
      "metadata": {
        "colab": {
          "base_uri": "https://localhost:8080/"
        },
        "id": "tJ02VZDizVxR",
        "outputId": "31532a32-b759-4463-aa98-01e4ac9b69b4"
      },
      "execution_count": 42,
      "outputs": [
        {
          "output_type": "stream",
          "name": "stdout",
          "text": [
            "MSE voting 3: 1970400330.232842\n"
          ]
        }
      ]
    },
    {
      "cell_type": "code",
      "source": [
        "y_pred=LinearRegression().fit(X_train,y_train).predict(X_test)\n",
        "\n",
        "print('MSE Lr 3: '+str(mean_squared_error(y_test, y_pred)))"
      ],
      "metadata": {
        "colab": {
          "base_uri": "https://localhost:8080/"
        },
        "id": "A2EY-r55EJmH",
        "outputId": "bd23e2cf-ee83-402b-de65-e5fad9c8dd0a"
      },
      "execution_count": 43,
      "outputs": [
        {
          "output_type": "stream",
          "name": "stdout",
          "text": [
            "MSE Lr 3: 2314465092.732015\n"
          ]
        }
      ]
    },
    {
      "cell_type": "markdown",
      "source": [
        "comparaison to LinéareRegression  \n",
        "\n",
        "LinearRegression's MSE:2314465092.732015 gratter than\n",
        "\n",
        "Combined models's MSE: 1970400330.232842"
      ],
      "metadata": {
        "id": "mHBkmlCUmFMs"
      }
    },
    {
      "cell_type": "markdown",
      "source": [
        "# Probleme 2"
      ],
      "metadata": {
        "id": "yMkuYoq_XVuU"
      }
    },
    {
      "cell_type": "code",
      "source": [
        "base_algorithms = [LinearRegression(), RandomForestRegressor()]\n",
        "\n",
        "def bagging(X,y,models):\n",
        "  stacking_train_dataset = []\n",
        "  for model in models:\n",
        "     X_train,X_test,y_train,y_test = train_test_split(X,y,random_state=42,shuffle=True)    \n",
        "     stacking_train_dataset.append(model.fit(X_train,y_train).predict(X_test))\n",
        "  return stacking_train_dataset;\n",
        "\n",
        "predictions=np.array(bagging(X,y,base_algorithms))\n",
        "print('MSE {}'.format(mean_squared_error(y_test,np.mean(predictions,axis=0))))\n",
        "\n"
      ],
      "metadata": {
        "colab": {
          "base_uri": "https://localhost:8080/"
        },
        "id": "zehSIWCvluHc",
        "outputId": "a9627819-dc7c-4c2a-c3cd-22e8c0d110e6"
      },
      "execution_count": 53,
      "outputs": [
        {
          "output_type": "stream",
          "name": "stdout",
          "text": [
            "MSE 1729441439.0449162\n"
          ]
        }
      ]
    },
    {
      "cell_type": "markdown",
      "source": [
        "Comparaison to a unique model SVR"
      ],
      "metadata": {
        "id": "M-9JhIhE76r7"
      }
    },
    {
      "cell_type": "code",
      "source": [
        "y_pred=SVR().fit(X_train,y_train).predict(X_test)\n",
        "\n",
        "print('MSE svr probleme 2: '+str(mean_squared_error(y_test, y_pred)))"
      ],
      "metadata": {
        "colab": {
          "base_uri": "https://localhost:8080/"
        },
        "id": "UMFwTkad75hc",
        "outputId": "e48c4d56-e2ad-442e-93bd-a8a6acd1706d"
      },
      "execution_count": 45,
      "outputs": [
        {
          "output_type": "stream",
          "name": "stdout",
          "text": [
            "MSE svr probleme 2: 7171025750.700425\n"
          ]
        }
      ]
    },
    {
      "cell_type": "markdown",
      "source": [
        "#Probleme 3"
      ],
      "metadata": {
        "id": "wJ14G6tfKVkC"
      }
    },
    {
      "cell_type": "code",
      "source": [
        "x_train, x_test, y_train, y_test=train_test_split(X,y,random_state=42)\n",
        "x_train, x_val, y_train, y_val = train_test_split(x_train, y_train, test_size=0.3,random_state=23)"
      ],
      "metadata": {
        "id": "yUbHG9mjhsnl"
      },
      "execution_count": null,
      "outputs": []
    },
    {
      "cell_type": "code",
      "source": [
        "def train_level_0( clf):\n",
        "        # Train with base x_train\n",
        "        clf.fit(x_train, y_train)\n",
        "\n",
        "        # Generate predictions for the holdout set (validation)\n",
        "        # These predictions will build the input for the meta model\n",
        "        val_predictions = clf.predict(x_val)\n",
        "\n",
        "        # Generate predictions for original test set\n",
        "        # These predictions will be used to test the meta model\n",
        "        test_predictions = clf.predict(x_test)\n",
        "\n",
        "        return val_predictions, test_predictions"
      ],
      "metadata": {
        "id": "iv-Cg65HKmqD"
      },
      "execution_count": null,
      "outputs": []
    },
    {
      "cell_type": "code",
      "source": [
        "def train_level_1( final_learner, train_meta_model, test_meta_model):\n",
        "    # Train is carried out with final learner or meta model\n",
        "    final_learner.fit(train_meta_model, y_val)\n",
        "\n",
        "    # Getting train and test accuracies from meta_model\n",
        "\n",
        "    print(f\"Train accuracy: {final_learner.score(train_meta_model, y_val)}\")\n",
        "    \n",
        "    pred= final_learner.predict(test_meta_model);\n",
        "    print(\"Probleme 3: MSE \"+str(mean_squared_error(pred,y_test)))"
      ],
      "metadata": {
        "id": "2TgzF1s7xrZ7"
      },
      "execution_count": null,
      "outputs": []
    },
    {
      "cell_type": "code",
      "source": [
        "weak_learners = [('dtr', DecisionTreeRegressor()),('svr', SVR()),('rf', RandomForestRegressor()),('rdg', Ridge())]\n",
        "\n",
        "# Final learner or meta model\n",
        "final_learner = LinearRegression()\n",
        "\n",
        "train_meta_model = None\n",
        "test_meta_model = None\n",
        "\n",
        "# Start stacking\n",
        "for clf_id, clf in weak_learners:\n",
        "\n",
        "    # Predictions for each classifier based on k-fold\n",
        "    val_predictions, test_predictions = train_level_0(clf)\n",
        "\n",
        "    # Stack predictions which will form \n",
        "    # the input data for the data model\n",
        "    if isinstance(train_meta_model, np.ndarray):\n",
        "        train_meta_model = np.vstack((train_meta_model, val_predictions))\n",
        "    else:\n",
        "        train_meta_model = val_predictions\n",
        "\n",
        "    # Stack predictions from test set\n",
        "    # which will form test data for meta model\n",
        "    if isinstance(test_meta_model, np.ndarray):\n",
        "        test_meta_model = np.vstack((test_meta_model, test_predictions))\n",
        "    else:\n",
        "        test_meta_model = test_predictions\n",
        "\n",
        "# Transpose train_meta_model\n",
        "train_meta_model = train_meta_model.T\n",
        "\n",
        "# Transpose test_meta_model\n",
        "test_meta_model = test_meta_model.T\n",
        "\n",
        "# Training level 1\n",
        "train_level_1(final_learner, train_meta_model, test_meta_model)\n",
        "\n",
        "#### my sigle model Ridge()\n",
        "\n",
        "mdl=Ridge().fit(x_train,y_train)\n",
        "pred=mdl.predict(x_val)\n",
        "print(\"single model MSE \"+str(mean_squared_error(pred,y_val)))"
      ],
      "metadata": {
        "id": "KJtse2zoKuj0",
        "colab": {
          "base_uri": "https://localhost:8080/"
        },
        "outputId": "631708a7-feff-4c09-a5fd-b93c3b509dc2"
      },
      "execution_count": null,
      "outputs": [
        {
          "output_type": "stream",
          "name": "stdout",
          "text": [
            "Train accuracy: 0.6461565803603253\n",
            "Probleme 3: MSE 1927920096.3731472\n",
            "single model MSE 2700325720.3795853\n"
          ]
        }
      ]
    },
    {
      "cell_type": "code",
      "source": [
        ""
      ],
      "metadata": {
        "id": "CghAGFPzOJ32"
      },
      "execution_count": null,
      "outputs": []
    }
  ]
}