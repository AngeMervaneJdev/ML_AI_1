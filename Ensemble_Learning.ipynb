{
  "nbformat": 4,
  "nbformat_minor": 0,
  "metadata": {
    "colab": {
      "name": "Ensemble Learning.ipynb",
      "provenance": [],
      "collapsed_sections": [],
      "authorship_tag": "ABX9TyNUabuQQ6K2DY9sI8vEAthM",
      "include_colab_link": true
    },
    "kernelspec": {
      "name": "python3",
      "display_name": "Python 3"
    },
    "language_info": {
      "name": "python"
    }
  },
  "cells": [
    {
      "cell_type": "markdown",
      "metadata": {
        "id": "view-in-github",
        "colab_type": "text"
      },
      "source": [
        "<a href=\"https://colab.research.google.com/github/AngeMervaneJdev/ML_AI_1/blob/main/Ensemble_Learning.ipynb\" target=\"_parent\"><img src=\"https://colab.research.google.com/assets/colab-badge.svg\" alt=\"Open In Colab\"/></a>"
      ]
    },
    {
      "cell_type": "code",
      "source": [
        "import numpy as np\n",
        "import pandas as pd\n",
        "from sklearn.linear_model import LinearRegression\n",
        "from sklearn.tree import DecisionTreeRegressor\n",
        "from sklearn.svm import SVR\n",
        "from sklearn.model_selection import cross_val_score\n",
        "from sklearn.decomposition import PCA\n",
        "from sklearn.linear_model import LinearRegression,Ridge\n",
        "from sklearn.preprocessing import StandardScaler\n",
        "from sklearn.svm import SVR\n",
        "from sklearn.pipeline import make_pipeline\n",
        "from sklearn.model_selection import train_test_split\n",
        "from sklearn.metrics import mean_squared_error\n",
        "from sklearn.linear_model import LogisticRegression\n",
        "from sklearn.tree import DecisionTreeRegressor\n",
        "from sklearn.model_selection import train_test_split\n",
        "from sklearn.ensemble import RandomForestRegressor,VotingRegressor\n",
        "from sklearn.metrics import accuracy_score"
      ],
      "metadata": {
        "id": "129bTW_fZdFU"
      },
      "execution_count": 19,
      "outputs": []
    },
    {
      "cell_type": "code",
      "source": [
        ""
      ],
      "metadata": {
        "id": "b3qVhFmve6fx"
      },
      "execution_count": null,
      "outputs": []
    },
    {
      "cell_type": "code",
      "execution_count": 3,
      "metadata": {
        "colab": {
          "base_uri": "https://localhost:8080/"
        },
        "id": "Lo13vLr6TvCF",
        "outputId": "62500ad0-0ca6-44d9-cf37-4c23849066ab"
      },
      "outputs": [
        {
          "output_type": "execute_result",
          "data": {
            "text/plain": [
              "array([208500, 181500, 223500, ..., 266500, 142125, 147500])"
            ]
          },
          "metadata": {},
          "execution_count": 3
        }
      ],
      "source": [
        "data=pd.read_csv(\"train.csv\")\n",
        "test=pd.read_csv(\"test.csv\")\n",
        "X=np.array(data[['GrLivArea',\"YearBuilt\"]])\n",
        "y=np.array(data.SalePrice)\n",
        "y"
      ]
    },
    {
      "cell_type": "code",
      "source": [
        "X"
      ],
      "metadata": {
        "colab": {
          "base_uri": "https://localhost:8080/"
        },
        "id": "eyarTFf1ZyZr",
        "outputId": "856d70b7-5cb8-4532-95c1-e53ed3db9c0f"
      },
      "execution_count": 4,
      "outputs": [
        {
          "output_type": "execute_result",
          "data": {
            "text/plain": [
              "array([[1710, 2003],\n",
              "       [1262, 1976],\n",
              "       [1786, 2001],\n",
              "       ...,\n",
              "       [2340, 1941],\n",
              "       [1078, 1950],\n",
              "       [1256, 1965]])"
            ]
          },
          "metadata": {},
          "execution_count": 4
        }
      ]
    },
    {
      "cell_type": "markdown",
      "source": [
        "#Probleme 1"
      ],
      "metadata": {
        "id": "VUuwO60TfXyT"
      }
    },
    {
      "cell_type": "code",
      "source": [
        "X_train, X_test, y_train, y_test=train_test_split(X,y,random_state=42)"
      ],
      "metadata": {
        "id": "JgUDXF1mgk7t"
      },
      "execution_count": 5,
      "outputs": []
    },
    {
      "cell_type": "code",
      "source": [
        "clf1 = LinearRegression()\n",
        "clf2 = DecisionTreeRegressor()\n",
        "clf3 = SVR()\n",
        "models=[clf1,clf2, clf3]"
      ],
      "metadata": {
        "id": "DMfqEF1fe5wp"
      },
      "execution_count": 6,
      "outputs": []
    },
    {
      "cell_type": "markdown",
      "source": [
        "##1"
      ],
      "metadata": {
        "id": "_SgSgW5SzbeS"
      }
    },
    {
      "cell_type": "code",
      "source": [
        "#first \n",
        "predictions=[]\n",
        "for ml in models:\n",
        "  predictions.append(ml.fit(X_train,y_train).predict(X_test))\n",
        "predictions= np.array(predictions)\n",
        "MSE = mean_squared_error(y_test,np.mean(predictions,axis=0))\n",
        "print('MSE : '+str(MSE))\n",
        "\n",
        "eclf1 = VotingRegressor(estimators=[ ('lr', clf1), ('dt', clf2), ('svr', clf3)])\n",
        "eclf1 = eclf1.fit(X_train, y_train)\n",
        "y_pred=eclf1.predict(X_test)"
      ],
      "metadata": {
        "id": "3dkMyhngn_j8",
        "colab": {
          "base_uri": "https://localhost:8080/"
        },
        "outputId": "0ed8cc69-c511-497b-ca6a-683b4c8f82a3"
      },
      "execution_count": 8,
      "outputs": [
        {
          "output_type": "stream",
          "name": "stdout",
          "text": [
            "MSE : 2456835551.4678335\n"
          ]
        }
      ]
    },
    {
      "cell_type": "markdown",
      "source": [
        "##2"
      ],
      "metadata": {
        "id": "jLsgyyaXzXNF"
      }
    },
    {
      "cell_type": "code",
      "source": [
        "#second\n",
        "models[2]=RandomForestRegressor();\n",
        "predictions=[]\n",
        "for ml in models:\n",
        "  predictions.append(ml.fit(X_train,y_train).predict(X_test))\n",
        "predictions= np.array(predictions)\n",
        "MSE = mean_squared_error(y_test,np.mean(predictions,axis=0))\n",
        "print('MSE : '+str(MSE))\n",
        "\n",
        "eclf1 = VotingRegressor(estimators=[ ('lr', clf1), ('dt', clf2), ('rf', clf3)])\n",
        "eclf1 = eclf1.fit(X_train, y_train)\n",
        "y_pred=eclf1.predict(X_test)"
      ],
      "metadata": {
        "colab": {
          "base_uri": "https://localhost:8080/"
        },
        "id": "lztLV2OOzScP",
        "outputId": "3143a0dd-3faf-450f-ca69-8dd9f27b1295"
      },
      "execution_count": 9,
      "outputs": [
        {
          "output_type": "stream",
          "name": "stdout",
          "text": [
            "MSE : 1758498973.0046828\n"
          ]
        }
      ]
    },
    {
      "cell_type": "markdown",
      "source": [
        "comparaison with single SVR()"
      ],
      "metadata": {
        "id": "VcV-vAYUh0us"
      }
    },
    {
      "cell_type": "code",
      "source": [
        "y_pred=SVR().fit(X_train,y_train).predict(X_test)\n",
        "\n",
        "print('MSE : '+str(mean_squared_error(y_test, y_pred)))\n"
      ],
      "metadata": {
        "colab": {
          "base_uri": "https://localhost:8080/"
        },
        "id": "fOiFmEqgh0YY",
        "outputId": "8debb383-aa56-4b62-99eb-e691c298f6a4"
      },
      "execution_count": 10,
      "outputs": [
        {
          "output_type": "stream",
          "name": "stdout",
          "text": [
            "MSE : 7171025750.700425\n"
          ]
        }
      ]
    },
    {
      "cell_type": "markdown",
      "source": [
        "##3"
      ],
      "metadata": {
        "id": "5thxSahxzZox"
      }
    },
    {
      "cell_type": "code",
      "source": [
        "#third  changing random state\n",
        "\n",
        "models[1]=DecisionTreeRegressor(random_state=4)\n",
        "models[2]=Ridge(alpha=.5)\n",
        "predictions=[]\n",
        "for ml in models:\n",
        "  predictions.append(ml.fit(X_train,y_train).predict(X_test))\n",
        "predictions= np.array(predictions)\n",
        "MSE = mean_squared_error(y_test,np.mean(predictions,axis=0))\n",
        "print('MSE : '+str(MSE))\n",
        "\n",
        "\n",
        "eclf1 = VotingRegressor(estimators=[ ('lr', clf1), ('dt', clf2), ('svr', clf3)])\n",
        "eclf1 = eclf1.fit(X_train, y_train)\n",
        "y_pred=eclf1.predict(X_test)"
      ],
      "metadata": {
        "colab": {
          "base_uri": "https://localhost:8080/"
        },
        "id": "tJ02VZDizVxR",
        "outputId": "14f4385a-9f84-4dce-8e29-a33113c30366"
      },
      "execution_count": 20,
      "outputs": [
        {
          "output_type": "stream",
          "name": "stdout",
          "text": [
            "MSE : 1970400330.232842\n"
          ]
        }
      ]
    },
    {
      "cell_type": "markdown",
      "source": [
        "comparaion with LinéareRegression"
      ],
      "metadata": {
        "id": "mHBkmlCUmFMs"
      }
    },
    {
      "cell_type": "code",
      "source": [
        "y_pred=LinearRegression().fit(X_train,y_train).predict(X_test)\n",
        "\n",
        "print('MSE : '+str(mean_squared_error(y_test, y_pred)))"
      ],
      "metadata": {
        "colab": {
          "base_uri": "https://localhost:8080/"
        },
        "id": "A2EY-r55EJmH",
        "outputId": "c9a8714a-e43a-4d5b-ad4f-7fd41a69b83e"
      },
      "execution_count": 21,
      "outputs": [
        {
          "output_type": "stream",
          "name": "stdout",
          "text": [
            "MSE : 2314465092.732015\n"
          ]
        }
      ]
    },
    {
      "cell_type": "markdown",
      "source": [
        "# Probleme 2"
      ],
      "metadata": {
        "id": "yMkuYoq_XVuU"
      }
    },
    {
      "cell_type": "code",
      "source": [
        "base_algorithms = [LinearRegression(), RandomForestRegressor()]\n",
        "\n",
        "def bagging(X,y,models):\n",
        "  stacking_train_dataset = []\n",
        "  for model in models:\n",
        "     X_train,X_test,y_train,y_test = train_test_split(X,y,random_state=42,shuffle=True)    \n",
        "     stacking_train_dataset.append(model.fit(X_train,y_train).predict(X_test))\n",
        "  return stacking_train_dataset;\n",
        "\n",
        "predictions=bagging(X,y,base_algorithms)\n",
        "\n",
        "eclf1 = VotingRegressor(estimators=[ ('lr', LinearRegression()), ('rf', RandomForestRegressor())])\n",
        "eclf1 = eclf1.fit(X_train, y_train)\n",
        "y_pred=eclf1.predict(X_test)\n",
        "print('MSE : '+str(mean_squared_error(y_test, y_pred)))"
      ],
      "metadata": {
        "colab": {
          "base_uri": "https://localhost:8080/"
        },
        "id": "zehSIWCvluHc",
        "outputId": "6cac066a-1652-4168-f941-100f0eb1398a"
      },
      "execution_count": 18,
      "outputs": [
        {
          "output_type": "stream",
          "name": "stdout",
          "text": [
            "MSE : 1756349446.4038973\n"
          ]
        }
      ]
    },
    {
      "cell_type": "markdown",
      "source": [
        "#Probleme 3"
      ],
      "metadata": {
        "id": "wJ14G6tfKVkC"
      }
    },
    {
      "cell_type": "code",
      "source": [
        "x_train, x_test, y_train, y_test=train_test_split(X,y,random_state=42)\n",
        "x_train, x_val, y_train, y_val = train_test_split(x_train, y_train, test_size=0.3,random_state=23)"
      ],
      "metadata": {
        "id": "yUbHG9mjhsnl"
      },
      "execution_count": 24,
      "outputs": []
    },
    {
      "cell_type": "code",
      "source": [
        "def train_level_1( final_learner, train_meta_model, test_meta_model):\n",
        "    # Train is carried out with final learner or meta model\n",
        "    final_learner.fit(train_meta_model, y_val)\n",
        "\n",
        "    # Getting train and test accuracies from meta_model\n",
        "    print(f\"Train accuracy: {final_learner.score(train_meta_model, y_val)}\")\n",
        "    print(f\"Test accuracy: {final_learner.score(test_meta_model, y_test)}\")\n",
        "    return final_learner.predict(test_meta_model);\n"
      ],
      "metadata": {
        "id": "2TgzF1s7xrZ7"
      },
      "execution_count": 30,
      "outputs": []
    },
    {
      "cell_type": "code",
      "source": [
        "def train_level_0( clf):\n",
        "        # Train with base x_train\n",
        "        clf.fit(x_train, y_train)\n",
        "\n",
        "        # Generate predictions for the holdout set (validation)\n",
        "        # These predictions will build the input for the meta model\n",
        "        val_predictions = clf.predict(x_val)\n",
        "\n",
        "        # Generate predictions for original test set\n",
        "        # These predictions will be used to test the meta model\n",
        "        test_predictions = clf.predict(x_test)\n",
        "\n",
        "        return val_predictions, test_predictions"
      ],
      "metadata": {
        "id": "iv-Cg65HKmqD"
      },
      "execution_count": 28,
      "outputs": []
    },
    {
      "cell_type": "code",
      "source": [
        "weak_learners = [('dtr', DecisionTreeRegressor()),('svr', SVR()),('rf', RandomForestRegressor()),('rdg', Ridge())]\n",
        "\n",
        "# Final learner or meta model\n",
        "final_learner = LinearRegression()\n",
        "\n",
        "train_meta_model = None\n",
        "test_meta_model = None\n",
        "\n",
        "# Start stacking\n",
        "for clf_id, clf in weak_learners:\n",
        "\n",
        "    # Predictions for each classifier based on k-fold\n",
        "    val_predictions, test_predictions = train_level_0(clf)\n",
        "\n",
        "    # Stack predictions which will form \n",
        "    # the input data for the data model\n",
        "    if isinstance(train_meta_model, np.ndarray):\n",
        "        train_meta_model = np.vstack((train_meta_model, val_predictions))\n",
        "    else:\n",
        "        train_meta_model = val_predictions\n",
        "\n",
        "    # Stack predictions from test set\n",
        "    # which will form test data for meta model\n",
        "    if isinstance(test_meta_model, np.ndarray):\n",
        "        test_meta_model = np.vstack((test_meta_model, test_predictions))\n",
        "    else:\n",
        "        test_meta_model = test_predictions\n",
        "\n",
        "# Transpose train_meta_model\n",
        "train_meta_model = train_meta_model.T\n",
        "\n",
        "# Transpose test_meta_model\n",
        "test_meta_model = test_meta_model.T\n",
        "\n",
        "# Training level 1\n",
        "train_level_1(final_learner, train_meta_model, test_meta_model)\n",
        "\n",
        "#### my sigle model Ridge()\n",
        "\n",
        "mdl=Ridge().fit(x_train,y_train)\n",
        "pred=mdl.predict(x_val)\n",
        "mdl.score(x_val,y_val)"
      ],
      "metadata": {
        "id": "KJtse2zoKuj0",
        "colab": {
          "base_uri": "https://localhost:8080/"
        },
        "outputId": "7c46d0f0-f8b7-4dbd-b07b-7be2a2760290"
      },
      "execution_count": 44,
      "outputs": [
        {
          "output_type": "stream",
          "name": "stdout",
          "text": [
            "Train accuracy: 0.643735885697504\n",
            "Test accuracy: 0.7258201444502002\n"
          ]
        },
        {
          "output_type": "execute_result",
          "data": {
            "text/plain": [
              "0.568983383927375"
            ]
          },
          "metadata": {},
          "execution_count": 44
        }
      ]
    },
    {
      "cell_type": "code",
      "source": [
        ""
      ],
      "metadata": {
        "id": "CghAGFPzOJ32"
      },
      "execution_count": null,
      "outputs": []
    }
  ]
}