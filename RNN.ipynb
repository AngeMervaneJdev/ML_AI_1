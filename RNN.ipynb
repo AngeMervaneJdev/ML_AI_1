{
  "nbformat": 4,
  "nbformat_minor": 0,
  "metadata": {
    "colab": {
      "name": "RNN.ipynb",
      "provenance": [],
      "authorship_tag": "ABX9TyO/pSidSLJme89JCMlMC+ak",
      "include_colab_link": true
    },
    "kernelspec": {
      "name": "python3",
      "display_name": "Python 3"
    },
    "language_info": {
      "name": "python"
    }
  },
  "cells": [
    {
      "cell_type": "markdown",
      "metadata": {
        "id": "view-in-github",
        "colab_type": "text"
      },
      "source": [
        "<a href=\"https://colab.research.google.com/github/AngeMervaneJdev/ML_AI_1/blob/main/RNN.ipynb\" target=\"_parent\"><img src=\"https://colab.research.google.com/assets/colab-badge.svg\" alt=\"Open In Colab\"/></a>"
      ]
    },
    {
      "cell_type": "markdown",
      "source": [
        "#[Issue 1] Forward propagation implementation of SimpleRNN"
      ],
      "metadata": {
        "id": "TNDZLYRWVg4Q"
      }
    },
    {
      "cell_type": "code",
      "source": [
        "import numpy as np"
      ],
      "metadata": {
        "id": "xWmPybcUWnps"
      },
      "execution_count": 3,
      "outputs": []
    },
    {
      "cell_type": "code",
      "source": [
        "class tanh:\n",
        "    def forward(self, A):\n",
        "        return np.tanh(A)\n",
        "    def backward(self, dZ, Z):\n",
        "        return dZ * (1 - Z**2)\n",
        "class SimpleRNN:\n",
        "    def __init__(self, activation, w_x, w_h, b):\n",
        "        self.activation = activation\n",
        "        self.w_x = w_x\n",
        "        self.w_h = w_h\n",
        "        self.b = b\n",
        "\n",
        "    def forward(self, X):\n",
        "        new_h = np.zeros((batch_size, n_nodes))\n",
        "        for seq in range(0, X.shape[1]):\n",
        "            new_h = self.activation.forward((X[:, seq, :] @ self.w_x) + (new_h @ self.w_h) + self.b).astype(np.float64)\n",
        "        return new_h"
      ],
      "metadata": {
        "id": "sHKnHgC0Vaml"
      },
      "execution_count": 7,
      "outputs": []
    },
    {
      "cell_type": "markdown",
      "source": [
        "#[Problem 2] Experiment of forward propagation with small sequence"
      ],
      "metadata": {
        "id": "EOtIqN2gWuLR"
      }
    },
    {
      "cell_type": "code",
      "source": [
        "x = np.array([[[1, 2], [2, 3], [3, 4]]])/100 # (batch_size, n_sequences, n_features)\n",
        "w_x = np.array([[1, 3, 5, 7], [3, 5, 7, 8]])/100 # (n_features, n_nodes)\n",
        "w_h = np.array([[1, 3, 5, 7], [2, 4, 6, 8], [3, 5, 7, 8], [4, 6, 8, 10]])/100 # (n_nodes, n_nodes)\n",
        "batch_size = x.shape[0] # 1\n",
        "n_sequences = x.shape[1] # 3\n",
        "n_features = x.shape[2] # 2\n",
        "n_nodes = w_x.shape[1] # 4\n",
        "h = np.zeros((batch_size, n_nodes)) # (batch_size, n_nodes)\n",
        "b = np.array([1, 1, 1, 1]) # (n_nodes,)\n",
        "\n",
        "print(\"batch_size: {}\".format(batch_size))\n",
        "print(\"n_sequences: {}\".format(n_sequences))\n",
        "print(\"n_features: {}\".format(n_features))\n",
        "print(\"n_nodes: {}\".format(n_nodes))"
      ],
      "metadata": {
        "colab": {
          "base_uri": "https://localhost:8080/"
        },
        "id": "iDSI0giaWynb",
        "outputId": "0e9b4f2c-a639-4cd3-dae3-0cf9feca0cf3"
      },
      "execution_count": 5,
      "outputs": [
        {
          "output_type": "stream",
          "name": "stdout",
          "text": [
            "batch_size: 1\n",
            "n_sequences: 3\n",
            "n_features: 2\n",
            "n_nodes: 4\n"
          ]
        }
      ]
    },
    {
      "cell_type": "code",
      "source": [
        "rnn = SimpleRNN(tanh(), w_x, w_h, b)\n",
        "new_h = rnn.forward(x)\n",
        "print(new_h)"
      ],
      "metadata": {
        "colab": {
          "base_uri": "https://localhost:8080/"
        },
        "id": "DKaiDCx9Xwfn",
        "outputId": "48e5d023-0064-453e-e091-729bf471e5cf"
      },
      "execution_count": 8,
      "outputs": [
        {
          "output_type": "stream",
          "name": "stdout",
          "text": [
            "[[0.79494228 0.81839002 0.83939649 0.85584174]]\n"
          ]
        }
      ]
    }
  ]
}