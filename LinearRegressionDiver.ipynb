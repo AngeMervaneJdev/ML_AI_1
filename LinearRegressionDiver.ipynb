{
  "nbformat": 4,
  "nbformat_minor": 0,
  "metadata": {
    "colab": {
      "name": "LinearRegressionDiver.ipynb",
      "provenance": [],
      "collapsed_sections": [
        "lk1F0-Ia6G7g",
        "nrX6Go4nPMKl"
      ],
      "authorship_tag": "ABX9TyPUA7r5tv51Jnvx/YNm/gMr",
      "include_colab_link": true
    },
    "kernelspec": {
      "name": "python3",
      "display_name": "Python 3"
    },
    "language_info": {
      "name": "python"
    }
  },
  "cells": [
    {
      "cell_type": "markdown",
      "metadata": {
        "id": "view-in-github",
        "colab_type": "text"
      },
      "source": [
        "<a href=\"https://colab.research.google.com/github/AngeMervaneJdev/ML_AI_1/blob/main/LinearRegressionDiver.ipynb\" target=\"_parent\"><img src=\"https://colab.research.google.com/assets/colab-badge.svg\" alt=\"Open In Colab\"/></a>"
      ]
    },
    {
      "cell_type": "markdown",
      "source": [
        ""
      ],
      "metadata": {
        "id": "QWwmUo0bOy_Q"
      }
    },
    {
      "cell_type": "code",
      "source": [
        "import numpy as np\n",
        "import pandas as pd\n",
        "import matplotlib.pyplot as plt\n",
        "from sklearn.linear_model import LinearRegression\n",
        "from sklearn.datasets import make_regression"
      ],
      "metadata": {
        "id": "kxfIze2yc-5k"
      },
      "execution_count": 131,
      "outputs": []
    },
    {
      "cell_type": "code",
      "source": [
        "data = np.array([\n",
        "   \n",
        "    [-2.1086  ,  8.3428  ],\n",
        "    [-1.9948  , -1.3927  ],\n",
        "    [ 0.96765 , 10.083   ],\n",
        "    [-2.234   , -2.5323  ],\n",
        "    [ 0.14654 , -0.28733 ],\n",
        "    [ 0.5461  ,  5.8245  ],\n",
        "    [-0.65259 ,  9.3444  ],\n",
        "    [ 0.50214 , -0.31818 ],\n",
        "    [-6.6797  ,  0.67661 ],\n",
        "    [ 1.1319  ,  2.4023  ],\n",
        "    [-2.5677  , 13.1779  ],\n",
        "    [-0.44699 , -2.8073  ],\n",
        "    [ 0.10645 ,  1.9242  ],\n",
        "    [-0.9888  ,  4.5718  ],\n",
        "    [ 0.56421 ,  0.72888 ],\n",
        "    [-0.61251 , -0.75345 ],\n",
        "    [-0.80647 , -2.2135  ],\n",
        "    [-3.1108  ,  0.15394 ],\n",
        "    [-0.57242 , -2.9915  ],\n",
        "    [ 0.58619 ,  0.37158 ],\n",
        "    [-2.1086  ,  8.3428  ],\n",
        "    [-1.9948  , -1.3927  ],\n",
        "    [ 0.96765 , 10.083   ],\n",
        "    [-2.234   , -2.5323  ],\n",
        "    [ 0.14654 , -0.28733 ],\n",
        "    [ 0.5461  ,  5.8245  ],\n",
        "    [-0.65259 ,  9.3444  ],\n",
        "    [ 0.50214 , -0.31818 ],\n",
        "    [-6.6797  ,  0.67661 ],\n",
        "    [ 1.1319  ,  2.4023  ],\n",
        "    [-2.5677  , 13.1779  ],\n",
        "    [-0.44699 , -2.8073  ],\n",
        "    [ 0.10645 ,  1.9242  ],\n",
        "    [-0.9888  ,  4.5718  ],\n",
        "    [ 0.56421 ,  0.72888 ],\n",
        "    [-0.61251 , -0.75345 ],\n",
        "    [-0.80647 , -2.2135  ],\n",
        "    [-3.1108  ,  0.15394 ],\n",
        "    [-0.57242 , -2.9915  ],\n",
        " \n",
        "    [-2.5677  , 9.1779  ],\n",
        "    [-0.44699 , -3.8073  ],\n",
        "    [ 0.10645 ,  1.9242  ],\n",
        "    [-0.9888  ,  4.5718  ],\n",
        "    [ 0.56421 ,  0.72888 ],\n",
        "    [-0.61251 , -0.75345 ],\n",
        "    [-0.80647 , -2.2135  ],\n",
        "    [-3.1108  ,  0.15394 ],\n",
        "    [-1.9948  , -1.3927  ],\n",
        "  \n",
        "    [1.9948  , 1.7927  ],\n",
        "    [ 0.96765 , 5.083   ],\n",
        "    [-2.234   , -2.5323  ],\n",
        "    [ 0.14654 , 5.28733 ],\n",
        "    [ 0.5461  ,  5.8245  ],\n",
        "    [-7.65259 ,  1.3444  ],\n",
        "    [ 6.50214 , 2.31818 ],\n",
        "    [-6.6797  ,  3.67661 ],\n",
        "    [ 1.1319  ,  2.4023  ],\n",
        "    [-2.5677  , 10.1779  ],\n",
        "    [-0.57242 , -2.9915  ],\n",
        "    [ -2.58619 ,  7.37158 ],\n",
        "    [-2.1086  ,  8.3428  ],\n",
        "\n",
        "])"
      ],
      "metadata": {
        "id": "ULXoY5lygX4_"
      },
      "execution_count": 80,
      "outputs": []
    },
    {
      "cell_type": "code",
      "source": [
        "x=data[:,1]\n",
        "y=data[:,0]\n",
        "print(x.shape)\n",
        "x=np.vstack((np.ones((x.size,)),x)).T\n",
        "y=y.reshape(y.size,1)\n",
        "print(x.shape)\n",
        "print(y.shape)\n",
        "plt.scatter(x[:,1],y)\n",
        "plt.show()"
      ],
      "metadata": {
        "colab": {
          "base_uri": "https://localhost:8080/",
          "height": 317
        },
        "id": "kVXIu91K-HFC",
        "outputId": "7f4752cb-6a47-4dc8-8cef-33fac26e102b"
      },
      "execution_count": 111,
      "outputs": [
        {
          "output_type": "stream",
          "name": "stdout",
          "text": [
            "(61,)\n",
            "(61, 2)\n",
            "(61, 1)\n"
          ]
        },
        {
          "output_type": "display_data",
          "data": {
            "image/png": "[encoded data removed]",
            "text/plain": [
              "<Figure size 432x288 with 1 Axes>"
            ]
          },
          "metadata": {
            "needs_background": "light"
          }
        }
      ]
    },
    {
      "cell_type": "markdown",
      "source": [
        ""
      ],
      "metadata": {
        "id": "IH9ql3YmT3wJ"
      }
    },
    {
      "cell_type": "code",
      "source": [
        "x"
      ],
      "metadata": {
        "id": "h65qa86atzwS",
        "colab": {
          "base_uri": "https://localhost:8080/"
        },
        "outputId": "d700a150-a4cb-488f-bcab-41f59a94d8ed"
      },
      "execution_count": 110,
      "outputs": [
        {
          "output_type": "execute_result",
          "data": {
            "text/plain": [
              "array([[1.000e+00, 1.710e+03],\n",
              "       [1.000e+00, 1.262e+03],\n",
              "       [1.000e+00, 1.786e+03],\n",
              "       ...,\n",
              "       [1.000e+00, 2.340e+03],\n",
              "       [1.000e+00, 1.078e+03],\n",
              "       [1.000e+00, 1.256e+03]])"
            ]
          },
          "metadata": {},
          "execution_count": 110
        }
      ]
    },
    {
      "cell_type": "code",
      "source": [
        "theta = np.random.randn(2,1)\n",
        "theta"
      ],
      "metadata": {
        "id": "gy8TGwItcsMy",
        "colab": {
          "base_uri": "https://localhost:8080/"
        },
        "outputId": "87bbafce-e5d7-48c7-fd0e-eb7cfe987180"
      },
      "execution_count": 112,
      "outputs": [
        {
          "output_type": "execute_result",
          "data": {
            "text/plain": [
              "array([[-0.51650818],\n",
              "       [-1.31529234]])"
            ]
          },
          "metadata": {},
          "execution_count": 112
        }
      ]
    },
    {
      "cell_type": "markdown",
      "source": [
        "#【problème1】Fonction hypothétique"
      ],
      "metadata": {
        "id": "xhk7GfDQPMRf"
      }
    },
    {
      "cell_type": "code",
      "source": [
        " def linear_hypothesis(self, X):\n",
        "      \"\"\"\n",
        "        Compute a linear hypothetical function\n",
        "\n",
        "        Parameters\n",
        "        ----------\n",
        "        X : The following forms of ndarray, shape (n_samples, n_features)\n",
        "          Training data\n",
        "\n",
        "        Returns\n",
        "        -------\n",
        "          The following form of ndarray, shape (n_samples, 1)\n",
        "          Estimated result by linear hypothetical function\n",
        "\n",
        "      \"\"\"\n",
        "      return X.dot(theta)"
      ],
      "metadata": {
        "id": "h9NT-wiUPOGd"
      },
      "execution_count": 84,
      "outputs": []
    },
    {
      "cell_type": "markdown",
      "source": [
        "#【problem2】Steepest descent"
      ],
      "metadata": {
        "id": "f1c4SMHkdzM9"
      }
    },
    {
      "cell_type": "code",
      "source": [
        "def cost_calc(theta, X, y):   # Fonction coût\n",
        "    m=y.size\n",
        "    return (1/2*m) * np.sum((linear_hypothesis(theta, X) - y)**2)"
      ],
      "metadata": {
        "id": "eAy0ba3hkzGv"
      },
      "execution_count": 85,
      "outputs": []
    },
    {
      "cell_type": "code",
      "source": [
        "\n",
        "def _gradient_descent(theta, X, y, epoch, alpha):\n",
        "    \"\"\"\n",
        "    alpha = learning rate\n",
        "    epoch = number of iterations\n",
        "\n",
        "    \"\"\"\n",
        "    cost = []\n",
        "    i = 0\n",
        "    while i < epoch:\n",
        "        hx = linear_hypothesis(theta, X)\n",
        "        theta[0] -= alpha*(sum(hx-y)/m)\n",
        "        theta[1] -= (alpha * np.sum((hx - y) * X))/m\n",
        "        cost.append(cost_calc(theta, X, y))\n",
        "        i += 1\n",
        "    return theta, cost"
      ],
      "metadata": {
        "id": "Og1Y3aOq4va9"
      },
      "execution_count": 90,
      "outputs": []
    },
    {
      "cell_type": "markdown",
      "source": [
        "#【problem 3】Estimated"
      ],
      "metadata": {
        "id": "pKxLkv4f5kfx"
      }
    },
    {
      "cell_type": "code",
      "source": [
        "def predict(theta, X, y, epoch, alpha):\n",
        "    theta, cost = _gradient_descent(theta, X, y, epoch, alpha)\n",
        "    return linear_hypothesis(theta, X), cost, theta"
      ],
      "metadata": {
        "id": "UNeTX4ls5RKe"
      },
      "execution_count": 91,
      "outputs": []
    },
    {
      "cell_type": "markdown",
      "source": [
        "#【problem 4】Mean squared error"
      ],
      "metadata": {
        "id": "lk1F0-Ia6G7g"
      }
    },
    {
      "cell_type": "code",
      "source": [
        "def MSE(y, pred):\n",
        "  \"\"\"\n",
        "    Calculation of mean square error\n",
        "\n",
        "    Parameters\n",
        "    ----------\n",
        "    y_pred : ndarray, shape (n_samples,)\n",
        "      Estimated value\n",
        "    y : ndarray, shape (n_samples,)\n",
        "      Correct answer value\n",
        "    Returns\n",
        "    ----------\n",
        "    mse : numpy.float\n",
        "      Mean squared error\n",
        "  \"\"\"\n",
        "  u = np.sum((y-pred)**2)\n",
        "  v = np.sum((y-y.mean())**2)\n",
        "  return 1 - u/v"
      ],
      "metadata": {
        "id": "H_65yNxy6Im8"
      },
      "execution_count": 119,
      "outputs": []
    },
    {
      "cell_type": "markdown",
      "source": [
        "#【problem 5】Objective function"
      ],
      "metadata": {
        "id": "TSRYmfSQ9f4h"
      }
    },
    {
      "cell_type": "code",
      "source": [
        "m=len(y)\n",
        "print(cost_calc(theta,x,y))\n",
        "def cost_calc(theta, X, y):   # Fonction coût\n",
        "    return (1/2*m) * np.sum((linear_hypothesis(theta, X) - y)**2)"
      ],
      "metadata": {
        "id": "OzyPAoru9nxw",
        "colab": {
          "base_uri": "https://localhost:8080/"
        },
        "outputId": "f6bfbf0e-9674-456e-abf8-5de5c77c01b8"
      },
      "execution_count": 92,
      "outputs": [
        {
          "output_type": "stream",
          "name": "stdout",
          "text": [
            "90269.82397503968\n"
          ]
        }
      ]
    },
    {
      "cell_type": "markdown",
      "source": [
        "#【Problem 6】Learning and estimation"
      ],
      "metadata": {
        "id": "is-cSQHe-J7D"
      }
    },
    {
      "cell_type": "code",
      "source": [
        "class ScratchLinearRegression():\n",
        "    \"\"\"\n",
        "    Scratch implementation of linear regression\n",
        "    \n",
        "    Parameters\n",
        "    ----------\n",
        "    num_iter : int\n",
        "      Number of iterations\n",
        "    lr : float\n",
        "      Learning rate\n",
        "    no_bias : bool\n",
        "      True if no bias term is included\n",
        "    verbose : bool\n",
        "      True to output the learning process\n",
        "    \n",
        "    Attributes\n",
        "    ----------\n",
        "    self.coef_ : The following form of ndarray, shape (n_features,)\n",
        "      Parameters\n",
        "    self.loss : The following form of ndarray, shape (self.iter,)\n",
        "      Record losses on training data\n",
        "    self.val_loss : The following form of ndarray, shape (self.iter,)\n",
        "      Record loss on validation data\n",
        "    \"\"\"\n",
        "    \n",
        "    def __init__(self, num_iter, lr, no_bias=False, verbose=False):\n",
        "        # Record hyperparameters as attributes\n",
        "        self.iter = num_iter\n",
        "        self.lr = lr\n",
        "        self.no_bias = no_bias\n",
        "        self.verbose = verbose\n",
        "        # Prepare an array to record the loss\n",
        "        self.loss = np.zeros(self.iter)\n",
        "        self.val_loss = np.zeros(self.iter)\n",
        "        \n",
        "        \n",
        "\n",
        "\n",
        "    def fit(self, X, y, X_val=None, y_val=None):\n",
        "        \"\"\"\n",
        "        Learn linear regression. If validation data is entered, \n",
        "        the loss and accuracy for it are also calculated for each iteration.\n",
        "        Parameters\n",
        "        ----------\n",
        "        X : ndarray, shape (n_samples, n_features)\n",
        "            Features of training data\n",
        "        y : ndarray, shape (n_samples,)\n",
        "            Correct answer value of training data\n",
        "        X_val : ndarray, shape (n_samples, n_features)\n",
        "            Features of verification data\n",
        "        y_val : ndarray, shape (n_samples,)\n",
        "            Correct value of verification data\n",
        "        \"\"\"\n",
        "        \n",
        "        n_samples = X.shape[0]\n",
        "        n_features = X.shape[1]\n",
        "        \n",
        "        if not self.no_bias:\n",
        "          X = np.hstack((X, np.ones((n_samples,1)))) # ajouter le bias column to X\n",
        "          self.theta = np.random.randn(n_features+1,1) # Prepare theta for hypotheis function\n",
        "        else:\n",
        "          self.theta = np.random.randn(n_features,1)\n",
        "        \n",
        "      \n",
        "        # création d'un tableau de stockage pour enregistrer l'évolution du Cout du modele\n",
        "        cost_history = np.zeros(self.iter)\n",
        "\n",
        "        for i in range(0, self.iter):\n",
        "          hyp = self._linear_hypothesis(X)\n",
        "          grad = self._grad(X,y,hyp)\n",
        "          self.theta = self._gradient_descent(grad) # mise a jour du parametre theta (formule du gradient descent)\n",
        "          cost_history[i] =self._cost_function(hyp,y) # on enregistre la valeur du Cout au tour i dans cost_history[i]\n",
        "        \n",
        "        print(\"####learning curve####\")\n",
        "        plt.plot(range(self.iter),cost_history, c=\"r\", linewidth=2)\n",
        "        plt.show()\n",
        "        \n",
        "        if self.verbose:\n",
        "            #Output learning process when verbose is set to True\n",
        "            print(\"theta: {}\".format(self.theta))\n",
        "            print(\"Val_loss: {}\".format(self.val_loss))\n",
        "        pass\n",
        "\n",
        "    def _linear_hypothesis(self, X):\n",
        "      \"\"\"\n",
        "        Compute a linear hypothetical function\n",
        "\n",
        "        Parameters\n",
        "        ----------\n",
        "        X : The following forms of ndarray, shape (n_samples, n_features)\n",
        "          Training data\n",
        "\n",
        "        Returns\n",
        "        -------\n",
        "          The following form of ndarray, shape (n_samples, 1)\n",
        "          Estimated result by linear hypothetical function\n",
        "\n",
        "      \"\"\"\n",
        "      hyp = X.dot(self.theta)\n",
        "      return hyp\n",
        "\n",
        "    def _grad(self,X, y,hyp):\n",
        "        m = len(y)\n",
        "        grad = 1/m * X.T.dot(hyp - y)\n",
        "        return grad \n",
        "\n",
        "    def _gradient_descent(self, grad):\n",
        "        self.theta = self.theta - self.lr * grad # mise a jour du parametre theta (formule du gradient descent)\n",
        "        return self.theta\n",
        "    \n",
        "    def predict(self, X):\n",
        "        \"\"\"\n",
        "        Estimate using linear regression.\n",
        "        Parameters\n",
        "        ----------\n",
        "        X : The following forms of ndarray, shape (n_samples, n_features)\n",
        "            sample\n",
        "        Returns\n",
        "        -------\n",
        "            ndarray, shape (n_samples, 1)\n",
        "            Estimated result by linear regression\n",
        "        \"\"\"\n",
        "        if not self.no_bias:\n",
        "          X = np.hstack((X, np.ones((X.shape[0],1))))\n",
        "        pred = np.dot(X, self.theta)\n",
        "        return pred\n",
        "\n",
        "    def _cost_function(self,hyp, y):\n",
        "        \"\"\"\n",
        "        la function de cout sera calculé par \n",
        "        la moyenne des distances euclusiennes\n",
        "        \"\"\"\n",
        "        m = len(y)\n",
        "        loss = 1/(2*m) * np.sum((hyp - y)**2)\n",
        "        return loss"
      ],
      "metadata": {
        "id": "CmBoNnPf-LZB"
      },
      "execution_count": 93,
      "outputs": []
    },
    {
      "cell_type": "code",
      "source": [
        "df=pd.read_csv('train.csv')\n",
        "x=np.array(df.GrLivArea)\n",
        "y=np.array(df[[\"SalePrice\"]])\n",
        "\n",
        "x=np.vstack((np.ones((x.size,)),x)).T\n",
        "y=y.reshape(y.size,1)\n",
        "print(y.shape)\n",
        "print(x.shape)\n",
        "plt.scatter(x[:,0],y)\n",
        "plt.show()"
      ],
      "metadata": {
        "id": "Kp6AnOZptoF9",
        "colab": {
          "base_uri": "https://localhost:8080/",
          "height": 300
        },
        "outputId": "43a5b941-183c-4f7c-dcb8-4aba40edca8c"
      },
      "execution_count": 109,
      "outputs": [
        {
          "output_type": "stream",
          "name": "stdout",
          "text": [
            "(1460, 1)\n",
            "(1460, 2)\n"
          ]
        },
        {
          "output_type": "display_data",
          "data": {
            "image/png": "[encoded data removed]",
            "text/plain": [
              "<Figure size 432x288 with 1 Axes>"
            ]
          },
          "metadata": {
            "needs_background": "light"
          }
        }
      ]
    },
    {
      "cell_type": "code",
      "source": [
        "mld = ScratchLinearRegression(1000, 0.01, False, False)\n",
        "mld.fit(x,y)\n",
        "predscratch=mld.predict(x)\n",
        "print(MSE(y,predscratch))"
      ],
      "metadata": {
        "id": "p--GameB1_jy",
        "colab": {
          "base_uri": "https://localhost:8080/",
          "height": 300
        },
        "outputId": "6763d1cd-9d8c-4f4b-e46e-c8f4b7c42153"
      },
      "execution_count": 127,
      "outputs": [
        {
          "output_type": "stream",
          "name": "stdout",
          "text": [
            "####learning curve####\n"
          ]
        },
        {
          "output_type": "display_data",
          "data": {
            "image/png": "[encoded data removed]",
            "text/plain": [
              "<Figure size 432x288 with 1 Axes>"
            ]
          },
          "metadata": {
            "needs_background": "light"
          }
        },
        {
          "output_type": "stream",
          "name": "stdout",
          "text": [
            "0.0004906741523601488\n"
          ]
        }
      ]
    },
    {
      "cell_type": "markdown",
      "source": [
        "Comparaison"
      ],
      "metadata": {
        "id": "e7_Fpq4F_lxM"
      }
    },
    {
      "cell_type": "code",
      "source": [
        "reg = LinearRegression().fit(x, y)\n",
        "print(reg.score(x, y))"
      ],
      "metadata": {
        "colab": {
          "base_uri": "https://localhost:8080/"
        },
        "id": "0Ref11dh_odL",
        "outputId": "69d4bc79-e8b0-4a22-a19b-0941238889b8"
      },
      "execution_count": 122,
      "outputs": [
        {
          "output_type": "stream",
          "name": "stdout",
          "text": [
            "0.0004906741523621472\n"
          ]
        }
      ]
    },
    {
      "cell_type": "markdown",
      "source": [
        "Les résultats sont apparement les memes"
      ],
      "metadata": {
        "id": "uv7K_Byb_xC2"
      }
    },
    {
      "cell_type": "markdown",
      "source": [
        " # Probleme 7"
      ],
      "metadata": {
        "id": "nrX6Go4nPMKl"
      }
    },
    {
      "cell_type": "code",
      "source": [
        "def gradien(X,y,theta):\n",
        "  \"\"\"\n",
        "  Nous allons d'abord créer la function de gradient\n",
        "  c'est la derivé de la function de cout\n",
        "  \"\"\"\n",
        "  m = len(y)\n",
        "  return X.T.dot(linear_hypothesis(X, theta) - y)/m"
      ],
      "metadata": {
        "id": "okxYQkMSr3vv"
      },
      "execution_count": 123,
      "outputs": []
    },
    {
      "cell_type": "code",
      "source": [
        "def gradient_descent(X, y,theta,iter,lr):\n",
        "    \"\"\"\n",
        "    n_iteration : c'est le nombre d'iteration\n",
        "    learning_rate : c'est le alphat, le coeficiet d'apprentissage\n",
        "    \"\"\"\n",
        "    val_loss = np.zeros(iter)# creer un tabeau des evolution de la fonction cout\n",
        "    for i in range(0,iter):\n",
        "      theta = theta - lr * gradien(X,y,theta)\n",
        "      val_loss[i] = cost_calc(X, y, theta) # on enregistre la valeur du cout au tour i dans cost_history[i]\n",
        "\n",
        "    plt.plot(range(iter), val_loss)\n",
        "    plt.show()\n",
        "\n",
        "    return theta,val_loss"
      ],
      "metadata": {
        "id": "mB3kDqcgmJp-"
      },
      "execution_count": 124,
      "outputs": []
    },
    {
      "cell_type": "code",
      "source": [
        "\n",
        "theta = np.random.randn(1,x.shape[1])\n",
        "theta_final,val_loss = gradient_descent(x, y, theta, iter=1000, lr=0.01)\n",
        "\n",
        "print(theta_final)"
      ],
      "metadata": {
        "id": "9_BiuY8kmKk6"
      },
      "execution_count": null,
      "outputs": []
    },
    {
      "cell_type": "markdown",
      "source": [
        "#【problem 8】(Advance task) Removal of bias term"
      ],
      "metadata": {
        "id": "3M8LdA3gBx7K"
      }
    },
    {
      "cell_type": "code",
      "source": [
        "mld = ScratchLinearRegression(1000, 0.01, no_bias=True, verbose=False)\n",
        "mld.fit(x,y)\n",
        "predscratch=mld.predict(x)\n",
        "print(MSE(y,predscratch))"
      ],
      "metadata": {
        "colab": {
          "base_uri": "https://localhost:8080/",
          "height": 300
        },
        "id": "Th3XFzzBB2Ti",
        "outputId": "f63404a1-5ff3-42c8-cf8b-192ae18e12fe"
      },
      "execution_count": 129,
      "outputs": [
        {
          "output_type": "stream",
          "name": "stdout",
          "text": [
            "####learning curve####\n"
          ]
        },
        {
          "output_type": "display_data",
          "data": {
            "image/png": "[encoded data removed]",
            "text/plain": [
              "<Figure size 432x288 with 1 Axes>"
            ]
          },
          "metadata": {
            "needs_background": "light"
          }
        },
        {
          "output_type": "stream",
          "name": "stdout",
          "text": [
            "0.0004906232249844988\n"
          ]
        }
      ]
    },
    {
      "cell_type": "markdown",
      "source": [
        "# 【problem 9】(Advance task) Multidimensional feature quantity"
      ],
      "metadata": {
        "id": "0RLXlls_CY5T"
      }
    },
    {
      "cell_type": "code",
      "source": [
        "#creer une dataset\n",
        "\n",
        "x1, y1 = make_regression(n_samples=100, n_features=2,noise=10)\n",
        "y1 = y1 + abs(y1/2)\n",
        "\n",
        "y1 = y1.reshape(y1.shape[0],1)\n",
        "\n",
        "model3 = ScratchLinearRegression(100, 0.01, False, False)\n",
        "model3.fit(x1,y1)\n",
        "\n",
        "pred3 = model3.predict(x1)\n",
        "print(MSE(y1,pred3).round(2))\n",
        "\n",
        "###### no bias\n",
        "model3 = ScratchLinearRegression(100, 0.01, True, False)\n",
        "model3.fit(x1,y1)\n",
        "\n",
        "pred3 = model3.predict(x1)\n",
        "print(MSE(y1,pred3).round(2))"
      ],
      "metadata": {
        "colab": {
          "base_uri": "https://localhost:8080/",
          "height": 582
        },
        "id": "MjT52CHcCbfC",
        "outputId": "c4ece740-f07e-4e6f-a965-8b422b482140"
      },
      "execution_count": 132,
      "outputs": [
        {
          "output_type": "stream",
          "name": "stdout",
          "text": [
            "####learning curve####\n"
          ]
        },
        {
          "output_type": "display_data",
          "data": {
            "image/png": "[encoded data removed]",
            "text/plain": [
              "<Figure size 432x288 with 1 Axes>"
            ]
          },
          "metadata": {
            "needs_background": "light"
          }
        },
        {
          "output_type": "stream",
          "name": "stdout",
          "text": [
            "0.74\n",
            "####learning curve####\n"
          ]
        },
        {
          "output_type": "display_data",
          "data": {
            "image/png": "[encoded data removed]",
            "text/plain": [
              "<Figure size 432x288 with 1 Axes>"
            ]
          },
          "metadata": {
            "needs_background": "light"
          }
        },
        {
          "output_type": "stream",
          "name": "stdout",
          "text": [
            "0.59\n"
          ]
        }
      ]
    },
    {
      "cell_type": "markdown",
      "source": [
        "# 【problem 10】(Advance task) Derivation of update formula"
      ],
      "metadata": {
        "id": "VTwAf1PXE7J7"
      }
    },
    {
      "cell_type": "code",
      "source": [
        ""
      ],
      "metadata": {
        "id": "W_3fpK9sE9Kj"
      },
      "execution_count": null,
      "outputs": []
    }
  ]
}