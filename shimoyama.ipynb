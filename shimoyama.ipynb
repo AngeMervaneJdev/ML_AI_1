{
  "cells": [
    {
      "cell_type": "markdown",
      "metadata": {
        "id": "view-in-github",
        "colab_type": "text"
      },
      "source": [
        "<a href=\"https://colab.research.google.com/github/AngeMervaneJdev/ML_AI_1/blob/main/shimoyama.ipynb\" target=\"_parent\"><img src=\"https://colab.research.google.com/assets/colab-badge.svg\" alt=\"Open In Colab\"/></a>"
      ]
    },
    {
      "cell_type": "code",
      "execution_count": null,
      "metadata": {
        "colab": {
          "base_uri": "https://localhost:8080/"
        },
        "id": "5vG0uKvcE7hT",
        "outputId": "c2f518c0-d550-46b1-beed-4749bd27de15"
      },
      "outputs": [
        {
          "name": "stdout",
          "output_type": "stream",
          "text": [
            "[[  130.          35.352505   138.756638  2563.4      41888.      ]\n",
            " [  131.          35.35418    138.753742  2703.1      42210.      ]\n",
            " [  132.          35.355855   138.750846  2825.55     42532.      ]\n",
            " [  133.          35.35753    138.74795   2967.9      42854.      ]\n",
            " [  134.          35.359205   138.745054  3087.81     43177.      ]\n",
            " [  135.          35.36088    138.742157  3266.24     43499.      ]\n",
            " [  136.          35.362555   138.739261  3434.59     43821.      ]\n",
            " [  137.          35.36423    138.736364  3600.08     44143.      ]\n",
            " [  138.          35.365904   138.733468  3679.96     44466.      ]\n",
            " [  139.          35.367579   138.730571  3664.9      44788.      ]]\n",
            "Probleme 1\n",
            "\n"
          ]
        },
        {
          "data": {
            "text/plain": [
              "[<matplotlib.lines.Line2D at 0x7fe5d4a1f850>]"
            ]
          },
          "execution_count": 3,
          "metadata": {},
          "output_type": "execute_result"
        },
        {
          "data": {
            "image/png": "[encoded data removed]",
            "text/plain": [
              "<Figure size 432x288 with 1 Axes>"
            ]
          },
          "metadata": {
            "needs_background": "light"
          },
          "output_type": "display_data"
        }
      ],
      "source": [
        "import numpy as np\n",
        "import matplotlib.pyplot as plt\n",
        "csv_path = \"mtfuji_data.csv\" # undefined\n",
        "\n",
        "np.set_printoptions(suppress=True) # undefined\n",
        "fuji = np.loadtxt(csv_path, delimiter=\",\", skiprows=1)\n",
        "print(fuji[130:140])\n",
        "\n",
        "\n",
        "print(\"Probleme 1\\n\")\n",
        "\n",
        "x_data = fuji[:,0]\n",
        "y_data = fuji[:,3]\n",
        "plt.plot(x_data, y_data)\n"
      ]
    },
    {
      "cell_type": "code",
      "execution_count": null,
      "metadata": {
        "id": "HSOrNhlXlu7W",
        "outputId": "962e4bec-23a4-44f1-e8c8-e6aef934ed5a"
      },
      "outputs": [
        {
          "name": "stdout",
          "output_type": "stream",
          "text": [
            "Probleme 2\n",
            "\n"
          ]
        },
        {
          "data": {
            "text/plain": [
              "5.77190635451505"
            ]
          },
          "execution_count": 60,
          "metadata": {},
          "output_type": "execute_result"
        }
      ],
      "source": [
        "print(\"Probleme 2\\n\")\n",
        "x_data = fuji[:,0]\n",
        "y_data = fuji[:,3]\n",
        "\n",
        "def grad(pm):\n",
        "    gradient=(y_data[pm]-y_data[pm-1])/(x_data[pm]-x_data[pm-1])\n",
        "    return gradient  \n",
        "\n",
        "grad(0)"
      ]
    },
    {
      "cell_type": "code",
      "execution_count": null,
      "metadata": {
        "id": "y7bdZ5bWlu7X",
        "outputId": "726c8054-4d10-41df-94d9-fd29a3979a99"
      },
      "outputs": [
        {
          "name": "stdout",
          "output_type": "stream",
          "text": [
            "Probleme 3\n",
            "\n",
            "103\n",
            "0\n"
          ]
        }
      ],
      "source": [
        "print(\"Probleme 3\\n\")\n",
        "alpha=0.2\n",
        "default_error=0\n",
        "def next_dest(current_point):\n",
        "    next_point=current_point-alpha*grad(current_point)\n",
        "    if next_point>0:\n",
        "        return round(next_point)\n",
        "    return default_error\n",
        "print(next_dest(130))   \n",
        "print(next_dest(0))"
      ]
    },
    {
      "cell_type": "code",
      "execution_count": null,
      "metadata": {
        "id": "Ig_Do1kAlu7Y",
        "outputId": "42d346dd-f551-4422-fd5d-7a7e6c0ab60c"
      },
      "outputs": [
        {
          "name": "stdout",
          "output_type": "stream",
          "text": [
            "Probleme 4\n",
            "\n",
            "salut\n",
            "[136, 102, 98, 95, 93, 89, 85, 82, 79, 73, 70, 78, 77, 75]\n"
          ]
        }
      ],
      "source": [
        "print(\"Probleme 4\\n\")\n",
        "print(\"salut\")\n",
        "def go_down_from(pt):\n",
        "    my_list=[pt]\n",
        "    while True:\n",
        "        pt=next_dest(pt)\n",
        "        if pt!=default_error and pt not in my_list and pt<=300:\n",
        "            my_list.append(pt)\n",
        "        else:\n",
        "            break\n",
        "#         pt=next_dest(pt)\n",
        "    return my_list\n",
        "print(go_down_from(136))"
      ]
    },
    {
      "cell_type": "code",
      "execution_count": null,
      "metadata": {
        "id": "mkX64w3Plu7Z",
        "outputId": "f0d141bb-b230-4171-8b8f-9c31f547d6ab"
      },
      "outputs": [
        {
          "name": "stdout",
          "output_type": "stream",
          "text": [
            "Probleme 5\n",
            "\n"
          ]
        },
        {
          "data": {
            "image/png": "[encoded data removed]",
            "text/plain": [
              "<Figure size 432x288 with 1 Axes>"
            ]
          },
          "metadata": {
            "needs_background": "light"
          },
          "output_type": "display_data"
        },
        {
          "data": {
            "text/plain": [
              "<Figure size 432x288 with 0 Axes>"
            ]
          },
          "metadata": {},
          "output_type": "display_data"
        }
      ],
      "source": [
        "print(\"Probleme 5\\n\")\n",
        "import matplotlib.pyplot as plt\n",
        "\n",
        "plt.plot(go_down_from(136))\n",
        "plt.show()\n",
        "plt.clf()\n",
        "\n"
      ]
    },
    {
      "cell_type": "code",
      "execution_count": null,
      "metadata": {
        "id": "HvWibLCZlu7a",
        "outputId": "597261bc-5537-4dca-e6b3-6e7be719425b"
      },
      "outputs": [
        {
          "name": "stdout",
          "output_type": "stream",
          "text": [
            "Probleme 6\n",
            "\n",
            "[0]\n",
            "[1]\n",
            "[2]\n",
            "[3]\n",
            "[4]\n",
            "[5]\n",
            "[6, 5]\n",
            "[7]\n",
            "[8, 7]\n",
            "[9, 1]\n",
            "[10]\n",
            "[11, 10]\n",
            "[12, 2]\n",
            "[13, 4]\n",
            "[14]\n",
            "[15, 27, 31, 51, 41]\n",
            "[16, 14]\n",
            "[17]\n",
            "[18, 22, 13, 4]\n",
            "[19, 21, 15, 27, 31, 51, 41]\n",
            "[20]\n",
            "[21, 15, 27, 31, 51, 41]\n",
            "[22, 13, 4]\n",
            "[23, 28]\n",
            "[24]\n",
            "[25, 36, 52, 37, 35, 43]\n",
            "[26]\n",
            "[27, 31, 51, 41]\n",
            "[28]\n",
            "[29, 10]\n",
            "[30, 41]\n",
            "[31, 51, 41]\n",
            "[32, 47]\n",
            "[33, 27, 31, 51, 41]\n",
            "[34, 15, 27, 31, 51, 41]\n",
            "[35, 43]\n",
            "[36, 52, 37, 35, 43]\n",
            "[37, 35, 43]\n",
            "[38, 44]\n",
            "[39]\n",
            "[40]\n",
            "[41]\n",
            "[42]\n",
            "[43]\n",
            "[44]\n",
            "[45]\n",
            "[46]\n",
            "[47]\n",
            "[48, 22, 13, 4]\n",
            "[49]\n",
            "[50, 54, 58, 80]\n",
            "[51, 41]\n",
            "[52, 37, 35, 43]\n",
            "[53, 74]\n",
            "[54, 58, 80]\n",
            "[55, 63, 74]\n",
            "[56, 66, 74]\n",
            "[57, 35, 43]\n",
            "[58, 80]\n",
            "[59]\n",
            "[60, 73, 70, 78, 77, 75]\n",
            "[61, 83, 80]\n",
            "[62, 64, 52, 37, 35, 43]\n",
            "[63, 74]\n",
            "[64, 52, 37, 35, 43]\n",
            "[65, 76, 75]\n",
            "[66, 74]\n",
            "[67, 66, 74]\n",
            "[68, 76, 75]\n",
            "[69, 64, 52, 37, 35, 43]\n",
            "[70, 78, 77, 75]\n",
            "[71, 81, 77, 75]\n",
            "[72, 73, 70, 78, 77, 75]\n",
            "[73, 70, 78, 77, 75]\n",
            "[74]\n",
            "[75]\n",
            "[76, 75]\n",
            "[77, 75]\n",
            "[78, 77, 75]\n",
            "[79, 73, 70, 78, 77, 75]\n",
            "[80]\n",
            "[81, 77, 75]\n",
            "[82, 79, 73, 70, 78, 77, 75]\n",
            "[83, 80]\n",
            "[84, 81, 77, 75]\n",
            "[85, 82, 79, 73, 70, 78, 77, 75]\n",
            "[86, 83, 80]\n",
            "[87, 84, 81, 77, 75]\n",
            "[88, 85, 82, 79, 73, 70, 78, 77, 75]\n",
            "[89, 85, 82, 79, 73, 70, 78, 77, 75]\n",
            "[90, 87, 84, 81, 77, 75]\n",
            "[91, 88, 85, 82, 79, 73, 70, 78, 77, 75]\n",
            "[92, 90, 87, 84, 81, 77, 75]\n",
            "[93, 89, 85, 82, 79, 73, 70, 78, 77, 75]\n",
            "[94, 88, 85, 82, 79, 73, 70, 78, 77, 75]\n",
            "[95, 93, 89, 85, 82, 79, 73, 70, 78, 77, 75]\n",
            "[96, 90, 87, 84, 81, 77, 75]\n",
            "[97, 92, 90, 87, 84, 81, 77, 75]\n",
            "[98, 95, 93, 89, 85, 82, 79, 73, 70, 78, 77, 75]\n",
            "[99, 96, 90, 87, 84, 81, 77, 75]\n",
            "[100, 96, 90, 87, 84, 81, 77, 75]\n",
            "[101, 96, 90, 87, 84, 81, 77, 75]\n",
            "[102, 98, 95, 93, 89, 85, 82, 79, 73, 70, 78, 77, 75]\n",
            "[103, 95, 93, 89, 85, 82, 79, 73, 70, 78, 77, 75]\n",
            "[104, 99, 96, 90, 87, 84, 81, 77, 75]\n",
            "[105, 100, 96, 90, 87, 84, 81, 77, 75]\n",
            "[106, 102, 98, 95, 93, 89, 85, 82, 79, 73, 70, 78, 77, 75]\n",
            "[107, 99, 96, 90, 87, 84, 81, 77, 75]\n",
            "[108, 103, 95, 93, 89, 85, 82, 79, 73, 70, 78, 77, 75]\n",
            "[109, 102, 98, 95, 93, 89, 85, 82, 79, 73, 70, 78, 77, 75]\n",
            "[110, 105, 100, 96, 90, 87, 84, 81, 77, 75]\n",
            "[111, 102, 98, 95, 93, 89, 85, 82, 79, 73, 70, 78, 77, 75]\n",
            "[112, 100, 96, 90, 87, 84, 81, 77, 75]\n",
            "[113, 102, 98, 95, 93, 89, 85, 82, 79, 73, 70, 78, 77, 75]\n",
            "[114, 110, 105, 100, 96, 90, 87, 84, 81, 77, 75]\n",
            "[115, 104, 99, 96, 90, 87, 84, 81, 77, 75]\n",
            "[116, 102, 98, 95, 93, 89, 85, 82, 79, 73, 70, 78, 77, 75]\n",
            "[117, 103, 95, 93, 89, 85, 82, 79, 73, 70, 78, 77, 75]\n",
            "[118, 103, 95, 93, 89, 85, 82, 79, 73, 70, 78, 77, 75]\n",
            "[119, 108, 103, 95, 93, 89, 85, 82, 79, 73, 70, 78, 77, 75]\n",
            "[120, 113, 102, 98, 95, 93, 89, 85, 82, 79, 73, 70, 78, 77, 75]\n",
            "[121, 109, 102, 98, 95, 93, 89, 85, 82, 79, 73, 70, 78, 77, 75]\n",
            "[122, 109, 102, 98, 95, 93, 89, 85, 82, 79, 73, 70, 78, 77, 75]\n",
            "[123, 112, 100, 96, 90, 87, 84, 81, 77, 75]\n",
            "[124, 110, 105, 100, 96, 90, 87, 84, 81, 77, 75]\n",
            "[125, 104, 99, 96, 90, 87, 84, 81, 77, 75]\n",
            "[126, 101, 96, 90, 87, 84, 81, 77, 75]\n",
            "[127, 103, 95, 93, 89, 85, 82, 79, 73, 70, 78, 77, 75]\n",
            "[128, 106, 102, 98, 95, 93, 89, 85, 82, 79, 73, 70, 78, 77, 75]\n",
            "[129, 105, 100, 96, 90, 87, 84, 81, 77, 75]\n",
            "[130, 103, 95, 93, 89, 85, 82, 79, 73, 70, 78, 77, 75]\n",
            "[131, 103, 95, 93, 89, 85, 82, 79, 73, 70, 78, 77, 75]\n",
            "[132, 108, 103, 95, 93, 89, 85, 82, 79, 73, 70, 78, 77, 75]\n",
            "[133, 105, 100, 96, 90, 87, 84, 81, 77, 75]\n",
            "[134, 110, 105, 100, 96, 90, 87, 84, 81, 77, 75]\n",
            "[135, 99, 96, 90, 87, 84, 81, 77, 75]\n",
            "[136, 102, 98, 95, 93, 89, 85, 82, 79, 73, 70, 78, 77, 75]\n",
            "[137, 104, 99, 96, 90, 87, 84, 81, 77, 75]\n",
            "[138, 122, 109, 102, 98, 95, 93, 89, 85, 82, 79, 73, 70, 78, 77, 75]\n",
            "[139, 142, 177, 178, 180, 186, 164, 169, 173, 176]\n",
            "[140, 159, 172, 178, 180, 186, 164, 169, 173, 176, 177]\n",
            "[141, 185, 158, 165, 172, 178, 180, 186, 164, 169, 173, 176, 177]\n",
            "[142, 177, 178, 180, 186, 164, 169, 173, 176]\n",
            "[143, 173, 176, 177, 178, 180, 186, 164, 169]\n",
            "[144, 175, 178, 180, 186, 164, 169, 173, 176, 177]\n",
            "[145, 175, 178, 180, 186, 164, 169, 173, 176, 177]\n",
            "[146, 175, 178, 180, 186, 164, 169, 173, 176, 177]\n",
            "[147, 170, 174, 177, 178, 180, 186, 164, 169, 173, 176]\n",
            "[148, 171, 178, 180, 186, 164, 169, 173, 176, 177]\n",
            "[149, 168, 172, 178, 180, 186, 164, 169, 173, 176, 177]\n",
            "[150, 169, 173, 176, 177, 178, 180, 186, 164]\n",
            "[151, 168, 172, 178, 180, 186, 164, 169, 173, 176, 177]\n",
            "[152, 172, 178, 180, 186, 164, 169, 173, 176, 177]\n",
            "[153, 165, 172, 178, 180, 186, 164, 169, 173, 176, 177]\n",
            "[154, 175, 178, 180, 186, 164, 169, 173, 176, 177]\n",
            "[155, 165, 172, 178, 180, 186, 164, 169, 173, 176, 177]\n",
            "[156, 170, 174, 177, 178, 180, 186, 164, 169, 173, 176]\n",
            "[157, 168, 172, 178, 180, 186, 164, 169, 173, 176, 177]\n",
            "[158, 165, 172, 178, 180, 186, 164, 169, 173, 176, 177]\n",
            "[159, 172, 178, 180, 186, 164, 169, 173, 176, 177]\n",
            "[160, 168, 172, 178, 180, 186, 164, 169, 173, 176, 177]\n",
            "[161, 172, 178, 180, 186, 164, 169, 173, 176, 177]\n",
            "[162, 171, 178, 180, 186, 164, 169, 173, 176, 177]\n",
            "[163, 173, 176, 177, 178, 180, 186, 164, 169]\n",
            "[164, 169, 173, 176, 177, 178, 180, 186]\n",
            "[165, 172, 178, 180, 186, 164, 169, 173, 176, 177]\n",
            "[166, 169, 173, 176, 177, 178, 180, 186, 164]\n",
            "[167, 174, 177, 178, 180, 186, 164, 169, 173, 176]\n",
            "[168, 172, 178, 180, 186, 164, 169, 173, 176, 177]\n",
            "[169, 173, 176, 177, 178, 180, 186, 164]\n",
            "[170, 174, 177, 178, 180, 186, 164, 169, 173, 176]\n",
            "[171, 178, 180, 186, 164, 169, 173, 176, 177]\n",
            "[172, 178, 180, 186, 164, 169, 173, 176, 177]\n",
            "[173, 176, 177, 178, 180, 186, 164, 169]\n",
            "[174, 177, 178, 180, 186, 164, 169, 173, 176]\n",
            "[175, 178, 180, 186, 164, 169, 173, 176, 177]\n",
            "[176, 177, 178, 180, 186, 164, 169, 173]\n",
            "[177, 178, 180, 186, 164, 169, 173, 176]\n",
            "[178, 180, 186, 164, 169, 173, 176, 177]\n",
            "[179, 181, 183, 185, 158, 165, 172, 178, 180, 186, 164, 169, 173, 176, 177]\n",
            "[180, 186, 164, 169, 173, 176, 177, 178]\n",
            "[181, 183, 185, 158, 165, 172, 178, 180, 186, 164, 169, 173, 176, 177]\n",
            "[182, 185, 158, 165, 172, 178, 180, 186, 164, 169, 173, 176, 177]\n",
            "[183, 185, 158, 165, 172, 178, 180, 186, 164, 169, 173, 176, 177]\n",
            "[184]\n",
            "[185, 158, 165, 172, 178, 180, 186, 164, 169, 173, 176, 177]\n",
            "[186, 164, 169, 173, 176, 177, 178, 180]\n",
            "[187, 164, 169, 173, 176, 177, 178, 180, 186]\n",
            "[188, 182, 185, 158, 165, 172, 178, 180, 186, 164, 169, 173, 176, 177]\n",
            "[189, 216, 219, 200, 234, 251, 215, 239, 228, 206, 205, 198, 231, 247, 226]\n",
            "[190, 222, 250, 253, 247, 226, 239, 228, 206, 205, 198, 231]\n",
            "[191, 208, 238, 232, 216, 219, 200, 234, 251, 215, 239, 228, 206, 205, 198, 231, 247, 226]\n",
            "[192, 207, 205, 198, 231, 247, 226, 239, 228, 206]\n",
            "[193]\n",
            "[194]\n",
            "[195, 171, 178, 180, 186, 164, 169, 173, 176, 177]\n",
            "[196, 175, 178, 180, 186, 164, 169, 173, 176, 177]\n",
            "[197, 191, 208, 238, 232, 216, 219, 200, 234, 251, 215, 239, 228, 206, 205, 198, 231, 247, 226]\n",
            "[198, 231, 247, 226, 239, 228, 206, 205]\n",
            "[199, 218, 191, 208, 238, 232, 216, 219, 200, 234, 251, 215, 239, 228, 206, 205, 198, 231, 247, 226]\n",
            "[200, 234, 251, 215, 239, 228, 206, 205, 198, 231, 247, 226]\n",
            "[201, 222, 250, 253, 247, 226, 239, 228, 206, 205, 198, 231]\n",
            "[202, 214, 227, 215, 239, 228, 206, 205, 198, 231, 247, 226]\n",
            "[203, 214, 227, 215, 239, 228, 206, 205, 198, 231, 247, 226]\n",
            "[204, 187, 164, 169, 173, 176, 177, 178, 180, 186]\n",
            "[205, 198, 231, 247, 226, 239, 228, 206]\n",
            "[206, 205, 198, 231, 247, 226, 239, 228]\n",
            "[207, 205, 198, 231, 247, 226, 239, 228, 206]\n",
            "[208, 238, 232, 216, 219, 200, 234, 251, 215, 239, 228, 206, 205, 198, 231, 247, 226]\n",
            "[209, 220, 217, 224, 229, 214, 227, 215, 239, 228, 206, 205, 198, 231, 247, 226]\n",
            "[210, 213, 196, 175, 178, 180, 186, 164, 169, 173, 176, 177]\n",
            "[211, 221, 227, 215, 239, 228, 206, 205, 198, 231, 247, 226]\n",
            "[212, 183, 185, 158, 165, 172, 178, 180, 186, 164, 169, 173, 176, 177]\n",
            "[213, 196, 175, 178, 180, 186, 164, 169, 173, 176, 177]\n",
            "[214, 227, 215, 239, 228, 206, 205, 198, 231, 247, 226]\n",
            "[215, 239, 228, 206, 205, 198, 231, 247, 226]\n",
            "[216, 219, 200, 234, 251, 215, 239, 228, 206, 205, 198, 231, 247, 226]\n",
            "[217, 224, 229, 214, 227, 215, 239, 228, 206, 205, 198, 231, 247, 226]\n",
            "[218, 191, 208, 238, 232, 216, 219, 200, 234, 251, 215, 239, 228, 206, 205, 198, 231, 247, 226]\n",
            "[219, 200, 234, 251, 215, 239, 228, 206, 205, 198, 231, 247, 226]\n",
            "[220, 217, 224, 229, 214, 227, 215, 239, 228, 206, 205, 198, 231, 247, 226]\n",
            "[221, 227, 215, 239, 228, 206, 205, 198, 231, 247, 226]\n",
            "[222, 250, 253, 247, 226, 239, 228, 206, 205, 198, 231]\n",
            "[223, 240, 238, 232, 216, 219, 200, 234, 251, 215, 239, 228, 206, 205, 198, 231, 247, 226]\n",
            "[224, 229, 214, 227, 215, 239, 228, 206, 205, 198, 231, 247, 226]\n",
            "[225, 221, 227, 215, 239, 228, 206, 205, 198, 231, 247, 226]\n",
            "[226, 239, 228, 206, 205, 198, 231, 247]\n",
            "[227, 215, 239, 228, 206, 205, 198, 231, 247, 226]\n",
            "[228, 206, 205, 198, 231, 247, 226, 239]\n",
            "[229, 214, 227, 215, 239, 228, 206, 205, 198, 231, 247, 226]\n",
            "[230, 249]\n",
            "[231, 247, 226, 239, 228, 206, 205, 198]\n",
            "[232, 216, 219, 200, 234, 251, 215, 239, 228, 206, 205, 198, 231, 247, 226]\n",
            "[233, 245, 237, 215, 239, 228, 206, 205, 198, 231, 247, 226]\n",
            "[234, 251, 215, 239, 228, 206, 205, 198, 231, 247, 226]\n",
            "[235, 238, 232, 216, 219, 200, 234, 251, 215, 239, 228, 206, 205, 198, 231, 247, 226]\n",
            "[236, 228, 206, 205, 198, 231, 247, 226, 239]\n",
            "[237, 215, 239, 228, 206, 205, 198, 231, 247, 226]\n",
            "[238, 232, 216, 219, 200, 234, 251, 215, 239, 228, 206, 205, 198, 231, 247, 226]\n",
            "[239, 228, 206, 205, 198, 231, 247, 226]\n",
            "[240, 238, 232, 216, 219, 200, 234, 251, 215, 239, 228, 206, 205, 198, 231, 247, 226]\n",
            "[241, 255, 287, 259, 225, 221, 227, 215, 239, 228, 206, 205, 198, 231, 247, 226]\n",
            "[242, 236, 228, 206, 205, 198, 231, 247, 226, 239]\n",
            "[243, 244, 235, 238, 232, 216, 219, 200, 234, 251, 215, 239, 228, 206, 205, 198, 231, 247, 226]\n",
            "[244, 235, 238, 232, 216, 219, 200, 234, 251, 215, 239, 228, 206, 205, 198, 231, 247, 226]\n",
            "[245, 237, 215, 239, 228, 206, 205, 198, 231, 247, 226]\n",
            "[246, 205, 198, 231, 247, 226, 239, 228, 206]\n",
            "[247, 226, 239, 228, 206, 205, 198, 231]\n",
            "[248, 255, 287, 259, 225, 221, 227, 215, 239, 228, 206, 205, 198, 231, 247, 226]\n",
            "[249, 230]\n",
            "[250, 253, 247, 226, 239, 228, 206, 205, 198, 231]\n",
            "[251, 215, 239, 228, 206, 205, 198, 231, 247, 226]\n",
            "[252, 236, 228, 206, 205, 198, 231, 247, 226, 239]\n",
            "[253, 247, 226, 239, 228, 206, 205, 198, 231]\n",
            "[254, 263, 249, 230]\n",
            "[255, 287, 259, 225, 221, 227, 215, 239, 228, 206, 205, 198, 231, 247, 226]\n",
            "[256, 267, 299]\n",
            "[257, 261, 239, 228, 206, 205, 198, 231, 247, 226]\n",
            "[258, 245, 237, 215, 239, 228, 206, 205, 198, 231, 247, 226]\n",
            "[259, 225, 221, 227, 215, 239, 228, 206, 205, 198, 231, 247, 226]\n",
            "[260, 240, 238, 232, 216, 219, 200, 234, 251, 215, 239, 228, 206, 205, 198, 231, 247, 226]\n",
            "[261, 239, 228, 206, 205, 198, 231, 247, 226]\n",
            "[262, 227, 215, 239, 228, 206, 205, 198, 231, 247, 226]\n",
            "[263, 249, 230]\n",
            "[264, 237, 215, 239, 228, 206, 205, 198, 231, 247, 226]\n",
            "[265, 261, 239, 228, 206, 205, 198, 231, 247, 226]\n",
            "[266, 241, 255, 287, 259, 225, 221, 227, 215, 239, 228, 206, 205, 198, 231, 247, 226]\n",
            "[267, 299]\n",
            "[268, 263, 249, 230]\n",
            "[269, 263, 249, 230]\n",
            "[270]\n",
            "[271, 258, 245, 237, 215, 239, 228, 206, 205, 198, 231, 247, 226]\n",
            "[272, 279, 274, 288, 254, 263, 249, 230]\n",
            "[273, 275]\n",
            "[274, 288, 254, 263, 249, 230]\n",
            "[275]\n",
            "[276, 285, 262, 227, 215, 239, 228, 206, 205, 198, 231, 247, 226]\n",
            "[277, 299]\n",
            "[278, 265, 261, 239, 228, 206, 205, 198, 231, 247, 226]\n",
            "[279, 274, 288, 254, 263, 249, 230]\n",
            "[280, 293]\n",
            "[281, 275]\n",
            "[282]\n",
            "[283]\n",
            "[284, 260, 240, 238, 232, 216, 219, 200, 234, 251, 215, 239, 228, 206, 205, 198, 231, 247, 226]\n",
            "[285, 262, 227, 215, 239, 228, 206, 205, 198, 231, 247, 226]\n",
            "[286, 242, 236, 228, 206, 205, 198, 231, 247, 226, 239]\n",
            "[287, 259, 225, 221, 227, 215, 239, 228, 206, 205, 198, 231, 247, 226]\n",
            "[288, 254, 263, 249, 230]\n",
            "[289, 279, 274, 288, 254, 263, 249, 230]\n",
            "[290, 253, 247, 226, 239, 228, 206, 205, 198, 231]\n",
            "[291, 254, 263, 249, 230]\n",
            "[292, 270]\n",
            "[293]\n",
            "[294]\n",
            "[295]\n",
            "[296, 291, 254, 263, 249, 230]\n",
            "[297, 291, 254, 263, 249, 230]\n",
            "[298]\n",
            "[299]\n"
          ]
        }
      ],
      "source": [
        "print(\"Probleme 6\\n\")\n",
        "for i in range(300):\n",
        "    print(go_down_from(i))"
      ]
    },
    {
      "cell_type": "code",
      "execution_count": null,
      "metadata": {
        "id": "7ZY88LlQlu7b"
      },
      "outputs": [],
      "source": [
        "print(\"Probleme 7\\n\")"
      ]
    }
  ],
  "metadata": {
    "colab": {
      "name": "shimoyama.ipynb",
      "provenance": [],
      "include_colab_link": true
    },
    "kernelspec": {
      "display_name": "Python 3",
      "language": "python",
      "name": "python3"
    },
    "language_info": {
      "codemirror_mode": {
        "name": "ipython",
        "version": 3
      },
      "file_extension": ".py",
      "mimetype": "text/x-python",
      "name": "python",
      "nbconvert_exporter": "python",
      "pygments_lexer": "ipython3",
      "version": "3.8.8"
    }
  },
  "nbformat": 4,
  "nbformat_minor": 0
}