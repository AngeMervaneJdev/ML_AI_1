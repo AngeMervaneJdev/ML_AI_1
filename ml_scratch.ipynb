{
  "nbformat": 4,
  "nbformat_minor": 0,
  "metadata": {
    "colab": {
      "name": "ml_scratch.ipynb",
      "provenance": [],
      "authorship_tag": "ABX9TyMRVgvSbyLvNSQwNyhFTsmA",
      "include_colab_link": true
    },
    "kernelspec": {
      "name": "python3",
      "display_name": "Python 3"
    },
    "language_info": {
      "name": "python"
    }
  },
  "cells": [
    {
      "cell_type": "markdown",
      "metadata": {
        "id": "view-in-github",
        "colab_type": "text"
      },
      "source": [
        "<a href=\"https://colab.research.google.com/github/AngeMervaneJdev/ML_AI_1/blob/main/ml_scratch.ipynb\" target=\"_parent\"><img src=\"https://colab.research.google.com/assets/colab-badge.svg\" alt=\"Open In Colab\"/></a>"
      ]
    },
    {
      "cell_type": "markdown",
      "source": [
        "# Importations"
      ],
      "metadata": {
        "id": "JXdyxQpUZOV4"
      }
    },
    {
      "cell_type": "code",
      "source": [
        "import numpy as np\n",
        "import pandas as pd\n",
        "from sklearn.datasets import load_iris\n",
        "from random import seed\n",
        "from random import randrange\n",
        "from numpy import mean\n",
        "from numpy import std\n",
        "from sklearn.linear_model import SGDClassifier\n",
        "from sklearn.preprocessing import StandardScaler\n",
        "from sklearn.pipeline import make_pipeline\n",
        "from sklearn.model_selection import KFold,cross_val_score\n",
        "from sklearn.tree import DecisionTreeClassifier\n",
        "from sklearn.linear_model import LogisticRegression\n",
        "from sklearn.svm import SVC\n",
        "from sklearn.model_selection import RepeatedStratifiedKFold\n",
        "from sklearn.linear_model import SGDRegressor"
      ],
      "metadata": {
        "id": "jGXTdhsKZNR5"
      },
      "execution_count": 146,
      "outputs": []
    },
    {
      "cell_type": "code",
      "execution_count": 82,
      "metadata": {
        "id": "WkorqKzYoNDa",
        "colab": {
          "base_uri": "https://localhost:8080/"
        },
        "outputId": "0a1b7c3a-2822-4d48-bbb3-69b6a198d19d"
      },
      "outputs": [
        {
          "output_type": "execute_result",
          "data": {
            "text/plain": [
              "([], [], [], [])"
            ]
          },
          "metadata": {},
          "execution_count": 82
        }
      ],
      "source": [
        "def scratch_train_test_split(X, y, train_size=0.8):\n",
        "    \"\"\"Divide the validation data.\n",
        "\n",
        "    Parameters\n",
        "    ----------\n",
        "    X : ndarray\n",
        "      Training data (n_samples, n_features)\n",
        "    y : ndarray\n",
        "      Correct answer value (n_samples,)\n",
        "    train_size : float\n",
        "      Specify what percentage to use as a train (0 < train_size < 1)\n",
        "\n",
        "    Returns\n",
        "    -------\n",
        "    X_train : ndarray\n",
        "      Training data (n_samples, n_features)\n",
        "    X_test : ndarray\n",
        "      Validation data (n_samples, n_features)\n",
        "    y_train : ndarray\n",
        "      Correct answer value of training data (n_samples,)\n",
        "    y_test : ndarray\n",
        "      Correct value of verification data (n_samples,)\n",
        "    \"\"\"\n",
        "    # Write code here\n",
        "    X_copy=list(X)\n",
        "    y_copy=list(y)\n",
        "    X_train_len=train_size*len(X)\n",
        "    y_train_len=train_size*len(y)\n",
        "    \n",
        "    X_train, X_test, y_train, y_test=list(),list(),list(),list()\n",
        "    while len(X_train)<X_train_len:\n",
        "      index=randrange(len(X_copy))\n",
        "      X_train.append(X_copy.pop(index))\n",
        "    while len(y_train)<y_train_len:\n",
        "\t   \ty_train.append(y_copy.pop(randrange(len(y_copy))))\n",
        "    X_test,y_test=X_copy,y_copy\n",
        "    pass\n",
        "    return X_train, X_test, y_train, y_test\n",
        "\n",
        "seed(1)\n",
        "scratch_train_test_split([],[],0.6)"
      ]
    },
    {
      "cell_type": "markdown",
      "source": [
        "# [Problem 1] Scratch of train_test_split​\n",
        "\n"
      ],
      "metadata": {
        "id": "5vdKlWJv1C8m"
      }
    },
    {
      "cell_type": "markdown",
      "source": [
        "## Load iris dataset"
      ],
      "metadata": {
        "id": "hrY14TOFyXtp"
      }
    },
    {
      "cell_type": "code",
      "source": [
        "data = load_iris()\n",
        "Y=data.target\n",
        "X=data.data\n",
        "\n",
        "dfX=pd.DataFrame(data=X,columns=[\"sepal_length\",\"sepal_width\",\"petal_length\",\"petal_width\"])\n",
        "dfY=pd.DataFrame(data=Y,columns=[\"Species\"])\n",
        "\n",
        "df=pd.concat([dfX,dfY],axis=1)\n",
        "df"
      ],
      "metadata": {
        "colab": {
          "base_uri": "https://localhost:8080/",
          "height": 0
        },
        "id": "vd31JC4WZWdT",
        "outputId": "1f1a638c-b9c2-4dae-8161-235c94868f7f"
      },
      "execution_count": 167,
      "outputs": [
        {
          "output_type": "execute_result",
          "data": {
            "text/html": [
              "\n",
              "  <div id=\"df-54a8c14f-9dd1-49b9-a325-bc5fdabb8e53\">\n",
              "    <div class=\"colab-df-container\">\n",
              "      <div>\n",
              "<style scoped>\n",
              "    .dataframe tbody tr th:only-of-type {\n",
              "        vertical-align: middle;\n",
              "    }\n",
              "\n",
              "    .dataframe tbody tr th {\n",
              "        vertical-align: top;\n",
              "    }\n",
              "\n",
              "    .dataframe thead th {\n",
              "        text-align: right;\n",
              "    }\n",
              "</style>\n",
              "<table border=\"1\" class=\"dataframe\">\n",
              "  <thead>\n",
              "    <tr style=\"text-align: right;\">\n",
              "      <th></th>\n",
              "      <th>sepal_length</th>\n",
              "      <th>sepal_width</th>\n",
              "      <th>petal_length</th>\n",
              "      <th>petal_width</th>\n",
              "      <th>Species</th>\n",
              "    </tr>\n",
              "  </thead>\n",
              "  <tbody>\n",
              "    <tr>\n",
              "      <th>0</th>\n",
              "      <td>5.1</td>\n",
              "      <td>3.5</td>\n",
              "      <td>1.4</td>\n",
              "      <td>0.2</td>\n",
              "      <td>0</td>\n",
              "    </tr>\n",
              "    <tr>\n",
              "      <th>1</th>\n",
              "      <td>4.9</td>\n",
              "      <td>3.0</td>\n",
              "      <td>1.4</td>\n",
              "      <td>0.2</td>\n",
              "      <td>0</td>\n",
              "    </tr>\n",
              "    <tr>\n",
              "      <th>2</th>\n",
              "      <td>4.7</td>\n",
              "      <td>3.2</td>\n",
              "      <td>1.3</td>\n",
              "      <td>0.2</td>\n",
              "      <td>0</td>\n",
              "    </tr>\n",
              "    <tr>\n",
              "      <th>3</th>\n",
              "      <td>4.6</td>\n",
              "      <td>3.1</td>\n",
              "      <td>1.5</td>\n",
              "      <td>0.2</td>\n",
              "      <td>0</td>\n",
              "    </tr>\n",
              "    <tr>\n",
              "      <th>4</th>\n",
              "      <td>5.0</td>\n",
              "      <td>3.6</td>\n",
              "      <td>1.4</td>\n",
              "      <td>0.2</td>\n",
              "      <td>0</td>\n",
              "    </tr>\n",
              "    <tr>\n",
              "      <th>...</th>\n",
              "      <td>...</td>\n",
              "      <td>...</td>\n",
              "      <td>...</td>\n",
              "      <td>...</td>\n",
              "      <td>...</td>\n",
              "    </tr>\n",
              "    <tr>\n",
              "      <th>145</th>\n",
              "      <td>6.7</td>\n",
              "      <td>3.0</td>\n",
              "      <td>5.2</td>\n",
              "      <td>2.3</td>\n",
              "      <td>2</td>\n",
              "    </tr>\n",
              "    <tr>\n",
              "      <th>146</th>\n",
              "      <td>6.3</td>\n",
              "      <td>2.5</td>\n",
              "      <td>5.0</td>\n",
              "      <td>1.9</td>\n",
              "      <td>2</td>\n",
              "    </tr>\n",
              "    <tr>\n",
              "      <th>147</th>\n",
              "      <td>6.5</td>\n",
              "      <td>3.0</td>\n",
              "      <td>5.2</td>\n",
              "      <td>2.0</td>\n",
              "      <td>2</td>\n",
              "    </tr>\n",
              "    <tr>\n",
              "      <th>148</th>\n",
              "      <td>6.2</td>\n",
              "      <td>3.4</td>\n",
              "      <td>5.4</td>\n",
              "      <td>2.3</td>\n",
              "      <td>2</td>\n",
              "    </tr>\n",
              "    <tr>\n",
              "      <th>149</th>\n",
              "      <td>5.9</td>\n",
              "      <td>3.0</td>\n",
              "      <td>5.1</td>\n",
              "      <td>1.8</td>\n",
              "      <td>2</td>\n",
              "    </tr>\n",
              "  </tbody>\n",
              "</table>\n",
              "<p>150 rows × 5 columns</p>\n",
              "</div>\n",
              "      <button class=\"colab-df-convert\" onclick=\"convertToInteractive('df-54a8c14f-9dd1-49b9-a325-bc5fdabb8e53')\"\n",
              "              title=\"Convert this dataframe to an interactive table.\"\n",
              "              style=\"display:none;\">\n",
              "        \n",
              "  <svg xmlns=\"http://www.w3.org/2000/svg\" height=\"24px\"viewBox=\"0 0 24 24\"\n",
              "       width=\"24px\">\n",
              "    <path d=\"M0 0h24v24H0V0z\" fill=\"none\"/>\n",
              "    <path d=\"M18.56 5.44l.94 2.06.94-2.06 2.06-.94-2.06-.94-.94-2.06-.94 2.06-2.06.94zm-11 1L8.5 8.5l.94-2.06 2.06-.94-2.06-.94L8.5 2.5l-.94 2.06-2.06.94zm10 10l.94 2.06.94-2.06 2.06-.94-2.06-.94-.94-2.06-.94 2.06-2.06.94z\"/><path d=\"M17.41 7.96l-1.37-1.37c-.4-.4-.92-.59-1.43-.59-.52 0-1.04.2-1.43.59L10.3 9.45l-7.72 7.72c-.78.78-.78 2.05 0 2.83L4 21.41c.39.39.9.59 1.41.59.51 0 1.02-.2 1.41-.59l7.78-7.78 2.81-2.81c.8-.78.8-2.07 0-2.86zM5.41 20L4 18.59l7.72-7.72 1.47 1.35L5.41 20z\"/>\n",
              "  </svg>\n",
              "      </button>\n",
              "      \n",
              "  <style>\n",
              "    .colab-df-container {\n",
              "      display:flex;\n",
              "      flex-wrap:wrap;\n",
              "      gap: 12px;\n",
              "    }\n",
              "\n",
              "    .colab-df-convert {\n",
              "      background-color: #E8F0FE;\n",
              "      border: none;\n",
              "      border-radius: 50%;\n",
              "      cursor: pointer;\n",
              "      display: none;\n",
              "      fill: #1967D2;\n",
              "      height: 32px;\n",
              "      padding: 0 0 0 0;\n",
              "      width: 32px;\n",
              "    }\n",
              "\n",
              "    .colab-df-convert:hover {\n",
              "      background-color: #E2EBFA;\n",
              "      box-shadow: 0px 1px 2px rgba(60, 64, 67, 0.3), 0px 1px 3px 1px rgba(60, 64, 67, 0.15);\n",
              "      fill: #174EA6;\n",
              "    }\n",
              "\n",
              "    [theme=dark] .colab-df-convert {\n",
              "      background-color: #3B4455;\n",
              "      fill: #D2E3FC;\n",
              "    }\n",
              "\n",
              "    [theme=dark] .colab-df-convert:hover {\n",
              "      background-color: #434B5C;\n",
              "      box-shadow: 0px 1px 3px 1px rgba(0, 0, 0, 0.15);\n",
              "      filter: drop-shadow(0px 1px 2px rgba(0, 0, 0, 0.3));\n",
              "      fill: #FFFFFF;\n",
              "    }\n",
              "  </style>\n",
              "\n",
              "      <script>\n",
              "        const buttonEl =\n",
              "          document.querySelector('#df-54a8c14f-9dd1-49b9-a325-bc5fdabb8e53 button.colab-df-convert');\n",
              "        buttonEl.style.display =\n",
              "          google.colab.kernel.accessAllowed ? 'block' : 'none';\n",
              "\n",
              "        async function convertToInteractive(key) {\n",
              "          const element = document.querySelector('#df-54a8c14f-9dd1-49b9-a325-bc5fdabb8e53');\n",
              "          const dataTable =\n",
              "            await google.colab.kernel.invokeFunction('convertToInteractive',\n",
              "                                                     [key], {});\n",
              "          if (!dataTable) return;\n",
              "\n",
              "          const docLinkHtml = 'Like what you see? Visit the ' +\n",
              "            '<a target=\"_blank\" href=https://colab.research.google.com/notebooks/data_table.ipynb>data table notebook</a>'\n",
              "            + ' to learn more about interactive tables.';\n",
              "          element.innerHTML = '';\n",
              "          dataTable['output_type'] = 'display_data';\n",
              "          await google.colab.output.renderOutput(dataTable, element);\n",
              "          const docLink = document.createElement('div');\n",
              "          docLink.innerHTML = docLinkHtml;\n",
              "          element.appendChild(docLink);\n",
              "        }\n",
              "      </script>\n",
              "    </div>\n",
              "  </div>\n",
              "  "
            ],
            "text/plain": [
              "     sepal_length  sepal_width  petal_length  petal_width  Species\n",
              "0             5.1          3.5           1.4          0.2        0\n",
              "1             4.9          3.0           1.4          0.2        0\n",
              "2             4.7          3.2           1.3          0.2        0\n",
              "3             4.6          3.1           1.5          0.2        0\n",
              "4             5.0          3.6           1.4          0.2        0\n",
              "..            ...          ...           ...          ...      ...\n",
              "145           6.7          3.0           5.2          2.3        2\n",
              "146           6.3          2.5           5.0          1.9        2\n",
              "147           6.5          3.0           5.2          2.0        2\n",
              "148           6.2          3.4           5.4          2.3        2\n",
              "149           5.9          3.0           5.1          1.8        2\n",
              "\n",
              "[150 rows x 5 columns]"
            ]
          },
          "metadata": {},
          "execution_count": 167
        }
      ]
    },
    {
      "cell_type": "markdown",
      "source": [
        "## test train_test_split scratch"
      ],
      "metadata": {
        "id": "c0wvPgKwycku"
      }
    },
    {
      "cell_type": "code",
      "source": [
        "X_train, X_test, y_train, y_test=scratch_train_test_split(X=X,y=Y)"
      ],
      "metadata": {
        "id": "Zc9LKgAs2p9S"
      },
      "execution_count": 168,
      "outputs": []
    },
    {
      "cell_type": "code",
      "source": [
        "clf = make_pipeline(StandardScaler(),SGDClassifier(max_iter=1000, tol=1e-3,loss=\"log\"))\n",
        "clf.fit(X_train, y_train)\n",
        "print(clf.predict(X_test))"
      ],
      "metadata": {
        "colab": {
          "base_uri": "https://localhost:8080/"
        },
        "id": "9krwxwo1v9yp",
        "outputId": "cb07a282-04f9-4f03-b7e3-e077b1e87b92"
      },
      "execution_count": 169,
      "outputs": [
        {
          "output_type": "stream",
          "name": "stdout",
          "text": [
            "[1 1 1 1 0 1 0 0 1 2 2 0 0 2 0 2 2 0 2 0 0 2 0 2 2 2 0 2 2 2]\n"
          ]
        }
      ]
    },
    {
      "cell_type": "markdown",
      "source": [
        "## Set 1"
      ],
      "metadata": {
        "id": "a-GNXXLR3C8E"
      }
    },
    {
      "cell_type": "code",
      "source": [
        "np.random.seed(seed=0)\n",
        "n_samples = 500\n",
        "f0 = [-1, 2]\n",
        "f1 = [2, -1]\n",
        "cov = [[1.0,0.8], [0.8, 1.0]]\n",
        "f0 = np.random.multivariate_normal(f0, cov, n_samples // 2)\n",
        "f1 = np.random.multivariate_normal(f1, cov, n_samples // 2)\n",
        "X1 = np.concatenate([f0, f1])\n",
        "y1 = np.concatenate([\n",
        "    np.full(n_samples // 2, 1),\n",
        "    np.full(n_samples // 2, -1)\n",
        "])"
      ],
      "metadata": {
        "id": "rFMWJUrt3GRy"
      },
      "execution_count": 170,
      "outputs": []
    },
    {
      "cell_type": "code",
      "source": [
        "X_train1, X_test1, y_train1, y_test1=scratch_train_test_split(X=X1,y=y1)\n",
        "print(len(X_train1),len(y_train1))\n",
        "print(\"\\n\\n\")\n",
        "clf = make_pipeline(StandardScaler(),SGDClassifier(max_iter=1000, tol=1e-3,loss=\"log\"))\n",
        "clf.fit(X_train1, y_train1)\n",
        "print(clf.predict(X_test1))"
      ],
      "metadata": {
        "colab": {
          "base_uri": "https://localhost:8080/"
        },
        "id": "aRxzQ_eA3StF",
        "outputId": "843671d7-6fc1-4a24-e5ec-fa9e42aa5b07"
      },
      "execution_count": 171,
      "outputs": [
        {
          "output_type": "stream",
          "name": "stdout",
          "text": [
            "400 400\n",
            "\n",
            "\n",
            "\n",
            "[1 1 1 1 1 1 1 1 1 1 1 1 1 1 1 1 1 1 1 1 1 1 1 1 1 1 1 1 1 1 1 1 1 1 1 1 1\n",
            " 1 1 1 1 1 1 1 1 1 1 1 1 1 1 1 1 1 1 1 1 1 1 1 1 1 1 1 1 1 1 1 1 1 1 1 1 1\n",
            " 1 1 1 1 1 1 1 1 1 1 1 1 1 1 1 1 1 1 1 1 1 1 1 1 1 1]\n"
          ]
        }
      ]
    },
    {
      "cell_type": "markdown",
      "source": [
        "## Set 2"
      ],
      "metadata": {
        "id": "x-_EZIfi3cGu"
      }
    },
    {
      "cell_type": "code",
      "source": [
        "X2 = np.array([\n",
        "    [-0.44699 , -2.8073  ],[-1.4621  , -2.4586  ],\n",
        "    [ 0.10645 ,  1.9242  ],[-3.5944  , -4.0112  ],\n",
        "    [-0.9888  ,  4.5718  ],[-3.1625  , -3.9606  ],\n",
        "    [ 0.56421 ,  0.72888 ],[-0.60216 ,  8.4636  ],\n",
        "    [-0.61251 , -0.75345 ],[-0.73535 , -2.2718  ],\n",
        "    [-0.80647 , -2.2135  ],[ 0.86291 ,  2.3946  ],\n",
        "    [-3.1108  ,  0.15394 ],[-2.9362  ,  2.5462  ],\n",
        "    [-0.57242 , -2.9915  ],[ 1.4771  ,  3.4896  ],\n",
        "    [ 0.58619 ,  0.37158 ],[ 0.6017  ,  4.3439  ],\n",
        "    [-2.1086  ,  8.3428  ],[-4.1013  , -4.353   ],\n",
        "    [-1.9948  , -1.3927  ],[ 0.35084 , -0.031994],\n",
        "    [ 0.96765 ,  7.8929  ],[-1.281   , 15.6824  ],\n",
        "    [ 0.96765 , 10.083   ],[ 1.3763  ,  1.3347  ],\n",
        "    [-2.234   , -2.5323  ],[-2.9452  , -1.8219  ],\n",
        "    [ 0.14654 , -0.28733 ],[ 0.5461  ,  5.8245  ],\n",
        "    [-0.65259 ,  9.3444  ],[ 0.59912 ,  5.3524  ],\n",
        "    [ 0.50214 , -0.31818 ],[-3.0603  , -3.6461  ],\n",
        "    [-6.6797  ,  0.67661 ],[-2.353   , -0.72261 ],\n",
        "    [ 1.1319  ,  2.4023  ],[-0.12243 ,  9.0162  ],\n",
        "    [-2.5677  , 13.1779  ],[ 0.057313,  5.4681  ],\n",
        "])\n",
        "y2 = np.array([0, 0, 0, 0, 0, 0, 0, 0, 0, 0, 0, 0, 0, 0, 0, 0, 0, 0, 0, 0, 1, 1,\n",
        "       1, 1, 1, 1, 1, 1, 1, 1, 1, 1, 1, 1, 1, 1, 1, 1, 1, 1])"
      ],
      "metadata": {
        "id": "Xc5mZlB33eJj"
      },
      "execution_count": 172,
      "outputs": []
    },
    {
      "cell_type": "code",
      "source": [
        "X_train2, X_test2, y_train2, y_test2=scratch_train_test_split(X=X2,y=y2)\n",
        "clf = make_pipeline(StandardScaler(),SGDClassifier(max_iter=1000, tol=1e-3,loss=\"log\"))\n",
        "clf.fit(X_train2, y_train2)\n",
        "print(clf.predict(X_test2))"
      ],
      "metadata": {
        "colab": {
          "base_uri": "https://localhost:8080/"
        },
        "id": "ck8GTUmN3hr9",
        "outputId": "e4c30378-f0cb-41fc-9828-1e6be7a30041"
      },
      "execution_count": 173,
      "outputs": [
        {
          "output_type": "stream",
          "name": "stdout",
          "text": [
            "[1 1 1 0 0 1 1 0]\n"
          ]
        }
      ]
    },
    {
      "cell_type": "markdown",
      "source": [
        "# [Problem 2] Creating a code to solve the classification problem"
      ],
      "metadata": {
        "id": "V7l8abv88Bwp"
      }
    },
    {
      "cell_type": "markdown",
      "source": [
        "## Train models"
      ],
      "metadata": {
        "id": "8_7QhEn48N1R"
      }
    },
    {
      "cell_type": "code",
      "source": [
        "# EVALUATE MODEL USING CROSS_VALIDATION\n",
        "def evaluate_model(model, X, y):\n",
        "  cv = RepeatedStratifiedKFold(n_splits=10, n_repeats=3, random_state=1)\n",
        "  scores=cross_val_score(model, X, y, scoring='accuracy', cv=cv, n_jobs=-1, error_score='raise') \n",
        "  print(\"%.3f (%.3f)\" % (mean(scores),std(scores)))"
      ],
      "metadata": {
        "id": "NiBxtJDTGJl7"
      },
      "execution_count": 174,
      "outputs": []
    },
    {
      "cell_type": "markdown",
      "source": [
        "### Logistic regression"
      ],
      "metadata": {
        "id": "MbAZPQDy8Q1B"
      }
    },
    {
      "cell_type": "markdown",
      "source": [
        "#### set 2"
      ],
      "metadata": {
        "id": "eUZS3I_FDy-z"
      }
    },
    {
      "cell_type": "code",
      "source": [
        "X_train2, X_test2, y_train2, y_test2=scratch_train_test_split(X=X2,y=y2)\n",
        "clf = make_pipeline(StandardScaler(),LogisticRegression(max_iter=1000, tol=1e-3))\n",
        "clf.fit(X_train2, y_train2)\n",
        "print('Prediction')\n",
        "print(clf.predict(X_test2))\n",
        "print('Evaluation')\n",
        "evaluate_model(LogisticRegression(max_iter=1000, tol=1e-3),X2,y2)"
      ],
      "metadata": {
        "colab": {
          "base_uri": "https://localhost:8080/"
        },
        "id": "tqzNLBnn8Wfq",
        "outputId": "d02bb900-6818-4444-f312-91d9a708e2f8"
      },
      "execution_count": 175,
      "outputs": [
        {
          "output_type": "stream",
          "name": "stdout",
          "text": [
            "Prediction\n",
            "[0 0 1 0 1 0 0 0]\n",
            "Evaluation\n",
            "0.575 (0.234)\n"
          ]
        }
      ]
    },
    {
      "cell_type": "markdown",
      "source": [
        "#### set 1"
      ],
      "metadata": {
        "id": "PZ7Y0XiKD7UQ"
      }
    },
    {
      "cell_type": "code",
      "source": [
        "X_train1, X_test1, y_train1, y_test1=scratch_train_test_split(X=X1,y=y1)\n",
        "clf = make_pipeline(StandardScaler(),LogisticRegression(max_iter=1000, tol=1e-3))\n",
        "clf.fit(X_train1, y_train1)\n",
        "print('Prediction')\n",
        "print(clf.predict(X_test1))\n",
        "print('Evaluation')\n",
        "evaluate_model(LogisticRegression(max_iter=1000, tol=1e-3),X1,y1)"
      ],
      "metadata": {
        "colab": {
          "base_uri": "https://localhost:8080/"
        },
        "id": "SBI_J9_MD36P",
        "outputId": "7770f062-7200-4e4f-cd01-c7bff6003719"
      },
      "execution_count": 176,
      "outputs": [
        {
          "output_type": "stream",
          "name": "stdout",
          "text": [
            "Prediction\n",
            "[ 1  1  1 -1  1 -1 -1 -1 -1 -1 -1 -1 -1 -1  1  1 -1 -1 -1  1 -1 -1 -1 -1\n",
            "  1 -1  1  1 -1 -1 -1 -1 -1 -1 -1 -1  1  1 -1 -1 -1 -1 -1 -1 -1 -1 -1 -1\n",
            " -1 -1 -1 -1 -1  1  1 -1 -1  1  1  1  1 -1 -1  1  1 -1  1 -1  1  1  1  1\n",
            "  1  1 -1  1  1  1 -1 -1  1  1 -1  1 -1  1  1 -1 -1  1  1  1 -1  1  1  1\n",
            "  1  1  1  1]\n",
            "Evaluation\n",
            "1.000 (0.000)\n"
          ]
        }
      ]
    },
    {
      "cell_type": "markdown",
      "source": [
        "#### iris dataset"
      ],
      "metadata": {
        "id": "vHZwy4fhEPQP"
      }
    },
    {
      "cell_type": "code",
      "source": [
        "X_train, X_test, y_train, y_test=scratch_train_test_split(X=X,y=Y)\n",
        "clf = make_pipeline(StandardScaler(),LogisticRegression(max_iter=1000, tol=1e-3))\n",
        "clf.fit(X_train, y_train)\n",
        "print('Prediction')\n",
        "print(clf.predict(X_test))\n",
        "print('Evaluation')\n",
        "evaluate_model(LogisticRegression(max_iter=1000, tol=1e-3),X,Y)"
      ],
      "metadata": {
        "colab": {
          "base_uri": "https://localhost:8080/"
        },
        "id": "HTPuuWLp8M9m",
        "outputId": "017df031-fee8-4cc0-8893-16a852ff9b5a"
      },
      "execution_count": 177,
      "outputs": [
        {
          "output_type": "stream",
          "name": "stdout",
          "text": [
            "Prediction\n",
            "[1 1 1 0 2 2 2 0 0 1 1 0 1 1 1 0 1 1 0 0 0 0 0 0 0 0 1 0 0 0]\n",
            "Evaluation\n",
            "0.964 (0.041)\n"
          ]
        }
      ]
    },
    {
      "cell_type": "markdown",
      "source": [
        "### SVM"
      ],
      "metadata": {
        "id": "8zG0DlsqEh0w"
      }
    },
    {
      "cell_type": "markdown",
      "source": [
        "#### set 2"
      ],
      "metadata": {
        "id": "LBUB7XbqEh0y"
      }
    },
    {
      "cell_type": "code",
      "source": [
        "# TRAINNING AND PREDICTION\n",
        "X_train2, X_test2, y_train2, y_test2=scratch_train_test_split(X=X2,y=y2)\n",
        "clf = make_pipeline(StandardScaler(),SVC(gamma='auto'))\n",
        "clf.fit(X_train2, y_train2)\n",
        "print('Prediction')\n",
        "print(clf.predict(X_test2))\n",
        "print('Evaluation')\n",
        "evaluate_model(SVC(gamma='auto'),X2,y2)"
      ],
      "metadata": {
        "colab": {
          "base_uri": "https://localhost:8080/"
        },
        "outputId": "1e31e5b6-b490-4576-de68-12069b2e9398",
        "id": "-1X6lTQeEh0z"
      },
      "execution_count": 178,
      "outputs": [
        {
          "output_type": "stream",
          "name": "stdout",
          "text": [
            "Prediction\n",
            "[1 0 1 1 1 0 1 1]\n",
            "Evaluation\n",
            "0.700 (0.227)\n"
          ]
        }
      ]
    },
    {
      "cell_type": "markdown",
      "source": [
        "#### set 1"
      ],
      "metadata": {
        "id": "NseqxQLYEh01"
      }
    },
    {
      "cell_type": "code",
      "source": [
        "X_train1, X_test1, y_train1, y_test1=scratch_train_test_split(X=X1,y=y1)\n",
        "clf = make_pipeline(StandardScaler(),SVC(gamma='auto'))\n",
        "clf.fit(X_train1, y_train1)\n",
        "print('Prediction')\n",
        "print(clf.predict(X_test1))\n",
        "print('Evaluation')\n",
        "evaluate_model(SVC(gamma='auto'),X1,y1)"
      ],
      "metadata": {
        "colab": {
          "base_uri": "https://localhost:8080/"
        },
        "outputId": "52cde870-8a25-4ffb-8bd6-5cf112ae850f",
        "id": "1S3ZFJcZEh02"
      },
      "execution_count": 179,
      "outputs": [
        {
          "output_type": "stream",
          "name": "stdout",
          "text": [
            "Prediction\n",
            "[ 1  1  1  1  1  1  1  1  1  1  1  1  1  1  1  1  1  1  1  1  1  1  1  1\n",
            "  1  1  1  1  1  1  1  1  1  1  1  1  1  1  1  1  1  1  1  1  1  1  1  1\n",
            "  1  1  1  1 -1 -1 -1 -1 -1 -1 -1 -1 -1 -1 -1 -1 -1 -1 -1 -1 -1 -1 -1 -1\n",
            " -1 -1 -1 -1 -1 -1 -1 -1 -1 -1 -1 -1 -1 -1 -1 -1 -1 -1 -1 -1 -1 -1 -1 -1\n",
            " -1 -1 -1 -1]\n",
            "Evaluation\n",
            "1.000 (0.000)\n"
          ]
        }
      ]
    },
    {
      "cell_type": "markdown",
      "source": [
        "#### iris dataset"
      ],
      "metadata": {
        "id": "s_RD0DlzEh03"
      }
    },
    {
      "cell_type": "code",
      "source": [
        "X_train, X_test, y_train, y_test=scratch_train_test_split(X=X,y=Y)\n",
        "clf = make_pipeline(StandardScaler(),LogisticRegression(max_iter=1000, tol=1e-3))\n",
        "clf.fit(X_train, y_train)\n",
        "print('Prediction')\n",
        "print(clf.predict(X_test))\n",
        "print('Evaluation')\n",
        "evaluate_model(SVC(gamma='auto'),X,Y)"
      ],
      "metadata": {
        "colab": {
          "base_uri": "https://localhost:8080/"
        },
        "outputId": "69147e9c-b271-45e7-d736-e1826616f4ce",
        "id": "Ih5lCsVAEh03"
      },
      "execution_count": 180,
      "outputs": [
        {
          "output_type": "stream",
          "name": "stdout",
          "text": [
            "Prediction\n",
            "[0 0 0 0 0 0 0 0 1 1 0 0 0 0 2 1 0 1 0 0 2 2 2 2 0 2 2 1 2 2]\n",
            "Evaluation\n",
            "0.978 (0.031)\n"
          ]
        }
      ]
    },
    {
      "cell_type": "markdown",
      "source": [
        "### Decision tree"
      ],
      "metadata": {
        "id": "fJg4oqp2Jjpg"
      }
    },
    {
      "cell_type": "markdown",
      "source": [
        "#### set 2"
      ],
      "metadata": {
        "id": "9wrsRfojJjp_"
      }
    },
    {
      "cell_type": "code",
      "source": [
        "# TRAINNING AND PREDICTION\n",
        "X_train2, X_test2, y_train2, y_test2=scratch_train_test_split(X=X2,y=y2)\n",
        "clf = make_pipeline(StandardScaler(),DecisionTreeClassifier())\n",
        "clf.fit(X_train2, y_train2)\n",
        "print('Prediction')\n",
        "print(clf.predict(X_test2))\n",
        "print('Evaluation')\n",
        "evaluate_model(DecisionTreeClassifier(),X2,y2)"
      ],
      "metadata": {
        "colab": {
          "base_uri": "https://localhost:8080/"
        },
        "outputId": "9012ab25-e8a8-4418-9e74-5473e2794c03",
        "id": "GUl8Cz58JjqA"
      },
      "execution_count": 181,
      "outputs": [
        {
          "output_type": "stream",
          "name": "stdout",
          "text": [
            "Prediction\n",
            "[0 1 1 0 1 0 0 0]\n",
            "Evaluation\n",
            "0.683 (0.266)\n"
          ]
        }
      ]
    },
    {
      "cell_type": "markdown",
      "source": [
        "#### set 1"
      ],
      "metadata": {
        "id": "9jTiopSuJjqC"
      }
    },
    {
      "cell_type": "code",
      "source": [
        "X_train1, X_test1, y_train1, y_test1=scratch_train_test_split(X=X1,y=y1)\n",
        "clf = make_pipeline(StandardScaler(),DecisionTreeClassifier())\n",
        "clf.fit(X_train1, y_train1)\n",
        "print('Prediction')\n",
        "print(clf.predict(X_test1))\n",
        "print('Evaluation')\n",
        "evaluate_model(DecisionTreeClassifier(),X1,y1)"
      ],
      "metadata": {
        "colab": {
          "base_uri": "https://localhost:8080/"
        },
        "outputId": "716d2312-41cd-4d5d-fa78-4242d3ebd1d0",
        "id": "m3Bej0hsJjqC"
      },
      "execution_count": 182,
      "outputs": [
        {
          "output_type": "stream",
          "name": "stdout",
          "text": [
            "Prediction\n",
            "[ 1 -1  1  1 -1  1  1 -1 -1  1 -1  1 -1 -1 -1  1  1  1  1  1 -1  1  1 -1\n",
            " -1  1 -1  1 -1  1  1 -1 -1  1 -1  1 -1  1 -1  1  1 -1 -1  1 -1 -1 -1 -1\n",
            " -1 -1  1 -1  1 -1  1 -1  1 -1  1 -1 -1 -1 -1 -1 -1 -1  1 -1 -1 -1  1  1\n",
            "  1  1 -1 -1 -1 -1  1 -1 -1 -1  1  1  1 -1  1  1  1  1 -1 -1 -1 -1 -1 -1\n",
            " -1  1 -1  1]\n",
            "Evaluation\n",
            "0.998 (0.006)\n"
          ]
        }
      ]
    },
    {
      "cell_type": "markdown",
      "source": [
        "#### iris dataset"
      ],
      "metadata": {
        "id": "7WOZiBVvJjqD"
      }
    },
    {
      "cell_type": "code",
      "source": [
        "X_train, X_test, y_train, y_test=scratch_train_test_split(X=X,y=Y)\n",
        "clf = make_pipeline(StandardScaler(),DecisionTreeClassifier())\n",
        "clf.fit(X_train, y_train)\n",
        "print('Prediction')\n",
        "print(clf.predict(X_test))\n",
        "print('Evaluation')\n",
        "evaluate_model(DecisionTreeClassifier(),X,Y)"
      ],
      "metadata": {
        "colab": {
          "base_uri": "https://localhost:8080/"
        },
        "outputId": "b7726747-af85-4fd8-b14e-5e339d7ee654",
        "id": "vMBZeQseJjqE"
      },
      "execution_count": 183,
      "outputs": [
        {
          "output_type": "stream",
          "name": "stdout",
          "text": [
            "Prediction\n",
            "[0 2 1 1 0 1 2 2 1 0 1 0 2 1 2 0 1 2 2 1 2 2 1 1 2 1 0 0 1 1]\n",
            "Evaluation\n",
            "0.951 (0.054)\n"
          ]
        }
      ]
    },
    {
      "cell_type": "markdown",
      "source": [
        "#Regression problem"
      ],
      "metadata": {
        "id": "Si1cQtXfMMOc"
      }
    },
    {
      "cell_type": "code",
      "source": [
        "data=pd.read_csv(\"train.csv\")\n",
        "X=np.array(data[['GrLivArea',\"YearBuilt\"]])\n",
        "y=data.SalePrice"
      ],
      "metadata": {
        "id": "xntECxAJMLfJ"
      },
      "execution_count": 197,
      "outputs": []
    },
    {
      "cell_type": "code",
      "source": [
        "X"
      ],
      "metadata": {
        "colab": {
          "base_uri": "https://localhost:8080/"
        },
        "id": "kgv1EMg8OWcY",
        "outputId": "5625b5c5-28ec-4a16-b08c-19236d1ae326"
      },
      "execution_count": 198,
      "outputs": [
        {
          "output_type": "execute_result",
          "data": {
            "text/plain": [
              "array([[1710, 2003],\n",
              "       [1262, 1976],\n",
              "       [1786, 2001],\n",
              "       ...,\n",
              "       [2340, 1941],\n",
              "       [1078, 1950],\n",
              "       [1256, 1965]])"
            ]
          },
          "metadata": {},
          "execution_count": 198
        }
      ]
    },
    {
      "cell_type": "code",
      "source": [
        "y"
      ],
      "metadata": {
        "colab": {
          "base_uri": "https://localhost:8080/"
        },
        "id": "jDy_0yoQNq9Q",
        "outputId": "912ae91d-b47d-4cb8-d48f-f503c2876801"
      },
      "execution_count": 194,
      "outputs": [
        {
          "output_type": "execute_result",
          "data": {
            "text/plain": [
              "0       208500\n",
              "1       181500\n",
              "2       223500\n",
              "3       140000\n",
              "4       250000\n",
              "         ...  \n",
              "1455    175000\n",
              "1456    210000\n",
              "1457    266500\n",
              "1458    142125\n",
              "1459    147500\n",
              "Name: SalePrice, Length: 1460, dtype: int64"
            ]
          },
          "metadata": {},
          "execution_count": 194
        }
      ]
    },
    {
      "cell_type": "markdown",
      "source": [
        "# [Problem 3] Creating a code to solve the regression problem"
      ],
      "metadata": {
        "id": "edoYLLG5Q894"
      }
    },
    {
      "cell_type": "code",
      "source": [
        "X_train, X_test, y_train, y_test=scratch_train_test_split(X=X,y=y)\n",
        "reg =SGDRegressor()\n",
        "reg.fit(X_train, y_train)\n",
        "\n",
        "reg.score(X_test,y_test)"
      ],
      "metadata": {
        "colab": {
          "base_uri": "https://localhost:8080/"
        },
        "id": "iL6i5O_DPCso",
        "outputId": "a9e9285b-8b5b-4042-986e-c102cc033480"
      },
      "execution_count": 206,
      "outputs": [
        {
          "output_type": "execute_result",
          "data": {
            "text/plain": [
              "-1.9782013702053935e+21"
            ]
          },
          "metadata": {},
          "execution_count": 206
        }
      ]
    },
    {
      "cell_type": "code",
      "source": [
        ""
      ],
      "metadata": {
        "id": "usIAgqAVQquZ"
      },
      "execution_count": 187,
      "outputs": []
    }
  ]
}