{
  "nbformat": 4,
  "nbformat_minor": 0,
  "metadata": {
    "colab": {
      "name": "folds.ipynb",
      "provenance": [],
      "authorship_tag": "ABX9TyMeHXtTIMh5lxkps17slLPH",
      "include_colab_link": true
    },
    "kernelspec": {
      "name": "python3",
      "display_name": "Python 3"
    },
    "language_info": {
      "name": "python"
    }
  },
  "cells": [
    {
      "cell_type": "markdown",
      "metadata": {
        "id": "view-in-github",
        "colab_type": "text"
      },
      "source": [
        "<a href=\"https://colab.research.google.com/github/AngeMervaneJdev/ML_AI_1/blob/main/folds.ipynb\" target=\"_parent\"><img src=\"https://colab.research.google.com/assets/colab-badge.svg\" alt=\"Open In Colab\"/></a>"
      ]
    },
    {
      "cell_type": "code",
      "source": [
        "print(\"Probleme 1\\n\")\n",
        "THICKNESS = 0.00008\n",
        "folded_thickness = THICKNESS*(2**42)\n",
        "print(\"厚さ： {}メートル\".format(folded_thickness))"
      ],
      "metadata": {
        "colab": {
          "base_uri": "https://localhost:8080/"
        },
        "id": "9o6u2z82_KD8",
        "outputId": "c6dcdd2c-b8f9-45f8-c344-8036bd28f51f"
      },
      "execution_count": 36,
      "outputs": [
        {
          "output_type": "stream",
          "name": "stdout",
          "text": [
            "Probleme 1\n",
            "厚さ： 351843720.88832メートル\n"
          ]
        }
      ]
    },
    {
      "cell_type": "code",
      "source": [
        "print(\"Probleme 2\\n\")\n",
        "THICKNESS = 0.00008\n",
        "folded_thickness = THICKNESS*(2**42)\n",
        "print(\"厚さ： {:.2f}キロメートル\".format(folded_thickness / 1000))"
      ],
      "metadata": {
        "colab": {
          "base_uri": "https://localhost:8080/"
        },
        "id": "bIrmwUZ6AeHU",
        "outputId": "a8da9af4-ed12-46ac-ed9d-8367a24c3b74"
      },
      "execution_count": 40,
      "outputs": [
        {
          "output_type": "stream",
          "name": "stdout",
          "text": [
            "Probleme 2\n",
            "\n",
            "厚さ： 351843.72キロメートル\n"
          ]
        }
      ]
    },
    {
      "cell_type": "code",
      "source": [
        "print(\"Probleme 3\\n\")\n",
        "import numpy as np\n",
        "# import matplotlib.pyplot as plt\n",
        "b=0\n",
        "liste=[]\n",
        "THICKNESS = 0.00008\n",
        "for i in np.arange(1,44):\n",
        "  b=1\n",
        "  for a in np.arange(1,i):\n",
        "    b=b*2\n",
        "print(\"厚さ： {:.2f}キロメートル\".format(b*THICKNESS / 1000))\n"
      ],
      "metadata": {
        "id": "Oj9HdP6h04iX",
        "colab": {
          "base_uri": "https://localhost:8080/"
        },
        "outputId": "ae77da98-f45f-4547-ab39-be9c24c770e5"
      },
      "execution_count": 39,
      "outputs": [
        {
          "output_type": "stream",
          "name": "stdout",
          "text": [
            "Probleme 3\n",
            "\n",
            "厚さ： 351843.72キロメートル\n"
          ]
        }
      ]
    },
    {
      "cell_type": "code",
      "source": [
        "print(\"Probleme 4\\n\")\n",
        "print(\"Code probleme 2\")\n",
        "import numpy as np\n",
        "import time\n",
        "start_time=time.time()\n",
        "THICKNESS = 0.00008\n",
        "folded_thickness = THICKNESS*(2**42)\n",
        "print(\"厚さ： {:.2f}キロメートル\".format(folded_thickness / 1000))\n",
        "end_time=time.time()\n",
        "print(\"time : {}\".format(end_time-start_time))\n",
        "\n",
        "print(\"Code probleme 3\")\n",
        "start_time=time.time()\n",
        "b=0\n",
        "liste=[]\n",
        "THICKNESS = 0.00008\n",
        "for i in np.arange(1,44):\n",
        "  b=1\n",
        "  for a in np.arange(1,i):\n",
        "    b=b*2\n",
        "print(\"厚さ： {:.2f}キロメートル\".format(b*THICKNESS / 1000))\n",
        "end_time=time.time()\n",
        "print(\"time : {}\".format(end_time-start_time))"
      ],
      "metadata": {
        "colab": {
          "base_uri": "https://localhost:8080/"
        },
        "id": "lDnWMCuOA_d3",
        "outputId": "71155742-af5e-4645-d075-b71eb04b9fc4"
      },
      "execution_count": 42,
      "outputs": [
        {
          "output_type": "stream",
          "name": "stdout",
          "text": [
            "Probleme 4\n",
            "\n",
            "Code probleme 2\n",
            "厚さ： 351843.72キロメートル\n",
            "time : 0.0006055831909179688\n",
            "Code probleme 3\n",
            "厚さ： 351843.72キロメートル\n",
            "time : 0.0011775493621826172\n"
          ]
        }
      ]
    },
    {
      "cell_type": "code",
      "source": [
        "print(\"Probleme 5\\n\")\n",
        "\n",
        "import numpy as np\n",
        "# import matplotlib.pyplot as plt\n",
        "b=0\n",
        "liste=[]\n",
        "THICKNESS = 0.00008\n",
        "for i in np.arange(1,44):\n",
        "  b=1\n",
        "  for a in np.arange(1,i):\n",
        "    b=b*2\n",
        "  liste.append(b*THICKNESS)\n",
        "print(\"len liste :  {}\".format(len(liste)))"
      ],
      "metadata": {
        "colab": {
          "base_uri": "https://localhost:8080/"
        },
        "id": "Gu-IDkrV_qrF",
        "outputId": "48d88c87-b576-4f97-fb75-382c67a29a2e"
      },
      "execution_count": 44,
      "outputs": [
        {
          "output_type": "stream",
          "name": "stdout",
          "text": [
            "Probleme 5\n",
            "\n",
            "len liste 43\n"
          ]
        }
      ]
    },
    {
      "cell_type": "code",
      "source": [
        "print(\"Probleme 6\\n\")\n",
        "import numpy as np\n",
        "import matplotlib.pyplot as plt\n",
        "\n",
        "\n",
        "plt.title(\"Thickness and folds\")\n",
        "plt.xlabel(\"number of folds\") \n",
        "plt.ylabel(\"Thickness [m]\")\n",
        "plt.plot(np.arange(1,44),liste)\n"
      ],
      "metadata": {
        "colab": {
          "base_uri": "https://localhost:8080/",
          "height": 346
        },
        "outputId": "e98fde55-d34a-4790-d2cd-850111d0e86d",
        "id": "mruhhbqDMc24"
      },
      "execution_count": 47,
      "outputs": [
        {
          "output_type": "stream",
          "name": "stdout",
          "text": [
            "Probleme 6\n",
            "\n"
          ]
        },
        {
          "output_type": "execute_result",
          "data": {
            "text/plain": [
              "[<matplotlib.lines.Line2D at 0x7f6813eb0490>]"
            ]
          },
          "metadata": {},
          "execution_count": 47
        },
        {
          "output_type": "display_data",
          "data": {
            "image/png": "[encoded data removed]",
            "text/plain": [
              "<Figure size 432x288 with 1 Axes>"
            ]
          },
          "metadata": {
            "needs_background": "light"
          }
        }
      ]
    },
    {
      "cell_type": "code",
      "source": [
        "print(\"Probleme 7\\n\")\n",
        "plt.title(\"Thickness and folds\")\n",
        "plt.xlabel(\"number of folds\") \n",
        "plt.tick_params(labelsize=20)  \n",
        "plt.ylabel(\"Thickness [m]\")\n",
        "plt.plot(np.arange(1,44),liste,color='red')"
      ],
      "metadata": {
        "colab": {
          "base_uri": "https://localhost:8080/",
          "height": 355
        },
        "id": "P5yIn58YMHBc",
        "outputId": "7aad70e2-6a89-4ba7-85b9-efa9fe0ccf47"
      },
      "execution_count": 50,
      "outputs": [
        {
          "output_type": "stream",
          "name": "stdout",
          "text": [
            "Probleme 7\n",
            "\n"
          ]
        },
        {
          "output_type": "execute_result",
          "data": {
            "text/plain": [
              "[<matplotlib.lines.Line2D at 0x7f6813901110>]"
            ]
          },
          "metadata": {},
          "execution_count": 50
        },
        {
          "output_type": "display_data",
          "data": {
            "image/png": "[encoded data removed]",
            "text/plain": [
              "<Figure size 432x288 with 1 Axes>"
            ]
          },
          "metadata": {
            "needs_background": "light"
          }
        }
      ]
    },
    {
      "cell_type": "code",
      "source": [
        ""
      ],
      "metadata": {
        "id": "q93EoeAvN4Ni"
      },
      "execution_count": null,
      "outputs": []
    }
  ]
}