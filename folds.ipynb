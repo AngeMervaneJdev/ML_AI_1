{
  "nbformat": 4,
  "nbformat_minor": 0,
  "metadata": {
    "colab": {
      "name": "folds.ipynb",
      "provenance": [],
      "authorship_tag": "ABX9TyNqOtcLxpbotV0q3RfbL46E",
      "include_colab_link": true
    },
    "kernelspec": {
      "name": "python3",
      "display_name": "Python 3"
    },
    "language_info": {
      "name": "python"
    }
  },
  "cells": [
    {
      "cell_type": "markdown",
      "metadata": {
        "id": "view-in-github",
        "colab_type": "text"
      },
      "source": [
        "<a href=\"https://colab.research.google.com/github/AngeMervaneJdev/ML_AI_1/blob/main/folds.ipynb\" target=\"_parent\"><img src=\"https://colab.research.google.com/assets/colab-badge.svg\" alt=\"Open In Colab\"/></a>"
      ]
    },
    {
      "cell_type": "code",
      "source": [
        "print(\"Probleme 1\\n\")\n",
        "THICKNESS = 0.00008\n",
        "folded_thickness = THICKNESS*(2**43)\n",
        "print(\"厚さ： {}メートル\".format(folded_thickness))"
      ],
      "metadata": {
        "colab": {
          "base_uri": "https://localhost:8080/"
        },
        "id": "9o6u2z82_KD8",
        "outputId": "a5f81bde-688b-4ae1-b74e-33f6a76bc710"
      },
      "execution_count": 3,
      "outputs": [
        {
          "output_type": "stream",
          "name": "stdout",
          "text": [
            "Probleme 1\n",
            "\n",
            "厚さ： 703687441.77664メートル\n"
          ]
        }
      ]
    },
    {
      "cell_type": "code",
      "source": [
        "print(\"Probleme 2\\n\")\n",
        "THICKNESS = 0.00008\n",
        "folded_thickness = THICKNESS*(2**43)\n",
        "print(\"厚さ： {:.2f}キロメートル\".format(folded_thickness / 1000))"
      ],
      "metadata": {
        "colab": {
          "base_uri": "https://localhost:8080/"
        },
        "id": "bIrmwUZ6AeHU",
        "outputId": "acb8ec9f-d52b-4c6a-bc52-b3b69ed6d961"
      },
      "execution_count": 2,
      "outputs": [
        {
          "output_type": "stream",
          "name": "stdout",
          "text": [
            "Probleme 2\n",
            "\n",
            "厚さ： 703687.44キロメートル\n"
          ]
        }
      ]
    },
    {
      "cell_type": "code",
      "source": [
        "print(\"Probleme 3\\n\")\n",
        "import numpy as np\n",
        "# import matplotlib.pyplot as plt\n",
        "b=0\n",
        "liste=[]\n",
        "THICKNESS = 0.00008\n",
        "for i in np.arange(1,45):\n",
        "  b=1\n",
        "  for a in np.arange(1,i):\n",
        "    b=b*2\n",
        "print(\"厚さ： {:.2f}キロメートル\".format(b*THICKNESS / 1000))\n"
      ],
      "metadata": {
        "id": "Oj9HdP6h04iX",
        "colab": {
          "base_uri": "https://localhost:8080/"
        },
        "outputId": "3720551f-eb76-4e8b-86d3-e0bee94e3072"
      },
      "execution_count": 4,
      "outputs": [
        {
          "output_type": "stream",
          "name": "stdout",
          "text": [
            "Probleme 3\n",
            "\n",
            "厚さ： 703687.44キロメートル\n"
          ]
        }
      ]
    },
    {
      "cell_type": "code",
      "source": [
        "print(\"Probleme 4\\n\")\n",
        "print(\"Code probleme 2\")\n",
        "import numpy as np\n",
        "import time\n",
        "start_time=time.time()\n",
        "THICKNESS = 0.00008\n",
        "folded_thickness = THICKNESS*(2**43)\n",
        "print(\"厚さ： {:.2f}キロメートル\".format(folded_thickness / 1000))\n",
        "end_time=time.time()\n",
        "print(\"time : {}\".format(end_time-start_time))\n",
        "\n",
        "print(\"Code probleme 3\")\n",
        "start_time=time.time()\n",
        "b=0\n",
        "liste=[]\n",
        "THICKNESS = 0.00008\n",
        "for i in np.arange(1,45):\n",
        "  b=1\n",
        "  for a in np.arange(1,i):\n",
        "    b=b*2\n",
        "print(\"厚さ： {:.2f}キロメートル\".format(b*THICKNESS / 1000))\n",
        "end_time=time.time()\n",
        "print(\"time : {}\".format(end_time-start_time))"
      ],
      "metadata": {
        "colab": {
          "base_uri": "https://localhost:8080/"
        },
        "id": "lDnWMCuOA_d3",
        "outputId": "34380859-afa3-4780-e64d-3b7f6cbadc08"
      },
      "execution_count": 5,
      "outputs": [
        {
          "output_type": "stream",
          "name": "stdout",
          "text": [
            "Probleme 4\n",
            "\n",
            "Code probleme 2\n",
            "厚さ： 703687.44キロメートル\n",
            "time : 0.0001289844512939453\n",
            "Code probleme 3\n",
            "厚さ： 703687.44キロメートル\n",
            "time : 0.0010437965393066406\n"
          ]
        }
      ]
    },
    {
      "cell_type": "code",
      "source": [
        "print(\"Probleme 5\\n\")\n",
        "\n",
        "import numpy as np\n",
        "# import matplotlib.pyplot as plt\n",
        "b=0\n",
        "liste=[]\n",
        "THICKNESS = 0.00008\n",
        "for i in np.arange(1,45):\n",
        "  b=1\n",
        "  for a in np.arange(1,i):\n",
        "    b=b*2\n",
        "  liste.append(b*THICKNESS)\n",
        "print(\"len liste :  {}\".format(len(liste)))"
      ],
      "metadata": {
        "colab": {
          "base_uri": "https://localhost:8080/"
        },
        "id": "Gu-IDkrV_qrF",
        "outputId": "061ce18c-976c-4f39-f48e-8e77f8ee6b27"
      },
      "execution_count": 6,
      "outputs": [
        {
          "output_type": "stream",
          "name": "stdout",
          "text": [
            "Probleme 5\n",
            "\n",
            "len liste :  44\n"
          ]
        }
      ]
    },
    {
      "cell_type": "code",
      "source": [
        "print(\"Probleme 6\\n\")\n",
        "import numpy as np\n",
        "import matplotlib.pyplot as plt\n",
        "\n",
        "\n",
        "plt.title(\"Thickness and folds\")\n",
        "plt.xlabel(\"number of folds\") \n",
        "plt.ylabel(\"Thickness [m]\")\n",
        "plt.plot(np.arange(1,45),liste)\n"
      ],
      "metadata": {
        "colab": {
          "base_uri": "https://localhost:8080/",
          "height": 346
        },
        "outputId": "1d7ed88d-afd0-4c58-fb06-f892d4e13ec8",
        "id": "mruhhbqDMc24"
      },
      "execution_count": 7,
      "outputs": [
        {
          "output_type": "stream",
          "name": "stdout",
          "text": [
            "Probleme 6\n",
            "\n"
          ]
        },
        {
          "output_type": "execute_result",
          "data": {
            "text/plain": [
              "[<matplotlib.lines.Line2D at 0x7f7e40670ad0>]"
            ]
          },
          "metadata": {},
          "execution_count": 7
        },
        {
          "output_type": "display_data",
          "data": {
            "image/png": "[encoded data removed]",
            "text/plain": [
              "<Figure size 432x288 with 1 Axes>"
            ]
          },
          "metadata": {
            "needs_background": "light"
          }
        }
      ]
    },
    {
      "cell_type": "code",
      "source": [
        "print(\"Probleme 7\\n\")\n",
        "plt.title(\"Thickness and folds\")\n",
        "plt.xlabel(\"number of folds\") \n",
        "plt.tick_params(labelsize=20)  \n",
        "plt.ylabel(\"Thickness [m]\")\n",
        "plt.plot(np.arange(1,45),liste,color='red')"
      ],
      "metadata": {
        "colab": {
          "base_uri": "https://localhost:8080/",
          "height": 355
        },
        "id": "P5yIn58YMHBc",
        "outputId": "da2c0b09-0f82-4671-eaa9-82cb7cdbb7d6"
      },
      "execution_count": 10,
      "outputs": [
        {
          "output_type": "stream",
          "name": "stdout",
          "text": [
            "Probleme 7\n",
            "\n"
          ]
        },
        {
          "output_type": "execute_result",
          "data": {
            "text/plain": [
              "[<matplotlib.lines.Line2D at 0x7f7e4008cf10>]"
            ]
          },
          "metadata": {},
          "execution_count": 10
        },
        {
          "output_type": "display_data",
          "data": {
            "image/png": "[encoded data removed]",
            "text/plain": [
              "<Figure size 432x288 with 1 Axes>"
            ]
          },
          "metadata": {
            "needs_background": "light"
          }
        }
      ]
    }
  ]
}