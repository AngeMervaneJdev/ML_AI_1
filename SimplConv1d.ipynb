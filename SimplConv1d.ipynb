{
  "cells": [
    {
      "cell_type": "markdown",
      "metadata": {
        "id": "view-in-github",
        "colab_type": "text"
      },
      "source": [
        "<a href=\"https://colab.research.google.com/github/AngeMervaneJdev/ML_AI_1/blob/main/SimplConv1d.ipynb\" target=\"_parent\"><img src=\"https://colab.research.google.com/assets/colab-badge.svg\" alt=\"Open In Colab\"/></a>"
      ]
    },
    {
      "cell_type": "markdown",
      "metadata": {
        "id": "idVsICkXCSpU"
      },
      "source": [
        "#[Problème 1] Création d'une classe de couche convolutionnelle unidimensionnelle qui limite le nombre de canaux à un"
      ]
    },
    {
      "cell_type": "code",
      "execution_count": null,
      "metadata": {
        "id": "iJFPqImGcac1"
      },
      "outputs": [],
      "source": [
        "import numpy as np;\n",
        "from scipy.sparse import dia_matrix\n",
        "from keras.datasets import mnist\n",
        "import matplotlib.pyplot as plt\n",
        "%matplotlib inline\n",
        "from sklearn.model_selection import train_test_split\n",
        "from sklearn.preprocessing import OneHotEncoder\n",
        "from sklearn.metrics import accuracy_score, precision_score, recall_score, f1_score"
      ]
    },
    {
      "cell_type": "code",
      "execution_count": null,
      "metadata": {
        "id": "fkXtlSabCJi7"
      },
      "outputs": [],
      "source": [
        "\n",
        "class SimpleConv1d:\n",
        "    def __init__(self, weight, baias):\n",
        "        self.optimizer = None\n",
        "\n",
        "        self.W = weight\n",
        "        self.B = baias\n",
        "        self.dW = None\n",
        "        self.dB = None\n",
        "        self.idx =None\n",
        "        self.X = None\n",
        "        pass\n",
        "\n",
        "    def forward(self, X):\n",
        "        self.X = X\n",
        "        idx1 = np.arange(self.W.shape[0])\n",
        "        idx2 = np.arange(self.W.shape[0]-1 ).reshape(-1, 1)\n",
        "        self.idx = idx1 + idx2\n",
        "        A = np.sum(X[self.idx] * self.W.T,axis=1) + self.B\n",
        "        return A\n",
        "    def backward(self,X,dA):\n",
        "        dB = np.sum(dA,axis=0)\n",
        "        dW = np.sum(dA[:,np.newaxis] * X[self.idx],axis=0)\n",
        "        da = dA.reshape(-1,1)\n",
        "        data= np.repeat(da,X.shape[0],axis=1)\n",
        "        offsets= np.arange(self.output(data))\n",
        "        d = dia_matrix((data,offsets),shape=(w.shape[0],x.shape[0])).toarray()\n",
        "        dx = np.sum(d * w[:,np.newaxis],axis=0)\n",
        "        \n",
        "        return dx\n",
        "    def output(self,X):\n",
        "        n_in = X.shape[1]\n",
        "        p = 0\n",
        "        f = self.W.shape[0]\n",
        "        s = 1 \n",
        "        n_out = ((n_in + 2*p - f)/s)+1\n",
        "        return n_out"
      ]
    },
    {
      "cell_type": "markdown",
      "metadata": {
        "id": "dVAuGo-NEfTd"
      },
      "source": [
        "#[Problème 2] Calcul de la taille de sortie après convolution unidimensionnelle"
      ]
    },
    {
      "cell_type": "code",
      "execution_count": null,
      "metadata": {
        "id": "tGh6cqtlEYOu"
      },
      "outputs": [],
      "source": [
        "def output(X,p,f,s):\n",
        "    n_in = X.shape[0]\n",
        "    n_out = ((n_in + 2*p - f)/s)+1\n",
        "    return n_out"
      ]
    },
    {
      "cell_type": "markdown",
      "metadata": {
        "id": "kSgVREq-EsLs"
      },
      "source": [
        "#[Problème 3] Expérience d'une couche convolutionnelle unidimensionnelle avec un petit réseau"
      ]
    },
    {
      "cell_type": "code",
      "execution_count": null,
      "metadata": {
        "colab": {
          "base_uri": "https://localhost:8080/"
        },
        "id": "wj3-M5PDcROz",
        "outputId": "98810544-bb11-4d22-ef6e-47d52cd3545a"
      },
      "outputs": [
        {
          "data": {
            "text/plain": [
              "((4,), (3,), (1,))"
            ]
          },
          "execution_count": 27,
          "metadata": {},
          "output_type": "execute_result"
        }
      ],
      "source": [
        "x = np.array([1,2,3,4])\n",
        "w = np.array([3, 5, 7])\n",
        "b = np.array([1])\n",
        "x.shape,w.shape,b.shape"
      ]
    },
    {
      "cell_type": "code",
      "execution_count": null,
      "metadata": {
        "colab": {
          "base_uri": "https://localhost:8080/"
        },
        "id": "vc0SCtQUc5ew",
        "outputId": "2a5aabd0-8f49-4eeb-ca8f-31b6982a5016"
      },
      "outputs": [
        {
          "data": {
            "text/plain": [
              "array([35, 50])"
            ]
          },
          "execution_count": 28,
          "metadata": {},
          "output_type": "execute_result"
        }
      ],
      "source": [
        "sc1 = SimpleConv1d(w,b)\n",
        "sc1.forward(x)"
      ]
    },
    {
      "cell_type": "code",
      "execution_count": null,
      "metadata": {
        "id": "hfdpQwKJcZRv"
      },
      "outputs": [],
      "source": [
        "delta_a =np.array([10, 20])\n",
        "delta_a.shape\n",
        "delta_b = np.array([30])\n",
        "delta_w = np.array([50, 80, 110])\n",
        "delta_x = np.array([30, 110, 170, 140])"
      ]
    },
    {
      "cell_type": "code",
      "execution_count": null,
      "metadata": {
        "colab": {
          "base_uri": "https://localhost:8080/"
        },
        "id": "GN8VZZDch3GZ",
        "outputId": "604a5b8d-1daa-4a94-e8b3-39711b083ee3"
      },
      "outputs": [
        {
          "data": {
            "text/plain": [
              "array([ 30, 110, 170, 140])"
            ]
          },
          "execution_count": 32,
          "metadata": {},
          "output_type": "execute_result"
        }
      ],
      "source": [
        "sc1 = SimpleConv1d(delta_w,delta_b)\n",
        "sc1.backward(x,delta_a)"
      ]
    },
    {
      "cell_type": "code",
      "execution_count": null,
      "metadata": {
        "colab": {
          "base_uri": "https://localhost:8080/"
        },
        "id": "fdunwE2AnOJj",
        "outputId": "eb6e34f7-2f01-413c-a65b-8c37fc4cfaa7"
      },
      "outputs": [
        {
          "data": {
            "text/plain": [
              "array([34., 49.])"
            ]
          },
          "execution_count": 33,
          "metadata": {},
          "output_type": "execute_result"
        }
      ],
      "source": [
        "x = np.array([1, 2, 3, 4])\n",
        "w = np.array([3, 5, 7])\n",
        "\n",
        "a = np.empty((2, 3))\n",
        "\n",
        "indexes0 = np.array([0, 1, 2])\n",
        "indexes1 = np.array([1, 2, 3])\n",
        "\n",
        "a[0] = x[indexes0]*w # x[indexes0]は([1, 2, 3])である\n",
        "a[1] = x[indexes1]*w # x[indexes1]は([2, 3, 4])である\n",
        "\n",
        "a = a.sum(axis=1)\n",
        "a"
      ]
    },
    {
      "cell_type": "markdown",
      "metadata": {
        "id": "tfe5OwOtj_CX"
      },
      "source": [
        "#[Problème 4] Création d'une classe de couche convolutionnelle unidimensionnelle qui ne limite pas le nombre de canaux"
      ]
    },
    {
      "cell_type": "code",
      "execution_count": null,
      "metadata": {
        "id": "J6ZimcBOj-oG"
      },
      "outputs": [],
      "source": [
        "x = np.array([[1, 2, 3, 4], [2, 3, 4, 5]]) # \n",
        "w = np.ones((3, 2, 3)) # \n",
        "b = np.array([1, 2, 3])"
      ]
    },
    {
      "cell_type": "code",
      "execution_count": null,
      "metadata": {
        "id": "KR29GVrb60bI"
      },
      "outputs": [],
      "source": [
        "def output2(X,p,f,s):\n",
        "    n_in = X.shape[1]\n",
        "    p = p #\n",
        "    f = f #\n",
        "    s = s #\n",
        "    n_out = ((n_in + 2*p - f)/s)+1\n",
        "    return n_out"
      ]
    },
    {
      "cell_type": "code",
      "execution_count": null,
      "metadata": {
        "colab": {
          "base_uri": "https://localhost:8080/"
        },
        "id": "CVA3zh6jwDwu",
        "outputId": "1d69f729-5d5f-47dd-fe43-7c8e5612f347"
      },
      "outputs": [
        {
          "name": "stdout",
          "output_type": "stream",
          "text": [
            "2\n",
            "2 4\n",
            "3 2 3\n"
          ]
        },
        {
          "data": {
            "text/plain": [
              "array([[0, 1, 2],\n",
              "       [3, 4, 5]])"
            ]
          },
          "execution_count": 182,
          "metadata": {},
          "output_type": "execute_result"
        }
      ],
      "source": [
        "a = np.array([[16, 22], [17, 23], [18, 24]])\n",
        "o = int(output2(x,0,w.shape[-1],1))\n",
        "print(o)\n",
        "\n",
        "nin, i = x.shape\n",
        "print(nin,i)\n",
        "oc, c, f = w.shape\n",
        "print(oc,c,f)\n",
        "\n",
        "#c * f \n",
        "idx_arr = np.arange(c*f).reshape(c,f)\n",
        "idx_arr"
      ]
    },
    {
      "cell_type": "code",
      "execution_count": null,
      "metadata": {
        "colab": {
          "base_uri": "https://localhost:8080/"
        },
        "id": "-ZH_DUoF7OjL",
        "outputId": "220de824-3ec7-45c0-d52c-15b6d76d6c16"
      },
      "outputs": [
        {
          "name": "stdout",
          "output_type": "stream",
          "text": [
            "(2, 2, 3)\n",
            "[[[1 2 3]\n",
            "  [2 3 4]]\n",
            "\n",
            " [[2 3 4]\n",
            "  [3 4 5]]]\n",
            "(2, 3)\n",
            "a (3, 2)\n",
            "(2, 3)\n",
            "a (3, 2)\n",
            "()\n",
            "[[31. 43.]\n",
            " [ 0.  0.]\n",
            " [ 0.  0.]]\n",
            "(2, 3)\n",
            "a (3, 2)\n",
            "(2, 3)\n",
            "a (3, 2)\n",
            "()\n",
            "[[31. 43.]\n",
            " [32. 44.]\n",
            " [ 0.  0.]]\n",
            "(2, 3)\n",
            "a (3, 2)\n",
            "(2, 3)\n",
            "a (3, 2)\n",
            "()\n",
            "[[31. 43.]\n",
            " [32. 44.]\n",
            " [33. 45.]]\n"
          ]
        }
      ],
      "source": [
        "idx1 = np.arange(w.shape[-1])\n",
        "\n",
        "idx2 = np.arange(w.shape[-1]-1 ).reshape(-1, 1)\n",
        "\n",
        "idx = idx1 + idx2\n",
        "\n",
        "print(x[:,idx].shape)\n",
        "a1 = x[:,idx]\n",
        "a2 = w\n",
        "print(a1)\n",
        "a= np.zeros((f,o))\n",
        "for i in range(f):\n",
        "    for j in range(o):\n",
        "        x_in = a1[j]\n",
        "        print(x_in.shape)\n",
        "        a[i][j] = np.sum(x_in @ w[i][j])\n",
        "        print('a',a.shape)\n",
        "    print(b[i].shape)\n",
        "    a[i] += a[i] + b[i]\n",
        "    print(a)"
      ]
    },
    {
      "cell_type": "code",
      "execution_count": null,
      "metadata": {
        "id": "e0J-pR55zuEt"
      },
      "outputs": [],
      "source": [
        "def compute_output_size(n_in, P, F, S):\n",
        "    return int(1 + (n_in + 2*P - F) / S)"
      ]
    },
    {
      "cell_type": "code",
      "execution_count": null,
      "metadata": {
        "id": "HOD2wMfZjx2E"
      },
      "outputs": [],
      "source": [
        "class FC:\n",
        "    def __init__(self, n_nodes1, n_nodes2, initializer, optimizer):\n",
        "        self.optimizer = optimizer\n",
        "        self.W = initializer.W(n_nodes1, n_nodes2)\n",
        "        self.B = initializer.B(n_nodes2)\n",
        "\n",
        "    \n",
        "    def forward(self, Z1):\n",
        "        self.Z = Z1.copy()\n",
        "        Z2 = np.dot(Z1, self.W) + self.B\n",
        "        \n",
        "        return Z2\n",
        "    \n",
        "    \n",
        "    def backward(self, dA):\n",
        "        self.dB = dA \n",
        "        self.dW = np.dot(self.Z.T, dA) \n",
        "        dZ = np.dot(dA, self.W.T) \n",
        "        \n",
        "        self = self.optimizer.update(self)\n",
        "        \n",
        "        return dZ"
      ]
    },
    {
      "cell_type": "code",
      "execution_count": null,
      "metadata": {
        "id": "NkZK8LeiQWT8"
      },
      "outputs": [],
      "source": [
        "class GetMiniBatch:\n",
        "    def __init__(self, X, y, batch_size = 10, seed=0):\n",
        "        self.batch_size = batch_size\n",
        "        np.random.seed(seed)\n",
        "        shuffle_index = np.random.permutation(np.arange(X.shape[0]))\n",
        "        self.X = X[shuffle_index]\n",
        "        self.y = y[shuffle_index]\n",
        "        self._stop = np.ceil(X.shape[0]/self.batch_size).astype(np.int)\n",
        "\n",
        "    def __len__(self):\n",
        "        return self._stop\n",
        "\n",
        "    def __getitem__(self,item):\n",
        "        p0 = item*self.batch_size\n",
        "        p1 = item*self.batch_size + self.batch_size\n",
        "        return self.X[p0:p1], self.y[p0:p1]        \n",
        "\n",
        "    def __iter__(self):\n",
        "        self._counter = 0\n",
        "        return self\n",
        "\n",
        "    def __next__(self):\n",
        "        if self._counter >= self._stop:\n",
        "            raise StopIteration()\n",
        "        p0 = self._counter*self.batch_size\n",
        "        p1 = self._counter*self.batch_size + self.batch_size\n",
        "        self._counter += 1\n",
        "        return self.X[p0:p1], self.y[p0:p1]"
      ]
    },
    {
      "cell_type": "code",
      "execution_count": null,
      "metadata": {
        "id": "LoIoh9ODSHKK"
      },
      "outputs": [],
      "source": [
        "class SimpleInitializer:\n",
        "    def __init__(self, sigma=0.01):\n",
        "        self.sigma = sigma\n",
        "\n",
        "    def W(self, n_nodes1, n_nodes2):\n",
        "        return self.sigma * np.random.randn(n_nodes1, n_nodes2)\n",
        "\n",
        "    def B(self, n_nodes2):\n",
        "        return self.sigma * np.random.randn(n_nodes2)"
      ]
    },
    {
      "cell_type": "code",
      "execution_count": null,
      "metadata": {
        "id": "m-tMBy6fR8vz"
      },
      "outputs": [],
      "source": [
        "class Flat():\n",
        "    def __init__(self):\n",
        "        self.X_shape = None\n",
        "    \n",
        "    def forward(self, X):\n",
        "        X_1d = X.reshape(X.shape[0], -1)\n",
        "        \n",
        "        self.X_shape = X.shape\n",
        "        \n",
        "        return X_1d\n",
        "\n",
        "    def backward(self, X):\n",
        "        X = X.reshape(self.X_shape)\n",
        "        \n",
        "        return X"
      ]
    },
    {
      "cell_type": "code",
      "execution_count": null,
      "metadata": {
        "id": "XcKPVd6sVvCu"
      },
      "outputs": [],
      "source": [
        "class Tanh:\n",
        "    def __init__(self):\n",
        "        self.Z = None\n",
        "    \n",
        "    def forward(self, A):\n",
        "        self.Z =  np.tanh(A)\n",
        "        \n",
        "        return  self.Z\n",
        "    \n",
        "    def backward(self, dZ):\n",
        "        dA = dZ * (1 - self.Z**2)\n",
        "        \n",
        "        return dA"
      ]
    },
    {
      "cell_type": "code",
      "execution_count": null,
      "metadata": {
        "id": "uCQegX7EVrbJ"
      },
      "outputs": [],
      "source": [
        "class XavierInitializer:\n",
        "    def __init__(self, n_nodes1):\n",
        "        self.sigma = 1.0 / n_nodes1**(1/2)\n",
        "\n",
        "    def W(self, n_nodes1, n_nodes2):\n",
        "        return self.sigma * np.random.randn(n_nodes1, n_nodes2)\n",
        "\n",
        "    def B(self, n_nodes2):\n",
        "        return self.sigma * np.random.randn(n_nodes2)"
      ]
    },
    {
      "cell_type": "code",
      "execution_count": null,
      "metadata": {
        "id": "MJLMi0tnVztM"
      },
      "outputs": [],
      "source": [
        "class Sigmoid:\n",
        "    def __init__(self):\n",
        "        self.Z = None \n",
        "    def forward(self, A):\n",
        "        self.Z = 1 / (1 + np.exp(-A))\n",
        "        return self.Z\n",
        "    def backward(self, dZ):\n",
        "        dA = dZ * (1 - self.Z) * self.Z\n",
        "        return dA"
      ]
    },
    {
      "cell_type": "code",
      "execution_count": null,
      "metadata": {
        "id": "EMHOnCrEVnXo"
      },
      "outputs": [],
      "source": [
        "class HeInitializer:\n",
        "    def __init__(self, n_nodes1):\n",
        "        self.sigma = (2.0 / n_nodes1)**(1/2)\n",
        "\n",
        "    def W(self, n_nodes1, n_nodes2):\n",
        "        return self.sigma * np.random.randn(n_nodes1, n_nodes2)\n",
        "\n",
        "    def B(self, n_nodes2):\n",
        "        return self.sigma * np.random.randn(n_nodes2)"
      ]
    },
    {
      "cell_type": "code",
      "execution_count": null,
      "metadata": {
        "id": "iaya9vvoVhO5"
      },
      "outputs": [],
      "source": [
        "class AdaGrad:\n",
        "    def __init__(self, lr):\n",
        "        self.lr = lr \n",
        "        self.H_W= None \n",
        "        self.H_B = None\n",
        "\n",
        "    def update(self, layer):\n",
        "        if self.H_W is None:\n",
        "            self.H_W = np.zeros(layer.W.shape)\n",
        "        if self.H_B is None:\n",
        "            self.H_B = np.zeros(layer.B.shape)\n",
        "        \n",
        "        self.H_W += (layer.dW / layer.dB.shape[0]) ** 2 \n",
        "        self.H_B += (layer.dB.mean(axis=0)) **2\n",
        "        layer.W -= self.alpha / np.sqrt(self.H_W + 1e-7) * layer.dW / layer.dB.shape[0] \n",
        "        layer.B -= self.alpha / np.sqrt(self.H_B + 1e-7) * layer.dB.mean(axis=0) \n",
        "        \n",
        "        return layer"
      ]
    },
    {
      "cell_type": "code",
      "execution_count": null,
      "metadata": {
        "id": "UhM8XSu9WSOM"
      },
      "outputs": [],
      "source": [
        "class ReLU:\n",
        "    def forward(self, A):\n",
        "        return np.maximum(A, 0)\n",
        "    \n",
        "    def backward(self, dZ, Z):\n",
        "        return dZ * (Z > 0)"
      ]
    },
    {
      "cell_type": "code",
      "execution_count": null,
      "metadata": {
        "id": "TtMbyj2XWNF8"
      },
      "outputs": [],
      "source": [
        "class SGD:\n",
        "    def __init__(self, lr=0.01):\n",
        "        self.lr = lr\n",
        "\n",
        "    def update(self, layer):\n",
        "        layer.W -= self.lr * layer.dW\n",
        "#        layer.B -= self.lr * layer.dB\n",
        "        return layer"
      ]
    },
    {
      "cell_type": "code",
      "execution_count": null,
      "metadata": {
        "id": "G_8vyYLvV6mP"
      },
      "outputs": [],
      "source": [
        "class Softmax:\n",
        "    def forward(self, A):\n",
        "        return np.exp(A) / np.sum(np.exp(A), axis=1).reshape(-1, 1)\n",
        "    \n",
        "    def backward(self, Z, y):\n",
        "        return (Z - y) / y.shape[0], -np.sum((y * np.log(Z + 1e-7))) / y.shape[0]"
      ]
    },
    {
      "cell_type": "code",
      "execution_count": null,
      "metadata": {
        "id": "Dz4-cTwS-PYa"
      },
      "outputs": [],
      "source": [
        "class Conv1d:\n",
        "    def __init__(self, F, ch_in, ch_out, initializer, optimizer):\n",
        "        self.F = F\n",
        "        self.ch_in = ch_in\n",
        "        self.ch_out = ch_out\n",
        "        self.optimizer = optimizer\n",
        "        self.W = np.empty((ch_out, ch_in, F))\n",
        "        for ch in np.arange(0, ch_out):\n",
        "            self.W[ch] = initializer.W(ch_in, F)\n",
        "        self.B = initializer.B(ch_out)\n",
        "\n",
        "    def forward(self, X):\n",
        "        self.X = X\n",
        "        self.n_out = compute_output_size(self.X.shape[1], 0, self.F, 1)\n",
        "        A = np.empty((self.ch_out, self.n_out))\n",
        "        for ch in np.arange(0, self.ch_out):\n",
        "            for i in np.arange(0, self.n_out):\n",
        "                A[ch, i] = np.sum(X[:, i:i+self.F] * self.W[ch]) + self.B[ch]\n",
        "        return A\n",
        "\n",
        "    def backward(self, dA):\n",
        "        #update dW\n",
        "        self.dW = np.empty((self.ch_out, self.ch_in, self.F))\n",
        "        for c_out in np.arange(0, self.ch_out):\n",
        "            for c_in in np.arange(0, self.ch_in):\n",
        "                for s in np.arange(0, self.F):\n",
        "                    self.dW[c_out, c_in, s] = np.sum(dA[c_out] * self.X[c_in, s:s+self.n_out])\n",
        "        #update dB\n",
        "        self.dB = np.sum(dA, axis=1)\n",
        "        #update dZ\n",
        "        self.dZ = np.empty((self.ch_in, self.X.shape[1]))\n",
        "        for c_in in np.arange(0, self.ch_in):\n",
        "            for j in np.arange(0, self.X.shape[1]):\n",
        "                total = 0.0\n",
        "                for c_out in np.arange(0, self.ch_out):\n",
        "                    for s in np.arange(0, self.F):\n",
        "                        if (j - s >= 0 and j - s < self.n_out):\n",
        "                            total += dA[c_out, j - s] * self.W[c_out, c_in, s]\n",
        "                self.dZ[c_in, j] = total\n",
        "        # update new W, B\n",
        "        self = self.optimizer.update(self)\n",
        "        return self.dZ"
      ]
    },
    {
      "cell_type": "code",
      "execution_count": null,
      "metadata": {
        "id": "3KD9hYb9b8YR"
      },
      "outputs": [],
      "source": [
        "class SimpleInitializer:\n",
        "    def __init__(self, sigma):\n",
        "        self.sigma = sigma \n",
        "        \n",
        "\n",
        "    def W(self, n_nodes1=None, n_nodes2=None,filter_num=None, C=None, filter_size=None):\n",
        "\n",
        "        if filter_num is not None and C is not None and filter_size is not None:\n",
        "            W =  self.sigma * np.random.randn(filter_num, C, filter_size) \n",
        "        if n_nodes1 is not None and n_nodes2 is not None:\n",
        "            W =  self.sigma * np.random.randn(n_nodes1, n_nodes2) \n",
        "        return W\n",
        "    \n",
        "    \n",
        "    def B(self, n_nodes2):\n",
        "        B = np.zeros(n_nodes2) \n",
        "        return B"
      ]
    },
    {
      "cell_type": "code",
      "execution_count": null,
      "metadata": {
        "id": "r2gLP06hXKsp"
      },
      "outputs": [],
      "source": [
        "class Scratch1dCNNClassifier:\n",
        "    def __init__(self,\n",
        "                conv_filter_size=[3],\n",
        "                hidden_layers=[400,200],\n",
        "                hidden_activations=['tanh', 'tanh'],\n",
        "                hidden_initializers=['gaussian', 'gaussian'],\n",
        "                sigma=0.01,\n",
        "                optimizer='sgd',\n",
        "                layer_type=None,\n",
        "                batch_size=20,\n",
        "                epochs=10,\n",
        "                lr=0.01,\n",
        "                seed=0,\n",
        "                verbose=False\n",
        "                ):\n",
        "        self.F = conv_filter_size\n",
        "        self.hidden_layers = hidden_layers\n",
        "        self.activations_name = hidden_activations.copy()\n",
        "        self.activations_name.insert(0, None)\n",
        "        self.activations_name.append('softmax')\n",
        "        self.initializers = hidden_initializers.copy()\n",
        "        self.initializers.insert(0, None)\n",
        "        self.initializers.append('gaussian')\n",
        "        self.sigma = sigma\n",
        "        self.optimizer = optimizer\n",
        "        self.layer_type = layer_type\n",
        "        self.batch_size = batch_size\n",
        "        self.epochs = epochs\n",
        "        self.lr = lr\n",
        "        self.seed = seed\n",
        "        self.verbose = verbose\n",
        "\n",
        "    def _initialize_neural_network(self):\n",
        "        #initialize conv layers\n",
        "        self.conv = np.full(len(self.F) + 1, None)\n",
        "        self.conv_activations = np.full(len(self.F) + 1, None)\n",
        "        for i in np.arange(1, len(self.F) + 1):\n",
        "            self.conv[i] = Conv1d(self.F[i - 1], 1, 1, HeInitializer(1), SGD(self.lr))\n",
        "            self.conv_activations[i] = ReLU()\n",
        "        #choose activations\n",
        "        self.activations = np.full(len(self.n_nodes), None) #activations[0] unused\n",
        "        for i in np.arange(1, len(self.n_nodes)):\n",
        "            if (self.activations_name[i] == 'tanh'):\n",
        "                self.activations[i] = Tanh()\n",
        "            elif (self.activations_name[i] == 'sigmoid'):\n",
        "                self.activations[i] = Sigmoid()\n",
        "            elif (self.activations_name[i] == 'relu'):\n",
        "                self.activations[i] = ReLU()\n",
        "            elif (self.activations_name[i] == 'softmax'):\n",
        "                self.activations[i] = Softmax()\n",
        "        #choose initializer, optimizer and build neural network\n",
        "        self.FC = np.full(len(self.n_nodes), None) #FC[0] unused\n",
        "        for i in np.arange(1, len(self.n_nodes)):\n",
        "            if (self.optimizer == 'sgd'):\n",
        "                if (self.initializers[i] == 'gaussian'):\n",
        "                    self.FC[i] = FC(self.n_nodes[i - 1], self.n_nodes[i], SimpleInitializer(self.sigma), SGD(self.lr))\n",
        "                elif (self.initializers[i] == 'xavier'):\n",
        "                    self.FC[i] = FC(self.n_nodes[i - 1], self.n_nodes[i], XavierInitializer(self.n_nodes[i - 1]), SGD(self.lr))\n",
        "                elif (self.initializers[i] == 'he'):   \n",
        "                    self.FC[i] = FC(self.n_nodes[i - 1], self.n_nodes[i], HeInitializer(self.n_nodes[i - 1]), SGD(self.lr))\n",
        "            elif (self.optimizer == 'adagrad'):\n",
        "                if (self.initializers[i] == 'gaussian'):\n",
        "                    self.FC[i] = FC(self.n_nodes[i - 1], self.n_nodes[i], SimpleInitializer(self.sigma), AdaGrad(self.lr, (self.n_nodes[i - 1], self.n_nodes[i])))\n",
        "                elif (self.initializers[i] == 'xavier'):\n",
        "                    self.FC[i] = FC(self.n_nodes[i - 1], self.n_nodes[i], XavierInitializer(self.n_nodes[i - 1]), AdaGrad(self.lr, (self.n_nodes[i - 1], self.n_nodes[i])))\n",
        "                elif (self.initializers[i] == 'he'):   \n",
        "                    self.FC[i] = FC(self.n_nodes[i - 1], self.n_nodes[i], HeInitializer(self.n_nodes[i - 1]), AdaGrad(self.lr, (self.n_nodes[i - 1], self.n_nodes[i])))\n",
        "\n",
        "    def _forward(self, X):\n",
        "        #conv\n",
        "        A_conv = np.full(len(self.F) + 1, None)\n",
        "        Z_conv = np.full(len(self.F) + 1, None)\n",
        "        Z_conv[0] = X\n",
        "        for i in np.arange(1, len(self.F) + 1):\n",
        "            A_conv[i] = self.conv[i].forward(Z_conv[i - 1])\n",
        "            Z_conv[i] = self.conv_activations[i].forward(A_conv[i])\n",
        "        #FC\n",
        "        A = np.full(len(self.n_nodes), None) #A[0] unused\n",
        "        Z = np.full(len(self.n_nodes), None)\n",
        "        Z[0] = Z_conv[-1]\n",
        "        for i in np.arange(1, len(self.n_nodes)):\n",
        "            A[i] = self.FC[i].forward(Z[i - 1])\n",
        "            Z[i] = self.activations[i].forward(A[i])\n",
        "        return Z, Z_conv\n",
        "\n",
        "    def _backward(self, y, Z, Z_conv):\n",
        "        #FC\n",
        "        dA = np.full(len(self.n_nodes), None) #A[0] unused\n",
        "        dZ = np.full(len(self.n_nodes), None) #Z[-1] unused\n",
        "        CEE = None\n",
        "        for i in np.arange(len(self.n_nodes) - 1, 0, -1):\n",
        "            if (self.activations_name[i] == 'softmax'):\n",
        "                dA[i], CEE = self.activations[i].backward(Z[i], y)\n",
        "            else:\n",
        "                dA[i] = self.activations[i].backward(dZ[i], Z[i])\n",
        "            dZ[i - 1] = self.FC[i].backward(dA[i])\n",
        "        #conv\n",
        "        dA_conv = np.full(len(self.F) + 1, None)\n",
        "        dZ_conv = np.full(len(self.F) + 1, None)\n",
        "        dZ_conv[-1] = dZ[0]\n",
        "        for i in np.arange(len(self.F), 0, -1):\n",
        "            dA_conv[i] = self.conv_activations[i].backward(dZ_conv[i], Z_conv[i])\n",
        "            dZ_conv[i - 1] = self.conv[i].backward(dA_conv[i])\n",
        "        return CEE\n",
        "\n",
        "    def _compute_CEE(self, y, Z):\n",
        "        return -np.sum((y * np.log(Z + 1e-7))) / y.shape[0]\n",
        "\n",
        "    def _optimize(self, X, y, X_val=None, y_val=None):\n",
        "        self.CEE_list = []\n",
        "        self.CEE_list_val = []\n",
        "        get_mini_batch = GetMiniBatch(X, y, batch_size=self.batch_size, seed=self.seed)\n",
        "        for _ in np.arange(0, self.epochs):\n",
        "            for mini_X, mini_y in get_mini_batch:\n",
        "                Z, Z_conv = self._forward(mini_X)\n",
        "                CEE = self._backward(mini_y, Z, Z_conv)\n",
        "                self.CEE_list.append(CEE)\n",
        "            if (X_val is not None and y_val is not None):\n",
        "                Z, _ = self._forward(X_val)\n",
        "                self.CEE_list_val.append(self._compute_CEE(y_val, Z[-1]))\n",
        "\n",
        "    def fit(self, X, y, X_val=None, y_val=None):\n",
        "\n",
        "        self.n_output = y.shape[1]\n",
        "        self.n_features = X.shape[1]\n",
        "        self.n_nodes = self.hidden_layers.copy()\n",
        "        n_out = len(X[0])\n",
        "        for i in np.arange(0, len(self.F)):\n",
        "            n_out = compute_output_size(n_out, 0, self.F[i], 1)\n",
        "        self.n_nodes.insert(0, n_out)\n",
        "        self.n_nodes.append(self.n_output)\n",
        "        self._initialize_neural_network()\n",
        "        self._optimize(X, y, X_val, y_val)\n",
        "\n",
        "    def predict(self, X):\n",
        "\n",
        "        Z_ret = []\n",
        "        for x in X:\n",
        "            Z_pred, _ = self._forward(np.array([x]))\n",
        "            Z_ret.append(np.argmax(Z_pred[-1]))\n",
        "        return np.array(Z_ret)"
      ]
    },
    {
      "cell_type": "code",
      "execution_count": null,
      "metadata": {
        "colab": {
          "base_uri": "https://localhost:8080/"
        },
        "id": "D8rrgIP0bjET",
        "outputId": "a9125525-61ea-4856-800c-be38f07680e9"
      },
      "outputs": [
        {
          "name": "stderr",
          "output_type": "stream",
          "text": [
            "/usr/local/lib/python3.7/dist-packages/ipykernel_launcher.py:6: DeprecationWarning: `np.float` is a deprecated alias for the builtin `float`. To silence this warning, use `float` by itself. Doing this will not modify any behavior and is safe. If you specifically wanted the numpy scalar type, use `np.float64` here.\n",
            "Deprecated in NumPy 1.20; for more details and guidance: https://numpy.org/devdocs/release/1.20.0-notes.html#deprecations\n",
            "  \n",
            "/usr/local/lib/python3.7/dist-packages/ipykernel_launcher.py:7: DeprecationWarning: `np.float` is a deprecated alias for the builtin `float`. To silence this warning, use `float` by itself. Doing this will not modify any behavior and is safe. If you specifically wanted the numpy scalar type, use `np.float64` here.\n",
            "Deprecated in NumPy 1.20; for more details and guidance: https://numpy.org/devdocs/release/1.20.0-notes.html#deprecations\n",
            "  import sys\n"
          ]
        },
        {
          "name": "stdout",
          "output_type": "stream",
          "text": [
            "1.0\n",
            "0.0\n",
            "(48000, 784)\n",
            "(12000, 784)\n"
          ]
        }
      ],
      "source": [
        "(X_train, y_train), (X_test, y_test) = mnist.load_data()\n",
        "X_train = X_train.reshape(-1, 784)\n",
        "X_test = X_test.reshape(-1, 784)\n",
        "\n",
        "\n",
        "X_train = X_train.astype(np.float)\n",
        "X_test = X_test.astype(np.float)\n",
        "X_train /= 255\n",
        "X_test /= 255\n",
        "print(X_train.max()) # 1.0\n",
        "print(X_train.min()) # 0.0\n",
        "\n",
        "\n",
        "X_train, X_val, y_train, y_val = train_test_split(X_train, y_train, test_size=0.2)\n",
        "print(X_train.shape) # (48000, 784)\n",
        "print(X_val.shape) # (12000, 784)"
      ]
    },
    {
      "cell_type": "code",
      "execution_count": null,
      "metadata": {
        "id": "DMEe02o-Dqgw"
      },
      "outputs": [],
      "source": [
        "from sklearn.preprocessing import OneHotEncoder\n",
        "enc = OneHotEncoder(handle_unknown='ignore', sparse=False)\n",
        "y_train_one_hot = enc.fit_transform(y_train[:, np.newaxis])\n",
        "y_test_one_hot = enc.transform(y_test[:, np.newaxis])\n",
        "from sklearn.model_selection import train_test_split\n",
        "\n",
        "\n",
        "X_train, X_val, y_train, y_val = train_test_split(X_train, y_train_one_hot, test_size=0.2)\n",
        "def plot_CEE(CEE_list=None, CEE_list_val=None, epochs=None):\n",
        "    \"\"\"plot final CEE for every epochs\"\"\"\n",
        "    if (CEE_list is not None):\n",
        "        plt.plot(np.arange(1, epochs + 1), CEE_list[::int(len(CEE_list)/epochs)], label=\"train\", marker='o')\n",
        "    if (CEE_list_val is not None):\n",
        "        plt.plot(np.arange(1, epochs + 1), CEE_list_val, label=\"val\", marker='o')\n",
        "    plt.legend()\n",
        "    plt.xlabel(\"iter\")\n",
        "    plt.ylabel(\"CEE\")\n",
        "    plt.title(\"CEE graph\")\n",
        "    plt.grid()\n",
        "    plt.show()\n",
        "def draw_fault(y_pred, y_val):\n",
        "    \"\"\"\n",
        "    Display word classification results side by side. The display above the image is \"estimated result / correct answer\".\n",
        "    Parameters:\n",
        "    ----------\n",
        "    y_pred : Estimated ndarray (n_samples,)\n",
        "    y_val : Correct label of verification data (n_samples,)\n",
        "    X_val : Verification data features (n_samples, n_features)\n",
        "    \"\"\"\n",
        "    num = 36 # How many to display\n",
        "\n",
        "    true_false = y_pred==y_val\n",
        "    false_list = np.where(true_false==False)[0].astype(np.int)\n",
        "    if false_list.shape[0] < num:\n",
        "        num = false_list.shape[0]\n",
        "    fig = plt.figure(figsize=(6, 6))\n",
        "    fig.subplots_adjust(left=0, right=0.8,  bottom=0, top=0.8, hspace=1, wspace=0.5)\n",
        "    for i in range(num):\n",
        "        ax = fig.add_subplot(6, 6, i + 1, xticks=[], yticks=[])\n",
        "        ax.set_title(\"{} / {}\".format(y_pred[false_list[i]],y_val[false_list[i]]))\n",
        "        ax.imshow(X_val.reshape(-1,28,28)[false_list[i]], cmap='gray')\n",
        "\n",
        "\n",
        "\n",
        "def save_model(model_name, model):\n",
        "    np.savez(model_name + '.npz', model)\n",
        "\n",
        "\n",
        "\n",
        "def handler(model=None, X_train=None, y_train=None, X_val=None, y_val=None, epochs=None, save=False, file_name=None):\n",
        "  model.fit(X_train, y_train, X_val, y_val)\n",
        "  y_pred = model.predict(X_val)\n",
        "  unique_elements, counts_elements = np.unique(y_pred - np.argmax(y_val, axis=1), return_counts=True)\n",
        "  print(\"number of correct cases: {}/{}\".format(int(counts_elements[unique_elements == 0]), y_pred.shape[0]))\n",
        "  print(\"Accuracy: {}\".format(accuracy_score(np.argmax(y_val, axis=1), y_pred)))\n",
        "  plot_CEE(CEE_list=model.CEE_list, CEE_list_val=model.CEE_list_val, epochs=epochs)\n",
        "  draw_fault(y_pred, np.argmax(y_val, axis=1))\n",
        "  if (save == True):\n",
        "      save_model('file_name', model)\n",
        "\n"
      ]
    },
    {
      "cell_type": "code",
      "execution_count": null,
      "metadata": {
        "id": "2Eekc0pZLelq"
      },
      "outputs": [],
      "source": [
        "epochs = 1\n",
        "batch_size = 1\n",
        "cnn_1 = Scratch1dCNNClassifier(\n",
        "                conv_filter_size=[20, 10],\n",
        "                hidden_layers=[400,200],\n",
        "                hidden_activations=['relu', 'relu'],\n",
        "                hidden_initializers=['he', 'he'],\n",
        "                sigma=0.01,\n",
        "                optimizer='sgd',\n",
        "                layer_type=None,\n",
        "                batch_size=batch_size,\n",
        "                epochs=epochs,\n",
        "                lr=0.05,\n",
        "                seed=69,\n",
        "                verbose=False       \n",
        ")\n"
      ]
    },
    {
      "cell_type": "code",
      "execution_count": null,
      "metadata": {
        "colab": {
          "background_save": true,
          "base_uri": "https://localhost:8080/"
        },
        "id": "IDvn4F3HGPjK",
        "outputId": "1a834cfc-d728-4687-aaef-ddd5014483ba"
      },
      "outputs": [
        {
          "name": "stderr",
          "output_type": "stream",
          "text": [
            "/usr/local/lib/python3.7/dist-packages/ipykernel_launcher.py:8: DeprecationWarning: `np.int` is a deprecated alias for the builtin `int`. To silence this warning, use `int` by itself. Doing this will not modify any behavior and is safe. When replacing `np.int`, you may wish to use e.g. `np.int64` or `np.int32` to specify the precision. If you wish to review your current use, check the release note link for additional information.\n",
            "Deprecated in NumPy 1.20; for more details and guidance: https://numpy.org/devdocs/release/1.20.0-notes.html#deprecations\n",
            "  \n"
          ]
        },
        {
          "name": "stdout",
          "output_type": "stream",
          "text": [
            "number of correct cases: 975/9600\n",
            "Accuracy: 0.1015625\n"
          ]
        },
        {
          "data": {
            "image/png": "[encoded data removed]",
            "text/plain": [
              "<Figure size 432x288 with 1 Axes>"
            ]
          },
          "metadata": {},
          "output_type": "display_data"
        },
        {
          "name": "stderr",
          "output_type": "stream",
          "text": [
            "/usr/local/lib/python3.7/dist-packages/ipykernel_launcher.py:33: DeprecationWarning: `np.int` is a deprecated alias for the builtin `int`. To silence this warning, use `int` by itself. Doing this will not modify any behavior and is safe. When replacing `np.int`, you may wish to use e.g. `np.int64` or `np.int32` to specify the precision. If you wish to review your current use, check the release note link for additional information.\n",
            "Deprecated in NumPy 1.20; for more details and guidance: https://numpy.org/devdocs/release/1.20.0-notes.html#deprecations\n"
          ]
        },
        {
          "data": {
            "image/png": "[encoded data removed]",
            "text/plain": [
              "<Figure size 432x432 with 36 Axes>"
            ]
          },
          "metadata": {},
          "output_type": "display_data"
        }
      ],
      "source": [
        "\n",
        "handler(model=cnn_1,X_train= X_train,y_train= y_train,X_val= X_val, y_val=y_val, epochs=1)"
      ]
    }
  ],
  "metadata": {
    "colab": {
      "collapsed_sections": [],
      "name": "SimplConv1d.ipynb",
      "provenance": [],
      "authorship_tag": "ABX9TyMTXSNiZjEQSVHuWkfv3nDd",
      "include_colab_link": true
    },
    "kernelspec": {
      "display_name": "Python 3",
      "name": "python3"
    },
    "language_info": {
      "name": "python"
    }
  },
  "nbformat": 4,
  "nbformat_minor": 0
}