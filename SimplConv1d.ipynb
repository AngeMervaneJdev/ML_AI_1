{
  "nbformat": 4,
  "nbformat_minor": 0,
  "metadata": {
    "colab": {
      "name": "SimplConv1d.ipynb",
      "provenance": [],
      "collapsed_sections": [],
      "authorship_tag": "ABX9TyPn0gd9YDBqeWk6U7vi2Zqm",
      "include_colab_link": true
    },
    "kernelspec": {
      "name": "python3",
      "display_name": "Python 3"
    },
    "language_info": {
      "name": "python"
    }
  },
  "cells": [
    {
      "cell_type": "markdown",
      "metadata": {
        "id": "view-in-github",
        "colab_type": "text"
      },
      "source": [
        "<a href=\"https://colab.research.google.com/github/AngeMervaneJdev/ML_AI_1/blob/main/SimplConv1d.ipynb\" target=\"_parent\"><img src=\"https://colab.research.google.com/assets/colab-badge.svg\" alt=\"Open In Colab\"/></a>"
      ]
    },
    {
      "cell_type": "markdown",
      "source": [
        "#[Problème 1] Création d'une classe de couche convolutionnelle unidimensionnelle qui limite le nombre de canaux à un"
      ],
      "metadata": {
        "id": "idVsICkXCSpU"
      }
    },
    {
      "cell_type": "code",
      "source": [
        "import numpy as np;\n",
        "from scipy.sparse import dia_matrix"
      ],
      "metadata": {
        "id": "iJFPqImGcac1"
      },
      "execution_count": 2,
      "outputs": []
    },
    {
      "cell_type": "code",
      "execution_count": 34,
      "metadata": {
        "id": "fkXtlSabCJi7"
      },
      "outputs": [],
      "source": [
        "\n",
        "class SimpleConv1d:\n",
        "    def __init__(self, weight, baias):\n",
        "        self.optimizer = None\n",
        "\n",
        "        self.W = weight\n",
        "        self.B = baias\n",
        "        self.dW = None\n",
        "        self.dB = None\n",
        "        self.idx =None\n",
        "        self.X = None\n",
        "        pass\n",
        "\n",
        "    def forward(self, X):\n",
        "        self.a = X.copy()\n",
        "        idx1 = np.arange(self.W.shape[0])\n",
        "        idx2 = np.arange(self.W.shape[0]-1 ).reshape(-1, 1)\n",
        "        self.idx = idx1 + idx2\n",
        "        A = np.sum(X[self.idx] * self.W.T,axis=1) + self.B\n",
        "        return A\n",
        "    def backward(self, dX,dA):\n",
        "\n",
        "        dB = np.sum(dA,axis=0)\n",
        "        dW = np.sum(dA[:,np.newaxis] *dX[self.idx],axis=0)\n",
        "        da = dA.reshape(-1,1)\n",
        "        data= np.repeat(da,dX.shape[0],axis=1)\n",
        "        offsets= np.arange(self.output(data))\n",
        "        d = dia_matrix((data,offsets),shape=(w.shape[0],x.shape[0])).toarray()\n",
        "        dx = np.sum(d * w[:,np.newaxis],axis=0)\n",
        "        \n",
        "        return dX\n",
        "    def output(self,X):\n",
        "        n_in = X.shape[1]\n",
        "        p = 0\n",
        "        f = self.W.shape[0]\n",
        "        s = 1 \n",
        "        n_out = ((n_in + 2*p - f)/s)+1\n",
        "        return n_out"
      ]
    },
    {
      "cell_type": "markdown",
      "source": [
        "#[Problème 2] Calcul de la taille de sortie après convolution unidimensionnelle"
      ],
      "metadata": {
        "id": "dVAuGo-NEfTd"
      }
    },
    {
      "cell_type": "code",
      "source": [
        "def output(X,p,f,s):\n",
        "    n_in = X.shape[0]\n",
        "    n_out = ((n_in + 2*p - f)/s)+1\n",
        "    return n_out"
      ],
      "metadata": {
        "id": "tGh6cqtlEYOu"
      },
      "execution_count": 7,
      "outputs": []
    },
    {
      "cell_type": "markdown",
      "source": [
        "#[Problème 3] Expérience d'une couche convolutionnelle unidimensionnelle avec un petit réseau"
      ],
      "metadata": {
        "id": "kSgVREq-EsLs"
      }
    },
    {
      "cell_type": "code",
      "source": [
        "x = np.array([1,2,3,4])\n",
        "w = np.array([3, 5, 7])\n",
        "b = np.array([1])\n",
        "x.shape,w.shape,b.shape"
      ],
      "metadata": {
        "colab": {
          "base_uri": "https://localhost:8080/"
        },
        "id": "wj3-M5PDcROz",
        "outputId": "be1901a7-0b4c-4f59-b241-21e231285dc5"
      },
      "execution_count": 11,
      "outputs": [
        {
          "output_type": "execute_result",
          "data": {
            "text/plain": [
              "((4,), (3,), (1,))"
            ]
          },
          "metadata": {},
          "execution_count": 11
        }
      ]
    },
    {
      "cell_type": "code",
      "source": [
        "sc1 = SimpleConv1d(w,b)\n",
        "sc1.forward(x)"
      ],
      "metadata": {
        "colab": {
          "base_uri": "https://localhost:8080/"
        },
        "id": "vc0SCtQUc5ew",
        "outputId": "5f72bb65-9271-4cd7-868c-255cbba9dcfb"
      },
      "execution_count": 9,
      "outputs": [
        {
          "output_type": "execute_result",
          "data": {
            "text/plain": [
              "array([35, 50])"
            ]
          },
          "metadata": {},
          "execution_count": 9
        }
      ]
    },
    {
      "cell_type": "code",
      "source": [
        "delta_a = np.array([10, 20])\n",
        "delta_a.shape\n",
        "delta_b = np.array([30])\n",
        "delta_w = np.array([50, 80, 110])\n",
        "delta_x = np.array([30, 110, 170, 140])"
      ],
      "metadata": {
        "id": "hfdpQwKJcZRv"
      },
      "execution_count": 22,
      "outputs": []
    },
    {
      "cell_type": "code",
      "source": [
        "sc1 = SimpleConv1d(delta_w,delta_b)\n",
        "sc1.backward(delta_x,delta_a)"
      ],
      "metadata": {
        "colab": {
          "base_uri": "https://localhost:8080/"
        },
        "id": "GN8VZZDch3GZ",
        "outputId": "b4424e54-abd4-458a-8244-dc127fb29a5a"
      },
      "execution_count": 35,
      "outputs": [
        {
          "output_type": "execute_result",
          "data": {
            "text/plain": [
              "array([ 30, 110, 170, 140])"
            ]
          },
          "metadata": {},
          "execution_count": 35
        }
      ]
    },
    {
      "cell_type": "code",
      "source": [
        "x = np.array([1, 2, 3, 4])\n",
        "w = np.array([3, 5, 7])\n",
        "\n",
        "a = np.empty((2, 3))\n",
        "\n",
        "indexes0 = np.array([0, 1, 2])\n",
        "indexes1 = np.array([1, 2, 3])\n",
        "\n",
        "a[0] = x[indexes0]*w # x[indexes0]は([1, 2, 3])である\n",
        "a[1] = x[indexes1]*w # x[indexes1]は([2, 3, 4])である\n",
        "\n",
        "a = a.sum(axis=1)\n",
        "a"
      ],
      "metadata": {
        "colab": {
          "base_uri": "https://localhost:8080/"
        },
        "id": "fdunwE2AnOJj",
        "outputId": "371d7a48-8974-4d6d-d538-cda10c83752f"
      },
      "execution_count": 37,
      "outputs": [
        {
          "output_type": "execute_result",
          "data": {
            "text/plain": [
              "array([34., 49.])"
            ]
          },
          "metadata": {},
          "execution_count": 37
        }
      ]
    },
    {
      "cell_type": "markdown",
      "source": [
        "#[Problème 4] Création d'une classe de couche convolutionnelle unidimensionnelle qui ne limite pas le nombre de canaux"
      ],
      "metadata": {
        "id": "tfe5OwOtj_CX"
      }
    },
    {
      "cell_type": "code",
      "source": [
        "x = np.array([[1, 2, 3, 4], [2, 3, 4, 5]]) # shape(2, 4)で、（入力チャンネル数、特徴量数）である。\n",
        "w = np.ones((3, 2, 3)) # 例の簡略化のため全て1とする。(出力チャンネル数、入力チャンネル数、フィルタサイズ)である。\n",
        "b = np.array([1, 2, 3])\n"
      ],
      "metadata": {
        "id": "J6ZimcBOj-oG"
      },
      "execution_count": 49,
      "outputs": []
    },
    {
      "cell_type": "code",
      "source": [
        "def output2(X,p,f,s):\n",
        "    n_in = X.shape[1]\n",
        "    p = p #バディング\n",
        "    f = f #フィルタのサイズ\n",
        "    s = s #ストライドのサイズ\n",
        "    n_out = ((n_in + 2*p - f)/s)+1\n",
        "    return n_out"
      ],
      "metadata": {
        "id": "KR29GVrb60bI"
      },
      "execution_count": 50,
      "outputs": []
    },
    {
      "cell_type": "code",
      "source": [
        "\n",
        "a = np.array([[16, 22], [17, 23], [18, 24]])\n",
        "\n",
        "\n",
        "o = int(output2(x,0,w.shape[-1],1))\n",
        "print(o)\n",
        "\n",
        "nin, i = x.shape\n",
        "print(nin,i)\n",
        "#oc出力チャンネル , cチャンネル数 , fフィルタサイズ\n",
        "oc, c, f = w.shape\n",
        "print(oc,c,f)\n",
        "\n",
        "#c * f \n",
        "idx_arr = np.arange(c*f).reshape(c,f)\n",
        "idx_arr"
      ],
      "metadata": {
        "colab": {
          "base_uri": "https://localhost:8080/"
        },
        "id": "CVA3zh6jwDwu",
        "outputId": "5c34d291-4439-4cfa-fa48-7ebf327dc979"
      },
      "execution_count": 51,
      "outputs": [
        {
          "output_type": "stream",
          "name": "stdout",
          "text": [
            "2\n",
            "2 4\n",
            "3 2 3\n"
          ]
        },
        {
          "output_type": "execute_result",
          "data": {
            "text/plain": [
              "array([[0, 1, 2],\n",
              "       [3, 4, 5]])"
            ]
          },
          "metadata": {},
          "execution_count": 51
        }
      ]
    },
    {
      "cell_type": "code",
      "source": [
        "#フォワード\n",
        "idx1 = np.arange(w.shape[-1])\n",
        "\n",
        "idx2 = np.arange(w.shape[-1]-1 ).reshape(-1, 1)\n",
        "\n",
        "idx = idx1 + idx2\n",
        "\n",
        "print(x[:,idx].shape)\n",
        "a1 = x[:,idx]\n",
        "a2 = w\n",
        "print(a1)\n",
        "a= np.zeros((f,o))\n",
        "for i in range(f):\n",
        "    for j in range(o):\n",
        "        x_in = a1[j]\n",
        "        print(x_in.shape)\n",
        "        a[i][j] = np.sum(x_in @ w[i][j])\n",
        "        print('a',a.shape)\n",
        "    print(b[i].shape)\n",
        "    a[i] += a[i] + b[i]\n",
        "    print(a)"
      ],
      "metadata": {
        "colab": {
          "base_uri": "https://localhost:8080/"
        },
        "id": "-ZH_DUoF7OjL",
        "outputId": "17c42257-f95c-4e07-f1f3-936413714996"
      },
      "execution_count": 52,
      "outputs": [
        {
          "output_type": "stream",
          "name": "stdout",
          "text": [
            "(2, 2, 3)\n",
            "[[[1 2 3]\n",
            "  [2 3 4]]\n",
            "\n",
            " [[2 3 4]\n",
            "  [3 4 5]]]\n",
            "(2, 3)\n",
            "a (3, 2)\n",
            "(2, 3)\n",
            "a (3, 2)\n",
            "()\n",
            "[[31. 43.]\n",
            " [ 0.  0.]\n",
            " [ 0.  0.]]\n",
            "(2, 3)\n",
            "a (3, 2)\n",
            "(2, 3)\n",
            "a (3, 2)\n",
            "()\n",
            "[[31. 43.]\n",
            " [32. 44.]\n",
            " [ 0.  0.]]\n",
            "(2, 3)\n",
            "a (3, 2)\n",
            "(2, 3)\n",
            "a (3, 2)\n",
            "()\n",
            "[[31. 43.]\n",
            " [32. 44.]\n",
            " [33. 45.]]\n"
          ]
        }
      ]
    },
    {
      "cell_type": "code",
      "source": [
        "class Conv1d:\n",
        "    def __init__(self,ch, f_num, f_size, initializer,optimizer):\n",
        "        self.optimizer = optimizer\n",
        "\n",
        "        self.W = initializer.W(f_num=f_num,f_size=f_size,ch=ch)\n",
        "        self.B = initializer.B(f_num)\n",
        "        self.dW = None\n",
        "        self.dB = None\n",
        "        self.idx =None\n",
        "        self.X = None\n",
        "        self.A = None\n",
        "        pass\n",
        "\n",
        "    def output(self,X,p,f,s):\n",
        "        self.x_in = X.shape[-1]\n",
        "        n_out = int(((self.x_in + 2*p - f)/s)+1)\n",
        "        return n_out\n",
        "\n",
        "    def forward(self, X):\n",
        "        #print(X.shape)\n",
        "        self.X = X\n",
        "        #shape\n",
        "        i_ch,featu = self.X.shape\n",
        "        o_ch,i_ch,f_size = self.W.shape\n",
        "        self.o_size = self.output(X,0,f_size,1)\n",
        "        A = np.zeros((o_ch,self.o_size))\n",
        "\n",
        "        idx1 = np.arange(f_size)\n",
        "        idx2 = np.arange(f_size-1 ).reshape(-1, 1)\n",
        "        idx = idx1 + idx2\n",
        "        self.xs = X[:,idx]\n",
        "        for oc in range(o_ch):\n",
        "            for ic in range(i_ch):\n",
        "                for os in range(self.o_size):\n",
        "                    A[oc , os] += np.sum(self.X[ic, os:os+f_size] * self.W[oc, ic, :])\n",
        "        A += self.B.reshape(-1,1)\n",
        "        #print(A.shape)\n",
        "        return A\n",
        "\n",
        "    def backward(self, dA):\n",
        "        i_ch,featu = self.X.shape\n",
        "        o_ch,i_ch,f_size = self.W.shape\n",
        "        #bias\n",
        "        self.dB = np.sum(dA,axis=1)\n",
        "\n",
        "        self.dW = np.zeros(self.W.shape)\n",
        "        for oc in range(o_ch):\n",
        "            for ic in range(i_ch):\n",
        "                for f in range(f_size):\n",
        "                    for os in range(self.o_size):\n",
        "                        self.dW[oc,ic,f] += dA[ic,os] * self.X[ic,f + os]\n",
        "        #print('dB',self.dB.shape)\n",
        "        #print('dW',self.dW.shape)\n",
        "        #backpropa\n",
        "        dX = 0\n",
        "        for i in range(o_ch):\n",
        "            da = dA[:,:,np.newaxis]\n",
        "            data= np.repeat(da[i],i_ch,axis=1)\n",
        "            offsets= np.arange(self.o_size)\n",
        "            #print(offsets)\n",
        "            da = dia_matrix((data,offsets),shape=(f_size,i_ch)).toarray()\n",
        "            dX += np.sum(da * self.W[i][:,:,np.newaxis],axis=1)\n",
        "\n",
        "         # 更新\n",
        "        self = self.optimizer.update(self)\n",
        "        return dX"
      ],
      "metadata": {
        "id": "Dz4-cTwS-PYa"
      },
      "execution_count": null,
      "outputs": []
    }
  ]
}