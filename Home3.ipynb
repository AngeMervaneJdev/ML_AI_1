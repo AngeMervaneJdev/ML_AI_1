{
  "nbformat": 4,
  "nbformat_minor": 0,
  "metadata": {
    "colab": {
      "name": "Home3.ipynb",
      "provenance": [],
      "collapsed_sections": [],
      "authorship_tag": "ABX9TyNWr/028D0ElzgaNpDdbHf1",
      "include_colab_link": true
    },
    "kernelspec": {
      "name": "python3",
      "display_name": "Python 3"
    },
    "language_info": {
      "name": "python"
    }
  },
  "cells": [
    {
      "cell_type": "markdown",
      "metadata": {
        "id": "view-in-github",
        "colab_type": "text"
      },
      "source": [
        "<a href=\"https://colab.research.google.com/github/AngeMervaneJdev/ML_AI_1/blob/main/Home3.ipynb\" target=\"_parent\"><img src=\"https://colab.research.google.com/assets/colab-badge.svg\" alt=\"Open In Colab\"/></a>"
      ]
    },
    {
      "cell_type": "markdown",
      "source": [
        "# Probleme 1\n",
        "\n",
        "## Home Data analysis\n",
        "* ### What to learn and what to predict?\n",
        "\n",
        "  *variety of alternative data--including telco and transactional information--to predict their clients' repayment abilities.*\n",
        "* ### What kind of file to create and submit to Kaggle?\n",
        "\n",
        "   *The file should contain a header and have the following format:*\n",
        "\n",
        "        SK_ID_CURR,TARGET\n",
        "        100001,0.1\n",
        "        100005,0.9\n",
        "        100013,0.2\n",
        "        etc.\n",
        "* ### What kind of index value will be used to evaluate the submissions?\n",
        "\n",
        "  *Submissions are evaluated on area under the ROC curve between the predicted probability and the observed target.*"
      ],
      "metadata": {
        "id": "t_ZqKS_SlthT"
      }
    },
    {
      "cell_type": "code",
      "source": [
        "# importations \n",
        "from sklearn.model_selection import train_test_split\n",
        "from sklearn.preprocessing import StandardScaler,LabelEncoder\n",
        "from sklearn.impute import SimpleImputer\n",
        "from sklearn.ensemble import RandomForestClassifier\n",
        "from sklearn.datasets import make_classification\n",
        "\n",
        "\n",
        "import numpy as np\n",
        "import pandas as pd\n"
      ],
      "metadata": {
        "id": "Izpx7jfklx08"
      },
      "execution_count": null,
      "outputs": []
    },
    {
      "cell_type": "code",
      "source": [
        "print('Probleme 2\\n')\n",
        "# import Sk Learn train test split\n",
        "\n",
        "\n",
        "X_test=pd.read_csv(\"application_test.csv\")\n",
        "\n",
        "X_train=pd.read_csv(\"application_train.csv\")\n",
        "\n",
        "#############################################################################################\n",
        "\n",
        "\n",
        "# Getting data \n",
        "\n",
        "print(\"\\nThe shape of test data : \"+str(X_test.shape))\n",
        "print(\"\\nThe shape of test data : \"+str(X_train.shape))\n",
        "\n",
        "\n",
        "########################################__MISSING_VALUES__#####################################################\n",
        "\n",
        "# Searching for missing values (preparation)\n",
        "### train data\n",
        "missings=X_train.isnull().sum()\n",
        "\n",
        "#### table of missing values\n",
        "missing_values=pd.concat([missings,missings/len(X_train)],axis=1)\n",
        "missing_train_values=missing_values[missing_values[0]!=0].rename(columns ={0: 'Missing Values',1:'Percentage'})\n",
        "\n",
        "print('*'*150)\n",
        "print(missing_train_values)\n",
        "print(\"\\n\"*2)\n",
        "\n",
        "### test data\n",
        "missings=X_test.isnull().sum()\n",
        "\n",
        "#### table of missing values\n",
        "missing_values=pd.concat([missings,missings/len(X_test)],axis=1)\n",
        "missing_test_values=missing_values[missing_values[0]!=0].rename(columns ={0: 'Missing Values',1:'Percentage'})\n",
        "print('*'*150)\n",
        "print(missing_test_values)\n",
        "print(\"\\n\"*2)\n",
        "\n",
        "\n",
        "#######################################__NUM_COL_AND_CAT_COLS__######################################################\n",
        "\n",
        "# Classification  (test data)\n",
        "test_num_features=X_test.select_dtypes(include=['int64','float']).columns\n",
        "test_cat_features=X_test.select_dtypes(include=['object']).columns\n",
        "\n",
        "# Classification  (train data)\n",
        "train_num_features=X_train.select_dtypes(include=['int64','float']).columns\n",
        "train_cat_features=X_train.select_dtypes(include=['object']).columns\n",
        "\n",
        "#######################################__INPUTATION___######################################################\n",
        "\n",
        "\n",
        "#### replacing missing values (test data)\n",
        "\n",
        "\n",
        "# ----> numerical columns\n",
        "\n",
        "nan_test_cols=list(X_test[test_num_features].isnull().columns)\n",
        "imp_mean = SimpleImputer(missing_values=np.nan,strategy='mean')\n",
        "imp_mean.fit(X_test[nan_test_cols]) # fitting\n",
        "X_test[nan_test_cols] = imp_mean.transform(X_test[nan_test_cols]) # transform\n",
        "\n",
        "# ----> categorical columns\n",
        "for i in test_cat_features:\n",
        "  X_test[i].fillna(\"None\",inplace=True)\n",
        "\n",
        "\n",
        "#### replacing missing values (train data)\n",
        "\n",
        "\n",
        "# ----> numerical columns\n",
        "\n",
        "nan_train_cols=list(X_train[train_num_features].isnull().columns)\n",
        "imp_mean = SimpleImputer(missing_values=np.nan,strategy='mean')\n",
        "imp_mean.fit(X_train[nan_train_cols]) # fitting\n",
        "X_train[nan_train_cols] = imp_mean.transform(X_train[nan_train_cols]) # transform\n",
        "\n",
        "# ----> categorical columns\n",
        "for i in train_cat_features:\n",
        "  X_train[i].fillna(\"None\",inplace=True)\n",
        "print(\"\\n\"*2)\n",
        "print('*'*50)\n",
        "print(X_test.isnull().sum().sort_values(ascending=True))\n",
        "print(\"\\n\"*2)\n",
        "########################################__ENCODING__DATA__WITH_LABEL_ENCODER__#####################################################\n",
        "\n",
        "scale=LabelEncoder()\n",
        "# ---> test data\n",
        "for col in test_cat_features:\n",
        "  X_test[col]=scale.fit_transform(X_test[col])\n",
        "# ---> train data\n",
        "for col in train_cat_features:\n",
        "  X_train[col]=scale.fit_transform(X_train[col])\n",
        "\n",
        "##################__AFFICHAGE__######################\n",
        "print('*'*150)\n",
        "print(\"\\n\"*2)\n",
        "\n",
        "print(X_test.head)\n",
        "print(\"\\n\"*2)\n",
        "\n",
        "print('*'*150)\n",
        "print(\"\\n\"*2)\n",
        "print(X_train.head)\n",
        "print('*'*150)\n",
        "print(\"\\n\"*2)\n",
        "#####################################################__STANDARISATION__#############################################################\n",
        "\n",
        "X = X_train[X_test.columns]\n",
        "y = X_train['TARGET']\n",
        "\n",
        "\n",
        "X_train,X_test,y_train,y_test = train_test_split(X,y,test_size=0.33,random_state=0)\n",
        "\n",
        "scaler = StandardScaler()\n",
        "scaler.fit(X_train)\n",
        "X_train = scaler.transform(X_train)\n",
        "X_test = scaler.transform(X_test)\n",
        "\n",
        "\n",
        "#########################################__PREDICTION__##################################################\n",
        "\n",
        "model = RandomForestClassifier(max_depth=2, random_state=0).fit(X_train,y_train) \n",
        "y_pred = model.predict(X_test)\n",
        "\n",
        "y_pred\n",
        "\n",
        "\n",
        "\n"
      ],
      "metadata": {
        "colab": {
          "base_uri": "https://localhost:8080/"
        },
        "id": "tOCB0zB4oXqJ",
        "outputId": "9730941c-5487-41d1-ed34-f1ce6a95aa5c"
      },
      "execution_count": null,
      "outputs": [
        {
          "output_type": "stream",
          "name": "stdout",
          "text": [
            "Probleme 2\n",
            "\n",
            "\n",
            "The shape of test data : (48744, 121)\n",
            "\n",
            "The shape of test data : (161137, 122)\n",
            "******************************************************************************************************************************************************\n",
            "                            Missing Values  Percentage\n",
            "AMT_ANNUITY                              8    0.000050\n",
            "AMT_GOODS_PRICE                        135    0.000838\n",
            "NAME_TYPE_SUITE                        659    0.004090\n",
            "OWN_CAR_AGE                         106403    0.660326\n",
            "FLAG_CONT_MOBILE                         1    0.000006\n",
            "...                                    ...         ...\n",
            "AMT_REQ_CREDIT_BUREAU_DAY            21619    0.134165\n",
            "AMT_REQ_CREDIT_BUREAU_WEEK           21619    0.134165\n",
            "AMT_REQ_CREDIT_BUREAU_MON            21619    0.134165\n",
            "AMT_REQ_CREDIT_BUREAU_QRT            21619    0.134165\n",
            "AMT_REQ_CREDIT_BUREAU_YEAR           21619    0.134165\n",
            "\n",
            "[101 rows x 2 columns]\n",
            "\n",
            "\n",
            "\n",
            "******************************************************************************************************************************************************\n",
            "                            Missing Values  Percentage\n",
            "AMT_ANNUITY                             24    0.000492\n",
            "NAME_TYPE_SUITE                        911    0.018689\n",
            "OWN_CAR_AGE                          32312    0.662892\n",
            "OCCUPATION_TYPE                      15605    0.320142\n",
            "EXT_SOURCE_1                         20532    0.421221\n",
            "...                                    ...         ...\n",
            "AMT_REQ_CREDIT_BUREAU_DAY             6049    0.124097\n",
            "AMT_REQ_CREDIT_BUREAU_WEEK            6049    0.124097\n",
            "AMT_REQ_CREDIT_BUREAU_MON             6049    0.124097\n",
            "AMT_REQ_CREDIT_BUREAU_QRT             6049    0.124097\n",
            "AMT_REQ_CREDIT_BUREAU_YEAR            6049    0.124097\n",
            "\n",
            "[64 rows x 2 columns]\n",
            "\n",
            "\n",
            "\n",
            "\n",
            "\n",
            "\n",
            "**************************************************\n",
            "SK_ID_CURR                      0\n",
            "TOTALAREA_MODE                  0\n",
            "HOUSETYPE_MODE                  0\n",
            "FONDKAPREMONT_MODE              0\n",
            "NONLIVINGAREA_MEDI              0\n",
            "                               ..\n",
            "REG_REGION_NOT_LIVE_REGION      0\n",
            "HOUR_APPR_PROCESS_START         0\n",
            "WEEKDAY_APPR_PROCESS_START      0\n",
            "YEARS_BEGINEXPLUATATION_MODE    0\n",
            "AMT_REQ_CREDIT_BUREAU_YEAR      0\n",
            "Length: 121, dtype: int64\n",
            "\n",
            "\n",
            "\n",
            "******************************************************************************************************************************************************\n",
            "\n",
            "\n",
            "\n",
            "<bound method NDFrame.head of        SK_ID_CURR  ...  AMT_REQ_CREDIT_BUREAU_YEAR\n",
            "0        100001.0  ...                    0.000000\n",
            "1        100005.0  ...                    3.000000\n",
            "2        100013.0  ...                    4.000000\n",
            "3        100028.0  ...                    3.000000\n",
            "4        100038.0  ...                    1.983769\n",
            "...           ...  ...                         ...\n",
            "48739    456221.0  ...                    1.000000\n",
            "48740    456222.0  ...                    1.983769\n",
            "48741    456223.0  ...                    1.000000\n",
            "48742    456224.0  ...                    2.000000\n",
            "48743    456250.0  ...                    4.000000\n",
            "\n",
            "[48744 rows x 121 columns]>\n",
            "\n",
            "\n",
            "\n",
            "******************************************************************************************************************************************************\n",
            "\n",
            "\n",
            "\n",
            "<bound method NDFrame.head of         SK_ID_CURR  ...  AMT_REQ_CREDIT_BUREAU_YEAR\n",
            "0         100002.0  ...                    1.000000\n",
            "1         100003.0  ...                    0.000000\n",
            "2         100004.0  ...                    0.000000\n",
            "3         100006.0  ...                    1.887993\n",
            "4         100007.0  ...                    0.000000\n",
            "...            ...  ...                         ...\n",
            "161132    286792.0  ...                    3.000000\n",
            "161133    286793.0  ...                    1.000000\n",
            "161134    286794.0  ...                    1.000000\n",
            "161135    286795.0  ...                    1.000000\n",
            "161136    286796.0  ...                    1.887993\n",
            "\n",
            "[161137 rows x 122 columns]>\n",
            "******************************************************************************************************************************************************\n",
            "\n",
            "\n",
            "\n"
          ]
        },
        {
          "output_type": "execute_result",
          "data": {
            "text/plain": [
              "array([0., 0., 0., ..., 0., 0., 0.])"
            ]
          },
          "metadata": {},
          "execution_count": 30
        }
      ]
    },
    {
      "cell_type": "code",
      "source": [
        "print(X_test.columns)"
      ],
      "metadata": {
        "colab": {
          "base_uri": "https://localhost:8080/"
        },
        "id": "pPWGj1aHE6on",
        "outputId": "3fc29c80-2475-4930-a81f-8a98a1ad25d2"
      },
      "execution_count": null,
      "outputs": [
        {
          "output_type": "stream",
          "name": "stdout",
          "text": [
            "Index(['SK_ID_CURR', 'NAME_CONTRACT_TYPE', 'CODE_GENDER', 'FLAG_OWN_CAR',\n",
            "       'FLAG_OWN_REALTY', 'CNT_CHILDREN', 'AMT_INCOME_TOTAL', 'AMT_CREDIT',\n",
            "       'AMT_ANNUITY', 'AMT_GOODS_PRICE',\n",
            "       ...\n",
            "       'FLAG_DOCUMENT_18', 'FLAG_DOCUMENT_19', 'FLAG_DOCUMENT_20',\n",
            "       'FLAG_DOCUMENT_21', 'AMT_REQ_CREDIT_BUREAU_HOUR',\n",
            "       'AMT_REQ_CREDIT_BUREAU_DAY', 'AMT_REQ_CREDIT_BUREAU_WEEK',\n",
            "       'AMT_REQ_CREDIT_BUREAU_MON', 'AMT_REQ_CREDIT_BUREAU_QRT',\n",
            "       'AMT_REQ_CREDIT_BUREAU_YEAR'],\n",
            "      dtype='object', length=121)\n"
          ]
        }
      ]
    },
    {
      "cell_type": "code",
      "source": [
        "print(\"Probleme 3\\n\")\n",
        "#predictition\n",
        "y_test_pred = model.predict(X_test)\n",
        "\n",
        "y_test_pred\n"
      ],
      "metadata": {
        "colab": {
          "base_uri": "https://localhost:8080/"
        },
        "id": "CnZsN-Cp1H70",
        "outputId": "aaf462f9-0390-4ad9-dc68-b699ad2e5f9a"
      },
      "execution_count": null,
      "outputs": [
        {
          "output_type": "stream",
          "name": "stdout",
          "text": [
            "Probleme 3\n",
            "\n"
          ]
        },
        {
          "output_type": "execute_result",
          "data": {
            "text/plain": [
              "array([0., 0., 0., ..., 0., 0., 0.])"
            ]
          },
          "metadata": {},
          "execution_count": 31
        }
      ]
    },
    {
      "cell_type": "code",
      "source": [
        "print(\"Probleme 4\\n\")\n"
      ],
      "metadata": {
        "id": "84lOsMDe32pU"
      },
      "execution_count": null,
      "outputs": []
    }
  ]
}