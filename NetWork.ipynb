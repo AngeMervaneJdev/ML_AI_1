{
  "nbformat": 4,
  "nbformat_minor": 0,
  "metadata": {
    "colab": {
      "name": "NetWork.ipynb",
      "provenance": [],
      "collapsed_sections": [],
      "authorship_tag": "ABX9TyOLC8a6YUREs1NFCb0JxDPM",
      "include_colab_link": true
    },
    "kernelspec": {
      "name": "python3",
      "display_name": "Python 3"
    },
    "language_info": {
      "name": "python"
    }
  },
  "cells": [
    {
      "cell_type": "markdown",
      "metadata": {
        "id": "view-in-github",
        "colab_type": "text"
      },
      "source": [
        "<a href=\"https://colab.research.google.com/github/AngeMervaneJdev/ML_AI_1/blob/main/NetWork.ipynb\" target=\"_parent\"><img src=\"https://colab.research.google.com/assets/colab-badge.svg\" alt=\"Open In Colab\"/></a>"
      ]
    },
    {
      "cell_type": "code",
      "execution_count": 24,
      "metadata": {
        "id": "xLDX-t_Beky-"
      },
      "outputs": [],
      "source": [
        "import numpy as np\n",
        "from sklearn.preprocessing import OneHotEncoder\n",
        "from keras.datasets import mnist\n",
        "from sklearn.model_selection import train_test_split\n",
        "from sklearn.metrics import accuracy_score\n",
        "import matplotlib.pyplot as plt\n"
      ]
    },
    {
      "cell_type": "markdown",
      "source": [
        "##Data acquisition"
      ],
      "metadata": {
        "id": "BjJVgP3461sb"
      }
    },
    {
      "cell_type": "code",
      "source": [
        "\n",
        "(X_train, y_train), (X_test, y_test) = mnist.load_data()\n"
      ],
      "metadata": {
        "id": "yqs5gw-D61Xj"
      },
      "execution_count": 29,
      "outputs": []
    },
    {
      "cell_type": "code",
      "source": [
        "X_train = X_train.reshape(-1, 784)\n",
        "X_test = X_test.reshape(-1, 784)"
      ],
      "metadata": {
        "id": "R67oFBBb7Oev"
      },
      "execution_count": 30,
      "outputs": []
    },
    {
      "cell_type": "markdown",
      "source": [
        "###Visualization of image data"
      ],
      "metadata": {
        "id": "fmA-nmG46-pd"
      }
    },
    {
      "cell_type": "code",
      "source": [
        "import matplotlib.pyplot as plt\n",
        "%matplotlib inline\n",
        "index = 0\n",
        "image = X_train[index].reshape(28,28)\n",
        "# X_train[index]: (784,)\n",
        "# image: (28, 28)\n",
        "plt.imshow(image, 'gray')\n",
        "plt.title('label : {}'.format(y_train[index]))\n",
        "plt.show()"
      ],
      "metadata": {
        "colab": {
          "base_uri": "https://localhost:8080/",
          "height": 281
        },
        "id": "4UH3TnDA7APz",
        "outputId": "e3989b66-15f6-4c71-af41-0ff071d02503"
      },
      "execution_count": 31,
      "outputs": [
        {
          "output_type": "display_data",
          "data": {
            "text/plain": [
              "<Figure size 432x288 with 1 Axes>"
            ],
            "image/png": "[encoded data removed]"
          },
          "metadata": {
            "needs_background": "light"
          }
        }
      ]
    },
    {
      "cell_type": "code",
      "source": [
        "index = 0\n",
        "image = X_train[index].reshape(28,28)\n",
        "image = image.astype(np.float) # Convert to float type\n",
        "image -= 105.35 # Intentionally try to create a negative decimal value\n",
        "plt.imshow(image, 'gray')\n",
        "plt.title('label : {}'.format(y_train[index]))\n",
        "plt.show()\n",
        "print(image) # Check the value\n",
        "plt.imshow(image, 'gray', vmin = 0, vmax = 255)"
      ],
      "metadata": {
        "colab": {
          "base_uri": "https://localhost:8080/",
          "height": 1000
        },
        "id": "0ke-3Dei8AZh",
        "outputId": "8393de99-e155-4a40-8d6d-c487443d90b4"
      },
      "execution_count": 32,
      "outputs": [
        {
          "output_type": "stream",
          "name": "stderr",
          "text": [
            "/usr/local/lib/python3.7/dist-packages/ipykernel_launcher.py:3: DeprecationWarning: `np.float` is a deprecated alias for the builtin `float`. To silence this warning, use `float` by itself. Doing this will not modify any behavior and is safe. If you specifically wanted the numpy scalar type, use `np.float64` here.\n",
            "Deprecated in NumPy 1.20; for more details and guidance: https://numpy.org/devdocs/release/1.20.0-notes.html#deprecations\n",
            "  This is separate from the ipykernel package so we can avoid doing imports until\n"
          ]
        },
        {
          "output_type": "display_data",
          "data": {
            "text/plain": [
              "<Figure size 432x288 with 1 Axes>"
            ],
            "image/png": "[encoded data removed]"
          },
          "metadata": {
            "needs_background": "light"
          }
        },
        {
          "output_type": "stream",
          "name": "stdout",
          "text": [
            "[[-105.35 -105.35 -105.35 -105.35 -105.35 -105.35 -105.35 -105.35 -105.35\n",
            "  -105.35 -105.35 -105.35 -105.35 -105.35 -105.35 -105.35 -105.35 -105.35\n",
            "  -105.35 -105.35 -105.35 -105.35 -105.35 -105.35 -105.35 -105.35 -105.35\n",
            "  -105.35]\n",
            " [-105.35 -105.35 -105.35 -105.35 -105.35 -105.35 -105.35 -105.35 -105.35\n",
            "  -105.35 -105.35 -105.35 -105.35 -105.35 -105.35 -105.35 -105.35 -105.35\n",
            "  -105.35 -105.35 -105.35 -105.35 -105.35 -105.35 -105.35 -105.35 -105.35\n",
            "  -105.35]\n",
            " [-105.35 -105.35 -105.35 -105.35 -105.35 -105.35 -105.35 -105.35 -105.35\n",
            "  -105.35 -105.35 -105.35 -105.35 -105.35 -105.35 -105.35 -105.35 -105.35\n",
            "  -105.35 -105.35 -105.35 -105.35 -105.35 -105.35 -105.35 -105.35 -105.35\n",
            "  -105.35]\n",
            " [-105.35 -105.35 -105.35 -105.35 -105.35 -105.35 -105.35 -105.35 -105.35\n",
            "  -105.35 -105.35 -105.35 -105.35 -105.35 -105.35 -105.35 -105.35 -105.35\n",
            "  -105.35 -105.35 -105.35 -105.35 -105.35 -105.35 -105.35 -105.35 -105.35\n",
            "  -105.35]\n",
            " [-105.35 -105.35 -105.35 -105.35 -105.35 -105.35 -105.35 -105.35 -105.35\n",
            "  -105.35 -105.35 -105.35 -105.35 -105.35 -105.35 -105.35 -105.35 -105.35\n",
            "  -105.35 -105.35 -105.35 -105.35 -105.35 -105.35 -105.35 -105.35 -105.35\n",
            "  -105.35]\n",
            " [-105.35 -105.35 -105.35 -105.35 -105.35 -105.35 -105.35 -105.35 -105.35\n",
            "  -105.35 -105.35 -105.35 -102.35  -87.35  -87.35  -87.35   20.65   30.65\n",
            "    69.65  -79.35   60.65  149.65  141.65   21.65 -105.35 -105.35 -105.35\n",
            "  -105.35]\n",
            " [-105.35 -105.35 -105.35 -105.35 -105.35 -105.35 -105.35 -105.35  -75.35\n",
            "   -69.35  -11.35   48.65   64.65  147.65  147.65  147.65  147.65  147.65\n",
            "   119.65   66.65  147.65  136.65   89.65  -41.35 -105.35 -105.35 -105.35\n",
            "  -105.35]\n",
            " [-105.35 -105.35 -105.35 -105.35 -105.35 -105.35 -105.35  -56.35  132.65\n",
            "   147.65  147.65  147.65  147.65  147.65  147.65  147.65  147.65  145.65\n",
            "   -12.35  -23.35  -23.35  -49.35  -66.35 -105.35 -105.35 -105.35 -105.35\n",
            "  -105.35]\n",
            " [-105.35 -105.35 -105.35 -105.35 -105.35 -105.35 -105.35  -87.35  113.65\n",
            "   147.65  147.65  147.65  147.65  147.65   92.65   76.65  141.65  135.65\n",
            "  -105.35 -105.35 -105.35 -105.35 -105.35 -105.35 -105.35 -105.35 -105.35\n",
            "  -105.35]\n",
            " [-105.35 -105.35 -105.35 -105.35 -105.35 -105.35 -105.35 -105.35  -25.35\n",
            "    50.65    1.65  147.65  147.65   99.65  -94.35 -105.35  -62.35   48.65\n",
            "  -105.35 -105.35 -105.35 -105.35 -105.35 -105.35 -105.35 -105.35 -105.35\n",
            "  -105.35]\n",
            " [-105.35 -105.35 -105.35 -105.35 -105.35 -105.35 -105.35 -105.35 -105.35\n",
            "   -91.35 -104.35   48.65  147.65  -15.35 -105.35 -105.35 -105.35 -105.35\n",
            "  -105.35 -105.35 -105.35 -105.35 -105.35 -105.35 -105.35 -105.35 -105.35\n",
            "  -105.35]\n",
            " [-105.35 -105.35 -105.35 -105.35 -105.35 -105.35 -105.35 -105.35 -105.35\n",
            "  -105.35 -105.35   33.65  147.65   84.65 -103.35 -105.35 -105.35 -105.35\n",
            "  -105.35 -105.35 -105.35 -105.35 -105.35 -105.35 -105.35 -105.35 -105.35\n",
            "  -105.35]\n",
            " [-105.35 -105.35 -105.35 -105.35 -105.35 -105.35 -105.35 -105.35 -105.35\n",
            "  -105.35 -105.35  -94.35   84.65  147.65  -35.35 -105.35 -105.35 -105.35\n",
            "  -105.35 -105.35 -105.35 -105.35 -105.35 -105.35 -105.35 -105.35 -105.35\n",
            "  -105.35]\n",
            " [-105.35 -105.35 -105.35 -105.35 -105.35 -105.35 -105.35 -105.35 -105.35\n",
            "  -105.35 -105.35 -105.35  -70.35  135.65  119.65   54.65    2.65 -104.35\n",
            "  -105.35 -105.35 -105.35 -105.35 -105.35 -105.35 -105.35 -105.35 -105.35\n",
            "  -105.35]\n",
            " [-105.35 -105.35 -105.35 -105.35 -105.35 -105.35 -105.35 -105.35 -105.35\n",
            "  -105.35 -105.35 -105.35 -105.35  -24.35  134.65  147.65  147.65   13.65\n",
            "   -80.35 -105.35 -105.35 -105.35 -105.35 -105.35 -105.35 -105.35 -105.35\n",
            "  -105.35]\n",
            " [-105.35 -105.35 -105.35 -105.35 -105.35 -105.35 -105.35 -105.35 -105.35\n",
            "  -105.35 -105.35 -105.35 -105.35 -105.35  -60.35   80.65  147.65  147.65\n",
            "    44.65  -78.35 -105.35 -105.35 -105.35 -105.35 -105.35 -105.35 -105.35\n",
            "  -105.35]\n",
            " [-105.35 -105.35 -105.35 -105.35 -105.35 -105.35 -105.35 -105.35 -105.35\n",
            "  -105.35 -105.35 -105.35 -105.35 -105.35 -105.35  -89.35  -12.35  146.65\n",
            "   147.65   81.65 -105.35 -105.35 -105.35 -105.35 -105.35 -105.35 -105.35\n",
            "  -105.35]\n",
            " [-105.35 -105.35 -105.35 -105.35 -105.35 -105.35 -105.35 -105.35 -105.35\n",
            "  -105.35 -105.35 -105.35 -105.35 -105.35 -105.35 -105.35 -105.35  143.65\n",
            "   147.65  143.65  -41.35 -105.35 -105.35 -105.35 -105.35 -105.35 -105.35\n",
            "  -105.35]\n",
            " [-105.35 -105.35 -105.35 -105.35 -105.35 -105.35 -105.35 -105.35 -105.35\n",
            "  -105.35 -105.35 -105.35 -105.35 -105.35  -59.35   24.65   77.65  147.65\n",
            "   147.65  101.65 -103.35 -105.35 -105.35 -105.35 -105.35 -105.35 -105.35\n",
            "  -105.35]\n",
            " [-105.35 -105.35 -105.35 -105.35 -105.35 -105.35 -105.35 -105.35 -105.35\n",
            "  -105.35 -105.35 -105.35  -66.35   42.65  123.65  147.65  147.65  147.65\n",
            "   144.65   76.65 -105.35 -105.35 -105.35 -105.35 -105.35 -105.35 -105.35\n",
            "  -105.35]\n",
            " [-105.35 -105.35 -105.35 -105.35 -105.35 -105.35 -105.35 -105.35 -105.35\n",
            "  -105.35  -81.35    8.65  115.65  147.65  147.65  147.65  147.65   95.65\n",
            "   -27.35 -105.35 -105.35 -105.35 -105.35 -105.35 -105.35 -105.35 -105.35\n",
            "  -105.35]\n",
            " [-105.35 -105.35 -105.35 -105.35 -105.35 -105.35 -105.35 -105.35  -82.35\n",
            "   -39.35  107.65  147.65  147.65  147.65  147.65   92.65  -24.35 -103.35\n",
            "  -105.35 -105.35 -105.35 -105.35 -105.35 -105.35 -105.35 -105.35 -105.35\n",
            "  -105.35]\n",
            " [-105.35 -105.35 -105.35 -105.35 -105.35 -105.35  -87.35   65.65  113.65\n",
            "   147.65  147.65  147.65  147.65   89.65  -25.35  -96.35 -105.35 -105.35\n",
            "  -105.35 -105.35 -105.35 -105.35 -105.35 -105.35 -105.35 -105.35 -105.35\n",
            "  -105.35]\n",
            " [-105.35 -105.35 -105.35 -105.35  -50.35   66.65  120.65  147.65  147.65\n",
            "   147.65  147.65  138.65   27.65  -94.35 -105.35 -105.35 -105.35 -105.35\n",
            "  -105.35 -105.35 -105.35 -105.35 -105.35 -105.35 -105.35 -105.35 -105.35\n",
            "  -105.35]\n",
            " [-105.35 -105.35 -105.35 -105.35   30.65  147.65  147.65  147.65  106.65\n",
            "    29.65   26.65  -89.35 -105.35 -105.35 -105.35 -105.35 -105.35 -105.35\n",
            "  -105.35 -105.35 -105.35 -105.35 -105.35 -105.35 -105.35 -105.35 -105.35\n",
            "  -105.35]\n",
            " [-105.35 -105.35 -105.35 -105.35 -105.35 -105.35 -105.35 -105.35 -105.35\n",
            "  -105.35 -105.35 -105.35 -105.35 -105.35 -105.35 -105.35 -105.35 -105.35\n",
            "  -105.35 -105.35 -105.35 -105.35 -105.35 -105.35 -105.35 -105.35 -105.35\n",
            "  -105.35]\n",
            " [-105.35 -105.35 -105.35 -105.35 -105.35 -105.35 -105.35 -105.35 -105.35\n",
            "  -105.35 -105.35 -105.35 -105.35 -105.35 -105.35 -105.35 -105.35 -105.35\n",
            "  -105.35 -105.35 -105.35 -105.35 -105.35 -105.35 -105.35 -105.35 -105.35\n",
            "  -105.35]\n",
            " [-105.35 -105.35 -105.35 -105.35 -105.35 -105.35 -105.35 -105.35 -105.35\n",
            "  -105.35 -105.35 -105.35 -105.35 -105.35 -105.35 -105.35 -105.35 -105.35\n",
            "  -105.35 -105.35 -105.35 -105.35 -105.35 -105.35 -105.35 -105.35 -105.35\n",
            "  -105.35]]\n"
          ]
        },
        {
          "output_type": "execute_result",
          "data": {
            "text/plain": [
              "<matplotlib.image.AxesImage at 0x7f30550dae50>"
            ]
          },
          "metadata": {},
          "execution_count": 32
        },
        {
          "output_type": "display_data",
          "data": {
            "text/plain": [
              "<Figure size 432x288 with 1 Axes>"
            ],
            "image/png": "[encoded data removed]"
          },
          "metadata": {
            "needs_background": "light"
          }
        }
      ]
    },
    {
      "cell_type": "markdown",
      "source": [
        "###Processing"
      ],
      "metadata": {
        "id": "bvAHqw0Z8WPU"
      }
    },
    {
      "cell_type": "code",
      "source": [
        "X_train = X_train.astype(np.float64)\n",
        "X_test = X_test.astype(np.float64)\n",
        "X_train /= 255\n",
        "X_test /= 255\n",
        "print(X_train.max()) # 1.0\n",
        "print(X_train.min()) # 0.0"
      ],
      "metadata": {
        "colab": {
          "base_uri": "https://localhost:8080/"
        },
        "id": "4PRUw-uT8Z3a",
        "outputId": "65f7a1db-6757-4507-f79c-fdbcdde49d7b"
      },
      "execution_count": 33,
      "outputs": [
        {
          "output_type": "stream",
          "name": "stdout",
          "text": [
            "1.0\n",
            "0.0\n"
          ]
        }
      ]
    },
    {
      "cell_type": "code",
      "source": [
        "\n",
        "enc = OneHotEncoder(handle_unknown='ignore', sparse=False)\n",
        "y_train_one_hot = enc.fit_transform(y_train[:, np.newaxis])\n",
        "y_test_one_hot = enc.transform(y_test[:, np.newaxis])\n",
        "print(y_train.shape) # (60000,)\n",
        "print(y_train_one_hot.shape) # (60000, 10)\n",
        "print(y_train_one_hot.dtype) # float64"
      ],
      "metadata": {
        "colab": {
          "base_uri": "https://localhost:8080/"
        },
        "id": "rwe6A36tbok-",
        "outputId": "58aa16b9-7a65-4ae9-a8b1-156592271e81"
      },
      "execution_count": 34,
      "outputs": [
        {
          "output_type": "stream",
          "name": "stdout",
          "text": [
            "(60000,)\n",
            "(60000, 10)\n",
            "float64\n"
          ]
        }
      ]
    },
    {
      "cell_type": "code",
      "source": [
        "X_train, X_val, y_train, y_val = train_test_split(X_train, y_train, test_size=0.2)\n",
        "print(X_train.shape) # (48000, 784)\n",
        "print(X_val.shape) # (12000, 784)"
      ],
      "metadata": {
        "colab": {
          "base_uri": "https://localhost:8080/"
        },
        "id": "tAhVUJR3btN4",
        "outputId": "61a5871b-77da-425c-e58c-56c44ade62d8"
      },
      "execution_count": 35,
      "outputs": [
        {
          "output_type": "stream",
          "name": "stdout",
          "text": [
            "(48000, 784)\n",
            "(12000, 784)\n"
          ]
        }
      ]
    },
    {
      "cell_type": "markdown",
      "source": [
        "## Probleme 1 Creating a code to determine the initial weight value"
      ],
      "metadata": {
        "id": "REGs7LeQ7xnI"
      }
    },
    {
      "cell_type": "code",
      "source": [
        "n_features = 784\n",
        "n_nodes1 = 400\n",
        "sigma = 0.01 # Standard deviation of Gaussian distribution\n",
        "W1 = sigma * np.random.randn(n_features, n_nodes1)\n",
        "print(W1)"
      ],
      "metadata": {
        "colab": {
          "base_uri": "https://localhost:8080/"
        },
        "id": "uaGnmNFJ70LV",
        "outputId": "02f0480a-5dab-45c0-b92e-f1a4641894e0"
      },
      "execution_count": 36,
      "outputs": [
        {
          "output_type": "stream",
          "name": "stdout",
          "text": [
            "[[ 0.0031906   0.00205194 -0.01425735 ... -0.00453561 -0.00462945\n",
            "  -0.01128179]\n",
            " [ 0.00092723 -0.00617455 -0.00245587 ...  0.00289917  0.00871402\n",
            "  -0.01259372]\n",
            " [ 0.00707282  0.01360386 -0.00912032 ... -0.01340911 -0.01123785\n",
            "  -0.00042094]\n",
            " ...\n",
            " [ 0.00418351  0.01198815  0.01948874 ...  0.00653855  0.00804865\n",
            "   0.01138037]\n",
            " [ 0.0078761   0.01704447  0.00756441 ...  0.01116652  0.00810329\n",
            "  -0.00311511]\n",
            " [-0.0005253  -0.01089276 -0.0119847  ... -0.00438888  0.00679327\n",
            "  -0.00607459]]\n"
          ]
        }
      ]
    },
    {
      "cell_type": "markdown",
      "source": [
        "##[Problem 2] Implementation of forward propagation"
      ],
      "metadata": {
        "id": "L-Xoz9dfB2z8"
      }
    },
    {
      "cell_type": "code",
      "source": [
        "n_features = 784\n",
        "n_output=10\n",
        "sigma = 0.01\n",
        "\n",
        "n_nodes1 = 400\n",
        "W1 = sigma * np.random.randn(n_features, n_nodes1)\n",
        "\n",
        "n_nodes2 = 200\n",
        "W2 = sigma * np.random.randn(n_nodes1, n_nodes2)\n",
        "\n",
        "W3=sigma*np.random.randn(n_nodes2,n_output)"
      ],
      "metadata": {
        "id": "p6l8af_bILet"
      },
      "execution_count": 37,
      "outputs": []
    },
    {
      "cell_type": "code",
      "source": [
        "def forward_propagation(X):\n",
        "  B1=0\n",
        "  B2=0\n",
        "  B3=0\n",
        "  new_inputs=[]\n",
        "  A1=X.dot(W1)+B1\n",
        "  z1 = sigmoid(A1)\n",
        "\n",
        "  A2=z1.dot(W2)+B2\n",
        "  z2=sigmoid(A2)\n",
        "\n",
        "  A3=z2.dot(W3)+B3\n",
        "  z3=softmax(A3)\n",
        "\n",
        "   \n",
        "  return z3,z2,z1,A1,A2,A3"
      ],
      "metadata": {
        "id": "3mzUTxG-E8Ag"
      },
      "execution_count": 38,
      "outputs": []
    },
    {
      "cell_type": "code",
      "source": [
        "def sigmoid(A):\n",
        "  return 1/(1+np.exp(-A))"
      ],
      "metadata": {
        "id": "ocW5d9TrB2fE"
      },
      "execution_count": 39,
      "outputs": []
    },
    {
      "cell_type": "code",
      "source": [
        "def tanh(A):\n",
        "  return (np.exp(A)-np.exp(-A)/(np.exp(A)+np.exp(-A)))\n",
        "  "
      ],
      "metadata": {
        "id": "k86-kxmBFH1Z"
      },
      "execution_count": 40,
      "outputs": []
    },
    {
      "cell_type": "code",
      "source": [
        "def softmax(A3_k):\n",
        "  return np.exp(A3_k)/np.sum(np.exp(A3_k))\n"
      ],
      "metadata": {
        "id": "OUTZMrCO4qj8"
      },
      "execution_count": 41,
      "outputs": []
    },
    {
      "cell_type": "code",
      "source": [
        "z3,z2,z1,A1,A2,A3=forward_propagation(X_train)\n",
        "z3"
      ],
      "metadata": {
        "colab": {
          "base_uri": "https://localhost:8080/"
        },
        "id": "EECtjTaUMqUX",
        "outputId": "ceb899e6-af2a-49d7-85fb-afa658cd4199"
      },
      "execution_count": 42,
      "outputs": [
        {
          "output_type": "execute_result",
          "data": {
            "text/plain": [
              "array([[2.00663686e-06, 2.15900616e-06, 2.22140306e-06, ...,\n",
              "        2.08375423e-06, 1.97317802e-06, 2.22109995e-06],\n",
              "       [2.00696786e-06, 2.15850052e-06, 2.22168480e-06, ...,\n",
              "        2.08406961e-06, 1.97293075e-06, 2.22108683e-06],\n",
              "       [2.00701109e-06, 2.15811989e-06, 2.22164026e-06, ...,\n",
              "        2.08393031e-06, 1.97303759e-06, 2.22123507e-06],\n",
              "       ...,\n",
              "       [2.00692202e-06, 2.15836371e-06, 2.22187434e-06, ...,\n",
              "        2.08317059e-06, 1.97285170e-06, 2.22170353e-06],\n",
              "       [2.00736905e-06, 2.15837641e-06, 2.22120923e-06, ...,\n",
              "        2.08366660e-06, 1.97262841e-06, 2.22101579e-06],\n",
              "       [2.00716437e-06, 2.15801928e-06, 2.22155410e-06, ...,\n",
              "        2.08398425e-06, 1.97276875e-06, 2.22089264e-06]])"
            ]
          },
          "metadata": {},
          "execution_count": 42
        }
      ]
    },
    {
      "cell_type": "code",
      "source": [
        "z3.shape"
      ],
      "metadata": {
        "colab": {
          "base_uri": "https://localhost:8080/"
        },
        "id": "xVgCq7u7VWW4",
        "outputId": "1c26602c-80ae-4519-9d15-de897ffb26da"
      },
      "execution_count": 43,
      "outputs": [
        {
          "output_type": "execute_result",
          "data": {
            "text/plain": [
              "(48000, 10)"
            ]
          },
          "metadata": {},
          "execution_count": 43
        }
      ]
    },
    {
      "cell_type": "markdown",
      "source": [
        "#[Problem 3] Implementation of cross entropy error"
      ],
      "metadata": {
        "id": "C8eQj73jNXow"
      }
    },
    {
      "cell_type": "code",
      "source": [
        "def cross_entropy_error(nb,y,z3):\n",
        "  sum1=np.sum(y.dot((np.log(z3)+1e-7)))\n",
        "  return (-1/nb)*(np.sum(sum1))"
      ],
      "metadata": {
        "id": "3TlKYLOjNY8z"
      },
      "execution_count": 44,
      "outputs": []
    },
    {
      "cell_type": "code",
      "source": [
        "cross_entropy_error(len(X_train),y_train,z3)"
      ],
      "metadata": {
        "colab": {
          "base_uri": "https://localhost:8080/"
        },
        "id": "RWXW3uqYQq81",
        "outputId": "cba65054-b1a7-4f66-c49b-c0432f8b4dcc"
      },
      "execution_count": 45,
      "outputs": [
        {
          "output_type": "execute_result",
          "data": {
            "text/plain": [
              "583.5087650850012"
            ]
          },
          "metadata": {},
          "execution_count": 45
        }
      ]
    },
    {
      "cell_type": "markdown",
      "source": [
        "#[Problem 4] Implementation of backpropagation"
      ],
      "metadata": {
        "id": "Cb580aNaWbuU"
      }
    },
    {
      "cell_type": "code",
      "source": [
        "def backpropagation(X,nb,z3,y):\n",
        "  ######################\n",
        "\n",
        "  dLA3=(1/nb)*(z3-y[:,None])\n",
        "  dLB3=np.sum(dLA3)\n",
        "  dLW3=z2.T.dot(dLA3)\n",
        "  dLz2=dLA3.dot(W3.T)\n",
        "\n",
        "  ######################\n",
        "\n",
        "  dLA2=np.multiply(dLz2,(1-tanh(A2)**2))\n",
        "  dLB2=np.sum(dLA2)\n",
        "  dLW2=z1.T.dot(dLA2)\n",
        "  dLz1=dLA2.dot(W2.T)\n",
        "\n",
        "  ######################\n",
        "\n",
        "  dLA1=np.multiply(dLz1,(1-tanh(A1)**2))\n",
        "  dLB2=np.sum(dLA1)\n",
        "  dLW1=X.T.dot(dLA1)\n",
        "\n",
        "  return dLW1\n",
        "\n",
        "\n"
      ],
      "metadata": {
        "id": "i3epCXEhWbGN"
      },
      "execution_count": 145,
      "outputs": []
    },
    {
      "cell_type": "code",
      "source": [
        "backpropagation(X_train,len(X_train),z3,y_train)"
      ],
      "metadata": {
        "colab": {
          "base_uri": "https://localhost:8080/"
        },
        "id": "opMwiiyjhcVG",
        "outputId": "340ade71-c4f2-44b8-f02b-4a8332781ab5"
      },
      "execution_count": 47,
      "outputs": [
        {
          "output_type": "execute_result",
          "data": {
            "text/plain": [
              "array([[0., 0., 0., ..., 0., 0., 0.],\n",
              "       [0., 0., 0., ..., 0., 0., 0.],\n",
              "       [0., 0., 0., ..., 0., 0., 0.],\n",
              "       ...,\n",
              "       [0., 0., 0., ..., 0., 0., 0.],\n",
              "       [0., 0., 0., ..., 0., 0., 0.],\n",
              "       [0., 0., 0., ..., 0., 0., 0.]])"
            ]
          },
          "metadata": {},
          "execution_count": 47
        }
      ]
    },
    {
      "cell_type": "markdown",
      "source": [
        "#[Problème 5] Estimation"
      ],
      "metadata": {
        "id": "Q2B4AuPzn4pz"
      }
    },
    {
      "cell_type": "code",
      "source": [
        "np.argmax(z3,axis=0)"
      ],
      "metadata": {
        "colab": {
          "base_uri": "https://localhost:8080/"
        },
        "id": "LMcESl6Zn3hY",
        "outputId": "c3002683-e323-40ee-c497-57d54c813315"
      },
      "execution_count": 48,
      "outputs": [
        {
          "output_type": "execute_result",
          "data": {
            "text/plain": [
              "array([32146, 10431, 27054, 42874,  6925,  1908, 35647, 15358,  1799,\n",
              "       13410])"
            ]
          },
          "metadata": {},
          "execution_count": 48
        }
      ]
    },
    {
      "cell_type": "markdown",
      "source": [
        "#[Problème 6] Apprentissage et estimation"
      ],
      "metadata": {
        "id": "rKKAhFZBpuEy"
      }
    },
    {
      "cell_type": "code",
      "source": [
        "(X_train, y_train), (X_test, y_test) = mnist.load_data()\n",
        "X_train = X_train.reshape(-1, 784)\n",
        "X_test = X_test.reshape(-1, 784)\n",
        "\n",
        "X_train = X_train.astype(np.float64)\n",
        "X_test = X_test.astype(np.float64)\n",
        "X_train /= 255\n",
        "X_test /= 255"
      ],
      "metadata": {
        "id": "IUykM7kWpUSQ"
      },
      "execution_count": 11,
      "outputs": []
    },
    {
      "cell_type": "code",
      "source": [
        "enc = OneHotEncoder(handle_unknown='ignore', sparse=False)\n",
        "y_train_one_hot = enc.fit_transform(y_train[:, np.newaxis])\n",
        "\n",
        "print(y_train.shape)\n",
        "print(y_train_one_hot.shape)\n",
        "print(y_train_one_hot.dtype)\n",
        "\n",
        "X_train, X_val, y_train, y_val = train_test_split(X_train, y_train_one_hot, test_size=0.2)\n",
        "\n",
        "print(X_train.shape, y_train.shape)\n",
        "print(X_val.shape, y_val.shape)"
      ],
      "metadata": {
        "colab": {
          "base_uri": "https://localhost:8080/"
        },
        "id": "ItCCoFiGcX8J",
        "outputId": "2185e8bd-b333-40aa-e584-33d309d9c3cd"
      },
      "execution_count": 12,
      "outputs": [
        {
          "output_type": "stream",
          "name": "stdout",
          "text": [
            "(60000,)\n",
            "(60000, 10)\n",
            "float64\n",
            "(48000, 784) (48000, 10)\n",
            "(12000, 784) (12000, 10)\n"
          ]
        }
      ]
    },
    {
      "cell_type": "code",
      "source": [
        "z3,z2,z1,A1,A2,A3=forward_propagation(X_train)\n",
        "y_pred=np.argmax(z3,axis=0)\n",
        "y_pred"
      ],
      "metadata": {
        "colab": {
          "base_uri": "https://localhost:8080/"
        },
        "id": "MZoQkQ4hqHJC",
        "outputId": "ddafdcc6-1280-466b-da4b-0b2658876247"
      },
      "execution_count": 101,
      "outputs": [
        {
          "output_type": "execute_result",
          "data": {
            "text/plain": [
              "array([45932, 17202, 37688, 18812,   808, 15798,  5895, 46229, 47350,\n",
              "       10247])"
            ]
          },
          "metadata": {},
          "execution_count": 101
        }
      ]
    },
    {
      "cell_type": "code",
      "source": [
        "cross_entropy_error(len(X_train),y_train,z3)"
      ],
      "metadata": {
        "colab": {
          "base_uri": "https://localhost:8080/"
        },
        "id": "RL3Ok8txr8pA",
        "outputId": "2664e8fc-3bff-4f2f-80ea-162b8ecd5641"
      },
      "execution_count": 104,
      "outputs": [
        {
          "output_type": "execute_result",
          "data": {
            "text/plain": [
              "581.4046371252256"
            ]
          },
          "metadata": {},
          "execution_count": 104
        }
      ]
    },
    {
      "cell_type": "code",
      "source": [
        "class GetMiniBatch:\n",
        "    \"\"\"\n",
        "Iterator to get a mini-batch\n",
        "\n",
        "    Parameters\n",
        "    ----------\n",
        "    X : The following forms of ndarray, shape (n_samples, n_features)\n",
        "      Training data\n",
        "    y : The following form of ndarray, shape (n_samples, 1)\n",
        "      Correct answer value\n",
        "    batch_size : int\n",
        "      Batch size\n",
        "    seed : int\n",
        "      NumPy random number seed\n",
        "    \"\"\"\n",
        "    def __init__(self, X, y, batch_size = 20, seed=0):\n",
        "        self.batch_size = batch_size\n",
        "        np.random.seed(seed)\n",
        "        shuffle_index = np.random.permutation(np.arange(X.shape[0]))\n",
        "        self._X = X[shuffle_index]\n",
        "        self._y = y[shuffle_index]\n",
        "        self._stop = np.ceil(X.shape[0]/self.batch_size).astype(np.int)\n",
        "\n",
        "    def __len__(self):\n",
        "        return self._stop\n",
        "\n",
        "    def __getitem__(self,item):\n",
        "        p0 = item*self.batch_size\n",
        "        p1 = item*self.batch_size + self.batch_size\n",
        "        return self._X[p0:p1], self._y[p0:p1]        \n",
        "\n",
        "    def __iter__(self):\n",
        "        self._counter = 0\n",
        "        return self\n",
        "\n",
        "    def __next__(self):\n",
        "        if self._counter >= self._stop:\n",
        "            raise StopIteration()\n",
        "        p0 = self._counter*self.batch_size\n",
        "        p1 = self._counter*self.batch_size + self.batch_size\n",
        "        self._counter += 1\n",
        "        return self._X[p0:p1], self._y[p0:p1]"
      ],
      "metadata": {
        "id": "2WjDx70A2lXy"
      },
      "execution_count": 8,
      "outputs": []
    },
    {
      "cell_type": "code",
      "source": [
        "class ScratchSimpleNeuralNetrowkClassifier():\n",
        "\n",
        "\n",
        "    def __init__(self, activation, n_nodes1, n_nodes2, n_output):\n",
        "        self.activation = activation          \n",
        "        self.n_nodes1 = n_nodes1      \n",
        "        self.n_nodes2 = n_nodes2      \n",
        "        self.n_output = n_output              \n",
        "        \n",
        "    def __initialize_weights(self):\n",
        "        sigma = 0.01 \n",
        "        \n",
        "        self.W1 = sigma * np.random.randn(self.n_features, self.n_nodes1)\n",
        "        self.B1 = sigma * np.random.randn(self.n_nodes1)\n",
        "        \n",
        "        self.W2 = sigma * np.random.randn(self.n_nodes1, self.n_nodes2)\n",
        "        self.B2 = sigma * np.random.randn(self.n_nodes2)\n",
        "        \n",
        "        self.W3 = sigma * np.random.randn(self.n_nodes2, self.n_output)\n",
        "        self.B3 = sigma * np.random.randn(self.n_output)\n",
        "    \n",
        "    def __forward_propagation(self, X):\n",
        "\n",
        "        ######\n",
        "        self.A1 = np.dot(X, self.W1) + self.B1        \n",
        "        self.Z1 = self.__activation_function(self.A1)\n",
        "        \n",
        "        ######\n",
        "        self.A2 = np.dot(self.Z1, self.W2) + self.B2        \n",
        "        self.Z2 = self.__activation_function(self.A2)           \n",
        "        \n",
        "        ######\n",
        "        A3 = np.dot(self.Z2, self.W3) + self.B3\n",
        "\n",
        "        return self.__softmax_function(A3)\n",
        "    \n",
        "    def __activation_function(self, A):\n",
        "\n",
        "        if self.activation == 'sigmoid':           \n",
        "            return 1 / (1 + np.exp(-A))\n",
        "        elif self.activation == 'tanh':            \n",
        "            return np.tanh(A)   \n",
        "        else:\n",
        "            raise NameError(\"name \\\"\" + str(self.activation) + \"\\\" is not defined. set either \\\"sigmoid\\\" or \\\"tanh\\\" .\") \n",
        "\n",
        "    def __softmax_function(self, A):       \n",
        "        return np.exp(A) / np.sum(np.exp(A), axis=1, keepdims=True)\n",
        "    \n",
        "\n",
        "    def __cross_entropy_error(self,y,z3):\n",
        "      sum1=np.sum(y.dot((np.log(z3.T)+1e-7)))\n",
        "      nb=len(y)\n",
        "      return (-1/nb)*(np.sum(sum1))\n",
        "    # def __cross_entropy_error(self, y, z):\n",
        "    #     \"\"\"\n",
        "    #     交差エントロピー誤差で目的関数を計算する関数\n",
        "    #     \"\"\"\n",
        "    #     batch_size = y.shape[0]\n",
        "\n",
        "    #     return -np.sum(y.T.dot(np.log(z))) / batch_size\n",
        "\n",
        "    def __backpropagation(self):\n",
        "        ############\n",
        "        partial_A3 = self.Z3 - self.y_\n",
        "\n",
        "        partial_B3 = np.sum(partial_A3, axis=0)     \n",
        "        partial_W3 = np.dot(self.Z2.T,  partial_A3)\n",
        "        partial_Z2 = np.dot(partial_A3, self.W3.T)         \n",
        "\n",
        "        self.W3, self.B3 = self.__stochastic_gradient_descent(self.W3, partial_W3, self.B3, partial_B3)       \n",
        "\n",
        "        ##########\n",
        "        partial_A2 = self.__derivative_function(self.A2, partial_Z2)\n",
        "        partial_B2 = np.sum(partial_A2, axis=0)\n",
        "        partial_W2 = np.dot(self.Z1.T,  partial_A2)    \n",
        "        partial_Z1 = np.dot(partial_A2, self.W2.T)         \n",
        "\n",
        "        self.W2, self.B2 = self.__stochastic_gradient_descent(self.W2, partial_W2, self.B2, partial_B2)\n",
        "\n",
        "        ############\n",
        "        partial_A1 = self.__derivative_function(self.A1, partial_Z1)\n",
        "\n",
        "        partial_B1 = np.sum(partial_A1, axis=0)\n",
        "        partial_W1 = np.dot(self.X_.T,  partial_A1)\n",
        "        \n",
        "        self.W1, self.B1 = self.__stochastic_gradient_descent(self.W1, partial_W1, self.B1, partial_B1)\n",
        " \n",
        "    def __derivative_function(self, A, Z):     \n",
        "        if self.activation == 'sigmoid':\n",
        "            return Z * np.multiply((1.0 - self.__activation_function(A)), self.__activation_function(A))\n",
        "        elif self.activation == 'tanh':                \n",
        "            return Z * (1.0 - (np.tanh(A) ** 2))\n",
        "            \n",
        "    def __stochastic_gradient_descent(self, W, partial_W, B, partial_B):      \n",
        "        lr = 0.001 \n",
        "        W_prime = W - lr * partial_W\n",
        "        B_prime = B - lr * partial_B\n",
        "        return W_prime, B_prime\n",
        "  \n",
        "    def fit(self, X, y, X_val=None, y_val=None, epochs=10, batch_size=20):\n",
        "        \"\"\"\n",
        "        Learn a neural network classifier.\n",
        "\n",
        "        Parameters\n",
        "        ----------\n",
        "        X : The following forms of ndarray, shape (n_samples, n_features)\n",
        "            Features of training data\n",
        "        y : The following form of ndarray, shape (n_samples,)\n",
        "            Correct answer value of training data\n",
        "        X_val : The following forms of ndarray, shape (n_samples, n_features)\n",
        "            Features of verification data\n",
        "        y_val : The following form of ndarray, shape (n_samples,)\n",
        "            Correct value of verification data\n",
        "        \"\"\"\n",
        "\n",
        "        self.epochs = epochs                               \n",
        "        self.batch_size = batch_size               \n",
        "        self.n_features = X.shape[1]              \n",
        "        self.val_is_true = False                        \n",
        "        self.loss = np.zeros(self.epochs)       \n",
        "        self.loss_val = np.zeros(self.epochs)\n",
        "        \n",
        "        self.__initialize_weights() \n",
        "        \n",
        "        for epoch in range(self.epochs):\n",
        "            get_mini_batch = GetMiniBatch(X, y, batch_size=self.batch_size)\n",
        "            for mini_X_train,  mini_y_train in get_mini_batch:\n",
        "                self.X_ = mini_X_train\n",
        "                self.y_ = mini_y_train\n",
        "\n",
        "\n",
        "                self.Z3 = self.__forward_propagation(self.X_)\n",
        "\n",
        "                self.loss[epoch] = self.__cross_entropy_error(self.y_, self.Z3)\n",
        "\n",
        "                self.__backpropagation()\n",
        "\n",
        "            if not(X_val is None) and not(y_val is None):\n",
        "                self.val_is_true = True\n",
        "                \n",
        "                self.y_val_pred = self.__forward_propagation(X_val)\n",
        "             \n",
        "                self.loss_val[epoch] = self.__cross_entropy_error(y_val, self.y_val_pred)      \n",
        "\n",
        "    def predict(self, X):        \n",
        "        y_pred = self.__forward_propagation(X)    \n",
        "\n",
        "        return np.argmax(y_pred, axis=1)\n",
        "    \n",
        "    def plot_learning_curve(self):\n",
        "        \"\"\"\n",
        "        学習曲線をプロットする。    \n",
        "        \"\"\"\n",
        "        plt.plot(range(1, self.epochs + 1), self.loss, color=\"r\", marker=\"o\", label=\"train loss\")\n",
        "        if self.val_is_true:\n",
        "            plt.plot(range(1, self.epochs + 1), self.loss_val, color=\"g\", marker=\"o\", label=\"val loss\")\n",
        "            \n",
        "        plt.title(\"Learning Curve\")\n",
        "        plt.xlabel(\"Epoch\")\n",
        "        plt.ylabel(\"Loss\")\n",
        "        plt.grid()\n",
        "        plt.legend(loc=\"best\")\n",
        "        plt.show()"
      ],
      "metadata": {
        "id": "nIRcRPOCVjQW"
      },
      "execution_count": 9,
      "outputs": []
    },
    {
      "cell_type": "code",
      "source": [
        "model = ScratchSimpleNeuralNetrowkClassifier(activation=\"tanh\", n_nodes1=400, n_nodes2=200, n_output=10)\n",
        "model.fit(X_train, y_train, X_val, y_val, epochs = 20, batch_size = 20)\n",
        "y_pred = model.predict(X_val)"
      ],
      "metadata": {
        "colab": {
          "base_uri": "https://localhost:8080/"
        },
        "id": "utTsaHMPsxrm",
        "outputId": "3760b30a-7020-4a2c-8ad4-24c3fede1da2"
      },
      "execution_count": 14,
      "outputs": [
        {
          "output_type": "stream",
          "name": "stderr",
          "text": [
            "/usr/local/lib/python3.7/dist-packages/ipykernel_launcher.py:22: DeprecationWarning: `np.int` is a deprecated alias for the builtin `int`. To silence this warning, use `int` by itself. Doing this will not modify any behavior and is safe. When replacing `np.int`, you may wish to use e.g. `np.int64` or `np.int32` to specify the precision. If you wish to review your current use, check the release note link for additional information.\n",
            "Deprecated in NumPy 1.20; for more details and guidance: https://numpy.org/devdocs/release/1.20.0-notes.html#deprecations\n"
          ]
        }
      ]
    },
    {
      "cell_type": "code",
      "source": [
        "y_pred = model.predict(X_val)\n",
        "print(len(y_pred))\n",
        "# print(accuracy_score(y_val, y_pred))"
      ],
      "metadata": {
        "colab": {
          "base_uri": "https://localhost:8080/"
        },
        "id": "zduWxwL1fL8D",
        "outputId": "8d602f91-a869-4828-e317-7a2797c6c86d"
      },
      "execution_count": 19,
      "outputs": [
        {
          "output_type": "stream",
          "name": "stdout",
          "text": [
            "12000\n"
          ]
        }
      ]
    },
    {
      "cell_type": "code",
      "source": [
        "y_val = np.argmax(y_val, axis=1)"
      ],
      "metadata": {
        "id": "_KGA91rX8OJF"
      },
      "execution_count": 21,
      "outputs": []
    },
    {
      "cell_type": "code",
      "source": [
        "print(\"accuracy : {}\".format(accuracy_score(y_val, y_pred)))"
      ],
      "metadata": {
        "colab": {
          "base_uri": "https://localhost:8080/"
        },
        "id": "_02OYX288Rkf",
        "outputId": "cbba4210-0fe2-4076-d2d2-47892fd0a68e"
      },
      "execution_count": 22,
      "outputs": [
        {
          "output_type": "stream",
          "name": "stdout",
          "text": [
            "accuracy : 0.97075\n"
          ]
        }
      ]
    },
    {
      "cell_type": "markdown",
      "source": [
        "#【Problem 7】Learning curve plot"
      ],
      "metadata": {
        "id": "OB8rhtsHfVWX"
      }
    },
    {
      "cell_type": "code",
      "source": [
        "model.plot_learning_curve()"
      ],
      "metadata": {
        "colab": {
          "base_uri": "https://localhost:8080/",
          "height": 295
        },
        "id": "1fXkqIK0fUOu",
        "outputId": "01144c35-21bc-4655-eeb3-41a831647c53"
      },
      "execution_count": 25,
      "outputs": [
        {
          "output_type": "display_data",
          "data": {
            "text/plain": [
              "<Figure size 432x288 with 1 Axes>"
            ],
            "image/png": "[encoded data removed]"
          },
          "metadata": {
            "needs_background": "light"
          }
        }
      ]
    },
    {
      "cell_type": "markdown",
      "source": [
        "#[Problem 8] (Advance assignment) Confirmation of misclassification"
      ],
      "metadata": {
        "id": "f3IODKNJfctg"
      }
    },
    {
      "cell_type": "code",
      "source": [
        "\"\"\"\n",
        "Display word classification results side by side. The display above the image is \"estimated result / correct answer\".\n",
        "\n",
        "Parameters:\n",
        "----------\n",
        "y_pred : Estimated ndarray (n_samples,)\n",
        "y_val : Correct label of verification data (n_samples,)\n",
        "X_val : Verification data features (n_samples, n_features)\n",
        "\"\"\"\n",
        "import numpy as np\n",
        "import matplotlib.pyplot as plt\n",
        "\n",
        "num = 36 # How many to display\n",
        "\n",
        "true_false = y_pred==y_val\n",
        "false_list = np.where(true_false==False)[0].astype(np.int)\n",
        "\n",
        "if false_list.shape[0] < num:\n",
        "    num = false_list.shape[0]\n",
        "fig = plt.figure(figsize=(6, 6))\n",
        "fig.subplots_adjust(left=0, right=0.8,  bottom=0, top=0.8, hspace=1, wspace=0.5)\n",
        "for i in range(num):\n",
        "    ax = fig.add_subplot(6, 6, i + 1, xticks=[], yticks=[])\n",
        "    ax.set_title(\"{} / {}\".format(y_pred[false_list[i]],y_val[false_list[i]]))\n",
        "    ax.imshow(X_val.reshape(-1,28,28)[false_list[i]], cmap='gray')"
      ],
      "metadata": {
        "colab": {
          "base_uri": "https://localhost:8080/",
          "height": 468
        },
        "id": "_ZMNbs_EfpM_",
        "outputId": "e2c7b69a-037a-4171-f311-f8c21c737d98"
      },
      "execution_count": 26,
      "outputs": [
        {
          "output_type": "stream",
          "name": "stderr",
          "text": [
            "/usr/local/lib/python3.7/dist-packages/ipykernel_launcher.py:16: DeprecationWarning: `np.int` is a deprecated alias for the builtin `int`. To silence this warning, use `int` by itself. Doing this will not modify any behavior and is safe. When replacing `np.int`, you may wish to use e.g. `np.int64` or `np.int32` to specify the precision. If you wish to review your current use, check the release note link for additional information.\n",
            "Deprecated in NumPy 1.20; for more details and guidance: https://numpy.org/devdocs/release/1.20.0-notes.html#deprecations\n",
            "  app.launch_new_instance()\n"
          ]
        },
        {
          "output_type": "display_data",
          "data": {
            "text/plain": [
              "<Figure size 432x432 with 36 Axes>"
            ],
            "image/png": "[encoded data removed]"
          },
          "metadata": {}
        }
      ]
    }
  ]
}