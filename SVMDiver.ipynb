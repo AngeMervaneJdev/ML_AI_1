{
  "nbformat": 4,
  "nbformat_minor": 0,
  "metadata": {
    "colab": {
      "name": "SVMDiver.ipynb",
      "provenance": [],
      "collapsed_sections": [
        "5OKl-q2n1btq"
      ],
      "authorship_tag": "ABX9TyNlJa/y87yB5z3I1RoU3WtF",
      "include_colab_link": true
    },
    "kernelspec": {
      "name": "python3",
      "display_name": "Python 3"
    },
    "language_info": {
      "name": "python"
    }
  },
  "cells": [
    {
      "cell_type": "markdown",
      "metadata": {
        "id": "view-in-github",
        "colab_type": "text"
      },
      "source": [
        "<a href=\"https://colab.research.google.com/github/AngeMervaneJdev/ML_AI_1/blob/main/SVMDiver.ipynb\" target=\"_parent\"><img src=\"https://colab.research.google.com/assets/colab-badge.svg\" alt=\"Open In Colab\"/></a>"
      ]
    },
    {
      "cell_type": "code",
      "source": [
        "import numpy as np\n",
        "import matplotlib.pyplot as plt\n",
        "import seaborn as sns\n",
        "from sklearn.svm import SVC\n",
        "from sklearn.model_selection import train_test_split\n",
        "from sklearn.metrics import accuracy_score, precision_score\n",
        "from matplotlib.colors import ListedColormap\n",
        "import matplotlib.patches as mpatches"
      ],
      "metadata": {
        "id": "qI_ib5FESV1o"
      },
      "execution_count": 18,
      "outputs": []
    },
    {
      "cell_type": "markdown",
      "source": [
        "# 【problem 1】Lagrange's steepest descent by the undetermined multiplier method"
      ],
      "metadata": {
        "id": "5OKl-q2n1btq"
      }
    },
    {
      "cell_type": "markdown",
      "source": [
        "Le SVM est un algorithme de classification binaire à l'instar de la régression logistique. Si ces deux algorithmes permettent de séparer un ensemble d'éléments en deux classes. La machine à vecteur de support opte pour la plus nette séparation possible. Pour cela, les données sont séparées en plusieurs classes grâce à la « marge maximale ». C'est d'ailleurs pour cette raison qu'on la nomme Large Margins classifier."
      ],
      "metadata": {
        "id": "9lfOA7UE5Llb"
      }
    },
    {
      "cell_type": "code",
      "source": [
        "ZERO = 1e-7\n",
        "def lagrange_dual(alpha, x, t):\n",
        "    result = 0\n",
        "    ind_sv = np.where(alpha > ZERO)[0]\n",
        "    for i in ind_sv:\n",
        "        for k in ind_sv:\n",
        "            result = result + alpha[i]*alpha[k]*t[i]*t[k]*np.dot(x[i, :], x[k, :]) \n",
        "    result = 0.5*result - sum(alpha)     \n",
        "    return result"
      ],
      "metadata": {
        "id": "meXn26fa1dTP"
      },
      "execution_count": 2,
      "outputs": []
    },
    {
      "cell_type": "code",
      "source": [
        ""
      ],
      "metadata": {
        "id": "4sTwV8IyE0FT"
      },
      "execution_count": 2,
      "outputs": []
    },
    {
      "cell_type": "markdown",
      "source": [
        "#ScratchSVMClassifier"
      ],
      "metadata": {
        "id": "SLUtKjgtaFdo"
      }
    },
    {
      "cell_type": "code",
      "execution_count": 3,
      "metadata": {
        "id": "XfhE2hfIcmXA"
      },
      "outputs": [],
      "source": [
        "class ScratchSVMClassifier():\n",
        "    \"\"\"\n",
        "    undefined\n",
        "\n",
        "    Parameters\n",
        "    ----------\n",
        "    num_iter : int\n",
        "      undefined\n",
        "    lr : float\n",
        "      undefined\n",
        "    kernel : str\n",
        "      undefined\n",
        "    threshold : float\n",
        "      undefined\n",
        "    verbose : bool\n",
        "      undefined\n",
        "\n",
        "    Attributes\n",
        "    ----------\n",
        "    self.n_support_vectors : int\n",
        "      undefined\n",
        "    self.index_support_vectors : undefined\n",
        "      undefined\n",
        "    self.X_sv :  undefined\n",
        "      undefined\n",
        "    self.lam_sv :  undefined\n",
        "      undefined\n",
        "    self.y_sv :  undefined\n",
        "      undefined\n",
        "\n",
        "    \"\"\"\n",
        "\n",
        "    def __init__(self, num_iter, lr, kernel='linear', threshold=1e-5, verbose=False):\n",
        "        # undefined\n",
        "        self.iter = num_iter\n",
        "        self.lr = lr\n",
        "        self.kernel = kernel\n",
        "        self.threshold = threshold\n",
        "        self.verbose = verbose\n",
        "        self.w = None\n",
        "        self.b = None\n",
        "\n",
        "    def fit(self, X, y, X_val=None, y_val=None):\n",
        "        \"\"\"\n",
        "        undefined\n",
        "\n",
        "        Parameters\n",
        "        ----------\n",
        "        X : 次の形のndarray, shape (n_échantillons, n_features)\n",
        "            undefined\n",
        "        y : undefined\n",
        "            undefined\n",
        "        X_val : 次の形のndarray, shape (n_échantillons, n_features)\n",
        "            undefined\n",
        "        y_val : undefined\n",
        "            undefined\n",
        "        \"\"\"\n",
        "        n_samples, n_features = X.shape\n",
        "        \n",
        "        y_ = np.where(y <= 0, -1, 1)\n",
        "        \n",
        "        self.w = np.zeros(n_features)\n",
        "        self.b = 0\n",
        "\n",
        "        for _ in range(self.iter):\n",
        "            for idx, x_i in enumerate(X):\n",
        "                condition = y_[idx] * (np.dot(x_i, self.w) - self.b) >= 1\n",
        "                if condition:\n",
        "                    self.w -= self.lr * (2 * self.threshold * self.w)\n",
        "                else:\n",
        "                    self.w -= self.lr * (2 * self.threshold * self.w - np.dot(x_i, y_[idx]))\n",
        "                    self.b -= self.lr * y_[idx]\n",
        "\n",
        "        if self.verbose:\n",
        "            #verboseをTrueにした際は学習過程を出力\n",
        "            print()\n",
        "        pass\n",
        "\n",
        "    def predict(self, X):\n",
        "        \"\"\"\n",
        "        undefined\n",
        "\n",
        "        Parameters\n",
        "        ----------\n",
        "        X : 次の形のndarray, shape (n_échantillons, n_features)\n",
        "            échantillon\n",
        "\n",
        "        Returns\n",
        "        -------\n",
        "            undefined\n",
        "            undefined\n",
        "        \"\"\"\n",
        "        approx = np.dot(X, self.w) - self.b\n",
        "        pass\n",
        "        \n",
        "        return np.sign(approx)"
      ]
    },
    {
      "cell_type": "markdown",
      "source": [
        "# Learning and estimation\n"
      ],
      "metadata": {
        "id": "d8cvecRlZ740"
      }
    },
    {
      "cell_type": "markdown",
      "source": [
        "### dataset"
      ],
      "metadata": {
        "id": "hmFEkThzaiv_"
      }
    },
    {
      "cell_type": "code",
      "source": [
        "np.random.seed(seed=0)\n",
        "n_samples = 500\n",
        "f0 = [-1, 2]\n",
        "f1 = [2, -1]\n",
        "cov = [[1.0,0.8], [0.8, 1.0]]\n",
        "f0 = np.random.multivariate_normal(f0, cov, n_samples // 2)\n",
        "f1 = np.random.multivariate_normal(f1, cov, n_samples // 2)\n",
        "X = np.concatenate([f0, f1])\n",
        "y = np.concatenate([\n",
        "    np.full(n_samples // 2, 1),\n",
        "    np.full(n_samples // 2, -1)\n",
        "])\n",
        "## vizualisation\n",
        "sns.scatterplot(x=X[:,0],y=X[:,1],hue=y )\n",
        "plt.show()\n",
        "X,y"
      ],
      "metadata": {
        "id": "zrgEeywjaLam"
      },
      "execution_count": null,
      "outputs": []
    },
    {
      "cell_type": "code",
      "source": [
        "model=ScratchSVMClassifier(num_iter=100, lr=0.001)\n",
        "X_train, X_test, y_train, y_test = train_test_split(X,y,random_state=20,train_size =0.5)\n",
        "model.fit(X_train,y_train)\n",
        "\n",
        "#prediction\n",
        "y_pred=model.predict(X_test)\n",
        "y_pred"
      ],
      "metadata": {
        "colab": {
          "base_uri": "https://localhost:8080/"
        },
        "id": "1GCgV5q-asOJ",
        "outputId": "4e8a82aa-7452-47a1-9861-d08e578fc7a4"
      },
      "execution_count": 28,
      "outputs": [
        {
          "output_type": "execute_result",
          "data": {
            "text/plain": [
              "array([-1.,  1.,  1., -1., -1.,  1., -1.,  1.,  1., -1., -1.,  1., -1.,\n",
              "        1., -1.,  1., -1.,  1., -1.,  1.,  1., -1.,  1., -1., -1.,  1.,\n",
              "        1., -1.,  1.,  1., -1., -1.,  1., -1.,  1.,  1.,  1.,  1.,  1.,\n",
              "       -1., -1.,  1., -1., -1.,  1.,  1., -1.,  1.,  1., -1., -1.,  1.,\n",
              "        1., -1., -1., -1., -1., -1., -1.,  1.,  1.,  1.,  1.,  1.,  1.,\n",
              "       -1.,  1.,  1., -1., -1., -1., -1., -1.,  1., -1.,  1., -1.,  1.,\n",
              "        1.,  1.,  1., -1., -1.,  1., -1.,  1., -1.,  1., -1.,  1., -1.,\n",
              "       -1.,  1., -1.,  1.,  1.,  1., -1., -1.,  1.,  1.,  1.,  1., -1.,\n",
              "       -1.,  1., -1., -1., -1.,  1., -1.,  1., -1., -1.,  1., -1., -1.,\n",
              "       -1., -1., -1., -1.,  1., -1., -1.,  1., -1.,  1.,  1., -1., -1.,\n",
              "       -1., -1.,  1., -1., -1., -1.,  1., -1.,  1.,  1.,  1., -1., -1.,\n",
              "        1., -1.,  1., -1.,  1., -1.,  1.,  1., -1.,  1., -1.,  1., -1.,\n",
              "        1., -1.,  1.,  1., -1.,  1., -1., -1.,  1.,  1.,  1.,  1., -1.,\n",
              "        1.,  1., -1.,  1., -1., -1., -1., -1., -1.,  1.,  1., -1.,  1.,\n",
              "        1., -1.,  1.,  1., -1.,  1.,  1.,  1.,  1.,  1., -1.,  1., -1.,\n",
              "       -1.,  1.,  1.,  1.,  1., -1.,  1., -1., -1.,  1.,  1., -1., -1.,\n",
              "       -1., -1., -1., -1.,  1., -1., -1., -1., -1.,  1.,  1.,  1.,  1.,\n",
              "        1., -1., -1., -1., -1.,  1.,  1., -1., -1.,  1.,  1.,  1., -1.,\n",
              "        1., -1.,  1.,  1., -1.,  1.,  1.,  1., -1., -1.,  1., -1., -1.,\n",
              "        1.,  1.,  1.])"
            ]
          },
          "metadata": {},
          "execution_count": 28
        }
      ]
    },
    {
      "cell_type": "code",
      "source": [
        "# estimation\n",
        "accuracy_score(y_test,y_pred)"
      ],
      "metadata": {
        "colab": {
          "base_uri": "https://localhost:8080/"
        },
        "id": "nHVDK61hfrSW",
        "outputId": "2b42befb-b905-431b-8754-05ea9739655e"
      },
      "execution_count": 30,
      "outputs": [
        {
          "output_type": "execute_result",
          "data": {
            "text/plain": [
              "1.0"
            ]
          },
          "metadata": {},
          "execution_count": 30
        }
      ]
    },
    {
      "cell_type": "markdown",
      "source": [
        "#Visualization of decision area"
      ],
      "metadata": {
        "id": "xbPxMQlCdnjn"
      }
    },
    {
      "cell_type": "code",
      "source": [
        "def decision_region(X,y,model,step=0.01,title='decision region',xlabel='xlabel',ylabel='ylabel',target_names=['1','-1']):\n",
        "    \"\"\"\n",
        "    2値分類を2次元の特徴量で学習したモデルの決定領域を描く。\n",
        "    背景の色が学習したモデルによる推定値から描画される。\n",
        "    散布図の点は訓練データまたは検証データである。\n",
        "    Parameters\n",
        "    ----------------\n",
        "    X : ndarray, shape(n_samples, 2)\n",
        "        特徴量\n",
        "    y : ndarray, shape(n_samples,)\n",
        "        ラベル\n",
        "    model : object\n",
        "        学習したモデルのインスンタスを入れる\n",
        "    step : float, (default : 0.1)\n",
        "        推定値を計算する間隔を設定する\n",
        "    title : str\n",
        "        グラフのタイトルの文章を与える\n",
        "    xlabel, ylabel : str\n",
        "        軸ラベルの文章を与える\n",
        "    target_names= : list of str\n",
        "        凡例の一覧を与える\n",
        "    \"\"\"\n",
        "    # setting\n",
        "    scatter_color = ['red', 'blue']\n",
        "    contourf_color = ['pink', 'skyblue']\n",
        "    n_class = 2\n",
        "    # pred\n",
        "    mesh_f0, mesh_f1 = np.meshgrid(np.arange(np.min(X[:,0])-0.5, np.max(X[:,0])+0.5, step), np.arange(np.min(X[:,1])-0.5, np.max(X[:,1])+0.5, step))\n",
        "    mesh = np.c_[np.ravel(mesh_f0), np.ravel(mesh_f1)]\n",
        "    y_pred = np.array(model.predict(mesh)).reshape(mesh_f0.shape)\n",
        "\n",
        "    # plot\n",
        "    plt.title(title)\n",
        "    plt.xlabel(xlabel)\n",
        "    plt.ylabel(ylabel)\n",
        "    plt.contourf(mesh_f0, mesh_f1, y_pred, n_class-1, cmap=ListedColormap(contourf_color))\n",
        "    plt.contour(mesh_f0, mesh_f1, y_pred, n_class-1, colors='y', linewidths=3, alpha=0.5)\n",
        "    for i, target in enumerate(np.unique(y)):\n",
        "        plt.scatter(X[y==target][:, 0], X[y==target][:, 1], s=80, color=scatter_color[i], label=target_names[i], marker='o')\n",
        "    patches = [mpatches.Patch(color=scatter_color[i], label=target_names[i]) for i in range(n_class)]\n",
        "    plt.legend(handles=patches)\n",
        "    plt.legend()\n",
        "    plt.show()"
      ],
      "metadata": {
        "id": "Rj04rQsUbda7"
      },
      "execution_count": 32,
      "outputs": []
    },
    {
      "cell_type": "code",
      "source": [
        "decision_region(X_train,y_train,model)"
      ],
      "metadata": {
        "colab": {
          "base_uri": "https://localhost:8080/",
          "height": 295
        },
        "id": "oxnGpyJ4eRvs",
        "outputId": "7faae0f2-2819-4452-d15f-d68e68f741db"
      },
      "execution_count": 33,
      "outputs": [
        {
          "output_type": "display_data",
          "data": {
            "text/plain": [
              "<Figure size 432x288 with 1 Axes>"
            ],
            "image/png": "[encoded data removed]"
          },
          "metadata": {
            "needs_background": "light"
          }
        }
      ]
    },
    {
      "cell_type": "code",
      "source": [
        "decision_region(X_test,y_pred,model)"
      ],
      "metadata": {
        "colab": {
          "base_uri": "https://localhost:8080/",
          "height": 295
        },
        "id": "uWXX3sCDeWjt",
        "outputId": "403e4842-dfc0-4828-d7f4-0ab10bdfb6d8"
      },
      "execution_count": 35,
      "outputs": [
        {
          "output_type": "display_data",
          "data": {
            "text/plain": [
              "<Figure size 432x288 with 1 Axes>"
            ],
            "image/png": "[encoded data removed]"
          },
          "metadata": {
            "needs_background": "light"
          }
        }
      ]
    },
    {
      "cell_type": "markdown",
      "source": [
        "#(Advance task) Creation of polynomial kernel function"
      ],
      "metadata": {
        "id": "UtgEwoxmhanu"
      }
    },
    {
      "cell_type": "code",
      "source": [
        "def kernel(Xi,Xj,kernel='poly'):\n",
        "  if type==\"poly\":\n",
        "    gamma=1\n",
        "    theta=0\n",
        "    d=1\n",
        "  return (gamma*np.dot(Xi,Xj.T)+theta)**d"
      ],
      "metadata": {
        "id": "AuLaljy0hNy9"
      },
      "execution_count": null,
      "outputs": []
    }
  ]
}