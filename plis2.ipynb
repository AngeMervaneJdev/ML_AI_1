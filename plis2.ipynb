{
  "nbformat": 4,
  "nbformat_minor": 0,
  "metadata": {
    "colab": {
      "name": "plis2.ipynb",
      "provenance": [],
      "authorship_tag": "ABX9TyNPGRwygAuHenzt7r0VIqcM",
      "include_colab_link": true
    },
    "kernelspec": {
      "name": "python3",
      "display_name": "Python 3"
    },
    "language_info": {
      "name": "python"
    }
  },
  "cells": [
    {
      "cell_type": "markdown",
      "metadata": {
        "id": "view-in-github",
        "colab_type": "text"
      },
      "source": [
        "<a href=\"https://colab.research.google.com/github/AngeMervaneJdev/ML_AI_1/blob/main/plis2.ipynb\" target=\"_parent\"><img src=\"https://colab.research.google.com/assets/colab-badge.svg\" alt=\"Open In Colab\"/></a>"
      ]
    },
    {
      "cell_type": "code",
      "execution_count": null,
      "metadata": {
        "id": "Z_X5aHU1AWEO"
      },
      "outputs": [],
      "source": [
        "print(\"Probleme 0\\n\")\n",
        "import numpy as np\n",
        "# import matplotlib.pyplot as plt\n",
        "liste=[]\n",
        "THICKNESS = 0.00008\n",
        "for i in np.arange(1,44):\n",
        "  b=1\n",
        "  for a in np.arange(1,i):\n",
        "    b=b*2\n",
        "    \n",
        "print(\"{:.2f}\".format(b*THICKNESS / 1000))"
      ]
    },
    {
      "cell_type": "code",
      "source": [
        "import numpy as np\n",
        "print(\"Probleme 1\\n\")\n",
        "THICKNESS = 0.00008\n",
        "i=1\n",
        "while True:\n",
        "   b=1\n",
        "   for a in np.arange(1,i):\n",
        "     b=b*2\n",
        "   if b*THICKNESS-3776>=0:\n",
        "     break\n",
        "   i+=1\n",
        "print(i-1)\n",
        "\n"
      ],
      "metadata": {
        "id": "WJet_lUXHo_-"
      },
      "execution_count": null,
      "outputs": []
    },
    {
      "cell_type": "code",
      "source": [
        "import numpy as np\n",
        "print(\"Probleme 2\\n\")\n",
        "def n_folds_for(Start_thinck,final_height):\n",
        "  i=0\n",
        "  while True:\n",
        "    b=1\n",
        "    for a in np.arange(1,i):\n",
        "      b=b*2\n",
        "    if b*Start_thinck-final_height>0:\n",
        "      return i-1\n",
        "    i+=1\n",
        "  \n",
        "print(n_folds_for(0.00008,4.0175*10**16))\n",
        "#print(n_folds_for(0.00008,384400*10**3))"
      ],
      "metadata": {
        "colab": {
          "base_uri": "https://localhost:8080/"
        },
        "id": "yLo5bna8IC-d",
        "outputId": "86b796b0-8fd0-4dd1-edb5-d18ba3b6f6da"
      },
      "execution_count": 59,
      "outputs": [
        {
          "output_type": "stream",
          "name": "stdout",
          "text": [
            "Probleme 2\n",
            "\n",
            "69\n",
            "43\n"
          ]
        }
      ]
    },
    {
      "cell_type": "code",
      "source": [
        "import math \n",
        "\n",
        "print(\"Probleme 3\\n\")\n",
        "minimum=0.00008\n",
        "def lengthRequire(min_thickness,n_folds):\n",
        "  a=(math.pi*min_thickness)/6\n",
        "  b=(2**n_folds+4)*(2**n_folds-1)\n",
        "  print(a*b)\n",
        "\n",
        "# Mont fuji\n",
        "lengthRequire(minimum,26)\n",
        "# Soleil\n",
        "lengthRequire(minimum,69)\n",
        "# Lune  384 400 \n",
        "lengthRequire(minimum,43)\n"
      ],
      "metadata": {
        "colab": {
          "base_uri": "https://localhost:8080/"
        },
        "id": "TNU0QdwNc8nE",
        "outputId": "a869fac8-f93c-4f1f-ab97-e136378b4507"
      },
      "execution_count": 60,
      "outputs": [
        {
          "output_type": "stream",
          "name": "stdout",
          "text": [
            "Probleme 3\n",
            "\n",
            "188646348487.24017\n",
            "1.4595803601100348e+37\n",
            "3.240919444170781e+21\n"
          ]
        }
      ]
    },
    {
      "cell_type": "code",
      "source": [
        ""
      ],
      "metadata": {
        "id": "hL3uYyPXKJO0"
      },
      "execution_count": null,
      "outputs": []
    }
  ]
}