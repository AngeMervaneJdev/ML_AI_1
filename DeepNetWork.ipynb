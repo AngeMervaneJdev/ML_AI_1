{
  "nbformat": 4,
  "nbformat_minor": 0,
  "metadata": {
    "colab": {
      "name": "DeepNetWork.ipynb",
      "provenance": [],
      "authorship_tag": "ABX9TyOb0IW4d30Mb8E69g7QNqTg",
      "include_colab_link": true
    },
    "kernelspec": {
      "name": "python3",
      "display_name": "Python 3"
    },
    "language_info": {
      "name": "python"
    }
  },
  "cells": [
    {
      "cell_type": "markdown",
      "metadata": {
        "id": "view-in-github",
        "colab_type": "text"
      },
      "source": [
        "<a href=\"https://colab.research.google.com/github/AngeMervaneJdev/ML_AI_1/blob/main/DeepNetWork.ipynb\" target=\"_parent\"><img src=\"https://colab.research.google.com/assets/colab-badge.svg\" alt=\"Open In Colab\"/></a>"
      ]
    },
    {
      "cell_type": "markdown",
      "source": [
        "#[Problème 1] Classification des couches entièrement connectées"
      ],
      "metadata": {
        "id": "jzkTd2znONnV"
      }
    },
    {
      "cell_type": "code",
      "source": [
        "import numpy as np\n",
        "from keras.datasets import mnist\n",
        "import matplotlib.pyplot as plt\n",
        "%matplotlib inline\n",
        "from sklearn.model_selection import train_test_split\n",
        "from sklearn.preprocessing import OneHotEncoder\n",
        "from sklearn.metrics import accuracy_score, precision_score, recall_score, f1_score"
      ],
      "metadata": {
        "id": "CDLCbdERfQqo"
      },
      "execution_count": 8,
      "outputs": []
    },
    {
      "cell_type": "code",
      "execution_count": 23,
      "metadata": {
        "id": "NJKoc6dEOHh6"
      },
      "outputs": [],
      "source": [
        "class FC:\n",
        "    \"\"\"\n",
        "    ノード数n_nodes1からn_nodes2への全結合層\n",
        "    Parameters\n",
        "    ----------\n",
        "    n_nodes1 : int\n",
        "      前の層のノード数\n",
        "    n_nodes2 : int\n",
        "      後の層のノード数\n",
        "    initializer : インスタンス\n",
        "        初期化方法のインスタンス\n",
        "    optimizer : インスタンス\n",
        "        最適化手法のインスタンス\n",
        "    \"\"\"\n",
        "    def __init__(self, n_nodes1, n_nodes2, initializer, optimizer):\n",
        "        self.optimizer = optimizer\n",
        "        self.W = initializer.W(n_nodes1, n_nodes2)\n",
        "        self.B = initializer.B(n_nodes2)\n",
        "\n",
        "    \n",
        "    def forward(self, Z1):\n",
        "        self.Z = Z1.copy()\n",
        "        Z2 = np.dot(Z1, self.W) + self.B\n",
        "        \n",
        "        return Z2\n",
        "    \n",
        "    \n",
        "    def backward(self, dA):\n",
        "        self.dB = dA \n",
        "        self.dW = np.dot(self.Z.T, dA) \n",
        "        dZ = np.dot(dA, self.W.T) \n",
        "        \n",
        "        self = self.optimizer.update(self)\n",
        "        \n",
        "        return dZ\n"
      ]
    },
    {
      "cell_type": "markdown",
      "source": [
        "#[Problème 2] Classer la méthode d'initialisation"
      ],
      "metadata": {
        "id": "vPDRw4uaO9W-"
      }
    },
    {
      "cell_type": "code",
      "source": [
        "class SimpleInitializer:\n",
        "    \"\"\"\n",
        "    Simple initialization with Gaussian distribution\n",
        "    Parameters\n",
        "    ----------\n",
        "    sigma : float\n",
        "      Standard deviation of Gaussian distribution\n",
        "    \"\"\"\n",
        "    def __init__(self, sigma):\n",
        "        self.sigma = sigma\n",
        "    def W(self, n_nodes1, n_nodes2):\n",
        "        \"\"\"\n",
        "        Weight initialization\n",
        "        Parameters\n",
        "        ----------\n",
        "        n_nodes1 : int\n",
        "          Number of nodes in the previous layer\n",
        "        n_nodes2 : int\n",
        "          Number of nodes in the later layer\n",
        "\n",
        "        Returns\n",
        "        ----------\n",
        "        W :\n",
        "        \"\"\"\n",
        "        W=self.sigma * np.random.randn(n_nodes1, n_nodes2) \n",
        "        pass\n",
        "        return W\n",
        "    def B(self, n_nodes2):\n",
        "        \"\"\"\n",
        "        Bias initialization\n",
        "        Parameters\n",
        "        ----------\n",
        "        n_nodes2 : int\n",
        "          Number of nodes in the later layer\n",
        "\n",
        "        Returns\n",
        "        ----------\n",
        "        B :\n",
        "        \"\"\"\n",
        "        B=np.zeros(n_nodes2)\n",
        "        pass\n",
        "        return B"
      ],
      "metadata": {
        "id": "B0ddxUt0PDTq"
      },
      "execution_count": 24,
      "outputs": []
    },
    {
      "cell_type": "markdown",
      "source": [
        "#[Problème 3] Classer les méthodes d'optimisation"
      ],
      "metadata": {
        "id": "eu2Icb6MPXcV"
      }
    },
    {
      "cell_type": "code",
      "source": [
        "class SGD:\n",
        "    \"\"\"\n",
        "    Stochastic gradient descent\n",
        "    Parameters\n",
        "    ----------\n",
        "    lr : Learning rate\n",
        "    \"\"\"\n",
        "    def __init__(self, lr):\n",
        "        self.lr = lr\n",
        "    def update(self, layer):\n",
        "        \"\"\"\n",
        "        Update weights and biases for a layer\n",
        "        Parameters\n",
        "        ----------\n",
        "        layer : Instance of the layer before update\n",
        "        \"\"\"\n",
        "        ## layer.dB=partial derivatives of loss\n",
        "        layer.W -= self.lr* layer.dW / layer.dB.shape[0] #(n_nodes1, n_nodes2)\n",
        "        layer.B -= self.lr* layer.dB.mean(axis=0) #(n_nodes2)"
      ],
      "metadata": {
        "id": "3ibaLyrjTRRx"
      },
      "execution_count": 25,
      "outputs": []
    },
    {
      "cell_type": "markdown",
      "source": [
        "#[Problème 4] Classer les fonctions d'activation"
      ],
      "metadata": {
        "id": "_K3AyMC5XJ7Y"
      }
    },
    {
      "cell_type": "markdown",
      "source": [
        ""
      ],
      "metadata": {
        "id": "o5uobhsDpPft"
      }
    },
    {
      "cell_type": "code",
      "source": [
        "class Softmax:\n",
        "    def __init__(self):\n",
        "        self.Z = None\n",
        "    \n",
        "    \n",
        "    def forward(self, A):\n",
        "        c = np.max(A)\n",
        "        exp_A = np.exp(A - c)\n",
        "        sum_exp_A = np.sum(exp_A, axis=1).reshape(-1, 1)\n",
        "\n",
        "        self.Z = exp_A / sum_exp_A\n",
        "        \n",
        "        return self.Z\n",
        "\n",
        "    \n",
        "    def backward(self, y):\n",
        "        loss_sum = np.sum(y * np.log(self.Z), axis=1)\n",
        "        loss = -np.mean(loss_sum)\n",
        "        \n",
        "        dA = self.Z - y\n",
        "        \n",
        "        return dA, loss"
      ],
      "metadata": {
        "id": "MAikGTQipQDi"
      },
      "execution_count": 26,
      "outputs": []
    },
    {
      "cell_type": "code",
      "source": [
        "class Sigmoid:\n",
        "    def __init__(self):\n",
        "        self.Z = None \n",
        "    def forward(self, A):\n",
        "        self.Z = 1 / (1 + np.exp(-A))\n",
        "        return self.Z\n",
        "    def backward(self, dZ):\n",
        "        dA = dZ * (1 - self.Z) * self.Z\n",
        "        return dA"
      ],
      "metadata": {
        "id": "HE4XqQwVZV3b"
      },
      "execution_count": 27,
      "outputs": []
    },
    {
      "cell_type": "code",
      "source": [
        "class Tanh:\n",
        "    def __init__(self):\n",
        "        self.Z = None\n",
        "    \n",
        "    def forward(self, A):\n",
        "        self.Z =  np.tanh(A)\n",
        "        \n",
        "        return  self.Z\n",
        "    \n",
        "    def backward(self, dZ):\n",
        "        dA = dZ * (1 - self.Z**2)\n",
        "        \n",
        "        return dA"
      ],
      "metadata": {
        "id": "qG48zCD3fH44"
      },
      "execution_count": 28,
      "outputs": []
    },
    {
      "cell_type": "markdown",
      "source": [
        "#[Problem 5] ReLU class creation"
      ],
      "metadata": {
        "id": "LSJYwZFpbVQR"
      }
    },
    {
      "cell_type": "code",
      "source": [
        "class Relu:\n",
        "    def __init__(self):\n",
        "        self.X = None\n",
        "    def forward(self, A):\n",
        "        self.X = A.copy()\n",
        "        Z = np.maximum(0, A)\n",
        "        return Z\n",
        "    def backward(self, dZ):\n",
        "        dA = np.where(self.X > 0, dZ, 0)\n",
        "        return dA"
      ],
      "metadata": {
        "id": "pohMW_q5cQsC"
      },
      "execution_count": 29,
      "outputs": []
    },
    {
      "cell_type": "markdown",
      "source": [
        "#[Problem 6] Initial value of weight"
      ],
      "metadata": {
        "id": "aAZTaYD4g8Fo"
      }
    },
    {
      "cell_type": "code",
      "source": [
        "class XavierInitializer:\n",
        "    def __init__(self):\n",
        "        pass\n",
        "        \n",
        "\n",
        "    def W(self, n_nodes1, n_nodes2):\n",
        "        W = np.random.randn(n_nodes1, n_nodes2) / np.sqrt(n_nodes1)\n",
        "        return W\n",
        "    \n",
        "    \n",
        "    def B(self, n_nodes2):\n",
        "        B = np.zeros(n_nodes2) #(n_nodes2)\n",
        "        return B"
      ],
      "metadata": {
        "id": "6SnNdLFwg9Q2"
      },
      "execution_count": 30,
      "outputs": []
    },
    {
      "cell_type": "code",
      "source": [
        "class HeInitializer:\n",
        "    def __init__(self):\n",
        "        pass\n",
        "        \n",
        "    def W(self, n_nodes1, n_nodes2):\n",
        "        W = np.random.randn(n_nodes1, n_nodes2) * np.sqrt(2 / n_nodes1)\n",
        "    \n",
        "        return W\n",
        "    \n",
        "    def B(self, n_nodes2):\n",
        "        B = np.zeros(n_nodes2) \n",
        "        \n",
        "        return B"
      ],
      "metadata": {
        "id": "rO7CR8-phfN0"
      },
      "execution_count": 31,
      "outputs": []
    },
    {
      "cell_type": "markdown",
      "source": [
        "#[Problem 7] Optimization method"
      ],
      "metadata": {
        "id": "dx-Exo0jhmhG"
      }
    },
    {
      "cell_type": "code",
      "source": [
        "class AdaGrad:\n",
        "    def __init__(self, lr):\n",
        "        self.lr = lr \n",
        "        self.H_W= None \n",
        "        self.H_B = None\n",
        "\n",
        "    def update(self, layer):\n",
        "        if self.H_W is None:\n",
        "            self.H_W = np.zeros(layer.W.shape)\n",
        "        if self.H_B is None:\n",
        "            self.H_B = np.zeros(layer.B.shape)\n",
        "        \n",
        "        self.H_W += (layer.dW / layer.dB.shape[0]) ** 2 \n",
        "        self.H_B += (layer.dB.mean(axis=0)) **2\n",
        "        layer.W -= self.alpha / np.sqrt(self.H_W + 1e-7) * layer.dW / layer.dB.shape[0] \n",
        "        layer.B -= self.alpha / np.sqrt(self.H_B + 1e-7) * layer.dB.mean(axis=0) \n",
        "        \n",
        "        return layer"
      ],
      "metadata": {
        "id": "s_DpvlN8h6wW"
      },
      "execution_count": 32,
      "outputs": []
    },
    {
      "cell_type": "markdown",
      "source": [
        "#[Problem 8] Class completion"
      ],
      "metadata": {
        "id": "HKrmcG3pk-lF"
      }
    },
    {
      "cell_type": "code",
      "source": [
        "class GetMiniBatch:\n",
        "    \"\"\"\n",
        "    ミニバッチを取得するイテレータ\n",
        "\n",
        "    Parameters\n",
        "    ----------\n",
        "    X : 次の形のndarray, shape (n_samples, n_features)\n",
        "      学習データ\n",
        "    y : 次の形のndarray, shape (n_samples, 1)\n",
        "      正解値\n",
        "    batch_size : int\n",
        "      バッチサイズ\n",
        "    seed : int\n",
        "      NumPyの乱数のシード\n",
        "    \"\"\"\n",
        "    def __init__(self, X, y, batch_size = 10, seed=0):\n",
        "        self.batch_size = batch_size\n",
        "        np.random.seed(seed)\n",
        "        shuffle_index = np.random.permutation(np.arange(X.shape[0]))\n",
        "        self.X = X[shuffle_index]\n",
        "        self.y = y[shuffle_index]\n",
        "        self._stop = np.ceil(X.shape[0]/self.batch_size).astype(np.int)\n",
        "\n",
        "    def __len__(self):\n",
        "        return self._stop\n",
        "\n",
        "    def __getitem__(self,item):\n",
        "        p0 = item*self.batch_size\n",
        "        p1 = item*self.batch_size + self.batch_size\n",
        "        return self.X[p0:p1], self.y[p0:p1]        \n",
        "\n",
        "    def __iter__(self):\n",
        "        self._counter = 0\n",
        "        return self\n",
        "\n",
        "    def __next__(self):\n",
        "        if self._counter >= self._stop:\n",
        "            raise StopIteration()\n",
        "        p0 = self._counter*self.batch_size\n",
        "        p1 = self._counter*self.batch_size + self.batch_size\n",
        "        self._counter += 1\n",
        "        return self.X[p0:p1], self.y[p0:p1]"
      ],
      "metadata": {
        "id": "I3M2NXYcnDwK"
      },
      "execution_count": 41,
      "outputs": []
    },
    {
      "cell_type": "code",
      "source": [
        "class ScratchDeepNeuralNetrowkClassifier():\n",
        "    \"\"\"\n",
        "    ニューラルネットワーク分類器\n",
        "\n",
        "    Parameters\n",
        "    --------------\n",
        "    epoc : int\n",
        "        エポック数\n",
        "    activaiton : {'sigmoid', 'tanh', 'relu'} default 'relu'\n",
        "        活性化関数の種類\n",
        "    solver :  {'sgd', 'adagrad'}, default 'adam'\n",
        "        最適化手法の種類\n",
        "    lr : float\n",
        "        学習率\n",
        "    batch_size : int\n",
        "        バッチサイズ\n",
        "    initial : {'simple', 'xavier', 'he'} default 'he'\n",
        "        重みの初期化方法\n",
        "    sigma : float\n",
        "        重みパラメータ(ガウス分布の標準偏差)\n",
        "    n_nodes1 : int\n",
        "        1層目の数\n",
        "    n_nodes2 : int\n",
        "        2層目の数\n",
        "    n_output : int\n",
        "        出力層の数\n",
        "    verbose : bool\n",
        "        学習過程の出力の有無\n",
        "        \n",
        "    Attributes\n",
        "    -------------\n",
        "    FC1 :  インスタンス\n",
        "        結合層のインスタンス\n",
        "    FC2 :   インスタンス\n",
        "        結合層のインスタンス\n",
        "    FC3 :   インスタンス\n",
        "        結合層のインスタンス\n",
        "    activation1 : インスタンス\n",
        "        活性化関数のインスタンス\n",
        "    activation2 : インスタンス\n",
        "        活性化関数のインスタンス\n",
        "    activation3 : インスタンス\n",
        "        活性化関数のインスタンス\n",
        "    loss_list : list\n",
        "        学習用データのエポックごとの損失を記録するリスト\n",
        "     mini_loss_list : list\n",
        "        学習用データのイテレーションごとの損失を記録するリスト   \n",
        "    val_loss_list : list\n",
        "        検証用データのエポックごとの損失を記録するリスト\n",
        "    mini_val_loss_list : list\n",
        "        検証用データのイテレーションごとの損失を記録するリスト        \n",
        "    \"\"\"\n",
        "    def __init__(self, epoc=20, activation='relu', solver='adagrad', lr=0.005,\n",
        "                             batch_size=10, initial='he', sigma=0.01, n_nodes1=400, \n",
        "                             n_nodes2=200, verbose=True):\n",
        "        self.epoc=epoc              \n",
        "        self.activation= activation     \n",
        "        self.solver= solver            \n",
        "        self.lr= lr             \n",
        "        self.batch_size = batch_size   \n",
        "        self.initial = initial             \n",
        "        self.sigma = sigma            \n",
        "        self.n_nodes1= n_nodes1    \n",
        "        self.n_nodes2= n_nodes2    \n",
        "        self.verbose= verbose \n",
        "        self.val_is_true = False \n",
        "        self.FC1=None \n",
        "        self.FC2= None \n",
        "        self.FC3= None \n",
        "        self.activation1= None\n",
        "        self.activation2= None\n",
        "        self.activation3= None\n",
        "        self.loss_list= None \n",
        "        self.mini_loss_list = None        \n",
        "        self.val_loss_list= None\n",
        "        self.mini_val_loss_list= None \n",
        "    \n",
        "    def fit(self, X, y, X_val=None, y_val=None):\n",
        "        if X.ndim == 1:\n",
        "            X = X[:, np.newaxis]\n",
        "        if y.ndim == 1:\n",
        "            y = y[:, np.newaxis]\n",
        "            \n",
        "        n_output = np.unique(y).shape[0]\n",
        "        y_onehot = self._one_hot(y, n_output)\n",
        "        \n",
        "        train_mini_batch = GetMiniBatch(X, y_onehot, self.batch_size)\n",
        " \n",
        "        if X_val is not None and y_val is not None:\n",
        "            \n",
        "            if X.ndim == 1:\n",
        "                X_val = X_val[:, np.newaxis]\n",
        "            if y_val.ndim == 1:\n",
        "                y_val = y_val[:, np.newaxis]\n",
        "\n",
        "            y_val_onehot = self._one_hot(y_val, n_output) \n",
        "            test_mini_batch = GetMiniBatch(X_val, y_val_onehot)\n",
        "        \n",
        "        \n",
        "        # Activation\n",
        "        if self.activation == 'sigmoid':\n",
        "            activate1 = Sigmoid()\n",
        "            activate2 = Sigmoid()\n",
        "        elif self.activation == 'tanh':\n",
        "            activate1 = Tanh()\n",
        "            activate2 = Tanh()\n",
        "        elif self.activation == 'relu':\n",
        "            activate1 = Relu()\n",
        "            activate2 = Relu()\n",
        "        \n",
        "        #Optimisation\n",
        "        if self.solver == 'sgd':\n",
        "            optimizer1 = SGD(self.lr)\n",
        "            optimizer2 = SGD(self.lr)\n",
        "            optimizer3 = SGD(self.lr) \n",
        "        elif self.solver == 'adagrad':\n",
        "            optimizer1 = AdaGrad(self.lr)\n",
        "            optimizer2 = AdaGrad(self.lr)\n",
        "            optimizer3 = AdaGrad(self.lr)\n",
        "            \n",
        "        #重みの初期化方法の選択\n",
        "        if self.initial == 'simple':\n",
        "            initializer1 = SimpleInitializer(self.sigma)\n",
        "            initializer2 = SimpleInitializer(self.sigma)\n",
        "            initializer3 = SimpleInitializer(self.sigma)\n",
        "        elif self.initial == 'xavier':\n",
        "            initializer1 = XavierInitializer()\n",
        "            initializer2 = XavierInitializer()\n",
        "            initializer3 = XavierInitializer()\n",
        "        elif self.initial == 'he':\n",
        "            initializer1 = HeInitializer()\n",
        "            initializer2 = HeInitializer()\n",
        "            initializer3 = HeInitializer()\n",
        "        \n",
        "        #結合層および活性化関数クラスのインスタンス化\n",
        "        self.FC1 = FC(X.shape[1], self.n_nodes1, initializer1, optimizer1) #第1層\n",
        "        self.activation1 = activate1\n",
        "        self.FC2 = FC(self.n_nodes1, self.n_nodes2, initializer2, optimizer2) #第2層\n",
        "        self.activation2 = activate2\n",
        "        self.FC3 = FC(self.n_nodes2, y_onehot.shape[1], initializer3, optimizer3) #第3層\n",
        "        self.activation3 = Softmax()\n",
        "\n",
        "        self.loss_list = []       \n",
        "        self.val_loss_list= [] \n",
        "        for i in range(self.epoc):\n",
        "            self.mini_loss_list = []\n",
        "          \n",
        "            for mini_X_train, mini_y_train in train_mini_batch:\n",
        "                \n",
        "                A1 = self.FC1.forward(mini_X_train) \n",
        "                Z1 = self.activation1.forward(A1)   \n",
        "                A2 = self.FC2.forward(Z1)           \n",
        "                Z2 = self.activation2.forward(A2)   \n",
        "                A3 = self.FC3.forward(Z2)           \n",
        "                Z3 = self.activation3.forward(A3)  \n",
        "\n",
        "                dA3, mini_loss = self.activation3.backward(mini_y_train) \n",
        "                dZ2 = self.FC3.backward(dA3)         \n",
        "                dA2 = self.activation2.backward(dZ2) \n",
        "                dZ1 = self.FC2.backward(dA2)         \n",
        "                dA1 = self.activation1.backward(dZ1) \n",
        "                dZ0 = self.FC1.backward(dA1)          \n",
        "\n",
        "                self.mini_loss_list.append(mini_loss)\n",
        "                \n",
        "            loss = np.mean(self.mini_loss_list)\n",
        "            self.loss_list.append(loss)\n",
        "\n",
        "        \n",
        "            if X_val is not None and y_val is not None:\n",
        "                self.val_is_true=True\n",
        "                self.mini_val_loss_list = []\n",
        "                for mini_X_val, mini_y_val in test_mini_batch:\n",
        "\n",
        "                  \n",
        "                    A1 = self.FC1.forward(mini_X_val)\n",
        "                    Z1 = self.activation1.forward(A1)\n",
        "                    A2 = self.FC2.forward(Z1)\n",
        "                    Z2 = self.activation2.forward(A2)\n",
        "                    A3 = self.FC3.forward(Z2)\n",
        "                    Z3 = self.activation3.forward(A3)\n",
        "                    \n",
        "                    \n",
        "                    dA3, mini_val_loss = self.activation3.backward(mini_y_val) \n",
        "                    \n",
        "                    #\n",
        "                    self.mini_val_loss_list.append(mini_val_loss)\n",
        "\n",
        "                val_loss = np.mean(self.mini_val_loss_list)\n",
        "                self.val_loss_list.append(val_loss) \n",
        "\n",
        "            if self.verbose == True:\n",
        "                print('Processus d\\'apprentissage des données de formation' + str(i + 1) + 'epoc : ' + str(self.loss_list[i]))\n",
        "\n",
        "                if X_val is not None or y_val is not None:\n",
        "                    print('Processus d\\'apprentissage des données de formation' + str(i + 1) + 'epoc : ' + str(self.val_loss_list[i]))\n",
        "                    \n",
        "                \n",
        "    def predict(self, X):\n",
        "        A1 = self.FC1.forward(X)\n",
        "        Z1 = self.activation1.forward(A1)\n",
        "        A2 = self.FC2.forward(Z1)\n",
        "        Z2 = self.activation2.forward(A2)\n",
        "        A3 = self.FC3.forward(Z2)\n",
        "        y_pred = self.activation3.forward(A3)\n",
        "        \n",
        "        return np.argmax(y_pred, axis=1)\n",
        "            \n",
        "\n",
        "    def _one_hot(self, y, n_output):\n",
        "        one_hot = np.zeros((n_output, y.shape[0]))\n",
        "\n",
        "        for idx, val in enumerate(y.astype(int)):\n",
        "            one_hot[val, idx] = 1\n",
        "\n",
        "        return one_hot.T\n",
        "    "
      ],
      "metadata": {
        "id": "5QcTydPOhmO-"
      },
      "execution_count": 47,
      "outputs": []
    },
    {
      "cell_type": "markdown",
      "source": [
        "#[Problem 9] Learning and estimation"
      ],
      "metadata": {
        "id": "2iuHrFocnKdn"
      }
    },
    {
      "cell_type": "markdown",
      "source": [
        "###  getting dataset"
      ],
      "metadata": {
        "id": "UetneRZunf1d"
      }
    },
    {
      "cell_type": "code",
      "source": [
        "(X_train, y_train), (X_test, y_test) = mnist.load_data()\n",
        "X_train = X_train.reshape(-1, 784)\n",
        "X_test = X_test.reshape(-1, 784)\n",
        "\n",
        "X_train = X_train.astype(np.float)\n",
        "X_test = X_test.astype(np.float)\n",
        "X_train /= 255\n",
        "X_test /= 255\n",
        "print(X_train.max()) # 1.0\n",
        "print(X_train.min()) # 0.0\n",
        "\n",
        "\n",
        "X_train, X_val, y_train, y_val = train_test_split(X_train, y_train, test_size=0.2)\n",
        "print(X_train.shape) # (48000, 784)\n",
        "print(X_val.shape) # (12000, 784)"
      ],
      "metadata": {
        "colab": {
          "base_uri": "https://localhost:8080/"
        },
        "id": "lE-GSUm8nKRk",
        "outputId": "e7ffbf94-3a42-4159-f98f-d7527101481f"
      },
      "execution_count": 48,
      "outputs": [
        {
          "output_type": "stream",
          "name": "stdout",
          "text": [
            "1.0\n",
            "0.0\n",
            "(48000, 784)\n",
            "(12000, 784)\n"
          ]
        },
        {
          "output_type": "stream",
          "name": "stderr",
          "text": [
            "/usr/local/lib/python3.7/dist-packages/ipykernel_launcher.py:5: DeprecationWarning: `np.float` is a deprecated alias for the builtin `float`. To silence this warning, use `float` by itself. Doing this will not modify any behavior and is safe. If you specifically wanted the numpy scalar type, use `np.float64` here.\n",
            "Deprecated in NumPy 1.20; for more details and guidance: https://numpy.org/devdocs/release/1.20.0-notes.html#deprecations\n",
            "  \"\"\"\n",
            "/usr/local/lib/python3.7/dist-packages/ipykernel_launcher.py:6: DeprecationWarning: `np.float` is a deprecated alias for the builtin `float`. To silence this warning, use `float` by itself. Doing this will not modify any behavior and is safe. If you specifically wanted the numpy scalar type, use `np.float64` here.\n",
            "Deprecated in NumPy 1.20; for more details and guidance: https://numpy.org/devdocs/release/1.20.0-notes.html#deprecations\n",
            "  \n"
          ]
        }
      ]
    },
    {
      "cell_type": "code",
      "source": [
        "model = ScratchDeepNeuralNetrowkClassifier(activation='relu', solver='sgd', initial='he',verbose=False)\n",
        "\n",
        "model.fit(X_train, y_train, X_val, y_val)\n",
        "\n"
      ],
      "metadata": {
        "colab": {
          "base_uri": "https://localhost:8080/"
        },
        "id": "rCfgvquNn4Pp",
        "outputId": "0c48a70c-ed49-48d2-dd53-620b86f68bce"
      },
      "execution_count": 49,
      "outputs": [
        {
          "output_type": "stream",
          "name": "stderr",
          "text": [
            "/usr/local/lib/python3.7/dist-packages/ipykernel_launcher.py:22: DeprecationWarning: `np.int` is a deprecated alias for the builtin `int`. To silence this warning, use `int` by itself. Doing this will not modify any behavior and is safe. When replacing `np.int`, you may wish to use e.g. `np.int64` or `np.int32` to specify the precision. If you wish to review your current use, check the release note link for additional information.\n",
            "Deprecated in NumPy 1.20; for more details and guidance: https://numpy.org/devdocs/release/1.20.0-notes.html#deprecations\n"
          ]
        }
      ]
    },
    {
      "cell_type": "code",
      "source": [
        "y_pred4= model.predict(X_test)\n",
        "def plot_learning_curve(model):\n",
        "        plt.plot(range(1, model.epoc + 1), model.loss_list, color=\"r\", marker=\"o\", label=\"train loss\")\n",
        "        if model.val_is_true:\n",
        "            plt.plot(range(1, model.epoc + 1), model.val_loss_list, color=\"g\", marker=\"o\", label=\"val loss\")\n",
        "            \n",
        "        plt.title(\"Learning Curve\")\n",
        "        plt.xlabel(\"Epoch\")\n",
        "        plt.ylabel(\"Loss\")\n",
        "        plt.grid()\n",
        "        plt.legend(loc=\"best\")\n",
        "        plt.show()\n",
        "plot_learning_curve(model)"
      ],
      "metadata": {
        "colab": {
          "base_uri": "https://localhost:8080/",
          "height": 295
        },
        "id": "UDMQ2gMMrxsi",
        "outputId": "04ca7b0a-00f6-4201-df53-31d1e1b65914"
      },
      "execution_count": 50,
      "outputs": [
        {
          "output_type": "display_data",
          "data": {
            "text/plain": [
              "<Figure size 432x288 with 1 Axes>"
            ],
            "image/png": "[encoded data removed]"
          },
          "metadata": {
            "needs_background": "light"
          }
        }
      ]
    }
  ]
}