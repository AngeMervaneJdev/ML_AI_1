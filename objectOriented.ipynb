{
  "nbformat": 4,
  "nbformat_minor": 0,
  "metadata": {
    "colab": {
      "name": "objectOriented.ipynb",
      "provenance": [],
      "collapsed_sections": [],
      "authorship_tag": "ABX9TyOYdtB0pJ7iwlhv74kzwnTl",
      "include_colab_link": true
    },
    "kernelspec": {
      "name": "python3",
      "display_name": "Python 3"
    },
    "language_info": {
      "name": "python"
    }
  },
  "cells": [
    {
      "cell_type": "markdown",
      "metadata": {
        "id": "view-in-github",
        "colab_type": "text"
      },
      "source": [
        "<a href=\"https://colab.research.google.com/github/AngeMervaneJdev/ML_AI_1/blob/main/objectOriented.ipynb\" target=\"_parent\"><img src=\"https://colab.research.google.com/assets/colab-badge.svg\" alt=\"Open In Colab\"/></a>"
      ]
    },
    {
      "cell_type": "code",
      "execution_count": null,
      "metadata": {
        "id": "oDsDUXnUxM98"
      },
      "outputs": [],
      "source": [
        "print('Probleme 1\\n')\n",
        "print(\"Classes are : \\n1-DecisionTreeRegressor\\nStandardScaler\\n\")"
      ]
    },
    {
      "cell_type": "markdown",
      "source": [
        "# Classe: StandardScaler\n",
        "* Methods:\n",
        "\n",
        "   + fit()\n",
        "   + transform()\n",
        "   + fit_transform()\n",
        "   + partial_fit()\n",
        "   + set_params()\n",
        "\n",
        "* Variables:\n",
        "  \n",
        "   + mean_\n",
        "   + var_\n",
        "   + feature_names_in_\n",
        "   + n_features_in_\n",
        "   + scale_\n"
      ],
      "metadata": {
        "id": "QyX76Ot_DYJi"
      }
    },
    {
      "cell_type": "code",
      "source": [
        "print(\"Probleme 3\\n\")\n",
        "class ScratchStandardScaler():\n",
        "    \"\"\"\n",
        "    標準化のためのクラス\n",
        "\n",
        "    Attributes\n",
        "    ----------\n",
        "    mean_ : 次の形のndarray, shape(n_features,)\n",
        "        Moyenne\n",
        "    var_ : 次の形のndarray, shape(n_features,)\n",
        "        分散\n",
        "    \"\"\"\n",
        "\n",
        "    def fit(self, X):\n",
        "        \"\"\"\n",
        "        標準化のためにMoyenneと標準偏差を計算する。\n",
        "\n",
        "        Parameters\n",
        "        ----------\n",
        "        X : 次の形のndarray, shape (n_samples, n_features)\n",
        "            訓練データ\n",
        "        \"\"\"\n",
        "\n",
        "        self.mean_ = np.mean(X,axis=0 )\n",
        "        self.var_ = np.var(X,axis=0)\n",
        "        return self\n",
        "        pass\n",
        "\n",
        "    def transform(self, X):\n",
        "        \"\"\"\n",
        "        fitで求めた値を使い標準化を行う。\n",
        "\n",
        "        Parameters\n",
        "        ----------\n",
        "        X : 次の形のndarray, shape (n_samples, n_features)\n",
        "            特徴量\n",
        "\n",
        "        Returns\n",
        "        ----------\n",
        "        X_scaled : 次の形のndarray, shape (n_samples, n_features)\n",
        "            標準化された特徴量\n",
        "        \"\"\"\n",
        "        X_scaled=(X - self.mean_) / np.sqrt(self.var_) # np.sqrt(self.var_)=self.scale_\n",
        "        pass\n",
        "        return X_scaled\n",
        "\n",
        "\n",
        "import numpy as np\n",
        "from sklearn.datasets import load_iris\n",
        "\n",
        "data = load_iris()\n",
        "X = data.data[:10]\n",
        "\n",
        "scratch_scaler = ScratchStandardScaler()\n",
        "scratch_scaler.fit(X)\n",
        "print(\"Moyenne : {}\".format(scratch_scaler.mean_))\n",
        "print(\"分散 : {}\".format(scratch_scaler.var_))\n",
        "X_std = scratch_scaler.transform(X)\n",
        "print(X_std)\n"
      ],
      "metadata": {
        "colab": {
          "base_uri": "https://localhost:8080/"
        },
        "id": "LcQVaIv6SXhj",
        "outputId": "42468b8e-8d6d-4359-eb9a-4ae0d814ba09"
      },
      "execution_count": 4,
      "outputs": [
        {
          "output_type": "stream",
          "name": "stdout",
          "text": [
            "Probleme 3\n",
            "\n",
            "Moyenne : [4.86 3.31 1.45 0.22]\n",
            "分散 : [0.0764 0.0849 0.0105 0.0056]\n",
            "[[ 0.86828953  0.65207831 -0.48795004 -0.26726124]\n",
            " [ 0.14471492 -1.06391725 -0.48795004 -0.26726124]\n",
            " [-0.57885968 -0.37751902 -1.46385011 -0.26726124]\n",
            " [-0.94064699 -0.72071813  0.48795004 -0.26726124]\n",
            " [ 0.50650222  0.99527742 -0.48795004 -0.26726124]\n",
            " [ 1.95365143  2.02487476  2.43975018  2.40535118]\n",
            " [-0.94064699  0.3088792  -0.48795004  1.06904497]\n",
            " [ 0.50650222  0.3088792   0.48795004 -0.26726124]\n",
            " [-1.66422159 -1.40711636 -0.48795004 -0.26726124]\n",
            " [ 0.14471492 -0.72071813  0.48795004 -1.60356745]]\n"
          ]
        }
      ]
    },
    {
      "cell_type": "code",
      "source": [
        "print('Probleme \\n')\n",
        "class BasicsOperations():\n",
        "    \"\"\"\n",
        "    説明用の簡単なクラス\n",
        "\n",
        "    Parameters\n",
        "    ----------\n",
        "    value : float or int\n",
        "        初期値\n",
        "\n",
        "    Attributes\n",
        "    ----------\n",
        "    value : float or int\n",
        "        計算結果\n",
        "    \"\"\"\n",
        "    def __init__(self, value):\n",
        "        self.value = value\n",
        "        print(\"初期値{}が設定されました\".format(self.value))\n",
        "    def add(self, value2):\n",
        "\n",
        "        \"\"\"\n",
        "        受け取った引数をself.valueに加える\n",
        "        \"\"\"\n",
        "        self.check_params_validity(value2)\n",
        "        self.value += value2\n",
        "    def division(self,value2):\n",
        "        self.check_params_validity(value2)\n",
        "        if value2!=0:\n",
        "          self.value/=value2\n",
        "        else:\n",
        "          raise ZeroDivisionError(\"Le diviseur ne doit pas être nule\")\n",
        "    def subtraction(self,value2):\n",
        "          self.check_params_validity(value2)\n",
        "          self.value-=value2\n",
        "    \n",
        "    def multiplication(self,value2):\n",
        "          self.check_params_validity(value2)\n",
        "          self.value*=value2\n",
        "\n",
        "    def check_params_validity(self,value2):\n",
        "        if type(value2)==str or type(value2)==list: \n",
        "          raise ValueError(\"The parameter type should not be array or string !!\")\n",
        "        else:\n",
        "          pass\n",
        "       \n",
        "\n",
        "example = BasicsOperations(5)\n",
        "print(\"Initial value : {}\".format(example.value))\n",
        "example.add(3)\n",
        "print(\"Addiction (3) --> Value : {}\".format(example.value))\n",
        "example.multiplication(15)\n",
        "print(\"Multiplication (15) --> Value : {}\".format(example.value))\n",
        "example.division(2)\n",
        "print(\"Division --> Value : {}\".format(example.value))\n",
        "example.subtraction(15)\n",
        "print(\"Substraction --> Value : {}\".format(example.value))\n",
        "\n",
        "print('Tray adding string to value, will raise error !! :) ')\n",
        "example.add('salut')"
      ],
      "metadata": {
        "colab": {
          "base_uri": "https://localhost:8080/",
          "height": 493
        },
        "id": "c8ecMISvS1vP",
        "outputId": "2f03bdaf-12a6-4796-8ecb-8c03f0286949"
      },
      "execution_count": 15,
      "outputs": [
        {
          "output_type": "stream",
          "name": "stdout",
          "text": [
            "Probleme \n",
            "\n",
            "初期値5が設定されました\n",
            "Initial value : 5\n",
            "Addiction (3) --> Value : 8\n",
            "Multiplication (15) --> Value : 120\n",
            "Division --> Value : 60.0\n",
            "Substraction --> Value : 45.0\n",
            "Tray adding string to value, will raise error !! :) \n"
          ]
        },
        {
          "output_type": "error",
          "ename": "ValueError",
          "evalue": "ignored",
          "traceback": [
            "\u001b[0;31m---------------------------------------------------------------------------\u001b[0m",
            "\u001b[0;31mValueError\u001b[0m                                Traceback (most recent call last)",
            "\u001b[0;32m<ipython-input-15-9cbd87e88f48>\u001b[0m in \u001b[0;36m<module>\u001b[0;34m()\u001b[0m\n\u001b[1;32m     57\u001b[0m \u001b[0;34m\u001b[0m\u001b[0m\n\u001b[1;32m     58\u001b[0m \u001b[0mprint\u001b[0m\u001b[0;34m(\u001b[0m\u001b[0;34m'Tray adding string to value, will raise error !! :) '\u001b[0m\u001b[0;34m)\u001b[0m\u001b[0;34m\u001b[0m\u001b[0;34m\u001b[0m\u001b[0m\n\u001b[0;32m---> 59\u001b[0;31m \u001b[0mexample\u001b[0m\u001b[0;34m.\u001b[0m\u001b[0madd\u001b[0m\u001b[0;34m(\u001b[0m\u001b[0;34m'salut'\u001b[0m\u001b[0;34m)\u001b[0m\u001b[0;34m\u001b[0m\u001b[0;34m\u001b[0m\u001b[0m\n\u001b[0m",
            "\u001b[0;32m<ipython-input-15-9cbd87e88f48>\u001b[0m in \u001b[0;36madd\u001b[0;34m(self, value2)\u001b[0m\n\u001b[1;32m     22\u001b[0m         \u001b[0m受け取った引数をself\u001b[0m\u001b[0;34m.\u001b[0m\u001b[0mvalueに加える\u001b[0m\u001b[0;34m\u001b[0m\u001b[0;34m\u001b[0m\u001b[0m\n\u001b[1;32m     23\u001b[0m         \"\"\"\n\u001b[0;32m---> 24\u001b[0;31m         \u001b[0mself\u001b[0m\u001b[0;34m.\u001b[0m\u001b[0mcheck_params_validity\u001b[0m\u001b[0;34m(\u001b[0m\u001b[0mvalue2\u001b[0m\u001b[0;34m)\u001b[0m\u001b[0;34m\u001b[0m\u001b[0;34m\u001b[0m\u001b[0m\n\u001b[0m\u001b[1;32m     25\u001b[0m         \u001b[0mself\u001b[0m\u001b[0;34m.\u001b[0m\u001b[0mvalue\u001b[0m \u001b[0;34m+=\u001b[0m \u001b[0mvalue2\u001b[0m\u001b[0;34m\u001b[0m\u001b[0;34m\u001b[0m\u001b[0m\n\u001b[1;32m     26\u001b[0m     \u001b[0;32mdef\u001b[0m \u001b[0mdivision\u001b[0m\u001b[0;34m(\u001b[0m\u001b[0mself\u001b[0m\u001b[0;34m,\u001b[0m\u001b[0mvalue2\u001b[0m\u001b[0;34m)\u001b[0m\u001b[0;34m:\u001b[0m\u001b[0;34m\u001b[0m\u001b[0;34m\u001b[0m\u001b[0m\n",
            "\u001b[0;32m<ipython-input-15-9cbd87e88f48>\u001b[0m in \u001b[0;36mcheck_params_validity\u001b[0;34m(self, value2)\u001b[0m\n\u001b[1;32m     40\u001b[0m     \u001b[0;32mdef\u001b[0m \u001b[0mcheck_params_validity\u001b[0m\u001b[0;34m(\u001b[0m\u001b[0mself\u001b[0m\u001b[0;34m,\u001b[0m\u001b[0mvalue2\u001b[0m\u001b[0;34m)\u001b[0m\u001b[0;34m:\u001b[0m\u001b[0;34m\u001b[0m\u001b[0;34m\u001b[0m\u001b[0m\n\u001b[1;32m     41\u001b[0m         \u001b[0;32mif\u001b[0m \u001b[0mtype\u001b[0m\u001b[0;34m(\u001b[0m\u001b[0mvalue2\u001b[0m\u001b[0;34m)\u001b[0m\u001b[0;34m==\u001b[0m\u001b[0mstr\u001b[0m \u001b[0;32mor\u001b[0m \u001b[0mtype\u001b[0m\u001b[0;34m(\u001b[0m\u001b[0mvalue2\u001b[0m\u001b[0;34m)\u001b[0m\u001b[0;34m==\u001b[0m\u001b[0mlist\u001b[0m\u001b[0;34m:\u001b[0m\u001b[0;34m\u001b[0m\u001b[0;34m\u001b[0m\u001b[0m\n\u001b[0;32m---> 42\u001b[0;31m           \u001b[0;32mraise\u001b[0m \u001b[0mValueError\u001b[0m\u001b[0;34m(\u001b[0m\u001b[0;34m\"The parameter type should not be array or string !!\"\u001b[0m\u001b[0;34m)\u001b[0m\u001b[0;34m\u001b[0m\u001b[0;34m\u001b[0m\u001b[0m\n\u001b[0m\u001b[1;32m     43\u001b[0m         \u001b[0;32melse\u001b[0m\u001b[0;34m:\u001b[0m\u001b[0;34m\u001b[0m\u001b[0;34m\u001b[0m\u001b[0m\n\u001b[1;32m     44\u001b[0m           \u001b[0;32mpass\u001b[0m\u001b[0;34m\u001b[0m\u001b[0;34m\u001b[0m\u001b[0m\n",
            "\u001b[0;31mValueError\u001b[0m: The parameter type should not be array or string !!"
          ]
        }
      ]
    },
    {
      "cell_type": "code",
      "source": [
        ""
      ],
      "metadata": {
        "id": "ogenghE5hYgn"
      },
      "execution_count": null,
      "outputs": []
    }
  ]
}