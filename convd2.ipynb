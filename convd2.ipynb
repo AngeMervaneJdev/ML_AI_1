{
  "nbformat": 4,
  "nbformat_minor": 0,
  "metadata": {
    "colab": {
      "name": "convd2.ipynb",
      "provenance": [],
      "collapsed_sections": [],
      "authorship_tag": "ABX9TyPeZAHf1t3z2WQFFClfALgo",
      "include_colab_link": true
    },
    "kernelspec": {
      "name": "python3",
      "display_name": "Python 3"
    },
    "language_info": {
      "name": "python"
    }
  },
  "cells": [
    {
      "cell_type": "markdown",
      "metadata": {
        "id": "view-in-github",
        "colab_type": "text"
      },
      "source": [
        "<a href=\"https://colab.research.google.com/github/AngeMervaneJdev/ML_AI_1/blob/main/convd2.ipynb\" target=\"_parent\"><img src=\"https://colab.research.google.com/assets/colab-badge.svg\" alt=\"Open In Colab\"/></a>"
      ]
    },
    {
      "cell_type": "code",
      "source": [
        "import matplotlib.pyplot as plt\n",
        "import numpy as np\n",
        "from keras.datasets import mnist\n",
        "from sklearn.metrics import accuracy_score\n",
        "from sklearn.preprocessing import OneHotEncoder\n",
        "from sklearn.model_selection import train_test_split"
      ],
      "metadata": {
        "id": "bmMOgSLpgXtE"
      },
      "execution_count": null,
      "outputs": []
    },
    {
      "cell_type": "code",
      "execution_count": null,
      "metadata": {
        "id": "Xmr0Lipeda9i"
      },
      "outputs": [],
      "source": [
        "def compute_output_size(X_h_in, X_w_in, F_h, F_w, S_h, S_w, P):\n",
        "    return int(1 + (X_h_in + 2*P - F_h) / S_h), int(1 + (X_w_in + 2*P - F_w) / S_w)"
      ]
    },
    {
      "cell_type": "code",
      "source": [
        "class SimpleInitializerConv2d:\n",
        "    def __init__(self, sigma=0.01):\n",
        "        self.sigma = sigma\n",
        "    \n",
        "    def W(self, ch_in, ch_out, F_h, F_w):\n",
        "        return self.sigma * np.random.randn(ch_in, ch_out, F_h, F_w)\n",
        "    \n",
        "    def B(self, ch_out):\n",
        "        return self.sigma * np.random.randn(ch_out)\n",
        "\n",
        "class SGD:\n",
        "    def __init__(self, lr=0.01):\n",
        "        self.lr = lr\n",
        "\n",
        "    def update(self, layer):\n",
        "        layer.W -= self.lr * layer.dW\n",
        "        layer.B -= self.lr * layer.dB\n",
        "        return layer"
      ],
      "metadata": {
        "id": "7dIIbJkrgFR-"
      },
      "execution_count": null,
      "outputs": []
    },
    {
      "cell_type": "code",
      "source": [
        "class Conv2d:\n",
        "    def __init__(self, ch_out, ch_in, F_h, F_w, S_h, S_w, initializer, optimizer):\n",
        "        #W : (ch_out, chi_in, F_h, F_w) Filter\n",
        "        #B : (ch_out, ) Bias\n",
        "        self.ch_in = ch_in\n",
        "        self.ch_out = ch_out\n",
        "        self.F_h = F_h\n",
        "        self.F_w = F_w\n",
        "        self.S_h = S_h\n",
        "        self.S_w = S_w\n",
        "        self.W = initializer.W(ch_out, ch_in, F_h, F_w)\n",
        "        self.B = initializer.B(ch_out)\n",
        "        self.optimizer = optimizer\n",
        "\n",
        "    def forward(self, X):\n",
        "\n",
        "        self.X = X\n",
        "        self.A_h, self.A_w = compute_output_size(X.shape[2], X.shape[3], self.F_h, self.F_w, self.S_h, self.S_w, 0)\n",
        "        A = np.empty((X.shape[0], self.ch_out, self.A_h, self.A_w))\n",
        "        for sample in np.arange(0, X.shape[0]):\n",
        "            for m in np.arange(0, self.ch_out):\n",
        "                for i in np.arange(0, self.A_h):\n",
        "                    for j in np.arange(0, self.A_w):\n",
        "                        A[sample, m, i, j] = np.sum(X[sample, :, i*self.S_h:i*self.S_h+self.F_h, j*self.S_w:j*self.S_w+self.F_w] * self.W[m]) + self.B[m]\n",
        "        return A\n",
        "\n",
        "    def backward(self, dA):\n",
        "       \n",
        "        #update dW, dB\n",
        "        self.dW = np.empty((self.ch_out, self.ch_in, self.F_h, self.F_w))\n",
        "        self.dB = np.empty(self.ch_out)\n",
        "        for m in np.arange(0, self.ch_out):\n",
        "            for k in np.arange(0, self.ch_in):\n",
        "                for s in np.arange(0, self.F_h):\n",
        "                    for t in np.arange(0, self.F_w):\n",
        "                        self.dW[m, k, s, t] = np.sum(dA[:, m, :, :] * self.X[:, k, s:s+self.A_h, t:t+self.A_w])\n",
        "            self.dB[m] = np.sum(dA[:, m, :, :])\n",
        "\n",
        "        #update dZ\n",
        "        self.dZ = np.zeros((self.X.shape[0], self.ch_in, self.X.shape[2], self.X.shape[3]))\n",
        "        for sample in np.arange(0, self.dZ.shape[0]):\n",
        "            for k in np.arange(0, self.ch_in):\n",
        "                for i in np.arange(0, self.dZ.shape[2], self.S_h):\n",
        "                    for j in np.arange(0, self.dZ.shape[3], self.S_w):\n",
        "                        total = 0.0\n",
        "                        for m in np.arange(0, self.ch_out):\n",
        "                            for s in np.arange(0, self.F_h):\n",
        "                                if (i - s >= 0 and i - s < self.A_h):\n",
        "                                    for t in np.arange(0, self.F_w):\n",
        "                                        if (j - t >= 0 and j - t < self.A_w):\n",
        "                                            total += dA[sample, m, i-s, j-t] * self.W[m, k, s, t]\n",
        "                        self.dZ[sample, k, i, j] = total\n",
        "        # update new W, B\n",
        "        self = self.optimizer.update(self)\n",
        "        return self.dZ"
      ],
      "metadata": {
        "id": "xBxBT377gVVU"
      },
      "execution_count": null,
      "outputs": []
    },
    {
      "cell_type": "markdown",
      "source": [
        "#[Problem 2] Experiments with 2D convolutional layers on small arrays"
      ],
      "metadata": {
        "id": "9KqA5lz6gias"
      }
    },
    {
      "cell_type": "code",
      "source": [
        "# CNN2 のフォワードを流す時の入力データ\n",
        "# (1,1,4,4)\n",
        "x = np.array([[[[ 1,  2,  3,  4],\n",
        "                [ 5,  6,  7,  8],\n",
        "                [ 9, 10, 11, 12],\n",
        "                [13, 14, 15, 16]]]])\n",
        "# (2,1,3,3)\n",
        "w = np.array([[[[ 0.,  0.,  0.],\n",
        "               [ 0.,  1.,  0.],\n",
        "               [ 0., -1.,  0.]]],\n",
        "              [[[ 0.,  0.,  0.],\n",
        "               [ 0., -1.,  1.],\n",
        "               [ 0.,  0.,  0.]]]])\n",
        "\n",
        "\n",
        "con2d_exp = Conv2d(w.shape[0], x.shape[1], w.shape[2], w.shape[3], 1, 1, SimpleInitializerConv2d(), SGD())\n",
        "con2d_exp.W = w\n",
        "con2d_exp.B = np.zeros(w.shape[0])\n",
        "A = con2d_exp.forward(x)\n",
        "print(A.shape)\n",
        "print(A)"
      ],
      "metadata": {
        "id": "FWiy85kQgjCa",
        "colab": {
          "base_uri": "https://localhost:8080/"
        },
        "outputId": "7be0bc95-5710-490e-fe12-2ec21cc86f90"
      },
      "execution_count": null,
      "outputs": [
        {
          "output_type": "stream",
          "name": "stdout",
          "text": [
            "(1, 2, 2, 2)\n",
            "[[[[-4. -4.]\n",
            "   [-4. -4.]]\n",
            "\n",
            "  [[ 1.  1.]\n",
            "   [ 1.  1.]]]]\n"
          ]
        }
      ]
    },
    {
      "cell_type": "code",
      "source": [
        "#Backward\n",
        "\n",
        "# (1,2,2,2)\n",
        "delta = np.array([[[[ -4,  -4],\n",
        "                   [ 10,  11]],\n",
        "                  [[  1,  -7],\n",
        "                   [  1, -11]]]])\n",
        "print(delta.shape)\n",
        "print(delta)"
      ],
      "metadata": {
        "id": "K2nWtLGfg0rk",
        "colab": {
          "base_uri": "https://localhost:8080/"
        },
        "outputId": "f1155354-7667-47ce-b289-81a8eb3844e0"
      },
      "execution_count": null,
      "outputs": [
        {
          "output_type": "stream",
          "name": "stdout",
          "text": [
            "(1, 2, 2, 2)\n",
            "[[[[ -4  -4]\n",
            "   [ 10  11]]\n",
            "\n",
            "  [[  1  -7]\n",
            "   [  1 -11]]]]\n"
          ]
        }
      ]
    },
    {
      "cell_type": "code",
      "source": [
        "con2d_exp.backward(delta)"
      ],
      "metadata": {
        "id": "I6rthchEg95m",
        "colab": {
          "base_uri": "https://localhost:8080/"
        },
        "outputId": "e9281ec1-0693-4f9c-e44e-56cab46ee455"
      },
      "execution_count": null,
      "outputs": [
        {
          "output_type": "execute_result",
          "data": {
            "text/plain": [
              "array([[[[  0.,   0.,   0.,   0.],\n",
              "         [  0.,  -5.,   4.,  -7.],\n",
              "         [  0.,  13.,  27., -11.],\n",
              "         [  0., -10., -11.,   0.]]]])"
            ]
          },
          "metadata": {},
          "execution_count": 15
        }
      ]
    },
    {
      "cell_type": "markdown",
      "source": [
        "#[Problem 4] Creation of maximum pooling layer"
      ],
      "metadata": {
        "id": "6hSzfM5QhA3G"
      }
    },
    {
      "cell_type": "code",
      "source": [
        "class MaxPool2D:\n",
        "    def __init__(self, p, q, S_h, S_w):\n",
        "        self.p = p\n",
        "        self.q = q\n",
        "        self.S_h = S_h\n",
        "        self.S_w = S_w\n",
        "    \n",
        "    def forward(self, X):\n",
        "        self.X = X\n",
        "        self.A_h, self.A_w = compute_output_size(X.shape[2], X.shape[3], self.p, self.q, self.S_h, self.S_w, 0)\n",
        "        A = np.empty((X.shape[0], X.shape[1], self.A_h, self.A_w))\n",
        "        self.X_max_idx = np.empty((X.shape[0], X.shape[1], self.A_h, self.A_w))\n",
        "        for sample in np.arange(0, X.shape[0]):\n",
        "            for k in np.arange(0, X.shape[1]):\n",
        "                for i in np.arange(0, self.A_h):\n",
        "                    for j in np.arange(0, self.A_w):\n",
        "                        A[sample, k, i, j] = np.max(X[sample, k, i*self.S_h:i*self.S_h+self.p, j*self.S_w:j*self.S_w+self.q])\n",
        "                        self.X_max_idx[sample, k, i, j] = np.argmax(X[sample, k, i*self.S_h:i*self.S_h+self.p, j*self.S_w:j*self.S_w+self.q])\n",
        "        return A\n",
        "    \n",
        "    def backward(self, dA):\n",
        "        dZ = np.zeros(self.X.shape)\n",
        "        for sample in np.arange(0, dA.shape[0]):\n",
        "            for k in np.arange(0, dA.shape[1]):\n",
        "                for i in np.arange(0, dA.shape[2]):\n",
        "                    for j in np.arange(0, dA.shape[3]):\n",
        "                        pool = np.zeros(self.p*self.q)\n",
        "                        pool[int(self.X_max_idx[sample, k, i, j])] = dA[sample, k, i, j]\n",
        "                        dZ[sample, k, i*self.S_h:i*self.S_h+self.p, j*self.S_w:j*self.S_w+self.q] = pool.reshape(self.p, self.q)\n",
        "        return dZ"
      ],
      "metadata": {
        "id": "g98-5jNahCGp"
      },
      "execution_count": null,
      "outputs": []
    },
    {
      "cell_type": "code",
      "source": [
        "A = np.array([[[[ 1,  2,  3,  4],\n",
        "                [ 5,  6,  7,  8],\n",
        "                [ 9, 10, 11, 12],\n",
        "                [13, 14, 15, 16]]]])\n",
        "\n",
        "maxpool2d_exp = MaxPool2D(2, 2, 2, 2)\n",
        "A_pool = maxpool2d_exp.forward(A)\n",
        "\n",
        "A_pool"
      ],
      "metadata": {
        "id": "tJfnbD-NhHWU",
        "colab": {
          "base_uri": "https://localhost:8080/"
        },
        "outputId": "e3418257-68cd-475a-b1d1-c6e37d8ac7b7"
      },
      "execution_count": null,
      "outputs": [
        {
          "output_type": "execute_result",
          "data": {
            "text/plain": [
              "array([[[[ 6.,  8.],\n",
              "         [14., 16.]]]])"
            ]
          },
          "metadata": {},
          "execution_count": 17
        }
      ]
    },
    {
      "cell_type": "code",
      "source": [
        "dA = np.array([[[[ 1.,  2.],\n",
        "                 [3., 4.]]]])\n",
        "dA_pool = maxpool2d_exp.backward(dA)\n",
        "\n",
        "dA_pool"
      ],
      "metadata": {
        "id": "RPkp38yYhM9l",
        "colab": {
          "base_uri": "https://localhost:8080/"
        },
        "outputId": "28f154d9-b73a-412c-8ffb-676f064d0e5c"
      },
      "execution_count": null,
      "outputs": [
        {
          "output_type": "execute_result",
          "data": {
            "text/plain": [
              "array([[[[0., 0., 0., 0.],\n",
              "         [0., 1., 0., 2.],\n",
              "         [0., 0., 0., 0.],\n",
              "         [0., 3., 0., 4.]]]])"
            ]
          },
          "metadata": {},
          "execution_count": 18
        }
      ]
    },
    {
      "cell_type": "markdown",
      "source": [
        "#[Problem 6] Smoothing"
      ],
      "metadata": {
        "id": "CfNmJw-ChRPn"
      }
    },
    {
      "cell_type": "code",
      "source": [
        "class Flatten:\n",
        "    def forward(self, A):\n",
        "        self.n_samples, self.ch_out, self.A_h, self.A_w = A.shape\n",
        "        return A.reshape(self.n_samples, -1)\n",
        "\n",
        "    def backward(self, dA):\n",
        "        return dA.reshape(self.n_samples, self.ch_out, self.A_h, self.A_w)"
      ],
      "metadata": {
        "id": "bov8JawChSTk"
      },
      "execution_count": null,
      "outputs": []
    },
    {
      "cell_type": "code",
      "source": [
        "smooth_exp = Flatten()\n",
        "smooth_exp.forward(A_pool)\n",
        "\n",
        "dA = np.array([[ -5.,  4., 16., 12.]])\n",
        "smooth_exp.backward(dA)"
      ],
      "metadata": {
        "id": "ZZXhaXw2hZf9",
        "colab": {
          "base_uri": "https://localhost:8080/"
        },
        "outputId": "ad9b5891-ebb9-4b73-ef8e-73d773fbbf71"
      },
      "execution_count": null,
      "outputs": [
        {
          "output_type": "execute_result",
          "data": {
            "text/plain": [
              "array([[[[-5.,  4.],\n",
              "         [16., 12.]]]])"
            ]
          },
          "metadata": {},
          "execution_count": 20
        }
      ]
    },
    {
      "cell_type": "code",
      "source": [
        "class HeInitializer:\n",
        "    def __init__(self, n_nodes1):\n",
        "        self.sigma = (2.0 / n_nodes1)**(1/2)\n",
        "\n",
        "    def W(self, n_nodes1, n_nodes2):\n",
        "        return self.sigma * np.random.randn(n_nodes1, n_nodes2)\n",
        "\n",
        "    def B(self, n_nodes2):\n",
        "        return self.sigma * np.random.randn(n_nodes2)\n",
        "class ReLU:\n",
        "    def forward(self, A):\n",
        "        return np.maximum(A, 0)\n",
        "    \n",
        "    def backward(self, dZ, Z):\n",
        "        return dZ * (Z > 0)\n",
        "class Softmax:\n",
        "    def forward(self, A):\n",
        "        return np.exp(A) / np.sum(np.exp(A), axis=1).reshape(-1, 1)\n",
        "    \n",
        "    def backward(self, Z, y):\n",
        "        \"\"\"return dA, CEE\"\"\"\n",
        "        return (Z - y) / y.shape[0], -np.sum((y * np.log(Z + 1e-7))) / y.shape[0]\n",
        "class SimpleInitializer:\n",
        "    def __init__(self, sigma=0.01):\n",
        "        self.sigma = sigma\n",
        "\n",
        "    def W(self, n_nodes1, n_nodes2):\n",
        "        return self.sigma * np.random.randn(n_nodes1, n_nodes2)\n",
        "\n",
        "    def B(self, n_nodes2):\n",
        "        return self.sigma * np.random.randn(n_nodes2)\n",
        "class FC:\n",
        "    def __init__(self, n_nodes1, n_nodes2, initializer, optimizer):\n",
        "        self.optimizer = optimizer\n",
        "        # Initialize\n",
        "        # Initialize self.W and self.B using the initializer method\n",
        "        self.W = initializer.W(n_nodes1, n_nodes2)\n",
        "        self.B = initializer.B(n_nodes2)\n",
        "\n",
        "    def forward(self, X):\n",
        "     \n",
        "        self.X = X\n",
        "        A = X @ self.W + self.B\n",
        "        return A\n",
        "\n",
        "    def backward(self, dA):\n",
        "        self.dA = dA\n",
        "        dZ = dA @ self.W.T\n",
        "        self.dW = self.X.T @ dA\n",
        "        self.dB = np.sum(dA, axis=0)\n",
        "        # update\n",
        "        self = self.optimizer.update(self)\n",
        "        return dZ"
      ],
      "metadata": {
        "id": "sKt8wuqXfZ0w"
      },
      "execution_count": null,
      "outputs": []
    },
    {
      "cell_type": "code",
      "source": [
        "class GetMiniBatch:\n",
        "\n",
        "    def __init__(self, X, y, batch_size = 20, seed=0):\n",
        "        self.batch_size = batch_size\n",
        "        np.random.seed(seed)\n",
        "        shuffle_index = np.random.permutation(np.arange(X.shape[0]))\n",
        "        self._X = X[shuffle_index]\n",
        "        self._y = y[shuffle_index]\n",
        "        self._stop = np.ceil(X.shape[0]/self.batch_size).astype(np.int)\n",
        "\n",
        "    def __len__(self):\n",
        "        return self._stop\n",
        "\n",
        "    def __getitem__(self,item):\n",
        "        p0 = item*self.batch_size\n",
        "        p1 = item*self.batch_size + self.batch_size\n",
        "        return self._X[p0:p1], self._y[p0:p1]   \n",
        "\n",
        "    def __iter__(self):\n",
        "        self._counter = 0\n",
        "        return self\n",
        "\n",
        "    def __next__(self):\n",
        "        if self._counter >= self._stop:\n",
        "            raise StopIteration()\n",
        "        p0 = self._counter*self.batch_size\n",
        "        p1 = self._counter*self.batch_size + self.batch_size\n",
        "        self._counter += 1\n",
        "        return self._X[p0:p1], self._y[p0:p1]"
      ],
      "metadata": {
        "id": "pMhGl0JxgF0Q"
      },
      "execution_count": null,
      "outputs": []
    },
    {
      "cell_type": "code",
      "source": [
        "class Scratch2dCNNClassifier:\n",
        "    def __init__(self,\n",
        "                ch_out=[1, 1],\n",
        "                F_h=[3, 3],\n",
        "                F_w=[3, 3],\n",
        "                S_h=[1, 1],\n",
        "                S_w=[1, 1],\n",
        "                p=[3, 3],\n",
        "                q=[3, 3],\n",
        "                conv_sigma=0.01,\n",
        "                flatten=Flatten(),\n",
        "                hidden_layers=[400,200],\n",
        "                hidden_activations=['relu', 'relu'],\n",
        "                hidden_initializers=['he', 'he'],\n",
        "                sigma=0.01,\n",
        "                optimizer='sgd',\n",
        "                layer_type=None,\n",
        "                batch_size=20,\n",
        "                epochs=10,\n",
        "                lr=0.01,\n",
        "                seed=0,\n",
        "                verbose=False\n",
        "                ):\n",
        "        self.ch_out = ch_out\n",
        "        self.F_h = np.array(F_h).astype(np.int64)\n",
        "        self.F_w = np.array(F_w).astype(np.int64)\n",
        "        self.S_h = np.array(S_h).astype(np.int64)\n",
        "        self.S_w = np.array(S_w).astype(np.int64)\n",
        "        self.p = np.array(p).astype(np.int64)\n",
        "        self.q = np.array(q).astype(np.int64)\n",
        "        self.conv_sigma=conv_sigma\n",
        "        self.flatten=flatten\n",
        "        self.hidden_layers = hidden_layers\n",
        "        self.activations_name = hidden_activations.copy()\n",
        "        self.activations_name.insert(0, None)\n",
        "        self.activations_name.append('softmax')\n",
        "        self.initializers = hidden_initializers.copy()\n",
        "        self.initializers.insert(0, None)\n",
        "        self.initializers.append('gaussian')\n",
        "        self.sigma = sigma\n",
        "        self.optimizer = optimizer\n",
        "        self.layer_type = layer_type\n",
        "        self.batch_size = batch_size\n",
        "        self.epochs = epochs\n",
        "        self.lr = lr\n",
        "        self.seed = seed\n",
        "        self.verbose = verbose\n",
        "\n",
        "    def _initialize_neural_network(self):\n",
        "        #conv =>\n",
        "        #initialize conv layers and conv activations\n",
        "        self.conv = np.full(self.F_h.shape[0] + 1, None)\n",
        "        self.conv_activations = np.full(self.F_h.shape[0] + 1, None)\n",
        "        for i in np.arange(1, self.F_h.shape[0] + 1): #ch_out, ch_in, F_h, F_w, S_h, S_w, initializer, optimizer\n",
        "            self.conv[i] = Conv2d(self.ch_out[i],\n",
        "                                  self.ch_out[i - 1],\n",
        "                                  self.F_h[i - 1],\n",
        "                                  self.F_w[i - 1],\n",
        "                                  self.S_h[i - 1],\n",
        "                                  self.S_w[i - 1],\n",
        "                                  SimpleInitializerConv2d(self.conv_sigma),\n",
        "                                  SGD(self.lr)\n",
        "                                  )           \n",
        "            self.conv_activations[i] = ReLU()\n",
        "        #Pooling\n",
        "        self.conv_pooling = np.full(self.F_h.shape[0] + 1, None)\n",
        "        for i in np.arange(1, self.F_h.shape[0] + 1):\n",
        "            self.conv_pooling[i] = MaxPool2D(self.p[i - 1], self.q[i - 1], self.p[i - 1], self.q[i - 1])\n",
        "\n",
        "        #FC =>\n",
        "        #choose activations\n",
        "        self.activations = np.full(len(self.n_nodes), None) #activations[0] unused\n",
        "        for i in np.arange(1, len(self.n_nodes)):\n",
        "            if (self.activations_name[i] == 'relu'):\n",
        "                self.activations[i] = ReLU()\n",
        "            elif (self.activations_name[i] == 'softmax'):\n",
        "                self.activations[i] = Softmax()\n",
        "        #choose initializer, optimizer and build neural network\n",
        "        self.FC = np.full(len(self.n_nodes), None) #FC[0] unused\n",
        "        for i in np.arange(1, len(self.n_nodes)):\n",
        "            if (self.optimizer == 'sgd'):\n",
        "                if (self.initializers[i] == 'gaussian'):\n",
        "                    self.FC[i] = FC(self.n_nodes[i - 1], self.n_nodes[i], SimpleInitializer(self.sigma), SGD(self.lr))\n",
        "                elif (self.initializers[i] == 'he'):   \n",
        "                    self.FC[i] = FC(self.n_nodes[i - 1], self.n_nodes[i], HeInitializer(self.n_nodes[i - 1]), SGD(self.lr))\n",
        "\n",
        "    def _forward(self, X):\n",
        "        #conv and activations, pooling\n",
        "        A_conv = np.full(self.F_h.shape[0] + 1, None)\n",
        "        Z_conv = np.full(self.F_h.shape[0] + 1, None)\n",
        "        PA = np.full(self.F_h.shape[0] + 1, None)\n",
        "        PA[0] = X\n",
        "        #for each layer\n",
        "        for i in np.arange(1, self.F_h.shape[0] + 1):\n",
        "            A_conv[i] = self.conv[i].forward(PA[i - 1])\n",
        "            Z_conv[i] = self.conv_activations[i].forward(A_conv[i])\n",
        "            PA[i] = self.conv_pooling[i].forward(Z_conv[i])\n",
        "\n",
        "        #flattening\n",
        "        PA_flatten = self.flatten.forward(PA[-1])\n",
        "\n",
        "        #FC\n",
        "        A = np.full(len(self.n_nodes), None) #A[0] unused\n",
        "        Z = np.full(len(self.n_nodes), None)\n",
        "        Z[0] = PA_flatten\n",
        "        for i in np.arange(1, len(self.n_nodes)):\n",
        "            A[i] = self.FC[i].forward(Z[i - 1])\n",
        "            Z[i] = self.activations[i].forward(A[i])\n",
        "        return Z, Z_conv\n",
        "\n",
        "    def _backward(self, y, Z, Z_conv):\n",
        "        #FC\n",
        "        dA = np.full(len(self.n_nodes), None) #A[0] unused\n",
        "        dZ = np.full(len(self.n_nodes), None) #Z[-1] unused\n",
        "        CEE = None\n",
        "        for i in np.arange(len(self.n_nodes) - 1, 0, -1):\n",
        "            if (self.activations_name[i] == 'softmax'):\n",
        "                dA[i], CEE = self.activations[i].backward(Z[i], y)\n",
        "            else:\n",
        "                dA[i] = self.activations[i].backward(dZ[i], Z[i])\n",
        "            dZ[i - 1] = self.FC[i].backward(dA[i])\n",
        "        #conv\n",
        "        dA_conv = np.full(self.F_h.shape[0] + 1, None)\n",
        "        dZ_conv = np.full(self.F_h.shape[0] + 1, None)\n",
        "        dPA = np.full(self.F_h.shape[0] + 1, None)\n",
        "        #de-flattening\n",
        "        dPA[-1] = self.flatten.backward(dZ[0])\n",
        "        #backward conv\n",
        "        for i in np.arange(self.F_h.shape[0], 0, -1):\n",
        "            dZ_conv[i] = self.conv_pooling[i].backward(dPA[i])\n",
        "            dA_conv[i] = self.conv_activations[i].backward(dZ_conv[i], Z_conv[i])\n",
        "            dPA[i - 1] = self.conv[i].backward(dA_conv[i])\n",
        "        return CEE\n",
        "\n",
        "    def _compute_CEE(self, y, Z):\n",
        "        return -np.sum((y * np.log(Z + 1e-7))) / y.shape[0]\n",
        "\n",
        "    def _optimize(self, X, y, X_val=None, y_val=None):\n",
        "        self.CEE_list = []\n",
        "        self.CEE_list_val = []\n",
        "        get_mini_batch = GetMiniBatch(X, y, batch_size=self.batch_size, seed=self.seed)\n",
        "        for _ in np.arange(0, self.epochs):\n",
        "            for mini_X, mini_y in get_mini_batch:\n",
        "                Z, Z_conv = self._forward(mini_X)\n",
        "                CEE = self._backward(mini_y, Z, Z_conv)\n",
        "                self.CEE_list.append(CEE)\n",
        "            if (X_val is not None and y_val is not None):\n",
        "                Z, _ = self._forward(X_val)\n",
        "                self.CEE_list_val.append(self._compute_CEE(y_val, Z[-1]))\n",
        "\n",
        "    def fit(self, X, y, X_val=None, y_val=None):\n",
        "\n",
        "        self.n_output = y.shape[1]\n",
        "        self.ch_out.insert(0, X.shape[1])\n",
        "        #n_nodes for FC\n",
        "        self.n_nodes = self.hidden_layers.copy()\n",
        "        A_h = X.shape[2]\n",
        "        A_w = X.shape[3]\n",
        "        for i in np.arange(0, self.F_h.shape[0]):\n",
        "            #filtering\n",
        "            A_h, A_w = compute_output_size(A_h, A_w, self.F_h[i], self.F_w[i], self.S_h[i], self.S_w[i], 0)\n",
        "            #pooling\n",
        "            A_h, A_w = compute_output_size(A_h, A_w, self.p[i], self.q[i], self.p[i], self.q[i], 0)\n",
        "        self.n_nodes.insert(0, int(A_h * A_w))\n",
        "        self.n_nodes.append(self.n_output)\n",
        "        self._initialize_neural_network()\n",
        "        self._optimize(X, y, X_val, y_val)\n",
        "\n",
        "    def predict(self, X):\n",
        "        \"\"\"\n",
        "        Estimate using a neural network classifier.\n",
        "        Parameters\n",
        "        ----------\n",
        "        X : The following forms of ndarray, shape (n_samples, n_channels, height, width)\n",
        "            sample\n",
        "        Returns\n",
        "        -------\n",
        "            The following form of ndarray, shape (n_samples, 1)\n",
        "            Estimated result\n",
        "        \"\"\"\n",
        "        Z_pred, _ = self._forward(X)\n",
        "        return np.argmax(Z_pred[-1], axis=1)"
      ],
      "metadata": {
        "id": "Ilg04K6ygLGi"
      },
      "execution_count": null,
      "outputs": []
    },
    {
      "cell_type": "markdown",
      "source": [
        "#[Problem 7] Learning and estimation"
      ],
      "metadata": {
        "id": "lqPZEPUQgQUc"
      }
    },
    {
      "cell_type": "code",
      "source": [
        "(X_train, y_train), (X_test, y_test) = mnist.load_data()\n",
        "\n",
        "X_train = X_train.astype(np.float)\n",
        "X_test = X_test.astype(np.float)\n",
        "X_train /= 255\n",
        "X_test /= 255\n",
        "\n",
        "X_train = np.expand_dims(X_train, axis=1)\n",
        "X_test = np.expand_dims(X_test, axis=1)\n",
        "\n",
        "enc = OneHotEncoder(handle_unknown='ignore', sparse=False)\n",
        "y_train_one_hot = enc.fit_transform(y_train[:, np.newaxis])\n",
        "y_test_one_hot = enc.transform(y_test[:, np.newaxis])\n",
        "\n",
        "X_train, X_val, y_train, y_val = train_test_split(X_train, y_train_one_hot, test_size=0.2)\n",
        "\n",
        "print(X_train.shape)\n",
        "print(X_val.shape)\n",
        "print(y_train.shape)\n",
        "print(y_val.shape)"
      ],
      "metadata": {
        "id": "1OZeNiEdgsz1",
        "colab": {
          "base_uri": "https://localhost:8080/"
        },
        "outputId": "12e3fac7-fa76-4ca3-96cc-f6624dcb5397"
      },
      "execution_count": null,
      "outputs": [
        {
          "output_type": "stream",
          "name": "stdout",
          "text": [
            "Downloading data from https://storage.googleapis.com/tensorflow/tf-keras-datasets/mnist.npz\n",
            "11493376/11490434 [==============================] - 0s 0us/step\n",
            "11501568/11490434 [==============================] - 0s 0us/step\n"
          ]
        },
        {
          "output_type": "stream",
          "name": "stderr",
          "text": [
            "/usr/local/lib/python3.7/dist-packages/ipykernel_launcher.py:3: DeprecationWarning: `np.float` is a deprecated alias for the builtin `float`. To silence this warning, use `float` by itself. Doing this will not modify any behavior and is safe. If you specifically wanted the numpy scalar type, use `np.float64` here.\n",
            "Deprecated in NumPy 1.20; for more details and guidance: https://numpy.org/devdocs/release/1.20.0-notes.html#deprecations\n",
            "  This is separate from the ipykernel package so we can avoid doing imports until\n",
            "/usr/local/lib/python3.7/dist-packages/ipykernel_launcher.py:4: DeprecationWarning: `np.float` is a deprecated alias for the builtin `float`. To silence this warning, use `float` by itself. Doing this will not modify any behavior and is safe. If you specifically wanted the numpy scalar type, use `np.float64` here.\n",
            "Deprecated in NumPy 1.20; for more details and guidance: https://numpy.org/devdocs/release/1.20.0-notes.html#deprecations\n",
            "  after removing the cwd from sys.path.\n"
          ]
        },
        {
          "output_type": "stream",
          "name": "stdout",
          "text": [
            "(48000, 1, 28, 28)\n",
            "(12000, 1, 28, 28)\n",
            "(48000, 10)\n",
            "(12000, 10)\n"
          ]
        }
      ]
    },
    {
      "cell_type": "code",
      "source": [
        "def plot_CEE(CEE_list=None, CEE_list_val=None, epochs=None):\n",
        "    \"\"\"plot final CEE for every epochs\"\"\"\n",
        "    if (CEE_list is not None):\n",
        "        plt.plot(np.arange(1, epochs + 1), CEE_list[::int(len(CEE_list)/epochs)], label=\"train\", marker='o')\n",
        "    if (CEE_list_val is not None):\n",
        "        plt.plot(np.arange(1, epochs + 1), CEE_list_val, label=\"val\", marker='o')\n",
        "    plt.legend()\n",
        "    plt.xlabel(\"iter\")\n",
        "    plt.ylabel(\"CEE\")\n",
        "    plt.title(\"CEE graph\")\n",
        "    plt.grid()\n",
        "    plt.show()"
      ],
      "metadata": {
        "id": "Wlzg-lQbpFDo"
      },
      "execution_count": null,
      "outputs": []
    },
    {
      "cell_type": "code",
      "source": [
        "def draw_fault(y_pred, y_val):\n",
        "\n",
        "    num = 36 # How many to display\n",
        "\n",
        "    true_false = y_pred==y_val\n",
        "    false_list = np.where(true_false==False)[0].astype(np.int)\n",
        "    if false_list.shape[0] < num:\n",
        "        num = false_list.shape[0]\n",
        "    fig = plt.figure(figsize=(6, 6))\n",
        "    fig.subplots_adjust(left=0, right=0.8,  bottom=0, top=0.8, hspace=1, wspace=0.5)\n",
        "    for i in range(num):\n",
        "        ax = fig.add_subplot(6, 6, i + 1, xticks=[], yticks=[])\n",
        "        ax.set_title(\"{} / {}\".format(y_pred[false_list[i]],y_val[false_list[i]]))\n",
        "        ax.imshow(X_val.reshape(-1,28,28)[false_list[i]], cmap='gray')"
      ],
      "metadata": {
        "id": "PwJG9JTHpJ2h"
      },
      "execution_count": null,
      "outputs": []
    },
    {
      "cell_type": "code",
      "source": [
        "def save_model(model_name, model):\n",
        "    np.savez(model_name + '.npz', model)"
      ],
      "metadata": {
        "id": "rT9jjGgbpNbt"
      },
      "execution_count": null,
      "outputs": []
    },
    {
      "cell_type": "code",
      "source": [
        "def handler(model=None, X_train=None, y_train=None, X_val=None, y_val=None, epochs=None, save=False, file_name=None):\n",
        "    model.fit(X_train, y_train, X_val, y_val)\n",
        "    y_pred = model.predict(X_val)\n",
        "    unique_elements, counts_elements = np.unique(y_pred - np.argmax(y_val, axis=1), return_counts=True)\n",
        "    print(\"number of correct cases: {}/{}\".format(int(counts_elements[unique_elements == 0]), y_pred.shape[0]))\n",
        "    print(\"Accuracy: {}\".format(accuracy_score(np.argmax(y_val, axis=1), y_pred)))\n",
        "    plot_CEE(CEE_list=model.CEE_list, CEE_list_val=model.CEE_list_val, epochs=epochs)\n",
        "    draw_fault(y_pred, np.argmax(y_val, axis=1))\n",
        "    if (save == True):\n",
        "        save_model('file_name', model)"
      ],
      "metadata": {
        "id": "gxYfMQc-pRgX"
      },
      "execution_count": null,
      "outputs": []
    },
    {
      "cell_type": "code",
      "source": [
        "cnn2d_1 = Scratch2dCNNClassifier(\n",
        "                ch_out=[1],\n",
        "                F_h=[4],\n",
        "                F_w=[4],\n",
        "                S_h=[1],\n",
        "                S_w=[1],\n",
        "                p=[2],\n",
        "                q=[2],\n",
        "                conv_sigma=0.01,\n",
        "                flatten=Flatten(),\n",
        "                hidden_layers=[400,200],\n",
        "                hidden_activations=['relu', 'relu'],\n",
        "                hidden_initializers=['he', 'he'],\n",
        "                sigma=0.01,\n",
        "                optimizer='sgd',\n",
        "                layer_type=None,\n",
        "                batch_size=20,\n",
        "                epochs=1,\n",
        "                lr=0.01,\n",
        "                seed=0,\n",
        "                verbose=False)\n",
        "\n",
        "handler(cnn2d_1, X_train, y_train, X_val, y_val, 1)"
      ],
      "metadata": {
        "colab": {
          "base_uri": "https://localhost:8080/",
          "height": 816
        },
        "id": "ReU-WZ3OpXOw",
        "outputId": "2a94d648-e701-42dc-9d40-97a193a9fb98"
      },
      "execution_count": null,
      "outputs": [
        {
          "output_type": "stream",
          "name": "stderr",
          "text": [
            "/usr/local/lib/python3.7/dist-packages/ipykernel_launcher.py:21: DeprecationWarning: `np.int` is a deprecated alias for the builtin `int`. To silence this warning, use `int` by itself. Doing this will not modify any behavior and is safe. When replacing `np.int`, you may wish to use e.g. `np.int64` or `np.int32` to specify the precision. If you wish to review your current use, check the release note link for additional information.\n",
            "Deprecated in NumPy 1.20; for more details and guidance: https://numpy.org/devdocs/release/1.20.0-notes.html#deprecations\n"
          ]
        },
        {
          "output_type": "stream",
          "name": "stdout",
          "text": [
            "number of correct cases: 11226/12000\n",
            "Accuracy: 0.9355\n"
          ]
        },
        {
          "output_type": "display_data",
          "data": {
            "text/plain": [
              "<Figure size 432x288 with 1 Axes>"
            ],
            "image/png": "[encoded data removed]"
          },
          "metadata": {
            "needs_background": "light"
          }
        },
        {
          "output_type": "stream",
          "name": "stderr",
          "text": [
            "/usr/local/lib/python3.7/dist-packages/ipykernel_launcher.py:13: DeprecationWarning: `np.int` is a deprecated alias for the builtin `int`. To silence this warning, use `int` by itself. Doing this will not modify any behavior and is safe. When replacing `np.int`, you may wish to use e.g. `np.int64` or `np.int32` to specify the precision. If you wish to review your current use, check the release note link for additional information.\n",
            "Deprecated in NumPy 1.20; for more details and guidance: https://numpy.org/devdocs/release/1.20.0-notes.html#deprecations\n",
            "  del sys.path[0]\n"
          ]
        },
        {
          "output_type": "display_data",
          "data": {
            "text/plain": [
              "<Figure size 432x432 with 36 Axes>"
            ],
            "image/png": "[encoded data removed]"
          },
          "metadata": {}
        }
      ]
    },
    {
      "cell_type": "code",
      "source": [
        "cnn2d_2 = Scratch2dCNNClassifier(\n",
        "                ch_out=[1, 1],\n",
        "                F_h=[5, 5],\n",
        "                F_w=[5, 5],\n",
        "                S_h=[1, 1],\n",
        "                S_w=[1, 1],\n",
        "                p=[2, 2],\n",
        "                q=[2, 2],\n",
        "                conv_sigma=0.01,\n",
        "                flatten=Flatten(),\n",
        "                hidden_layers=[120,84],\n",
        "                hidden_activations=['relu', 'relu'],\n",
        "                hidden_initializers=['he', 'he'],\n",
        "                sigma=0.01,\n",
        "                optimizer='sgd',\n",
        "                layer_type=None,\n",
        "                batch_size=20,\n",
        "                epochs=1,\n",
        "                lr=0.01,\n",
        "                seed=0,\n",
        "                verbose=False)\n",
        "\n",
        "handler(cnn2d_2, X_train, y_train, X_val, y_val, 1)"
      ],
      "metadata": {
        "colab": {
          "base_uri": "https://localhost:8080/",
          "height": 400
        },
        "id": "0VyifbCMpkWP",
        "outputId": "f3c533c0-924e-41a7-9691-ff5c7cd51f5b"
      },
      "execution_count": null,
      "outputs": [
        {
          "output_type": "stream",
          "name": "stderr",
          "text": [
            "/usr/local/lib/python3.7/dist-packages/ipykernel_launcher.py:21: DeprecationWarning: `np.int` is a deprecated alias for the builtin `int`. To silence this warning, use `int` by itself. Doing this will not modify any behavior and is safe. When replacing `np.int`, you may wish to use e.g. `np.int64` or `np.int32` to specify the precision. If you wish to review your current use, check the release note link for additional information.\n",
            "Deprecated in NumPy 1.20; for more details and guidance: https://numpy.org/devdocs/release/1.20.0-notes.html#deprecations\n"
          ]
        },
        {
          "output_type": "error",
          "ename": "KeyboardInterrupt",
          "evalue": "ignored",
          "traceback": [
            "\u001b[0;31m---------------------------------------------------------------------------\u001b[0m",
            "\u001b[0;31mKeyboardInterrupt\u001b[0m                         Traceback (most recent call last)",
            "\u001b[0;32m<ipython-input-33-09a71c15a64f>\u001b[0m in \u001b[0;36m<module>\u001b[0;34m()\u001b[0m\n\u001b[1;32m     21\u001b[0m                 verbose=False)\n\u001b[1;32m     22\u001b[0m \u001b[0;34m\u001b[0m\u001b[0m\n\u001b[0;32m---> 23\u001b[0;31m \u001b[0mhandler\u001b[0m\u001b[0;34m(\u001b[0m\u001b[0mcnn2d_2\u001b[0m\u001b[0;34m,\u001b[0m \u001b[0mX_train\u001b[0m\u001b[0;34m,\u001b[0m \u001b[0my_train\u001b[0m\u001b[0;34m,\u001b[0m \u001b[0mX_val\u001b[0m\u001b[0;34m,\u001b[0m \u001b[0my_val\u001b[0m\u001b[0;34m,\u001b[0m \u001b[0;36m1\u001b[0m\u001b[0;34m)\u001b[0m\u001b[0;34m\u001b[0m\u001b[0;34m\u001b[0m\u001b[0m\n\u001b[0m",
            "\u001b[0;32m<ipython-input-29-c971bad65d1d>\u001b[0m in \u001b[0;36mhandler\u001b[0;34m(model, X_train, y_train, X_val, y_val, epochs, save, file_name)\u001b[0m\n\u001b[1;32m      1\u001b[0m \u001b[0;32mdef\u001b[0m \u001b[0mhandler\u001b[0m\u001b[0;34m(\u001b[0m\u001b[0mmodel\u001b[0m\u001b[0;34m=\u001b[0m\u001b[0;32mNone\u001b[0m\u001b[0;34m,\u001b[0m \u001b[0mX_train\u001b[0m\u001b[0;34m=\u001b[0m\u001b[0;32mNone\u001b[0m\u001b[0;34m,\u001b[0m \u001b[0my_train\u001b[0m\u001b[0;34m=\u001b[0m\u001b[0;32mNone\u001b[0m\u001b[0;34m,\u001b[0m \u001b[0mX_val\u001b[0m\u001b[0;34m=\u001b[0m\u001b[0;32mNone\u001b[0m\u001b[0;34m,\u001b[0m \u001b[0my_val\u001b[0m\u001b[0;34m=\u001b[0m\u001b[0;32mNone\u001b[0m\u001b[0;34m,\u001b[0m \u001b[0mepochs\u001b[0m\u001b[0;34m=\u001b[0m\u001b[0;32mNone\u001b[0m\u001b[0;34m,\u001b[0m \u001b[0msave\u001b[0m\u001b[0;34m=\u001b[0m\u001b[0;32mFalse\u001b[0m\u001b[0;34m,\u001b[0m \u001b[0mfile_name\u001b[0m\u001b[0;34m=\u001b[0m\u001b[0;32mNone\u001b[0m\u001b[0;34m)\u001b[0m\u001b[0;34m:\u001b[0m\u001b[0;34m\u001b[0m\u001b[0;34m\u001b[0m\u001b[0m\n\u001b[0;32m----> 2\u001b[0;31m     \u001b[0mmodel\u001b[0m\u001b[0;34m.\u001b[0m\u001b[0mfit\u001b[0m\u001b[0;34m(\u001b[0m\u001b[0mX_train\u001b[0m\u001b[0;34m,\u001b[0m \u001b[0my_train\u001b[0m\u001b[0;34m,\u001b[0m \u001b[0mX_val\u001b[0m\u001b[0;34m,\u001b[0m \u001b[0my_val\u001b[0m\u001b[0;34m)\u001b[0m\u001b[0;34m\u001b[0m\u001b[0;34m\u001b[0m\u001b[0m\n\u001b[0m\u001b[1;32m      3\u001b[0m     \u001b[0my_pred\u001b[0m \u001b[0;34m=\u001b[0m \u001b[0mmodel\u001b[0m\u001b[0;34m.\u001b[0m\u001b[0mpredict\u001b[0m\u001b[0;34m(\u001b[0m\u001b[0mX_val\u001b[0m\u001b[0;34m)\u001b[0m\u001b[0;34m\u001b[0m\u001b[0;34m\u001b[0m\u001b[0m\n\u001b[1;32m      4\u001b[0m     \u001b[0munique_elements\u001b[0m\u001b[0;34m,\u001b[0m \u001b[0mcounts_elements\u001b[0m \u001b[0;34m=\u001b[0m \u001b[0mnp\u001b[0m\u001b[0;34m.\u001b[0m\u001b[0munique\u001b[0m\u001b[0;34m(\u001b[0m\u001b[0my_pred\u001b[0m \u001b[0;34m-\u001b[0m \u001b[0mnp\u001b[0m\u001b[0;34m.\u001b[0m\u001b[0margmax\u001b[0m\u001b[0;34m(\u001b[0m\u001b[0my_val\u001b[0m\u001b[0;34m,\u001b[0m \u001b[0maxis\u001b[0m\u001b[0;34m=\u001b[0m\u001b[0;36m1\u001b[0m\u001b[0;34m)\u001b[0m\u001b[0;34m,\u001b[0m \u001b[0mreturn_counts\u001b[0m\u001b[0;34m=\u001b[0m\u001b[0;32mTrue\u001b[0m\u001b[0;34m)\u001b[0m\u001b[0;34m\u001b[0m\u001b[0;34m\u001b[0m\u001b[0m\n\u001b[1;32m      5\u001b[0m     \u001b[0mprint\u001b[0m\u001b[0;34m(\u001b[0m\u001b[0;34m\"number of correct cases: {}/{}\"\u001b[0m\u001b[0;34m.\u001b[0m\u001b[0mformat\u001b[0m\u001b[0;34m(\u001b[0m\u001b[0mint\u001b[0m\u001b[0;34m(\u001b[0m\u001b[0mcounts_elements\u001b[0m\u001b[0;34m[\u001b[0m\u001b[0munique_elements\u001b[0m \u001b[0;34m==\u001b[0m \u001b[0;36m0\u001b[0m\u001b[0;34m]\u001b[0m\u001b[0;34m)\u001b[0m\u001b[0;34m,\u001b[0m \u001b[0my_pred\u001b[0m\u001b[0;34m.\u001b[0m\u001b[0mshape\u001b[0m\u001b[0;34m[\u001b[0m\u001b[0;36m0\u001b[0m\u001b[0;34m]\u001b[0m\u001b[0;34m)\u001b[0m\u001b[0;34m)\u001b[0m\u001b[0;34m\u001b[0m\u001b[0;34m\u001b[0m\u001b[0m\n",
            "\u001b[0;32m<ipython-input-23-ad0dfb6ffcea>\u001b[0m in \u001b[0;36mfit\u001b[0;34m(self, X, y, X_val, y_val)\u001b[0m\n\u001b[1;32m    177\u001b[0m         \u001b[0mself\u001b[0m\u001b[0;34m.\u001b[0m\u001b[0mn_nodes\u001b[0m\u001b[0;34m.\u001b[0m\u001b[0mappend\u001b[0m\u001b[0;34m(\u001b[0m\u001b[0mself\u001b[0m\u001b[0;34m.\u001b[0m\u001b[0mn_output\u001b[0m\u001b[0;34m)\u001b[0m\u001b[0;34m\u001b[0m\u001b[0;34m\u001b[0m\u001b[0m\n\u001b[1;32m    178\u001b[0m         \u001b[0mself\u001b[0m\u001b[0;34m.\u001b[0m\u001b[0m_initialize_neural_network\u001b[0m\u001b[0;34m(\u001b[0m\u001b[0;34m)\u001b[0m\u001b[0;34m\u001b[0m\u001b[0;34m\u001b[0m\u001b[0m\n\u001b[0;32m--> 179\u001b[0;31m         \u001b[0mself\u001b[0m\u001b[0;34m.\u001b[0m\u001b[0m_optimize\u001b[0m\u001b[0;34m(\u001b[0m\u001b[0mX\u001b[0m\u001b[0;34m,\u001b[0m \u001b[0my\u001b[0m\u001b[0;34m,\u001b[0m \u001b[0mX_val\u001b[0m\u001b[0;34m,\u001b[0m \u001b[0my_val\u001b[0m\u001b[0;34m)\u001b[0m\u001b[0;34m\u001b[0m\u001b[0;34m\u001b[0m\u001b[0m\n\u001b[0m\u001b[1;32m    180\u001b[0m \u001b[0;34m\u001b[0m\u001b[0m\n\u001b[1;32m    181\u001b[0m     \u001b[0;32mdef\u001b[0m \u001b[0mpredict\u001b[0m\u001b[0;34m(\u001b[0m\u001b[0mself\u001b[0m\u001b[0;34m,\u001b[0m \u001b[0mX\u001b[0m\u001b[0;34m)\u001b[0m\u001b[0;34m:\u001b[0m\u001b[0;34m\u001b[0m\u001b[0;34m\u001b[0m\u001b[0m\n",
            "\u001b[0;32m<ipython-input-23-ad0dfb6ffcea>\u001b[0m in \u001b[0;36m_optimize\u001b[0;34m(self, X, y, X_val, y_val)\u001b[0m\n\u001b[1;32m    143\u001b[0m             \u001b[0;32mfor\u001b[0m \u001b[0mmini_X\u001b[0m\u001b[0;34m,\u001b[0m \u001b[0mmini_y\u001b[0m \u001b[0;32min\u001b[0m \u001b[0mget_mini_batch\u001b[0m\u001b[0;34m:\u001b[0m\u001b[0;34m\u001b[0m\u001b[0;34m\u001b[0m\u001b[0m\n\u001b[1;32m    144\u001b[0m                 \u001b[0mZ\u001b[0m\u001b[0;34m,\u001b[0m \u001b[0mZ_conv\u001b[0m \u001b[0;34m=\u001b[0m \u001b[0mself\u001b[0m\u001b[0;34m.\u001b[0m\u001b[0m_forward\u001b[0m\u001b[0;34m(\u001b[0m\u001b[0mmini_X\u001b[0m\u001b[0;34m)\u001b[0m\u001b[0;34m\u001b[0m\u001b[0;34m\u001b[0m\u001b[0m\n\u001b[0;32m--> 145\u001b[0;31m                 \u001b[0mCEE\u001b[0m \u001b[0;34m=\u001b[0m \u001b[0mself\u001b[0m\u001b[0;34m.\u001b[0m\u001b[0m_backward\u001b[0m\u001b[0;34m(\u001b[0m\u001b[0mmini_y\u001b[0m\u001b[0;34m,\u001b[0m \u001b[0mZ\u001b[0m\u001b[0;34m,\u001b[0m \u001b[0mZ_conv\u001b[0m\u001b[0;34m)\u001b[0m\u001b[0;34m\u001b[0m\u001b[0;34m\u001b[0m\u001b[0m\n\u001b[0m\u001b[1;32m    146\u001b[0m                 \u001b[0mself\u001b[0m\u001b[0;34m.\u001b[0m\u001b[0mCEE_list\u001b[0m\u001b[0;34m.\u001b[0m\u001b[0mappend\u001b[0m\u001b[0;34m(\u001b[0m\u001b[0mCEE\u001b[0m\u001b[0;34m)\u001b[0m\u001b[0;34m\u001b[0m\u001b[0;34m\u001b[0m\u001b[0m\n\u001b[1;32m    147\u001b[0m             \u001b[0;32mif\u001b[0m \u001b[0;34m(\u001b[0m\u001b[0mX_val\u001b[0m \u001b[0;32mis\u001b[0m \u001b[0;32mnot\u001b[0m \u001b[0;32mNone\u001b[0m \u001b[0;32mand\u001b[0m \u001b[0my_val\u001b[0m \u001b[0;32mis\u001b[0m \u001b[0;32mnot\u001b[0m \u001b[0;32mNone\u001b[0m\u001b[0;34m)\u001b[0m\u001b[0;34m:\u001b[0m\u001b[0;34m\u001b[0m\u001b[0;34m\u001b[0m\u001b[0m\n",
            "\u001b[0;32m<ipython-input-23-ad0dfb6ffcea>\u001b[0m in \u001b[0;36m_backward\u001b[0;34m(self, y, Z, Z_conv)\u001b[0m\n\u001b[1;32m    130\u001b[0m             \u001b[0mdZ_conv\u001b[0m\u001b[0;34m[\u001b[0m\u001b[0mi\u001b[0m\u001b[0;34m]\u001b[0m \u001b[0;34m=\u001b[0m \u001b[0mself\u001b[0m\u001b[0;34m.\u001b[0m\u001b[0mconv_pooling\u001b[0m\u001b[0;34m[\u001b[0m\u001b[0mi\u001b[0m\u001b[0;34m]\u001b[0m\u001b[0;34m.\u001b[0m\u001b[0mbackward\u001b[0m\u001b[0;34m(\u001b[0m\u001b[0mdPA\u001b[0m\u001b[0;34m[\u001b[0m\u001b[0mi\u001b[0m\u001b[0;34m]\u001b[0m\u001b[0;34m)\u001b[0m\u001b[0;34m\u001b[0m\u001b[0;34m\u001b[0m\u001b[0m\n\u001b[1;32m    131\u001b[0m             \u001b[0mdA_conv\u001b[0m\u001b[0;34m[\u001b[0m\u001b[0mi\u001b[0m\u001b[0;34m]\u001b[0m \u001b[0;34m=\u001b[0m \u001b[0mself\u001b[0m\u001b[0;34m.\u001b[0m\u001b[0mconv_activations\u001b[0m\u001b[0;34m[\u001b[0m\u001b[0mi\u001b[0m\u001b[0;34m]\u001b[0m\u001b[0;34m.\u001b[0m\u001b[0mbackward\u001b[0m\u001b[0;34m(\u001b[0m\u001b[0mdZ_conv\u001b[0m\u001b[0;34m[\u001b[0m\u001b[0mi\u001b[0m\u001b[0;34m]\u001b[0m\u001b[0;34m,\u001b[0m \u001b[0mZ_conv\u001b[0m\u001b[0;34m[\u001b[0m\u001b[0mi\u001b[0m\u001b[0;34m]\u001b[0m\u001b[0;34m)\u001b[0m\u001b[0;34m\u001b[0m\u001b[0;34m\u001b[0m\u001b[0m\n\u001b[0;32m--> 132\u001b[0;31m             \u001b[0mdPA\u001b[0m\u001b[0;34m[\u001b[0m\u001b[0mi\u001b[0m \u001b[0;34m-\u001b[0m \u001b[0;36m1\u001b[0m\u001b[0;34m]\u001b[0m \u001b[0;34m=\u001b[0m \u001b[0mself\u001b[0m\u001b[0;34m.\u001b[0m\u001b[0mconv\u001b[0m\u001b[0;34m[\u001b[0m\u001b[0mi\u001b[0m\u001b[0;34m]\u001b[0m\u001b[0;34m.\u001b[0m\u001b[0mbackward\u001b[0m\u001b[0;34m(\u001b[0m\u001b[0mdA_conv\u001b[0m\u001b[0;34m[\u001b[0m\u001b[0mi\u001b[0m\u001b[0;34m]\u001b[0m\u001b[0;34m)\u001b[0m\u001b[0;34m\u001b[0m\u001b[0;34m\u001b[0m\u001b[0m\n\u001b[0m\u001b[1;32m    133\u001b[0m         \u001b[0;32mreturn\u001b[0m \u001b[0mCEE\u001b[0m\u001b[0;34m\u001b[0m\u001b[0;34m\u001b[0m\u001b[0m\n\u001b[1;32m    134\u001b[0m \u001b[0;34m\u001b[0m\u001b[0m\n",
            "\u001b[0;32m<ipython-input-4-d98205fc29cf>\u001b[0m in \u001b[0;36mbackward\u001b[0;34m(self, dA)\u001b[0m\n\u001b[1;32m     48\u001b[0m                                 \u001b[0;32mif\u001b[0m \u001b[0;34m(\u001b[0m\u001b[0mi\u001b[0m \u001b[0;34m-\u001b[0m \u001b[0ms\u001b[0m \u001b[0;34m>=\u001b[0m \u001b[0;36m0\u001b[0m \u001b[0;32mand\u001b[0m \u001b[0mi\u001b[0m \u001b[0;34m-\u001b[0m \u001b[0ms\u001b[0m \u001b[0;34m<\u001b[0m \u001b[0mself\u001b[0m\u001b[0;34m.\u001b[0m\u001b[0mA_h\u001b[0m\u001b[0;34m)\u001b[0m\u001b[0;34m:\u001b[0m\u001b[0;34m\u001b[0m\u001b[0;34m\u001b[0m\u001b[0m\n\u001b[1;32m     49\u001b[0m                                     \u001b[0;32mfor\u001b[0m \u001b[0mt\u001b[0m \u001b[0;32min\u001b[0m \u001b[0mnp\u001b[0m\u001b[0;34m.\u001b[0m\u001b[0marange\u001b[0m\u001b[0;34m(\u001b[0m\u001b[0;36m0\u001b[0m\u001b[0;34m,\u001b[0m \u001b[0mself\u001b[0m\u001b[0;34m.\u001b[0m\u001b[0mF_w\u001b[0m\u001b[0;34m)\u001b[0m\u001b[0;34m:\u001b[0m\u001b[0;34m\u001b[0m\u001b[0;34m\u001b[0m\u001b[0m\n\u001b[0;32m---> 50\u001b[0;31m                                         \u001b[0;32mif\u001b[0m \u001b[0;34m(\u001b[0m\u001b[0mj\u001b[0m \u001b[0;34m-\u001b[0m \u001b[0mt\u001b[0m \u001b[0;34m>=\u001b[0m \u001b[0;36m0\u001b[0m \u001b[0;32mand\u001b[0m \u001b[0mj\u001b[0m \u001b[0;34m-\u001b[0m \u001b[0mt\u001b[0m \u001b[0;34m<\u001b[0m \u001b[0mself\u001b[0m\u001b[0;34m.\u001b[0m\u001b[0mA_w\u001b[0m\u001b[0;34m)\u001b[0m\u001b[0;34m:\u001b[0m\u001b[0;34m\u001b[0m\u001b[0;34m\u001b[0m\u001b[0m\n\u001b[0m\u001b[1;32m     51\u001b[0m                                             \u001b[0mtotal\u001b[0m \u001b[0;34m+=\u001b[0m \u001b[0mdA\u001b[0m\u001b[0;34m[\u001b[0m\u001b[0msample\u001b[0m\u001b[0;34m,\u001b[0m \u001b[0mm\u001b[0m\u001b[0;34m,\u001b[0m \u001b[0mi\u001b[0m\u001b[0;34m-\u001b[0m\u001b[0ms\u001b[0m\u001b[0;34m,\u001b[0m \u001b[0mj\u001b[0m\u001b[0;34m-\u001b[0m\u001b[0mt\u001b[0m\u001b[0;34m]\u001b[0m \u001b[0;34m*\u001b[0m \u001b[0mself\u001b[0m\u001b[0;34m.\u001b[0m\u001b[0mW\u001b[0m\u001b[0;34m[\u001b[0m\u001b[0mm\u001b[0m\u001b[0;34m,\u001b[0m \u001b[0mk\u001b[0m\u001b[0;34m,\u001b[0m \u001b[0ms\u001b[0m\u001b[0;34m,\u001b[0m \u001b[0mt\u001b[0m\u001b[0;34m]\u001b[0m\u001b[0;34m\u001b[0m\u001b[0;34m\u001b[0m\u001b[0m\n\u001b[1;32m     52\u001b[0m                         \u001b[0mself\u001b[0m\u001b[0;34m.\u001b[0m\u001b[0mdZ\u001b[0m\u001b[0;34m[\u001b[0m\u001b[0msample\u001b[0m\u001b[0;34m,\u001b[0m \u001b[0mk\u001b[0m\u001b[0;34m,\u001b[0m \u001b[0mi\u001b[0m\u001b[0;34m,\u001b[0m \u001b[0mj\u001b[0m\u001b[0;34m]\u001b[0m \u001b[0;34m=\u001b[0m \u001b[0mtotal\u001b[0m\u001b[0;34m\u001b[0m\u001b[0;34m\u001b[0m\u001b[0m\n",
            "\u001b[0;31mKeyboardInterrupt\u001b[0m: "
          ]
        }
      ]
    }
  ]
}