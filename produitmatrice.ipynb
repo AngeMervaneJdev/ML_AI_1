{
  "nbformat": 4,
  "nbformat_minor": 0,
  "metadata": {
    "colab": {
      "name": "produitmatrice.ipynb",
      "provenance": [],
      "authorship_tag": "ABX9TyNsR6fLI6MRpsnJCplFivB5",
      "include_colab_link": true
    },
    "kernelspec": {
      "name": "python3",
      "display_name": "Python 3"
    },
    "language_info": {
      "name": "python"
    }
  },
  "cells": [
    {
      "cell_type": "markdown",
      "metadata": {
        "id": "view-in-github",
        "colab_type": "text"
      },
      "source": [
        "<a href=\"https://colab.research.google.com/github/AngeMervaneJdev/ML_AI_1/blob/main/produitmatrice.ipynb\" target=\"_parent\"><img src=\"https://colab.research.google.com/assets/colab-badge.svg\" alt=\"Open In Colab\"/></a>"
      ]
    },
    {
      "cell_type": "code",
      "execution_count": 8,
      "metadata": {
        "colab": {
          "base_uri": "https://localhost:8080/"
        },
        "id": "mxPkodI74wEB",
        "outputId": "776a1d19-f050-45c6-dd2f-1b42ebf52caf"
      },
      "outputs": [
        {
          "output_type": "stream",
          "name": "stdout",
          "text": [
            "probleme 1\n",
            "\n",
            "[[6, 29, -20], [12, 52, 38], [-18, -51, -48]]\n"
          ]
        }
      ],
      "source": [
        "print(\"probleme 1\\n\")\n",
        "import numpy as np\n",
        "\n",
        "a_ndarray = np.array([[-1, 2, 3], [4, -5, 6], [7, 8, -9]])\n",
        "\n",
        "b_ndarray = np.array([[0, 2, 1], [0, 2, -8], [2, 9, -1]])\n",
        "\n",
        "m = []\n",
        "for i in range(len(a_ndarray)):\n",
        "\n",
        "  ligne = [] # tableau de chaque ligne \n",
        "\n",
        "  # on multiplie les elements sur uen ligne de A avec tout les elements sur une colonne de B\n",
        "\n",
        "  for j in range(len(b_ndarray[0])):  #(len(b_ndarray[0])=3\n",
        "\n",
        "    element = 0   # somme des Aik*Bkj par ligne de A et colonne de B\n",
        "    for k in range(len(a_ndarray[0])):\n",
        "\n",
        "      element = element + a_ndarray[i][k] * b_ndarray[k][j]\n",
        "\n",
        "       # on mettient la ligne de Ai(fixe)k(1-3) et on parcours la colonne de B avec le numéro de ligne qui varie\n",
        "\n",
        "    ligne.append(element) \n",
        "\n",
        "    #ajout d'un element d'une ligne de la matrise resultante \n",
        "    #element suivant\n",
        "\n",
        "  m.append(ligne) # ajout de la ligne et passage vers la mise en place de la ligne suivante\n",
        "print(m)\n",
        "\n"
      ]
    },
    {
      "cell_type": "code",
      "source": [
        "print(\"Probleme 2\\n\")\n",
        "import numpy as np\n",
        "print(a_ndarray.dot(b_ndarray))"
      ],
      "metadata": {
        "colab": {
          "base_uri": "https://localhost:8080/"
        },
        "id": "WwFyHxiA6LXP",
        "outputId": "54576949-e6e7-4288-e43e-2f0f948c4494"
      },
      "execution_count": null,
      "outputs": [
        {
          "output_type": "stream",
          "name": "stdout",
          "text": [
            "Probleme 2\n",
            "\n",
            "[[  6  29 -20]\n",
            " [ 12  52  38]\n",
            " [-18 -51 -48]]\n"
          ]
        }
      ]
    },
    {
      "cell_type": "code",
      "source": [
        "print(\"Probleme 3\\n\")\n",
        "import numpy as np \n",
        "a_ndarray = np.array([[-1, 2, 3], [4, -5, 6], [7, 8, -9]])\n",
        "\n",
        "b_ndarray = np.array([[0, 2, 1], [0, 2, -8], [2, 9, -1]])\n",
        "\n",
        "def maxt_product(a,b):\n",
        "  somme,i=0,0\n",
        "  for j in range(len(a_ndarray)):\n",
        "    somme+=a_ndarray[i][j]*b_ndarray[j][i]\n",
        "  print(somme)\n",
        "maxt_product(a_ndarray,b_ndarray)\n"
      ],
      "metadata": {
        "colab": {
          "base_uri": "https://localhost:8080/"
        },
        "id": "8PuJOkK4DkPn",
        "outputId": "12d28b7d-37c1-456a-dc83-0ee5670efd19"
      },
      "execution_count": 8,
      "outputs": [
        {
          "output_type": "stream",
          "name": "stdout",
          "text": [
            "Probleme 3\n",
            "\n",
            "6\n"
          ]
        }
      ]
    },
    {
      "cell_type": "code",
      "source": [
        "print(\"Probleme 4\\n\")\n",
        "import numpy as np\n",
        "a_ndarray = np.array([[-1, 2, 3], [4, -5, 6], [7, 8, -9]])\n",
        "\n",
        "b_ndarray = np.array([[0, 2, 1], [0, 2, -8], [2, 9, -1]])\n",
        "\n",
        "def mulMat(mat_a,mat_b):\n",
        "  somme,i=0,0\n",
        "  matrice=[]\n",
        "  for k in range(len(mat_a[0])):\n",
        "    ligne=[]\n",
        "    for i in range(len(mat_a[0])):\n",
        "      somme=0\n",
        "      for j in range(len(mat_a[0])):\n",
        "        somme+=mat_a[k][j]*mat_b[j][i]\n",
        "      ligne.append(somme)\n",
        "    matrice.append(ligne)\n",
        "  return matrice\n",
        "print(mulMat(a_ndarray,b_ndarray))\n",
        "    "
      ],
      "metadata": {
        "id": "_p6rN7QJEtyq",
        "colab": {
          "base_uri": "https://localhost:8080/"
        },
        "outputId": "9ef22fa1-ba54-4600-83cf-90d766411442"
      },
      "execution_count": 3,
      "outputs": [
        {
          "output_type": "stream",
          "name": "stdout",
          "text": [
            "Probleme 4\n",
            "\n",
            "[[6, 29, -20], [12, 52, 38], [-18, -51, -48]]\n"
          ]
        }
      ]
    },
    {
      "cell_type": "code",
      "source": [
        "print(\"Probleme 5\\n\")\n",
        "import numpy as np\n",
        "a_ndarray = np.array([[-1, 2, 3], [4, -5, 6], [7, 8, -9]])\n",
        "\n",
        "b_ndarray = np.array([[0, 2, 1], [0, 2, -8], [2, 9, -1],[2, 9, -1]])\n",
        "\n",
        "def mulMat(mat_a,mat_b):\n",
        "  if len(mat_a[0]) != len(mat_b):\n",
        "    print(\"erreur le nombre de colonnes de la premier matrice doit être égal au nombre de ligne de la seconde matrice\")\n",
        "    return False\n",
        "  somme,i=0,0\n",
        "  matrice=[]\n",
        "  for k in range(len(mat_a[0])):\n",
        "    ligne=[]\n",
        "    for i in range(len(mat_a[0])):\n",
        "      somme=0\n",
        "      for j in range(len(mat_a[0])):\n",
        "        somme+=mat_a[k][j]*mat_b[j][i]\n",
        "      ligne.append(somme)\n",
        "    matrice.append(ligne)\n",
        "  return matrice\n",
        "print(mulMat(a_ndarray,b_ndarray))\n",
        "   "
      ],
      "metadata": {
        "colab": {
          "base_uri": "https://localhost:8080/"
        },
        "id": "rctx4zlYIIZW",
        "outputId": "7125ebbf-dcba-4a33-c7d9-a6daaba98fd6"
      },
      "execution_count": 5,
      "outputs": [
        {
          "output_type": "stream",
          "name": "stdout",
          "text": [
            "Probleme 5\n",
            "\n",
            "erreur le nombre de colonnes de la premier matrice doit être égal au nombre de ligne de la seconde matrice\n",
            "False\n"
          ]
        }
      ]
    },
    {
      "cell_type": "code",
      "source": [
        "print(\"Probleme 6\\n\")\n",
        "import numpy as np\n",
        "print(mulMat(a_ndarray,b_ndarray.T))"
      ],
      "metadata": {
        "colab": {
          "base_uri": "https://localhost:8080/"
        },
        "id": "BM3TUjQ9KdV1",
        "outputId": "5852fcb2-977c-4413-e084-13ab5bdc708b"
      },
      "execution_count": 7,
      "outputs": [
        {
          "output_type": "stream",
          "name": "stdout",
          "text": [
            "Probleme 6\n",
            "\n",
            "[[7, -20, 13], [-4, -58, -43], [7, 88, 95]]\n"
          ]
        }
      ]
    },
    {
      "cell_type": "code",
      "source": [
        ""
      ],
      "metadata": {
        "id": "Adb6No4YLoic"
      },
      "execution_count": null,
      "outputs": []
    }
  ]
}